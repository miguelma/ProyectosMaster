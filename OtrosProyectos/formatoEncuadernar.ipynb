{
 "cells": [
  {
   "cell_type": "code",
   "execution_count": 1,
   "id": "d71f1b3f-5c2b-4548-b5d5-ff0ec8f2c63c",
   "metadata": {},
   "outputs": [],
   "source": [
    "import numpy as np\n",
    "from PyPDF2 import PdfReader, PdfWriter\n",
    "from PyPDF3 import PdfFileWriter, PdfFileReader\n",
    "from PyPDF3.pdf import PageObject"
   ]
  },
  {
   "cell_type": "code",
   "execution_count": 2,
   "id": "eec7860d-3ad3-4bad-9fff-89fcb62e6624",
   "metadata": {},
   "outputs": [],
   "source": [
    "#calculo nuevo orden de paginas\n",
    "\n",
    "pdf_path = \"ejemplo.pdf\"\n",
    "reader = PdfReader(pdf_path)\n",
    "l = len(reader.pages)\n",
    "new_order_seed = np.array([8,1,2,7,6,3,4,5]) #orden de un cuadernillo\n",
    "coc, res = divmod(l, 8)\n",
    "new_order = np.ones(8*(coc+1)) #se rellena new_order con el nuevo orden de paginas\n",
    "for n in range(coc+1):\n",
    "    new_order[8*n:8*(n+1)]=new_order_seed + 8*n"
   ]
  },
  {
   "cell_type": "code",
   "execution_count": 5,
   "id": "37897335-a53e-4751-9cb9-27e2207d48cd",
   "metadata": {},
   "outputs": [],
   "source": [
    "# Cambio de orden de las paginas del pdf\n",
    "input_pdf = \"ejemplo.pdf\"  \n",
    "output_pdf = \"reordered.pdf\"\n",
    "\n",
    "reader = PdfReader(input_pdf)\n",
    "writer = PdfWriter()\n",
    "\n",
    "for i in new_order:\n",
    "    if i<=l:\n",
    "        writer.add_page(reader.pages[int(i-1)])  \n",
    "    else:\n",
    "        writer.add_blank_page() #width=595, height=842\n",
    "\n",
    "with open(output_pdf, \"wb\") as f:\n",
    "    writer.write(f)"
   ]
  },
  {
   "cell_type": "code",
   "execution_count": 4,
   "id": "6d2611d4-8c59-49dd-9652-14ee5e81aa9a",
   "metadata": {},
   "outputs": [],
   "source": [
    "#se agrupan las paginas de dos en dos para impresion\n",
    "pdf_filenames = \"reordered.pdf\"\n",
    "\n",
    "input1 = PdfFileReader(open(pdf_filenames, \"rb\"), strict=False)\n",
    "output = PdfFileWriter()\n",
    "l2 = len(input1.pages)\n",
    "\n",
    "for i in range(int(l2/2)):\n",
    "    page1 = input1.getPage(2*i)\n",
    "    page2 = input1.getPage(2*i+1)\n",
    "\n",
    "    total_width = page1.mediaBox.upperRight[0] + page2.mediaBox.upperRight[0]\n",
    "    total_height = max([page1.mediaBox.upperRight[1], page2.mediaBox.upperRight[1]])\n",
    "\n",
    "    new_page = PageObject.createBlankPage(None, total_width, total_height)\n",
    "\n",
    "    new_page.mergePage(page1)\n",
    "    \n",
    "    new_page.mergeTranslatedPage(page2, page1.mediaBox.upperRight[0], 0)\n",
    "\n",
    "\n",
    "    output.addPage(new_page)\n",
    "\n",
    "\n",
    "output.write(open(\"ejemploEncuadernar.pdf\", \"wb\"))"
   ]
  }
 ],
 "metadata": {
  "kernelspec": {
   "display_name": "Python 3 (ipykernel)",
   "language": "python",
   "name": "python3"
  },
  "language_info": {
   "codemirror_mode": {
    "name": "ipython",
    "version": 3
   },
   "file_extension": ".py",
   "mimetype": "text/x-python",
   "name": "python",
   "nbconvert_exporter": "python",
   "pygments_lexer": "ipython3",
   "version": "3.11.5"
  }
 },
 "nbformat": 4,
 "nbformat_minor": 5
}

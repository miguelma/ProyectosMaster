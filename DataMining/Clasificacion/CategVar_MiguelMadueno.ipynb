{
 "cells": [
  {
   "cell_type": "markdown",
   "metadata": {
    "toc": true
   },
   "source": [
    "<h1>Table of Contents<span class=\"tocSkip\"></span></h1>\n",
    "<div class=\"toc\"><ul class=\"toc-item\"><li><span><a href=\"#Minería-de-Datos-(Master-en-Data-Science,-UIMP-UC)\" data-toc-modified-id=\"Minería-de-Datos-(Master-en-Data-Science,-UIMP-UC)-1\"><span class=\"toc-item-num\">1&nbsp;&nbsp;</span>Minería de Datos (Master en Data Science, UIMP-UC)</a></span></li><li><span><a href=\"#Tarea-1.-Variables-Categóricas:-Reglas-de-Asociación-y-Árboles-de-Clasificación\" data-toc-modified-id=\"Tarea-1.-Variables-Categóricas:-Reglas-de-Asociación-y-Árboles-de-Clasificación-2\"><span class=\"toc-item-num\">2&nbsp;&nbsp;</span>Tarea 1. Variables Categóricas: Reglas de Asociación y Árboles de Clasificación</a></span><ul class=\"toc-item\"><li><span><a href=\"#[Profesores:-Joaquín-Bedia,-Rodrigo-García-y--Sixto-Herrera]\" data-toc-modified-id=\"[Profesores:-Joaquín-Bedia,-Rodrigo-García-y--Sixto-Herrera]-2.1\"><span class=\"toc-item-num\">2.1&nbsp;&nbsp;</span>[Profesores: Joaquín Bedia, Rodrigo García y  Sixto Herrera]</a></span></li><li><span><a href=\"#Punto-1-(3-puntos):\" data-toc-modified-id=\"Punto-1-(3-puntos):-2.2\"><span class=\"toc-item-num\">2.2&nbsp;&nbsp;</span>Punto 1 (3 puntos):</a></span></li><li><span><a href=\"#Punto-2-(4-puntos):\" data-toc-modified-id=\"Punto-2-(4-puntos):-2.3\"><span class=\"toc-item-num\">2.3&nbsp;&nbsp;</span>Punto 2 (4 puntos):</a></span></li><li><span><a href=\"#Punto-3-(3-puntos):\" data-toc-modified-id=\"Punto-3-(3-puntos):-2.4\"><span class=\"toc-item-num\">2.4&nbsp;&nbsp;</span>Punto 3 (3 puntos):</a></span></li></ul></li></ul></div>"
   ]
  },
  {
   "cell_type": "markdown",
   "metadata": {
    "button": false,
    "new_sheet": false,
    "run_control": {
     "read_only": false
    }
   },
   "source": [
    "## Minería de Datos (Master en Data Science, UIMP-UC) \n",
    "## Tarea 1. Variables Categóricas: Reglas de Asociación y Árboles de Clasificación\n",
    "### [Profesores: Joaquín Bedia, Rodrigo García, Ana Casanueva y  Sixto Herrera]\n",
    "\n",
    "En la presente tarea consideraremos el dataset `Mushroom`, incluido tanto en la La librería [arulesViz](https://cran.r-project.org/web/packages/arulesViz/arulesViz.pdf) como en las diferentes plataformas descritas en el marco de la asignatura y en el GitHub dedicado a este Máster ([Mushroom](https://github.com/SantanderMetGroup/Master-Data-Science/blob/master/Data_mining/datasets/mushrooms.csv.)), para aplicar las diferentes técnicas vistas en el curso para variables categóricas: Reglas de Asociación y Árboles de Clasificación.\n",
    "\n",
    "Para el desarrollo de la tarea se permitirá el uso de todo el material incluido en el Moodle de las asignatura así como el desarrollado por el/la alumn@ durante la realización de las prácticas.\n",
    "\n",
    "La entrega consisitirá de un notebook de Jupyter ó un R-MarkDown, junto con el archivo html que éste genera. Ambos ficheros se entregarán a través del Moodle de la asignatura en la tarea correspondiente.\n",
    "\n",
    "### Punto 1 (3 puntos):\n",
    "\n",
    "Considerar uno de los algoritmos de asociación vistos en clase y obtener las reglas representativas del dataset fijando los parámetros de aprendizaje (soporte, confianza, etc...). Analizar los resultados en términos generales:\n",
    "* ¿Cuantas reglas se han generado?\n",
    "* ¿Existe alguna regla redundante?, ¿Cuántas?\n",
    "* ¿Existe alguna regla que incluya la variable objetivo: `Class=edible` ó `Class=poisonous`?, ¿Cuantas?\n",
    "* De cara a ser utilizada como modelo predictivo es adecuado que la variable objetivo se encuentre en el consecuente de la regla de asociación, ¿se da esta propiedad en alguna regla?\n",
    "* Considerar los subconjuntos de reglas con ambas clases como consecuente e ilustrar las variables implicadas en cada caso. Considerar alguno de los grafos vistos para apoyar las conclusiones obtenidas.\n",
    "\n",
    "NOTA: Usar soportes superiores a 0.1 para evitar problemas de memoria."
   ]
  },
  {
   "cell_type": "code",
   "execution_count": 22,
   "metadata": {},
   "outputs": [],
   "source": [
    "library(caret)\n",
    "library(arules)\n",
    "library(arulesViz)\n",
    "library(tree)\n",
    "library(rpart)\n",
    "library(ISLR)"
   ]
  },
  {
   "cell_type": "code",
   "execution_count": 2,
   "metadata": {},
   "outputs": [],
   "source": [
    "data(Mushroom)"
   ]
  },
  {
   "cell_type": "code",
   "execution_count": 3,
   "metadata": {},
   "outputs": [
    {
     "name": "stdout",
     "output_type": "stream",
     "text": [
      "Apriori\n",
      "\n",
      "Parameter specification:\n",
      " confidence minval smax arem  aval originalSupport maxtime support minlen\n",
      "        0.8    0.1    1 none FALSE            TRUE       5    0.35      1\n",
      " maxlen target  ext\n",
      "     10  rules TRUE\n",
      "\n",
      "Algorithmic control:\n",
      " filter tree heap memopt load sort verbose\n",
      "    0.1 TRUE TRUE  FALSE TRUE    2    TRUE\n",
      "\n",
      "Absolute minimum support count: 2843 \n",
      "\n",
      "set item appearances ...[0 item(s)] done [0.00s].\n",
      "set transactions ...[114 item(s), 8124 transaction(s)] done [0.01s].\n",
      "sorting and recoding items ... [23 item(s)] done [0.00s].\n",
      "creating transaction tree ... done [0.00s].\n",
      "checking subsets of size 1 2 3 4 5 6 7 done [0.00s].\n",
      "writing ... [3303 rule(s)] done [0.00s].\n",
      "creating S4 object  ... done [0.00s].\n"
     ]
    }
   ],
   "source": [
    "rApriori <- apriori(Mushroom, parameter = list(supp = 0.35, conf = 0.8, target = \"rules\", minlen = 1))"
   ]
  },
  {
   "cell_type": "markdown",
   "metadata": {},
   "source": [
    "Analizamos los resultados:"
   ]
  },
  {
   "cell_type": "code",
   "execution_count": 4,
   "metadata": {},
   "outputs": [
    {
     "name": "stdout",
     "output_type": "stream",
     "text": [
      "[1] \"Número de reglas:3303\"\n",
      "[1] \"Número de reglas redundantes:3091\"\n"
     ]
    }
   ],
   "source": [
    "print(paste0(\"Número de reglas:\",length(rApriori)))\n",
    "print(paste0(\"Número de reglas redundantes:\",length(which(is.redundant(rApriori)))))"
   ]
  },
  {
   "cell_type": "code",
   "execution_count": 5,
   "metadata": {},
   "outputs": [
    {
     "name": "stdout",
     "output_type": "stream",
     "text": [
      "[1] \"Número de reglas que tienen la variable Class (sin redundancia):48\"\n"
     ]
    }
   ],
   "source": [
    "#filtramos reglas redundantes\n",
    "rFilt <- rApriori[!is.redundant(rApriori)]\n",
    "rClass <- subset(rFilt, subset = items %in% c(\"Class=edible\",\"Class=poisonous\"))\n",
    "print(paste0(\"Número de reglas que tienen la variable Class (sin redundancia):\",length(rClass)))"
   ]
  },
  {
   "cell_type": "markdown",
   "metadata": {},
   "source": [
    "Reglas con la variable Class en el consecuente:"
   ]
  },
  {
   "cell_type": "code",
   "execution_count": 6,
   "metadata": {},
   "outputs": [
    {
     "name": "stdout",
     "output_type": "stream",
     "text": [
      "[1] \"Número de reglas que tienen la variable Class a la derecha:16\"\n"
     ]
    }
   ],
   "source": [
    "rhsClass <- subset(rClass, subset = rhs %in% c(\"Class=edible\",\"Class=poisonous\"))\n",
    "print(paste0(\"Número de reglas que tienen la variable Class a la derecha:\",length(rhsClass)))"
   ]
  },
  {
   "cell_type": "markdown",
   "metadata": {},
   "source": [
    "Usamos una matriz de asociaciones para ver las relaciones entre variables para las reglas del conjunto rhsClass:"
   ]
  },
  {
   "cell_type": "code",
   "execution_count": 7,
   "metadata": {},
   "outputs": [
    {
     "name": "stdout",
     "output_type": "stream",
     "text": [
      "Itemsets in Antecedent (LHS)\n",
      " [1] \"{Bruises=no,GillAttached=free,GillSpace=close,RingNumber=one}\"   \n",
      " [2] \"{Bruises=no,GillSpace=close,VeilColor=white,RingNumber=one}\"     \n",
      " [3] \"{Bruises=no,GillSpace=close,VeilColor=white}\"                    \n",
      " [4] \"{Bruises=no,GillAttached=free,GillSpace=close}\"                  \n",
      " [5] \"{Odor=none,RingNumber=one}\"                                      \n",
      " [6] \"{Odor=none,GillSize=broad}\"                                      \n",
      " [7] \"{Bruises=no,GillSpace=close,RingNumber=one}\"                     \n",
      " [8] \"{Bruises=no,GillSpace=close}\"                                    \n",
      " [9] \"{Odor=none,VeilColor=white}\"                                     \n",
      "[10] \"{Odor=none}\"                                                     \n",
      "[11] \"{GillSize=broad,SurfaceAboveRing=smooth,RingNumber=one}\"         \n",
      "[12] \"{GillSize=broad,SurfaceAboveRing=smooth,SurfaceBelowRing=smooth}\"\n",
      "[13] \"{GillSize=broad,SurfaceAboveRing=smooth}\"                        \n",
      "[14] \"{GillSize=broad,SurfaceBelowRing=smooth}\"                        \n",
      "[15] \"{GillSize=broad,RingType=pendant}\"                               \n",
      "[16] \"{SurfaceAboveRing=smooth,RingType=pendant}\"                      \n",
      "Itemsets in Consequent (RHS)\n",
      "[1] \"{Class=edible}\"    \"{Class=poisonous}\"\n"
     ]
    },
    {
     "data": {
      "image/png": "[encoded data removed]",
      "text/plain": [
       "plot without title"
      ]
     },
     "metadata": {
      "image/png": {
       "height": 420,
       "width": 420
      }
     },
     "output_type": "display_data"
    }
   ],
   "source": [
    "plot(rhsClass, method = \"matrix\", measure=\"lift\")"
   ]
  },
  {
   "cell_type": "markdown",
   "metadata": {},
   "source": [
    "La gráfica muestra, para un itemset en el LHS determinado, cuánta correlación hay con que la seta sea comestible o no. Los itemsets 1 a 4, 7 y 8 están relacionados con setas venenosas con un lift de 1.8 aproximadamente o más. El resto de características se relacionan más con setas comestibles."
   ]
  },
  {
   "cell_type": "markdown",
   "metadata": {
    "button": false,
    "new_sheet": false,
    "run_control": {
     "read_only": false
    }
   },
   "source": [
    "### Punto 2 (4 puntos):\n",
    "\n",
    "En este apartado aplicaremos árboles de clasificación para obtener un modelo que permita clasificar una nueva entrada. Para ello, vamos a utilizar el paquete `CaReT`. Este paquete (y los demás que hemos visto para trabajar con árboles en `R`) no aceptan objetos del tipo `transactions` como los del apartado anterior. Por tanto, hemos preparado un fichero *csv* con el dataset *Mushrooms*; puedes descargarlo desde esta aquí:\n",
    "https://github.com/SantanderMetGroup/Master-Data-Science/tree/master/Data_mining/datasets. Puedes leer este dataset con la función `read.csv`.  \n",
    "Ahora ya tenemos un data.frame con el que podemos empezar a trabajar. En primer lugar tendremos que eliminar la columna 17 (`veil.type`), ya que contiene un único nivel y daría errores en `CaReT`(esta columna podría eliminarse también en el caso de las reglas de asociación ya que no aporta información al dataset).  \n",
    "Nuestro objetivo será encontrar la configuración (profundidad) óptima del árbol. Para ello, dividiremos el dataset en dos subconjuntos indpendedientes de train y test (75% y 25% del total, respectivamente). Sobre el dataset de train, aplicaremos una cross-validación con 3 folds y la repetiremos 50 veces (recuerda que los árboles son sensibles a la partición train/test que se considere). \n",
    "\n",
    "* ¿Cuál es la configuración óptima del árbol? ¿Hay alguna diferencia entre el árbol *completo* y el óptimo? ¿Por qué crees que ocurre esto?\n",
    "* ¿Cuáles son las dos variables que mayor peso tienen a la hora de clasificar? Entrena un nuevo árbol considerando como predictores únicamente esas dos variables. ¿Qué resultados obtienes? \n",
    "* Entrena un nuevo árbol considerando como predictores cualesquiera otras dos variables que no sean las utilizadas en la pregunta anterior. ¿Cuál es el error de test de este árbol?"
   ]
  },
  {
   "cell_type": "markdown",
   "metadata": {},
   "source": [
    "#### "
   ]
  },
  {
   "cell_type": "code",
   "execution_count": 8,
   "metadata": {},
   "outputs": [],
   "source": [
    "acc.class = function(x, y) {\n",
    "   stopifnot(length(x) == length(y))\n",
    "   sum(diag(table(x, y)))/length(x)\n",
    "}"
   ]
  },
  {
   "cell_type": "code",
   "execution_count": 9,
   "metadata": {},
   "outputs": [],
   "source": [
    "dataset <- read.csv(\"mushrooms.csv\",header=T,sep=\",\")"
   ]
  },
  {
   "cell_type": "code",
   "execution_count": 10,
   "metadata": {},
   "outputs": [],
   "source": [
    "dataset <- subset(dataset, select = -veil.type )"
   ]
  },
  {
   "cell_type": "code",
   "execution_count": 11,
   "metadata": {},
   "outputs": [],
   "source": [
    "n = nrow(dataset)\n",
    "set.seed(25)\n",
    "idtrain = sample(1:n, round(n*0.75))\n",
    "trainds = dataset[idtrain, ]\n",
    "testds = dataset[-idtrain, ]"
   ]
  },
  {
   "cell_type": "code",
   "execution_count": 12,
   "metadata": {},
   "outputs": [
    {
     "data": {
      "image/png": "[encoded data removed]",
      "text/plain": [
       "plot without title"
      ]
     },
     "metadata": {
      "image/png": {
       "height": 420,
       "width": 420
      }
     },
     "output_type": "display_data"
    }
   ],
   "source": [
    "#búsqueda profundidad óptima\n",
    "trctrl = trainControl(method = \"cv\", number = 3)\n",
    "md = 1:10\n",
    "depth = rep(NA, length(md))\n",
    "\n",
    "for (i in 1:50) {\n",
    "  t = train(class ~ ., data = trainds,\n",
    "            method = \"rpart2\",\n",
    "            trControl = trctrl,\n",
    "            tuneGrid = expand.grid(maxdepth = md))\n",
    "  depth[i] = t$bestTune$maxdepth\n",
    "}\n",
    "\n",
    "plot(1:50, depth, type = \"o\", pch = 19, xlab = \"iteracion\") \n",
    "grid()"
   ]
  },
  {
   "cell_type": "code",
   "execution_count": 13,
   "metadata": {},
   "outputs": [
    {
     "name": "stdout",
     "output_type": "stream",
     "text": [
      "[1] \"Profundidad óptima:5\"\n"
     ]
    }
   ],
   "source": [
    "print(paste0(\"Profundidad óptima:\",round(mean(depth))))"
   ]
  },
  {
   "cell_type": "markdown",
   "metadata": {},
   "source": [
    "Tomamos una profundidad óptima de 5 y vemos las diferencias con el árbol ajustado totalmente:"
   ]
  },
  {
   "cell_type": "code",
   "execution_count": 14,
   "metadata": {},
   "outputs": [
    {
     "name": "stdout",
     "output_type": "stream",
     "text": [
      "[1] \"profundidad máxima del árbol completo:6\"\n"
     ]
    }
   ],
   "source": [
    "#arbol completo\n",
    "ntrain <-length(trainds[,1])\n",
    "trainfac<- as.data.frame(lapply(trainds, as.factor))\n",
    "testfac <-as.data.frame(lapply(testds, as.factor))\n",
    "ctrl <- tree.control(nobs=ntrain,minsize = 2, mincut =1,mindev=0)\n",
    "ct <- tree(class ~ ., data = trainfac, control = ctrl)\n",
    "nodes <- as.numeric(rownames(ct$frame))\n",
    "maxdepth<-max(rpart:::tree.depth(nodes))\n",
    "print(paste0(\"profundidad máxima del árbol completo:\", maxdepth))"
   ]
  },
  {
   "cell_type": "code",
   "execution_count": 15,
   "metadata": {},
   "outputs": [
    {
     "name": "stdout",
     "output_type": "stream",
     "text": [
      "[1] \"Accuracy del ct con train:1\"\n",
      "[1] \"Accuracy del ct con test:1\"\n"
     ]
    }
   ],
   "source": [
    "est.ct.train<- predict(ct, trainfac,type= \"class\")\n",
    "acc.est.ct.train <- acc.class(est.ct.train, trainfac$class)\n",
    "\n",
    "\n",
    "est.ct.test<- predict(ct, testfac,type= \"class\")\n",
    "acc.est.ct.test <- acc.class(est.ct.test, testfac$class)\n",
    "\n",
    "print(paste0(\"Accuracy del ct con train:\",acc.est.ct.train))\n",
    "print(paste0(\"Accuracy del ct con test:\",acc.est.ct.test))"
   ]
  },
  {
   "cell_type": "code",
   "execution_count": 16,
   "metadata": {},
   "outputs": [],
   "source": [
    "#árbol óptimo\n",
    "ctrl <- rpart.control(minsplit = 2,minbucket = 1, cp=0,maxdepth=5)\n",
    "ot <- rpart(class ~ ., data = trainfac, control = ctrl)"
   ]
  },
  {
   "cell_type": "code",
   "execution_count": 17,
   "metadata": {},
   "outputs": [
    {
     "name": "stdout",
     "output_type": "stream",
     "text": [
      "[1] \"Accuracy del ot con train:0.997374035778762\"\n",
      "[1] \"Accuracy del ot con test:0.998030526834072\"\n"
     ]
    }
   ],
   "source": [
    "est.ot.train<- predict(ot, trainds, type= \"class\")\n",
    "acc.est.ot.train <- acc.class(est.ot.train, trainds$class)\n",
    "\n",
    "est.ot.test<- predict(ot, testds, type= \"class\")\n",
    "acc.est.ot.test <- acc.class(est.ot.test, testds$class)\n",
    "\n",
    "\n",
    "\n",
    "print(paste0(\"Accuracy del ot con train:\",acc.est.ot.train))\n",
    "print(paste0(\"Accuracy del ot con test:\",acc.est.ot.test))"
   ]
  },
  {
   "cell_type": "markdown",
   "metadata": {},
   "source": [
    "Comentarios: tanto el árbol completo como el árbol óptimo evaluados sobre el conjunto de test tienen un error nulo o casi nulo. Esto indica que el conjunto de test está representado sin error por el conjunto de train. Aunque se esperaría algún error de test en el árbol completo, debido a un posible sobreajuste, el hecho de que la profundidad del árbol completo esté muy cerca de la óptima podría explicar el resultado tan preciso. "
   ]
  },
  {
   "cell_type": "markdown",
   "metadata": {},
   "source": [
    "#### "
   ]
  },
  {
   "cell_type": "code",
   "execution_count": 18,
   "metadata": {},
   "outputs": [
    {
     "name": "stdout",
     "output_type": "stream",
     "text": [
      "                    odor        spore.print.color               gill.color \n",
      "             2870.344904              2114.518142              1711.143565 \n",
      "stalk.surface.below.ring                ring.type stalk.surface.above.ring \n",
      "             1530.984385              1516.938656              1512.925591 \n",
      "  stalk.color.below.ring   stalk.color.above.ring               veil.color \n",
      "               35.367330                13.753962                13.753962 \n",
      "             cap.surface                cap.shape \n",
      "                5.933740                 1.964852 \n"
     ]
    }
   ],
   "source": [
    "variable_importance <- ot$variable.importance\n",
    "print(variable_importance)\n",
    "#nuevo arbol con variables mas importantes\n",
    "ctrl <- rpart.control(minsplit = 2,minbucket = 1, cp=0,maxdepth=5)\n",
    "ot2 <- rpart(class ~ odor + spore.print.color, data = trainds,control = ctrl)"
   ]
  },
  {
   "cell_type": "code",
   "execution_count": 19,
   "metadata": {},
   "outputs": [
    {
     "name": "stdout",
     "output_type": "stream",
     "text": [
      "[1] \"Accuracy del ot2 con train:0.993927457738388\"\n",
      "[1] \"Accuracy del ot2 con test:0.994583948793698\"\n"
     ]
    }
   ],
   "source": [
    "est.ot2.train<- predict(ot2, trainds, type = \"class\")\n",
    "acc.est.ot2.train <- acc.class(est.ot2.train, trainds$class)\n",
    "\n",
    "est.ot2.test<- predict(ot2, testds, type= \"class\")\n",
    "acc.est.ot2.test <- acc.class(est.ot2.test, testds$class)\n",
    "\n",
    "\n",
    "print(paste0(\"Accuracy del ot2 con train:\",acc.est.ot2.train))\n",
    "print(paste0(\"Accuracy del ot2 con test:\",acc.est.ot2.test))"
   ]
  },
  {
   "cell_type": "markdown",
   "metadata": {},
   "source": [
    "La predicción de la variable class mantiene la tasa de aciertos alta solo con dos variables predictoras."
   ]
  },
  {
   "cell_type": "markdown",
   "metadata": {},
   "source": [
    "#### \n"
   ]
  },
  {
   "cell_type": "code",
   "execution_count": 20,
   "metadata": {},
   "outputs": [
    {
     "name": "stdout",
     "output_type": "stream",
     "text": [
      "[1] \"Error de test:15.4603643525357 %\"\n"
     ]
    }
   ],
   "source": [
    "ctrl <- rpart.control(minsplit = 2,minbucket = 1, cp=0,maxdepth=5)\n",
    "ot3 <- rpart(class ~ ring.type + stalk.surface.above.ring, data = trainds, control = ctrl)\n",
    "\n",
    "est.ot3.test<- predict(ot3, testds, type= \"class\")\n",
    "acc.est.ot3.test <- acc.class(est.ot3.test, testds$class)\n",
    "\n",
    "print(paste0(\"Error de test:\",(1-acc.est.ot3.test)*100,\" %\"))"
   ]
  },
  {
   "cell_type": "markdown",
   "metadata": {},
   "source": [
    "La tasa de error aumenta, al estar el árbol creado a partir de predictores menos importantes."
   ]
  },
  {
   "cell_type": "markdown",
   "metadata": {
    "button": false,
    "new_sheet": false,
    "run_control": {
     "read_only": false
    }
   },
   "source": [
    "### Punto 3 (3 puntos):\n",
    "\n",
    "Por un lado, las ramas del árbol pueden ser interpretadas como reglas de forma similar a las obtenidas por el algoritmo de reglas aplicado. Por ejemplo, en el caso del árbol obtenido con el dataset `Play Tennis` puede obtenerse las siguientes `reglas`: SI Outlook = Overcast -> Play Tennis = Yes ó SI (Outlook = Sunny) AND (Humidity = Normal) -> Play Tennis = Yes, cuya confianza asociada viene dada por la frecuencia relativa de cada caso en esa rama del árbol. Por otro lado, considerando las reglas que implican a nuestra variable objetivo tendríamos un `modelo` similar al dado por el árbol. Considerar y comparar ambas aproximaciones (p.e. ¿coinciden los antecedentes de las reglas? ¿alguna de las variables más frecuentes como antecedente en las reglas se corresponde con alguna de las variables con mayor capacidad de discriminación? etc.). "
   ]
  },
  {
   "cell_type": "markdown",
   "metadata": {},
   "source": [
    "#### Comentarios\n",
    "Comparamos las variables de más capacidad de separación en el árbol con los antecedentes de las reglas. Aquellas con más influencia en ambas son: odor, \r\n",
    "stalk.surface.below.rinype stalk.surface.above.ri\n",
    "\n",
    "La probabilidad de acierto de una regla viene dada por la confianza. Atendiendo a la confianza de las reglas de rhsClass podemos obtener información sobre el rendimiento de ese modelo y compararlo con los árboles obtenidos en los otros apartados.."
   ]
  },
  {
   "cell_type": "code",
   "execution_count": 21,
   "metadata": {},
   "outputs": [
    {
     "name": "stdout",
     "output_type": "stream",
     "text": [
      "[1] \"Máxima confianza de las reglas:0.983606557377049\"\n"
     ]
    }
   ],
   "source": [
    "conf <- interestMeasure(rhsClass, c(\"confidence\"), Mushroom)\n",
    "print(paste0(\"Máxima confianza de las reglas:\", max(conf)))"
   ]
  },
  {
   "cell_type": "markdown",
   "metadata": {},
   "source": [
    "Las reglas con las que podemos predecir la variable Class tienen una confianza menor o igual al 98%. Por tanto, aunque en algunos casos las reglas aportan casi tanta precisión como los árboles óptimos, en general un árbol permite predecir con más exactitud (accuracy de ot 0.997 en train y 0.998 en test)."
   ]
  }
 ],
 "metadata": {
  "kernelspec": {
   "display_name": "R",
   "language": "R",
   "name": "ir"
  },
  "language_info": {
   "codemirror_mode": "r",
   "file_extension": ".r",
   "mimetype": "text/x-r-source",
   "name": "R",
   "pygments_lexer": "r",
   "version": "4.3.2"
  },
  "toc": {
   "base_numbering": 1,
   "nav_menu": {},
   "number_sections": true,
   "sideBar": true,
   "skip_h1_title": true,
   "title_cell": "Table of Contents",
   "title_sidebar": "Contents",
   "toc_cell": true,
   "toc_position": {},
   "toc_section_display": true,
   "toc_window_display": false
  }
 },
 "nbformat": 4,
 "nbformat_minor": 4
}

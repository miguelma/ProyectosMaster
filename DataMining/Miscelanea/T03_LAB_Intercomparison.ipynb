{
 "cells": [
  {
   "cell_type": "markdown",
   "metadata": {
    "toc": true
   },
   "source": [
    "<h1>Table of Contents<span class=\"tocSkip\"></span></h1>\n",
    "<div class=\"toc\"><ul class=\"toc-item\"><li><span><a href=\"#Técnicas-de-aprendizaje-supervisado\" data-toc-modified-id=\"Técnicas-de-aprendizaje-supervisado-1\"><span class=\"toc-item-num\">1&nbsp;&nbsp;</span>Técnicas de aprendizaje supervisado</a></span><ul class=\"toc-item\"><li><span><a href=\"#Practica-de-Intercomparación-aplicada-a-datos-meteorológicos\" data-toc-modified-id=\"Practica-de-Intercomparación-aplicada-a-datos-meteorológicos-1.1\"><span class=\"toc-item-num\">1.1&nbsp;&nbsp;</span>Practica de Intercomparación aplicada a datos meteorológicos</a></span><ul class=\"toc-item\"><li><span><a href=\"#Santander-Meteorology-Group\" data-toc-modified-id=\"Santander-Meteorology-Group-1.1.1\"><span class=\"toc-item-num\">1.1.1&nbsp;&nbsp;</span>Santander Meteorology Group</a></span></li></ul></li></ul></li><li><span><a href=\"#Conjunto-de-datos-meteo\" data-toc-modified-id=\"Conjunto-de-datos-meteo-2\"><span class=\"toc-item-num\">2&nbsp;&nbsp;</span>Conjunto de datos meteo</a></span></li><li><span><a href=\"#Árboles-de-clasificación-y-regresión-(2.5-puntos)\" data-toc-modified-id=\"Árboles-de-clasificación-y-regresión-(2.5-puntos)-3\"><span class=\"toc-item-num\">3&nbsp;&nbsp;</span>Árboles de clasificación y regresión (2.5 puntos)</a></span></li><li><span><a href=\"#Random-forests-(2.5-puntos)\" data-toc-modified-id=\"Random-forests-(2.5-puntos)-4\"><span class=\"toc-item-num\">4&nbsp;&nbsp;</span>Random forests (2.5 puntos)</a></span></li><li><span><a href=\"#Modelos-lineales-generalizados-(GLMs)-(1.5-puntos)\" data-toc-modified-id=\"Modelos-lineales-generalizados-(GLMs)-(1.5-puntos)-5\"><span class=\"toc-item-num\">5&nbsp;&nbsp;</span>Modelos lineales generalizados (GLMs) (1.5 puntos)</a></span></li><li><span><a href=\"#k-nearest-neighbors-(k-NN)-(1.5-puntos)\" data-toc-modified-id=\"k-nearest-neighbors-(k-NN)-(1.5-puntos)-6\"><span class=\"toc-item-num\">6&nbsp;&nbsp;</span>k nearest neighbors (k-NN) (1.5 puntos)</a></span></li><li><span><a href=\"#Conclusiones-generales-(2-puntos)\" data-toc-modified-id=\"Conclusiones-generales-(2-puntos)-7\"><span class=\"toc-item-num\">7&nbsp;&nbsp;</span>Conclusiones generales (2 puntos)</a></span></li></ul></div>"
   ]
  },
  {
   "cell_type": "markdown",
   "metadata": {},
   "source": [
    "# Minería de Datos (Master en Data Science, UIMP-UC)\n",
    "\n",
    "## Técnicas de aprendizaje supervisado\n",
    "\n",
    "### Practica de Intercomparación aplicada a datos meteorológicos\n",
    "\n",
    "#### Santander Meteorology Group\n",
    "\n",
    "En esta práctica haremos una intercomparación de varias de las técnicas de aprendizaje supervisado vistas a lo largo de la asignatura (CART, k-NN, GLMs y Random Forests). Por tanto, pretende ser un repaso general de cara al examen en el que el objetivo es tratar de entender las ventajas y limitaciones de las distintas técnicas para un caso de aplicación particular; la predicción de precipitación. La entrega consistirá en un notebook (Jupyter o R-Markdown), junto con el archivo html que éste genera. Ambos ficheros se entregarán a través del Moodle de la asignatura en la tarea correspondiente."
   ]
  },
  {
   "cell_type": "markdown",
   "metadata": {},
   "source": [
    "## Conjunto de datos meteo\n",
    "\n",
    "Comenzaremos cargando el dataset meteo, que ya ha sido utilizado en sesiones anteriores. Como ya sabéis, la variable objetivo en este dataset es la precipitation diaria en Lisboa durante el período 1979-2008, y para modelizar ésta se dispone de un conjunto de 8 variables meteorológicas predictoras que describen la circulación de larga escala definidas sobre un dominio geográfico que incluye 40 puntos sobre la Península Ibérica. (en total 8×40=320 variables explicativas). Las variables predictoras son:\n",
    "\n",
    "* altura geopotencial en 500 hPa (Z500)\n",
    "* temperatura del aire en 850 hPa, 700 hPa, 500 hPa (ta850, ta700 y ta500), y en superficie (tas)\n",
    "* humedad específica del aire en 850 hPa y 500 hPa (hus850, hus500)\n",
    "* presión a nivel del mar (psl)\n",
    "\n",
    "Para agilizar los tiempos de cómputo, reduciremos la dimensionalidad del problema. Como ya se ha visto en sesiones anteriores, una alternativa para tal fin es el uso de PCs. Sin embargo, para no limitar la interpretabilidad de los resultados obtenidos con árboles, utilizaremos otra aproximación aquí. En concreto, optaremos por un análisis de correlaciones, en el que se calcula la correlación de Spearman entre nuestra variable objetivo y todas las variables predictoras disponibles. La asunción de partida es que cuanto más fuerte sea esta correlación, mayor es el vínculo físico entre predictando y predictor, y por tanto, más útil es la información que nos aporta ese predictor. Por tanto, este análisis nos permite descartar predictores poco relevantes. Siguiendo esta idea, calcularemos la correlación existente entre nuestro predictando y los 320 predictores, y eliminaremos aquellos con correlaciones entre -0.4 y 0.4. ¿Cuánto se ha reducido la dimensionalidad del problema?"
   ]
  },
  {
   "cell_type": "code",
   "execution_count": 1,
   "metadata": {},
   "outputs": [
    {
     "data": {
      "text/html": [
       "<table class=\"dataframe\">\n",
       "<caption>A data.frame: 5 × 321</caption>\n",
       "<thead>\n",
       "\t<tr><th></th><th scope=col>precip</th><th scope=col>X1</th><th scope=col>X2</th><th scope=col>X3</th><th scope=col>X4</th><th scope=col>X5</th><th scope=col>X6</th><th scope=col>X7</th><th scope=col>X8</th><th scope=col>X9</th><th scope=col>⋯</th><th scope=col>X311</th><th scope=col>X312</th><th scope=col>X313</th><th scope=col>X314</th><th scope=col>X315</th><th scope=col>X316</th><th scope=col>X317</th><th scope=col>X318</th><th scope=col>X319</th><th scope=col>X320</th></tr>\n",
       "\t<tr><th></th><th scope=col>&lt;dbl&gt;</th><th scope=col>&lt;dbl&gt;</th><th scope=col>&lt;dbl&gt;</th><th scope=col>&lt;dbl&gt;</th><th scope=col>&lt;dbl&gt;</th><th scope=col>&lt;dbl&gt;</th><th scope=col>&lt;dbl&gt;</th><th scope=col>&lt;dbl&gt;</th><th scope=col>&lt;dbl&gt;</th><th scope=col>&lt;dbl&gt;</th><th scope=col>⋯</th><th scope=col>&lt;dbl&gt;</th><th scope=col>&lt;dbl&gt;</th><th scope=col>&lt;dbl&gt;</th><th scope=col>&lt;dbl&gt;</th><th scope=col>&lt;dbl&gt;</th><th scope=col>&lt;dbl&gt;</th><th scope=col>&lt;dbl&gt;</th><th scope=col>&lt;dbl&gt;</th><th scope=col>&lt;dbl&gt;</th><th scope=col>&lt;dbl&gt;</th></tr>\n",
       "</thead>\n",
       "<tbody>\n",
       "\t<tr><th scope=row>1</th><td>10.9</td><td>57042.96</td><td>56534.84</td><td>55884.40</td><td>55175.59</td><td>54458.21</td><td>56980.27</td><td>56460.59</td><td>55800.02</td><td>55051.15</td><td>⋯</td><td>101985.9</td><td>101627.3</td><td>101357.2</td><td>101110.7</td><td>101291.0</td><td>101814.9</td><td>101479.4</td><td>101164.5</td><td>100970.7</td><td>100905.3</td></tr>\n",
       "\t<tr><th scope=row>2</th><td> 0.6</td><td>56963.20</td><td>56493.45</td><td>55930.82</td><td>55340.20</td><td>54768.63</td><td>56856.57</td><td>56361.95</td><td>55776.76</td><td>55164.26</td><td>⋯</td><td>102048.1</td><td>102069.7</td><td>102204.5</td><td>102480.3</td><td>102858.8</td><td>101973.3</td><td>102033.3</td><td>102165.5</td><td>102323.9</td><td>102534.2</td></tr>\n",
       "\t<tr><th scope=row>3</th><td>13.0</td><td>56522.59</td><td>55971.40</td><td>55304.34</td><td>54498.03</td><td>53725.15</td><td>56514.84</td><td>55977.71</td><td>55327.28</td><td>54569.78</td><td>⋯</td><td>102399.1</td><td>102448.4</td><td>102438.3</td><td>102434.3</td><td>102339.8</td><td>102669.7</td><td>102565.5</td><td>102530.3</td><td>102453.6</td><td>102487.1</td></tr>\n",
       "\t<tr><th scope=row>4</th><td> 0.0</td><td>54627.98</td><td>53979.80</td><td>53494.05</td><td>53072.98</td><td>52616.36</td><td>54776.17</td><td>54089.05</td><td>53516.98</td><td>53012.86</td><td>⋯</td><td>100970.0</td><td>100672.8</td><td>100360.7</td><td>100133.7</td><td>100028.4</td><td>101126.2</td><td>100700.0</td><td>100381.3</td><td>100118.3</td><td>100319.8</td></tr>\n",
       "\t<tr><th scope=row>5</th><td> 0.0</td><td>53584.38</td><td>53391.01</td><td>53310.38</td><td>53292.82</td><td>53340.13</td><td>53781.70</td><td>53498.13</td><td>53306.82</td><td>53213.26</td><td>⋯</td><td>100652.7</td><td>100663.5</td><td>100747.7</td><td>100934.0</td><td>101015.8</td><td>100801.6</td><td>100685.3</td><td>100777.5</td><td>100909.4</td><td>101164.7</td></tr>\n",
       "</tbody>\n",
       "</table>\n"
      ],
      "text/latex": [
       "A data.frame: 5 × 321\n",
       "\\begin{tabular}{r|lllllllllllllllllllll}\n",
       "  & precip & X1 & X2 & X3 & X4 & X5 & X6 & X7 & X8 & X9 & ⋯ & X311 & X312 & X313 & X314 & X315 & X316 & X317 & X318 & X319 & X320\\\\\n",
       "  & <dbl> & <dbl> & <dbl> & <dbl> & <dbl> & <dbl> & <dbl> & <dbl> & <dbl> & <dbl> & ⋯ & <dbl> & <dbl> & <dbl> & <dbl> & <dbl> & <dbl> & <dbl> & <dbl> & <dbl> & <dbl>\\\\\n",
       "\\hline\n",
       "\t1 & 10.9 & 57042.96 & 56534.84 & 55884.40 & 55175.59 & 54458.21 & 56980.27 & 56460.59 & 55800.02 & 55051.15 & ⋯ & 101985.9 & 101627.3 & 101357.2 & 101110.7 & 101291.0 & 101814.9 & 101479.4 & 101164.5 & 100970.7 & 100905.3\\\\\n",
       "\t2 &  0.6 & 56963.20 & 56493.45 & 55930.82 & 55340.20 & 54768.63 & 56856.57 & 56361.95 & 55776.76 & 55164.26 & ⋯ & 102048.1 & 102069.7 & 102204.5 & 102480.3 & 102858.8 & 101973.3 & 102033.3 & 102165.5 & 102323.9 & 102534.2\\\\\n",
       "\t3 & 13.0 & 56522.59 & 55971.40 & 55304.34 & 54498.03 & 53725.15 & 56514.84 & 55977.71 & 55327.28 & 54569.78 & ⋯ & 102399.1 & 102448.4 & 102438.3 & 102434.3 & 102339.8 & 102669.7 & 102565.5 & 102530.3 & 102453.6 & 102487.1\\\\\n",
       "\t4 &  0.0 & 54627.98 & 53979.80 & 53494.05 & 53072.98 & 52616.36 & 54776.17 & 54089.05 & 53516.98 & 53012.86 & ⋯ & 100970.0 & 100672.8 & 100360.7 & 100133.7 & 100028.4 & 101126.2 & 100700.0 & 100381.3 & 100118.3 & 100319.8\\\\\n",
       "\t5 &  0.0 & 53584.38 & 53391.01 & 53310.38 & 53292.82 & 53340.13 & 53781.70 & 53498.13 & 53306.82 & 53213.26 & ⋯ & 100652.7 & 100663.5 & 100747.7 & 100934.0 & 101015.8 & 100801.6 & 100685.3 & 100777.5 & 100909.4 & 101164.7\\\\\n",
       "\\end{tabular}\n"
      ],
      "text/markdown": [
       "\n",
       "A data.frame: 5 × 321\n",
       "\n",
       "| <!--/--> | precip &lt;dbl&gt; | X1 &lt;dbl&gt; | X2 &lt;dbl&gt; | X3 &lt;dbl&gt; | X4 &lt;dbl&gt; | X5 &lt;dbl&gt; | X6 &lt;dbl&gt; | X7 &lt;dbl&gt; | X8 &lt;dbl&gt; | X9 &lt;dbl&gt; | ⋯ ⋯ | X311 &lt;dbl&gt; | X312 &lt;dbl&gt; | X313 &lt;dbl&gt; | X314 &lt;dbl&gt; | X315 &lt;dbl&gt; | X316 &lt;dbl&gt; | X317 &lt;dbl&gt; | X318 &lt;dbl&gt; | X319 &lt;dbl&gt; | X320 &lt;dbl&gt; |\n",
       "|---|---|---|---|---|---|---|---|---|---|---|---|---|---|---|---|---|---|---|---|---|---|\n",
       "| 1 | 10.9 | 57042.96 | 56534.84 | 55884.40 | 55175.59 | 54458.21 | 56980.27 | 56460.59 | 55800.02 | 55051.15 | ⋯ | 101985.9 | 101627.3 | 101357.2 | 101110.7 | 101291.0 | 101814.9 | 101479.4 | 101164.5 | 100970.7 | 100905.3 |\n",
       "| 2 |  0.6 | 56963.20 | 56493.45 | 55930.82 | 55340.20 | 54768.63 | 56856.57 | 56361.95 | 55776.76 | 55164.26 | ⋯ | 102048.1 | 102069.7 | 102204.5 | 102480.3 | 102858.8 | 101973.3 | 102033.3 | 102165.5 | 102323.9 | 102534.2 |\n",
       "| 3 | 13.0 | 56522.59 | 55971.40 | 55304.34 | 54498.03 | 53725.15 | 56514.84 | 55977.71 | 55327.28 | 54569.78 | ⋯ | 102399.1 | 102448.4 | 102438.3 | 102434.3 | 102339.8 | 102669.7 | 102565.5 | 102530.3 | 102453.6 | 102487.1 |\n",
       "| 4 |  0.0 | 54627.98 | 53979.80 | 53494.05 | 53072.98 | 52616.36 | 54776.17 | 54089.05 | 53516.98 | 53012.86 | ⋯ | 100970.0 | 100672.8 | 100360.7 | 100133.7 | 100028.4 | 101126.2 | 100700.0 | 100381.3 | 100118.3 | 100319.8 |\n",
       "| 5 |  0.0 | 53584.38 | 53391.01 | 53310.38 | 53292.82 | 53340.13 | 53781.70 | 53498.13 | 53306.82 | 53213.26 | ⋯ | 100652.7 | 100663.5 | 100747.7 | 100934.0 | 101015.8 | 100801.6 | 100685.3 | 100777.5 | 100909.4 | 101164.7 |\n",
       "\n"
      ],
      "text/plain": [
       "  precip X1       X2       X3       X4       X5       X6       X7      \n",
       "1 10.9   57042.96 56534.84 55884.40 55175.59 54458.21 56980.27 56460.59\n",
       "2  0.6   56963.20 56493.45 55930.82 55340.20 54768.63 56856.57 56361.95\n",
       "3 13.0   56522.59 55971.40 55304.34 54498.03 53725.15 56514.84 55977.71\n",
       "4  0.0   54627.98 53979.80 53494.05 53072.98 52616.36 54776.17 54089.05\n",
       "5  0.0   53584.38 53391.01 53310.38 53292.82 53340.13 53781.70 53498.13\n",
       "  X8       X9       ⋯ X311     X312     X313     X314     X315     X316    \n",
       "1 55800.02 55051.15 ⋯ 101985.9 101627.3 101357.2 101110.7 101291.0 101814.9\n",
       "2 55776.76 55164.26 ⋯ 102048.1 102069.7 102204.5 102480.3 102858.8 101973.3\n",
       "3 55327.28 54569.78 ⋯ 102399.1 102448.4 102438.3 102434.3 102339.8 102669.7\n",
       "4 53516.98 53012.86 ⋯ 100970.0 100672.8 100360.7 100133.7 100028.4 101126.2\n",
       "5 53306.82 53213.26 ⋯ 100652.7 100663.5 100747.7 100934.0 101015.8 100801.6\n",
       "  X317     X318     X319     X320    \n",
       "1 101479.4 101164.5 100970.7 100905.3\n",
       "2 102033.3 102165.5 102323.9 102534.2\n",
       "3 102565.5 102530.3 102453.6 102487.1\n",
       "4 100700.0 100381.3 100118.3 100319.8\n",
       "5 100685.3 100777.5 100909.4 101164.7"
      ]
     },
     "metadata": {},
     "output_type": "display_data"
    }
   ],
   "source": [
    "## Incluir el codigo y responder a la cuestion\n",
    "data = read.csv(\"meteo.csv\")\n",
    "df = data[, -1]; rm(data)\n",
    "colnames(df)[1] = \"precip\"\n",
    "head(df,n=5)"
   ]
  },
  {
   "cell_type": "code",
   "execution_count": 2,
   "metadata": {},
   "outputs": [
    {
     "data": {
      "text/html": [
       "320"
      ],
      "text/latex": [
       "320"
      ],
      "text/markdown": [
       "320"
      ],
      "text/plain": [
       "[1] 320"
      ]
     },
     "metadata": {},
     "output_type": "display_data"
    }
   ],
   "source": [
    "length(df[1,-1]) #numero inicial de variables predictoras"
   ]
  },
  {
   "cell_type": "code",
   "execution_count": 3,
   "metadata": {},
   "outputs": [
    {
     "data": {
      "text/html": [
       "37"
      ],
      "text/latex": [
       "37"
      ],
      "text/markdown": [
       "37"
      ],
      "text/plain": [
       "[1] 37"
      ]
     },
     "metadata": {},
     "output_type": "display_data"
    }
   ],
   "source": [
    "cor.spearman <- cor(df[,1],df[,-1],method = \"spearman\")\n",
    "ind.predictor <- which(abs(cor.spearman)>0.4) #variables relevantes\n",
    "length(ind.predictor)"
   ]
  },
  {
   "cell_type": "code",
   "execution_count": 4,
   "metadata": {},
   "outputs": [],
   "source": [
    "y <- df[1:5000,1]\n",
    "x <- df[1:5000,-1]\n",
    "x <- x[,ind.predictor]"
   ]
  },
  {
   "cell_type": "code",
   "execution_count": 5,
   "metadata": {},
   "outputs": [
    {
     "data": {
      "text/html": [
       "283"
      ],
      "text/latex": [
       "283"
      ],
      "text/markdown": [
       "283"
      ],
      "text/plain": [
       "[1] 283"
      ]
     },
     "metadata": {},
     "output_type": "display_data"
    }
   ],
   "source": [
    "length(df[1,-1])-length(ind.predictor) #numero de variables que se han quitado"
   ]
  },
  {
   "cell_type": "code",
   "execution_count": 6,
   "metadata": {},
   "outputs": [],
   "source": [
    "set.seed(1)\n",
    "n <- length(y)\n",
    "ind.train <- sample(1:n, round(0.75*n))\n",
    "ind.test <- setdiff(1:n,ind.train)\n",
    "y.train <- y[ind.train]\n",
    "y.test <- y[ind.test]\n",
    "x.train <- x[ind.train,]\n",
    "x.test <- x[ind.test,]"
   ]
  },
  {
   "cell_type": "markdown",
   "metadata": {},
   "source": [
    "Para simplificar aún más los cálculos, nos limitaremos a los primeros 5000 días del dataset. Como siempre, consideraremos una partición de la muestra en dos subconjuntos independientes, train y test, escogidos aleatoriamente (75% para entrenar y 25% para validar).\n",
    "\n",
    "## Árboles de clasificación y regresión (2.5 puntos)\n",
    "\n",
    "Como ya hemos visto en sesiones anteriores, tendremos que crear dos modelos independientes, uno para la clasificación del evento binario lluvia/no lluvia y otro para el evento continuo cantidad de lluvia. Nos centramos en primer lugar en la clasificación lluvia/no lluvia. Para ello, tenemos que crear la variable binaria ocurrencia de precipitación (considera un umbral de 1 mm) y construir el dataframe asociado al problema.\n",
    "\n",
    "A continuación construiremos el árbol completo (usa la función tree). ¿Cuántos nodos terminales obtienes? ¿Qué variables predictoras dan lugar a las primeras subdivisiones del árbol?"
   ]
  },
  {
   "cell_type": "code",
   "execution_count": 7,
   "metadata": {},
   "outputs": [
    {
     "data": {
      "text/html": [
       "<table class=\"dataframe\">\n",
       "<caption>A data.frame: 5 × 38</caption>\n",
       "<thead>\n",
       "\t<tr><th></th><th scope=col>ocurrencia</th><th scope=col>predictores.X1</th><th scope=col>predictores.X2</th><th scope=col>predictores.X3</th><th scope=col>predictores.X4</th><th scope=col>predictores.X5</th><th scope=col>predictores.X6</th><th scope=col>predictores.X7</th><th scope=col>predictores.X8</th><th scope=col>predictores.X9</th><th scope=col>⋯</th><th scope=col>predictores.X285</th><th scope=col>predictores.X289</th><th scope=col>predictores.X290</th><th scope=col>predictores.X294</th><th scope=col>predictores.X295</th><th scope=col>predictores.X299</th><th scope=col>predictores.X300</th><th scope=col>predictores.X304</th><th scope=col>predictores.X305</th><th scope=col>predictores.X310</th></tr>\n",
       "\t<tr><th></th><th scope=col>&lt;fct&gt;</th><th scope=col>&lt;dbl&gt;</th><th scope=col>&lt;dbl&gt;</th><th scope=col>&lt;dbl&gt;</th><th scope=col>&lt;dbl&gt;</th><th scope=col>&lt;dbl&gt;</th><th scope=col>&lt;dbl&gt;</th><th scope=col>&lt;dbl&gt;</th><th scope=col>&lt;dbl&gt;</th><th scope=col>&lt;dbl&gt;</th><th scope=col>⋯</th><th scope=col>&lt;dbl&gt;</th><th scope=col>&lt;dbl&gt;</th><th scope=col>&lt;dbl&gt;</th><th scope=col>&lt;dbl&gt;</th><th scope=col>&lt;dbl&gt;</th><th scope=col>&lt;dbl&gt;</th><th scope=col>&lt;dbl&gt;</th><th scope=col>&lt;dbl&gt;</th><th scope=col>&lt;dbl&gt;</th><th scope=col>&lt;dbl&gt;</th></tr>\n",
       "</thead>\n",
       "<tbody>\n",
       "\t<tr><th scope=row>1</th><td>1</td><td>57042.96</td><td>56534.84</td><td>55884.40</td><td>55175.59</td><td>54458.21</td><td>56980.27</td><td>56460.59</td><td>55800.02</td><td>55051.15</td><td>⋯</td><td>101630.11</td><td>101951.2</td><td>101637.30</td><td>101851.9</td><td>101647.36</td><td>101771.5</td><td>101608.23</td><td>101599.4</td><td>101552.05</td><td>101491.42</td></tr>\n",
       "\t<tr><th scope=row>2</th><td>0</td><td>56963.20</td><td>56493.45</td><td>55930.82</td><td>55340.20</td><td>54768.63</td><td>56856.57</td><td>56361.95</td><td>55776.76</td><td>55164.26</td><td>⋯</td><td>102157.66</td><td>102307.5</td><td>102222.22</td><td>102337.1</td><td>102366.47</td><td>102384.1</td><td>102581.66</td><td>102490.5</td><td>102765.78</td><td>102937.78</td></tr>\n",
       "\t<tr><th scope=row>3</th><td>1</td><td>56522.59</td><td>55971.40</td><td>55304.34</td><td>54498.03</td><td>53725.15</td><td>56514.84</td><td>55977.71</td><td>55327.28</td><td>54569.78</td><td>⋯</td><td>100296.72</td><td>101128.8</td><td>100516.84</td><td>101360.8</td><td>100761.91</td><td>101570.8</td><td>101107.28</td><td>101841.0</td><td>101525.97</td><td>101967.72</td></tr>\n",
       "\t<tr><th scope=row>4</th><td>0</td><td>54627.98</td><td>53979.80</td><td>53494.05</td><td>53072.98</td><td>52616.36</td><td>54776.17</td><td>54089.05</td><td>53516.98</td><td>53012.86</td><td>⋯</td><td> 99925.61</td><td>100301.7</td><td> 99681.23</td><td>100185.7</td><td> 99495.23</td><td>100173.6</td><td> 99425.98</td><td>100082.4</td><td> 99530.73</td><td> 99719.67</td></tr>\n",
       "\t<tr><th scope=row>5</th><td>0</td><td>53584.38</td><td>53391.01</td><td>53310.38</td><td>53292.82</td><td>53340.13</td><td>53781.70</td><td>53498.13</td><td>53306.82</td><td>53213.26</td><td>⋯</td><td>101148.34</td><td>100947.7</td><td>100945.84</td><td>100928.0</td><td>100825.59</td><td>100927.7</td><td>100779.03</td><td>100934.7</td><td>100809.59</td><td>100895.84</td></tr>\n",
       "</tbody>\n",
       "</table>\n"
      ],
      "text/latex": [
       "A data.frame: 5 × 38\n",
       "\\begin{tabular}{r|lllllllllllllllllllll}\n",
       "  & ocurrencia & predictores.X1 & predictores.X2 & predictores.X3 & predictores.X4 & predictores.X5 & predictores.X6 & predictores.X7 & predictores.X8 & predictores.X9 & ⋯ & predictores.X285 & predictores.X289 & predictores.X290 & predictores.X294 & predictores.X295 & predictores.X299 & predictores.X300 & predictores.X304 & predictores.X305 & predictores.X310\\\\\n",
       "  & <fct> & <dbl> & <dbl> & <dbl> & <dbl> & <dbl> & <dbl> & <dbl> & <dbl> & <dbl> & ⋯ & <dbl> & <dbl> & <dbl> & <dbl> & <dbl> & <dbl> & <dbl> & <dbl> & <dbl> & <dbl>\\\\\n",
       "\\hline\n",
       "\t1 & 1 & 57042.96 & 56534.84 & 55884.40 & 55175.59 & 54458.21 & 56980.27 & 56460.59 & 55800.02 & 55051.15 & ⋯ & 101630.11 & 101951.2 & 101637.30 & 101851.9 & 101647.36 & 101771.5 & 101608.23 & 101599.4 & 101552.05 & 101491.42\\\\\n",
       "\t2 & 0 & 56963.20 & 56493.45 & 55930.82 & 55340.20 & 54768.63 & 56856.57 & 56361.95 & 55776.76 & 55164.26 & ⋯ & 102157.66 & 102307.5 & 102222.22 & 102337.1 & 102366.47 & 102384.1 & 102581.66 & 102490.5 & 102765.78 & 102937.78\\\\\n",
       "\t3 & 1 & 56522.59 & 55971.40 & 55304.34 & 54498.03 & 53725.15 & 56514.84 & 55977.71 & 55327.28 & 54569.78 & ⋯ & 100296.72 & 101128.8 & 100516.84 & 101360.8 & 100761.91 & 101570.8 & 101107.28 & 101841.0 & 101525.97 & 101967.72\\\\\n",
       "\t4 & 0 & 54627.98 & 53979.80 & 53494.05 & 53072.98 & 52616.36 & 54776.17 & 54089.05 & 53516.98 & 53012.86 & ⋯ &  99925.61 & 100301.7 &  99681.23 & 100185.7 &  99495.23 & 100173.6 &  99425.98 & 100082.4 &  99530.73 &  99719.67\\\\\n",
       "\t5 & 0 & 53584.38 & 53391.01 & 53310.38 & 53292.82 & 53340.13 & 53781.70 & 53498.13 & 53306.82 & 53213.26 & ⋯ & 101148.34 & 100947.7 & 100945.84 & 100928.0 & 100825.59 & 100927.7 & 100779.03 & 100934.7 & 100809.59 & 100895.84\\\\\n",
       "\\end{tabular}\n"
      ],
      "text/markdown": [
       "\n",
       "A data.frame: 5 × 38\n",
       "\n",
       "| <!--/--> | ocurrencia &lt;fct&gt; | predictores.X1 &lt;dbl&gt; | predictores.X2 &lt;dbl&gt; | predictores.X3 &lt;dbl&gt; | predictores.X4 &lt;dbl&gt; | predictores.X5 &lt;dbl&gt; | predictores.X6 &lt;dbl&gt; | predictores.X7 &lt;dbl&gt; | predictores.X8 &lt;dbl&gt; | predictores.X9 &lt;dbl&gt; | ⋯ ⋯ | predictores.X285 &lt;dbl&gt; | predictores.X289 &lt;dbl&gt; | predictores.X290 &lt;dbl&gt; | predictores.X294 &lt;dbl&gt; | predictores.X295 &lt;dbl&gt; | predictores.X299 &lt;dbl&gt; | predictores.X300 &lt;dbl&gt; | predictores.X304 &lt;dbl&gt; | predictores.X305 &lt;dbl&gt; | predictores.X310 &lt;dbl&gt; |\n",
       "|---|---|---|---|---|---|---|---|---|---|---|---|---|---|---|---|---|---|---|---|---|---|\n",
       "| 1 | 1 | 57042.96 | 56534.84 | 55884.40 | 55175.59 | 54458.21 | 56980.27 | 56460.59 | 55800.02 | 55051.15 | ⋯ | 101630.11 | 101951.2 | 101637.30 | 101851.9 | 101647.36 | 101771.5 | 101608.23 | 101599.4 | 101552.05 | 101491.42 |\n",
       "| 2 | 0 | 56963.20 | 56493.45 | 55930.82 | 55340.20 | 54768.63 | 56856.57 | 56361.95 | 55776.76 | 55164.26 | ⋯ | 102157.66 | 102307.5 | 102222.22 | 102337.1 | 102366.47 | 102384.1 | 102581.66 | 102490.5 | 102765.78 | 102937.78 |\n",
       "| 3 | 1 | 56522.59 | 55971.40 | 55304.34 | 54498.03 | 53725.15 | 56514.84 | 55977.71 | 55327.28 | 54569.78 | ⋯ | 100296.72 | 101128.8 | 100516.84 | 101360.8 | 100761.91 | 101570.8 | 101107.28 | 101841.0 | 101525.97 | 101967.72 |\n",
       "| 4 | 0 | 54627.98 | 53979.80 | 53494.05 | 53072.98 | 52616.36 | 54776.17 | 54089.05 | 53516.98 | 53012.86 | ⋯ |  99925.61 | 100301.7 |  99681.23 | 100185.7 |  99495.23 | 100173.6 |  99425.98 | 100082.4 |  99530.73 |  99719.67 |\n",
       "| 5 | 0 | 53584.38 | 53391.01 | 53310.38 | 53292.82 | 53340.13 | 53781.70 | 53498.13 | 53306.82 | 53213.26 | ⋯ | 101148.34 | 100947.7 | 100945.84 | 100928.0 | 100825.59 | 100927.7 | 100779.03 | 100934.7 | 100809.59 | 100895.84 |\n",
       "\n"
      ],
      "text/plain": [
       "  ocurrencia predictores.X1 predictores.X2 predictores.X3 predictores.X4\n",
       "1 1          57042.96       56534.84       55884.40       55175.59      \n",
       "2 0          56963.20       56493.45       55930.82       55340.20      \n",
       "3 1          56522.59       55971.40       55304.34       54498.03      \n",
       "4 0          54627.98       53979.80       53494.05       53072.98      \n",
       "5 0          53584.38       53391.01       53310.38       53292.82      \n",
       "  predictores.X5 predictores.X6 predictores.X7 predictores.X8 predictores.X9 ⋯\n",
       "1 54458.21       56980.27       56460.59       55800.02       55051.15       ⋯\n",
       "2 54768.63       56856.57       56361.95       55776.76       55164.26       ⋯\n",
       "3 53725.15       56514.84       55977.71       55327.28       54569.78       ⋯\n",
       "4 52616.36       54776.17       54089.05       53516.98       53012.86       ⋯\n",
       "5 53340.13       53781.70       53498.13       53306.82       53213.26       ⋯\n",
       "  predictores.X285 predictores.X289 predictores.X290 predictores.X294\n",
       "1 101630.11        101951.2         101637.30        101851.9        \n",
       "2 102157.66        102307.5         102222.22        102337.1        \n",
       "3 100296.72        101128.8         100516.84        101360.8        \n",
       "4  99925.61        100301.7          99681.23        100185.7        \n",
       "5 101148.34        100947.7         100945.84        100928.0        \n",
       "  predictores.X295 predictores.X299 predictores.X300 predictores.X304\n",
       "1 101647.36        101771.5         101608.23        101599.4        \n",
       "2 102366.47        102384.1         102581.66        102490.5        \n",
       "3 100761.91        101570.8         101107.28        101841.0        \n",
       "4  99495.23        100173.6          99425.98        100082.4        \n",
       "5 100825.59        100927.7         100779.03        100934.7        \n",
       "  predictores.X305 predictores.X310\n",
       "1 101552.05        101491.42       \n",
       "2 102765.78        102937.78       \n",
       "3 101525.97        101967.72       \n",
       "4  99530.73         99719.67       \n",
       "5 100809.59        100895.84       "
      ]
     },
     "metadata": {},
     "output_type": "display_data"
    }
   ],
   "source": [
    "## Incluir el codigo y responder a la cuestion\n",
    "occ = y\n",
    "occ = ifelse(y < 1, 0, 1)\n",
    "occ = as.factor(occ)\n",
    "df.occ = data.frame(ocurrencia = occ, predictores = x)\n",
    "head(df.occ,n=5)"
   ]
  },
  {
   "cell_type": "code",
   "execution_count": 67,
   "metadata": {},
   "outputs": [
    {
     "data": {
      "text/plain": [
       "\n",
       "Classification tree:\n",
       "tree(formula = ocurrencia ~ ., data = df.occ, subset = ind.train, \n",
       "    mincut = 1, minsize = 2, mindev = 0)\n",
       "Number of terminal nodes:  290 \n",
       "Residual mean deviance:  0 = 0 / 3460 \n",
       "Misclassification error rate: 0 = 0 / 3750 "
      ]
     },
     "metadata": {},
     "output_type": "display_data"
    },
    {
     "data": {
      "image/png": "[encoded data removed]",
      "text/plain": [
       "plot without title"
      ]
     },
     "metadata": {
      "image/png": {
       "height": 420,
       "width": 420
      }
     },
     "output_type": "display_data"
    }
   ],
   "source": [
    "library(tree)\n",
    "tree.occ = tree(ocurrencia ~., data=df.occ, subset = ind.train, mincut = 1, minsize = 2, mindev = 0)\n",
    "\n",
    "plot(tree.occ); text(tree.occ,pretty = F)\n",
    "summary(tree.occ)"
   ]
  },
  {
   "cell_type": "markdown",
   "metadata": {},
   "source": [
    "* Hay 290 nodos terminales y las variables predictoras que se usan primero son X285, X284 y X4."
   ]
  },
  {
   "cell_type": "markdown",
   "metadata": {},
   "source": [
    "Para simplificar este árbol tan complejo tendremos que podarlo adecuadamente. Utiliza una cross-validación con un 10-fold para encontrar el número de nodos terminales del árbol óptimo. ¿Cuál es este número? ¿Qué predictores aparecen como los más importantes?"
   ]
  },
  {
   "cell_type": "code",
   "execution_count": 9,
   "metadata": {},
   "outputs": [
    {
     "data": {
      "image/png": "[encoded data removed]",
      "text/plain": [
       "plot without title"
      ]
     },
     "metadata": {
      "image/png": {
       "height": 420,
       "width": 420
      }
     },
     "output_type": "display_data"
    }
   ],
   "source": [
    "## Incluir el codigo y responder a la cuestion\n",
    "#cálculo del número de nodos terminales optimo\n",
    "set.seed(1)\n",
    "tree.occ.cv = cv.tree(tree.occ, K = 10)  \n",
    "plot(tree.occ.cv$size, tree.occ.cv$dev,\n",
    "     type = \"o\", pch = 19,\n",
    "     xlab = \"number of leaves\", ylab = \"deviance\",\n",
    "     xlim = c(0,30))\n",
    "grid()"
   ]
  },
  {
   "cell_type": "code",
   "execution_count": 68,
   "metadata": {},
   "outputs": [],
   "source": [
    "tree.occ.opt <- prune.tree(tree.occ, best=5)"
   ]
  },
  {
   "cell_type": "code",
   "execution_count": 11,
   "metadata": {},
   "outputs": [
    {
     "data": {
      "image/png": "[encoded data removed]",
      "text/plain": [
       "plot without title"
      ]
     },
     "metadata": {
      "image/png": {
       "height": 420,
       "width": 420
      }
     },
     "output_type": "display_data"
    }
   ],
   "source": [
    "plot(tree.occ.opt)\n",
    "text(tree.occ.opt)"
   ]
  },
  {
   "cell_type": "code",
   "execution_count": 12,
   "metadata": {},
   "outputs": [
    {
     "data": {
      "text/plain": [
       "\n",
       "Classification tree:\n",
       "snip.tree(tree = tree.occ, nodes = c(4L, 6L, 14L, 5L))\n",
       "Variables actually used in tree construction:\n",
       "[1] \"predictores.X285\" \"predictores.X284\" \"predictores.X4\"   \"predictores.X2\"  \n",
       "Number of terminal nodes:  5 \n",
       "Residual mean deviance:  0.6593 = 2469 / 3745 \n",
       "Misclassification error rate: 0.144 = 540 / 3750 "
      ]
     },
     "metadata": {},
     "output_type": "display_data"
    }
   ],
   "source": [
    "summary(tree.occ.opt)"
   ]
  },
  {
   "cell_type": "markdown",
   "metadata": {},
   "source": [
    "* El deviance decrece las 5 hojas, valor a partir del cual se estabiliza. Por tanto podemos tomar como número de nodos terminales óptimo 5, ya que se consigue una precisión igual que para la zona mayor que 5 mostrada en la gráfica, y al mismo tiempo se reduce el riesgo de sobreajuste. Por otro lado, las variables que más discriminan siguen siendo las mismas que en el caso del árbol completo para la ocurrencia: X285, X284, y X4."
   ]
  },
  {
   "cell_type": "markdown",
   "metadata": {},
   "source": [
    "Utiliza este árbol óptimo para predecir en el test. Guarda las predicciones.\n",
    "\n",
    "Una vez obtenidas las predicciones de ocurrencia pasaremos a estimar la cantidad de precipitación. Primero creamos el dataset correspondiente.\n",
    "\n",
    "A continuación construiremos dos árboles, uno entrenado sobre todo el conjunto de train y otro entrenado sólo sobre los días de lluvia (en el train). Empezamos por el primero de estos árboles. Construye el árbol completo ¿Cuántos nodos terminales obtienes? ¿Qué variables predictoras dan lugar a las primeras subdivisiones del árbol? ¿Son las mismas que para el caso de la ocurrencia?"
   ]
  },
  {
   "cell_type": "code",
   "execution_count": 13,
   "metadata": {},
   "outputs": [],
   "source": [
    "## Incluir el codigo y responder a la cuestion\n",
    "occ.pred <- predict(tree.occ.opt,df.occ[ind.test,],type = \"class\")"
   ]
  },
  {
   "cell_type": "code",
   "execution_count": 14,
   "metadata": {},
   "outputs": [],
   "source": [
    "df.prec <- data.frame(precipitacion = y, predictor =x)"
   ]
  },
  {
   "cell_type": "code",
   "execution_count": 69,
   "metadata": {},
   "outputs": [
    {
     "data": {
      "text/plain": [
       "\n",
       "Regression tree:\n",
       "tree(formula = precipitacion ~ ., data = df.prec, subset = ind.train, \n",
       "    mincut = 1, minsize = 2, mindev = 0)\n",
       "Number of terminal nodes:  950 \n",
       "Residual mean deviance:  0.002834 = 7.936 / 2800 \n",
       "Distribution of residuals:\n",
       "      Min.    1st Qu.     Median       Mean    3rd Qu.       Max. \n",
       "-0.3000000 -0.0042550 -0.0007968  0.0000000  0.0000000  0.2970000 "
      ]
     },
     "metadata": {},
     "output_type": "display_data"
    },
    {
     "data": {
      "image/png": "[encoded data removed]",
      "text/plain": [
       "plot without title"
      ]
     },
     "metadata": {
      "image/png": {
       "height": 420,
       "width": 420
      }
     },
     "output_type": "display_data"
    }
   ],
   "source": [
    "t.tree1 = Sys.time()\n",
    "tree.prec = tree(precipitacion ~., data=df.prec, subset = ind.train, mincut = 1, minsize = 2, mindev = 0)\n",
    "t.tree2 = Sys.time()\n",
    "plot(tree.prec); text(tree.prec,pretty = F)\n",
    "summary(tree.prec)"
   ]
  },
  {
   "cell_type": "markdown",
   "metadata": {},
   "source": [
    "* Aumenta el número de nodos terminales respecto al árbol completo para la ocurrencia, ascendiendo a 950. Por otro lado, las variables que producen las primeras divisiones son las mismas que para el árbol completo en el caso de la ocurrencia, X4, X285, y X284."
   ]
  },
  {
   "cell_type": "markdown",
   "metadata": {},
   "source": [
    "Al igual que hicimos para el caso de la ocurrencia, tendremos que podar este árbol tan complejo. Utiliza una cross-validación con un 10-fold para encontrar el número de nodos terminales del árbol óptimo. ¿Cuál es este número? ¿Qué predictores aparecen como los más importantes?"
   ]
  },
  {
   "cell_type": "code",
   "execution_count": 16,
   "metadata": {},
   "outputs": [
    {
     "data": {
      "image/png": "[encoded data removed]",
      "text/plain": [
       "plot without title"
      ]
     },
     "metadata": {
      "image/png": {
       "height": 420,
       "width": 420
      }
     },
     "output_type": "display_data"
    }
   ],
   "source": [
    "## Incluir el codigo y responder a la cuestion\n",
    "set.seed(1)\n",
    "tree.prec.cv = cv.tree(tree.prec, K = 10)  \n",
    "plot(tree.prec.cv$size, tree.prec.cv$dev,\n",
    "     type = \"o\", pch = 19,\n",
    "     xlab = \"number of leaves\", ylab = \"deviance\",\n",
    "     xlim = c(0,50))\n",
    "grid()"
   ]
  },
  {
   "cell_type": "code",
   "execution_count": 70,
   "metadata": {},
   "outputs": [],
   "source": [
    "t.tree3 = Sys.time()\n",
    "tree.prec.opt <- prune.tree(tree.prec, best=3)\n",
    "t.tree4 = Sys.time()\n",
    "t.tree <- difftime(t.tree2, t.tree1, units = \"secs\") + difftime(t.tree4, t.tree3, units = \"secs\")"
   ]
  },
  {
   "cell_type": "code",
   "execution_count": 18,
   "metadata": {},
   "outputs": [
    {
     "data": {
      "text/plain": [
       "\n",
       "Regression tree:\n",
       "snip.tree(tree = tree.prec, nodes = c(7L, 6L, 2L))\n",
       "Variables actually used in tree construction:\n",
       "[1] \"predictor.X284\" \"predictor.X4\"  \n",
       "Number of terminal nodes:  3 \n",
       "Residual mean deviance:  25.05 = 93860 / 3747 \n",
       "Distribution of residuals:\n",
       "   Min. 1st Qu.  Median    Mean 3rd Qu.    Max. \n",
       "-8.9710 -1.5290 -0.3009  0.0000 -0.3009 92.9500 "
      ]
     },
     "metadata": {},
     "output_type": "display_data"
    }
   ],
   "source": [
    "summary(tree.prec.opt)"
   ]
  },
  {
   "cell_type": "code",
   "execution_count": 19,
   "metadata": {},
   "outputs": [
    {
     "data": {
      "image/png": "[encoded data removed]",
      "text/plain": [
       "plot without title"
      ]
     },
     "metadata": {
      "image/png": {
       "height": 420,
       "width": 420
      }
     },
     "output_type": "display_data"
    }
   ],
   "source": [
    "plot(tree.prec.opt)\n",
    "text(tree.prec.opt)"
   ]
  },
  {
   "cell_type": "markdown",
   "metadata": {},
   "source": [
    "* En este caso el número óptimo de hojas obtenido es 3, que corresponde al mínimo de la curva del deviance, y las variables usadas son X284 y X4. La única diferencia, respecto a las variables más usadas, que se ve entre los árboles óptimo y completo de los casos en que se estudia la ocurrencia o la precipitación es que en los de ocurrencia la variable X285 es la que aparece en el nodo raíz, mientras que en los árboles para precipitación es la X284."
   ]
  },
  {
   "cell_type": "markdown",
   "metadata": {},
   "source": [
    "Utiliza el árbol óptimo que acabas de encontrar para predecir en el test, y conserva la predicción obtenida.\n",
    "\n",
    "Repite el mismo proceso para el segundo árbol de regresión (el que sólo se entrena sobre los días de lluvia en el train).\n",
    "\n",
    "Obtén las dos series predichas completas para el test (la secuencia lluvia/no lluvia será la misma en las dos) y valida tus resultados en función de las siguiente métricas:\n",
    "\n",
    "Para la parte binaria lluvia/no lluvia: Accuracy.\n",
    "Para la serie completa: RMSE, correlación de Spearman y ratio de varianzas.\n",
    "Pregunta: ¿Cuál de los dos árboles da mejores resultados? ¿Por qué?"
   ]
  },
  {
   "cell_type": "code",
   "execution_count": 20,
   "metadata": {},
   "outputs": [],
   "source": [
    "## Incluir el codigo y responder a la cuestion\n",
    "prec.pred <- predict(tree.prec.opt,df.prec[ind.test,])"
   ]
  },
  {
   "cell_type": "code",
   "execution_count": null,
   "metadata": {},
   "outputs": [],
   "source": []
  },
  {
   "cell_type": "code",
   "execution_count": 21,
   "metadata": {},
   "outputs": [],
   "source": [
    "noLluvia <- which(y<1)"
   ]
  },
  {
   "cell_type": "code",
   "execution_count": 22,
   "metadata": {},
   "outputs": [],
   "source": [
    "ind.train2 <- setdiff(ind.train,noLluvia)\n",
    "ind.test2 <- setdiff(ind.test,noLluvia)"
   ]
  },
  {
   "cell_type": "code",
   "execution_count": 23,
   "metadata": {},
   "outputs": [
    {
     "data": {
      "text/plain": [
       "\n",
       "Regression tree:\n",
       "tree(formula = precipitacion ~ ., data = df.prec, subset = ind.train2, \n",
       "    mincut = 1, minsize = 2, mindev = 0)\n",
       "Number of terminal nodes:  598 \n",
       "Residual mean deviance:  0.01503 = 2.134 / 142 \n",
       "Distribution of residuals:\n",
       "   Min. 1st Qu.  Median    Mean 3rd Qu.    Max. \n",
       "   -0.2     0.0     0.0     0.0     0.0     0.2 "
      ]
     },
     "metadata": {},
     "output_type": "display_data"
    },
    {
     "data": {
      "image/png": "[encoded data removed]",
      "text/plain": [
       "plot without title"
      ]
     },
     "metadata": {
      "image/png": {
       "height": 420,
       "width": 420
      }
     },
     "output_type": "display_data"
    }
   ],
   "source": [
    "tree.prec2 = tree(precipitacion ~., data=df.prec, subset = ind.train2, mincut = 1, minsize = 2, mindev = 0)\n",
    "plot(tree.prec2); text(tree.prec2,pretty = F)\n",
    "summary(tree.prec2)"
   ]
  },
  {
   "cell_type": "markdown",
   "metadata": {},
   "source": [
    "* Se obtienen 598 nodos terminales. Por otro lado, las variables con más influencia en la predicción han cambiado respecto a los árboles completos anteriores, siendo ahora X285, X304 y X310."
   ]
  },
  {
   "cell_type": "code",
   "execution_count": 24,
   "metadata": {},
   "outputs": [
    {
     "data": {
      "image/png": "[encoded data removed]",
      "text/plain": [
       "plot without title"
      ]
     },
     "metadata": {
      "image/png": {
       "height": 420,
       "width": 420
      }
     },
     "output_type": "display_data"
    }
   ],
   "source": [
    "set.seed(7)\n",
    "tree.prec.cv2 = cv.tree(tree.prec2, K = 10)  \n",
    "plot(tree.prec.cv2$size, tree.prec.cv2$dev,\n",
    "     type = \"o\", pch = 19,\n",
    "     xlab = \"number of leaves\", ylab = \"deviance\",\n",
    "     xlim = c(0,60))\n",
    "grid()"
   ]
  },
  {
   "cell_type": "code",
   "execution_count": 25,
   "metadata": {},
   "outputs": [
    {
     "data": {
      "text/html": [
       "3"
      ],
      "text/latex": [
       "3"
      ],
      "text/markdown": [
       "3"
      ],
      "text/plain": [
       "[1] 3"
      ]
     },
     "metadata": {},
     "output_type": "display_data"
    }
   ],
   "source": [
    "posmin <- which.min(rev(tree.prec.cv2$dev))\n",
    "rev(tree.prec.cv2$size)[posmin]"
   ]
  },
  {
   "cell_type": "markdown",
   "metadata": {},
   "source": [
    "* Se alcanza un mínimo para el deviance para un árbol de 3 hojas. "
   ]
  },
  {
   "cell_type": "code",
   "execution_count": 26,
   "metadata": {},
   "outputs": [],
   "source": [
    "tree.prec.opt2 <- prune.tree(tree.prec2, best=3)"
   ]
  },
  {
   "cell_type": "code",
   "execution_count": 27,
   "metadata": {},
   "outputs": [
    {
     "data": {
      "text/plain": [
       "\n",
       "Regression tree:\n",
       "snip.tree(tree = tree.prec2, nodes = 5:3)\n",
       "Variables actually used in tree construction:\n",
       "[1] \"predictor.X285\" \"predictor.X304\"\n",
       "Number of terminal nodes:  3 \n",
       "Residual mean deviance:  87.35 = 64370 / 737 \n",
       "Distribution of residuals:\n",
       "   Min. 1st Qu.  Median    Mean 3rd Qu.    Max. \n",
       "-16.290  -5.801  -2.999   0.000   3.795  87.990 "
      ]
     },
     "metadata": {},
     "output_type": "display_data"
    }
   ],
   "source": [
    "summary(tree.prec.opt2)"
   ]
  },
  {
   "cell_type": "code",
   "execution_count": 28,
   "metadata": {},
   "outputs": [
    {
     "data": {
      "image/png": "[encoded data removed]",
      "text/plain": [
       "plot without title"
      ]
     },
     "metadata": {
      "image/png": {
       "height": 420,
       "width": 420
      }
     },
     "output_type": "display_data"
    }
   ],
   "source": [
    "plot(tree.prec.opt2)\n",
    "text(tree.prec.opt2)"
   ]
  },
  {
   "cell_type": "markdown",
   "metadata": {},
   "source": [
    "* En este caso las variables que más discriminan los datos son X285 y X304."
   ]
  },
  {
   "cell_type": "code",
   "execution_count": 29,
   "metadata": {},
   "outputs": [],
   "source": [
    "prec.pred2 <- predict(tree.prec.opt2,df.prec[ind.test2,])"
   ]
  },
  {
   "cell_type": "code",
   "execution_count": 30,
   "metadata": {},
   "outputs": [],
   "source": [
    "## validation\n",
    "# RMSE\n",
    "rmse <- function(x, y) {\n",
    "    stopifnot(length(x) == length(y))\n",
    "    sqrt(mean((x - y)^2))\n",
    "}\n",
    "## accuracy binary\n",
    "acc.class = function(x, y) {\n",
    "  stopifnot(length(x) == length(y))\n",
    "  return(sum(diag(table(x, y))) / length(x))\n",
    "}"
   ]
  },
  {
   "cell_type": "code",
   "execution_count": 31,
   "metadata": {},
   "outputs": [],
   "source": [
    "#análisis \n",
    "oc <- occ[ind.test]\n",
    "p <- df.prec[ind.test,1]\n",
    "p2 <- df.prec[ind.test2,1]\n",
    "acc.occ <- acc.class(occ.pred,oc)\n",
    "rmse1 <- rmse(prec.pred,p)\n",
    "spearman1<-cor(prec.pred,p,method=\"spearman\")\n",
    "ratio.var1<-var(prec.pred)/var(p)\n",
    "rmse2 <- rmse(prec.pred2,p2)\n",
    "spearman2<-cor(prec.pred2,p2,method=\"spearman\")\n",
    "ratio.var2<-var(prec.pred2)/var(p2)"
   ]
  },
  {
   "cell_type": "code",
   "execution_count": 32,
   "metadata": {},
   "outputs": [
    {
     "name": "stdout",
     "output_type": "stream",
     "text": [
      "[1] \"Accuracy: 0.8504\"\n",
      "[1] \"---\"\n",
      "[1] \"rmse1: 4.88813313543855\"\n",
      "[1] \"spearman1: 0.606101849541548\"\n",
      "[1] \"ration.var1: 0.217385906230219\"\n",
      "[1] \"---\"\n",
      "[1] \"rmse2: 9.43069938080372\"\n",
      "[1] \"spearman2: 0.158165809141824\"\n",
      "[1] \"ratio.var2: 0.118979217339128\"\n"
     ]
    }
   ],
   "source": [
    "print(paste0(\"Accuracy: \",acc.occ))\n",
    "print('---')\n",
    "print(paste0(\"rmse1: \",rmse1))\n",
    "print(paste0(\"spearman1: \",spearman1))\n",
    "print(paste0(\"ration.var1: \",ratio.var1))\n",
    "print('---')\n",
    "print(paste0(\"rmse2: \",rmse2))\n",
    "print(paste0(\"spearman2: \",spearman2))\n",
    "print(paste0(\"ratio.var2: \",ratio.var2))"
   ]
  },
  {
   "cell_type": "markdown",
   "metadata": {},
   "source": [
    "* Se obtiene un valor razonable del accuracy, del 85%, para el árbol de clasificación. Por otro lado, respecto a los árboles de regresión, observamos lo siguiente: el rmse del primer árbol es la mitad que el del segundo, indicando que las predicciones del segundo se desvían en general más de los valores reales que las del primer árbol; atendiendo al coeficiente de spearman, con el primer árbol se consigue bastante más correlación entre el cálculo y los valores experimentales que con el segundo. Un valor de 0.6 es relativamente alto, indicando que para el primer árbol de regresión un aumento en la precipitación predicha tiene bastante probabilidad de ir acompañado de un aumento en la precipitación medida. Por el contrario, el valor de 0.16 implica poca correlación entre la predicción y la medida real de la lluvia. Por último, respecto al ratio de varianzas, el árbol primero describe mejor la varianza de la muestra que el segundo, aunque en general los dos son bastante bajos. Hay que tener en cuenta que en una muestra experimental se tiene un factor de ruido que en un modelo no se tiene.\n",
    "\n",
    "* Se han observado mejores resultados en el primer árbol que en segundo atendiendo a las métricas de validación utilizadas. Esto ocurre porque la parte de la muestra que ofrece información relevante para describir un evento, como la precipitación en este caso, no solo es aquella en que se da el fenómeno, sino toda. Por tanto, el segundo árbol está siendo entrenado con una muestra con la que se ha perdido información sobre el conjunto de datos, y como resultado se obtienen resultados en general menos precisos."
   ]
  },
  {
   "cell_type": "markdown",
   "metadata": {},
   "source": [
    "## Random forests (2.5 puntos)\n",
    "\n",
    "A continuación vamos a realizar el mismo ejercicio pero sustituyendo árboles individuales por random forests, empleando para ello en este ejercicio la técnica de “bagging”. Empecemos con el evento ocurrencia. Para estimar cuál sería el tamaño óptimo de nuestro random forest, prueba bosques de hasta 1000 árboles (utiliza la función randomForest) y plotea los errores “Out-Of-Bag” (OOB). ¿Con cuántos árboles te quedarías?"
   ]
  },
  {
   "cell_type": "code",
   "execution_count": 33,
   "metadata": {},
   "outputs": [],
   "source": [
    "## Incluir el codigo y responder a la cuestion"
   ]
  },
  {
   "cell_type": "code",
   "execution_count": 34,
   "metadata": {},
   "outputs": [
    {
     "name": "stderr",
     "output_type": "stream",
     "text": [
      "randomForest 4.7-1.1\n",
      "\n",
      "Type rfNews() to see new features/changes/bug fixes.\n",
      "\n"
     ]
    }
   ],
   "source": [
    "library(randomForest)"
   ]
  },
  {
   "cell_type": "code",
   "execution_count": 35,
   "metadata": {},
   "outputs": [],
   "source": [
    "set.seed(123)\n",
    "rf.occ = randomForest(ocurrencia ~., df.occ , subset = ind.train,sampsize= 1000)"
   ]
  },
  {
   "cell_type": "code",
   "execution_count": 36,
   "metadata": {},
   "outputs": [
    {
     "data": {
      "image/png": "[encoded data removed]",
      "text/plain": [
       "plot without title"
      ]
     },
     "metadata": {
      "image/png": {
       "height": 420,
       "width": 420
      }
     },
     "output_type": "display_data"
    }
   ],
   "source": [
    "# OOB error\n",
    "plot(rf.occ$err.rate[, 1], type = \"l\", xlab = \"no trees\",\n",
    "ylab = \"OOB error\")\n",
    "grid()"
   ]
  },
  {
   "cell_type": "markdown",
   "metadata": {},
   "source": [
    "* Tomamos como número óptimo de árboles uno en que se obtenga un valor del error OOB bajo. Para ello, consideramos la zona de la gráfica donde se estabiliza el error, y tomamos valores menores dentro de esa zona, que minimizan el error y al mismo tiempo disminuyen la complejidad del modelo. En este caso, marcamos como zona estable los valores a partir de 200 aproximadamente, y tomamos 200 como número óptimo."
   ]
  },
  {
   "cell_type": "markdown",
   "metadata": {},
   "source": [
    "***Nota:*** Hemos visto en la teoría que además del número de árboles, el otro parámetro a ajustar en los random forests es el número de predictores que se consideran en cada nodo para el splitting. En este ejemplo utlizaremos los valores típicos; n−−√ en problemas de clasificación y n/3 en problemas de predicción (siendo n el número total de predictores disponibles).\n",
    "\n",
    "Utiliza el bosque de tamaño óptimo parar predecir la ocurrencia en el test, y conserva la predicción.\n",
    "\n",
    "Seguidamente, tal y como hicimos con los árboles individuales, vamos a crear dos random forests para la cantidad, uno que se entrene sobre todo el dataset de train y otro que se entrene sólo sobre los días de lluvia (en el train). De nuevo, tendrás que estimar cuál es el número óptimo de árboles en cada uno de ellos (prueba bosques de hasta 1000 árboles). ¿Qué tamaños óptimos obtienes?"
   ]
  },
  {
   "cell_type": "code",
   "execution_count": 37,
   "metadata": {},
   "outputs": [],
   "source": [
    "## Incluir el codigo y responder a la cuestion\n",
    "n=length(x[1,])\n",
    "ntree <- 200\n",
    "mtry.occ <- round(sqrt(n))\n",
    "mtry.prec <- round(n/3)"
   ]
  },
  {
   "cell_type": "code",
   "execution_count": 71,
   "metadata": {},
   "outputs": [],
   "source": [
    "set.seed(1)\n",
    "rf.occ.opt <- randomForest(ocurrencia ~., df.occ, subset = ind.train, ntree = ntree, mtry = mtry.occ)"
   ]
  },
  {
   "cell_type": "code",
   "execution_count": 39,
   "metadata": {},
   "outputs": [],
   "source": [
    "pred.occ = predict(rf.occ.opt, df.occ[ind.test, ])"
   ]
  },
  {
   "cell_type": "code",
   "execution_count": 72,
   "metadata": {},
   "outputs": [],
   "source": [
    "#r.f. para cantidad. dataset train\n",
    "set.seed(1)\n",
    "t.rf1 = Sys.time()\n",
    "rf.prec = randomForest(precipitacion ~., df.prec , subset = ind.train, sampsize= 1000)\n",
    "t.rf2 = Sys.time()\n",
    "t.rf <- difftime(t.rf2, t.rf1, units = \"secs\")"
   ]
  },
  {
   "cell_type": "code",
   "execution_count": 41,
   "metadata": {},
   "outputs": [
    {
     "data": {
      "image/png": "[encoded data removed]",
      "text/plain": [
       "plot without title"
      ]
     },
     "metadata": {
      "image/png": {
       "height": 420,
       "width": 420
      }
     },
     "output_type": "display_data"
    }
   ],
   "source": [
    "plot(rf.prec$mse, type = \"l\", xlab = \"no. trees\",\n",
    "ylab = \"OOB error\"); grid()"
   ]
  },
  {
   "cell_type": "markdown",
   "metadata": {},
   "source": [
    "* Consideramos la zona estable del OOB error a partir de 100 y tomamos este valor como número óptimo de árboles."
   ]
  },
  {
   "cell_type": "code",
   "execution_count": 42,
   "metadata": {},
   "outputs": [],
   "source": [
    "ntree <- 100\n",
    "set.seed(1)\n",
    "rf.prec.opt <- randomForest(precipitacion ~ .,  df.prec, subset = ind.train, ntree = ntree, mtry = mtry.prec)"
   ]
  },
  {
   "cell_type": "code",
   "execution_count": 43,
   "metadata": {},
   "outputs": [],
   "source": [
    "pred.prec <- predict(rf.prec.opt, df.prec[ind.test, ])"
   ]
  },
  {
   "cell_type": "code",
   "execution_count": 44,
   "metadata": {},
   "outputs": [],
   "source": [
    "#r.f. para cantidad. dataset train2 (solo lluvia)"
   ]
  },
  {
   "cell_type": "code",
   "execution_count": 45,
   "metadata": {},
   "outputs": [],
   "source": [
    "set.seed(1)\n",
    "rf.prec2 = randomForest(precipitacion ~., df.prec , subset = ind.train2)"
   ]
  },
  {
   "cell_type": "code",
   "execution_count": 46,
   "metadata": {},
   "outputs": [
    {
     "data": {
      "image/png": "[encoded data removed]",
      "text/plain": [
       "plot without title"
      ]
     },
     "metadata": {
      "image/png": {
       "height": 420,
       "width": 420
      }
     },
     "output_type": "display_data"
    }
   ],
   "source": [
    "plot(rf.prec2$mse, type = \"l\", xlab = \"no. trees\",\n",
    "ylab = \"OOB error\"); grid()"
   ]
  },
  {
   "cell_type": "markdown",
   "metadata": {},
   "source": [
    "* En este caso tarda más en estabilizarse el error y tomamos 200 como valor óptimo."
   ]
  },
  {
   "cell_type": "markdown",
   "metadata": {},
   "source": [
    "\n",
    "Utiliza los bosques óptimos encontrados para predecir la cantidad en el test, y conserva las predicciones obtenidas.\n",
    "\n",
    "Construye las predicciones completas (ocurrencia×cantidad) de test y valídalas en función de las mismas métricas utilizadas en el apartado anterior.\n",
    "\n",
    "Pregunta: Compara estos resultados con los obtenidos para árboles individuales. ¿Qué conclusiones obtienes de la comparación entre árboles individuales y random forests?"
   ]
  },
  {
   "cell_type": "code",
   "execution_count": 47,
   "metadata": {},
   "outputs": [],
   "source": [
    "ntree <- 200\n",
    "set.seed(1)\n",
    "rf.prec.opt2 <- randomForest(precipitacion ~ .,  df.prec, subset = ind.train2, ntree = ntree, mtry = mtry.prec)"
   ]
  },
  {
   "cell_type": "code",
   "execution_count": 48,
   "metadata": {},
   "outputs": [],
   "source": [
    "pred.prec2 <- predict(rf.prec.opt2, df.prec[ind.test2, ])"
   ]
  },
  {
   "cell_type": "code",
   "execution_count": 49,
   "metadata": {},
   "outputs": [],
   "source": [
    "pred.completa <- pred.prec * (as.numeric(pred.occ)-1)"
   ]
  },
  {
   "cell_type": "code",
   "execution_count": 50,
   "metadata": {},
   "outputs": [],
   "source": [
    "y.test2 <- y[ind.test2]"
   ]
  },
  {
   "cell_type": "code",
   "execution_count": 51,
   "metadata": {},
   "outputs": [
    {
     "name": "stdout",
     "output_type": "stream",
     "text": [
      "[1] \"ocurrencia\"\n",
      "[1] \"accuracy: 0.8728\"\n",
      "[1] \"---\"\n",
      "[1] \"cantidad\"\n",
      "[1] \"rmse: 4.6676600620298\"\n",
      "[1] \"spearman: 0.628798525078781\"\n",
      "[1] \"ratio.var: 0.373191752261919\"\n",
      "[1] \"---\"\n",
      "[1] \"cantidad solo lluvia\"\n",
      "[1] \"rmse: 8.80926135465906\"\n",
      "[1] \"spearman: 0.363341852841774\"\n",
      "[1] \"ratio.var: 0.213402883657277\"\n",
      "[1] \"---\"\n",
      "[1] \"cantidad completa\"\n",
      "[1] \"rmse: 4.81902832515489\"\n",
      "[1] \"spearman: 0.603886756215664\"\n",
      "[1] \"ratio.var: 0.382822907653262\"\n"
     ]
    }
   ],
   "source": [
    "#validacion\n",
    "#ocurrencia\n",
    "print(\"ocurrencia\")\n",
    "print(paste0(\"accuracy: \",acc.class(pred.occ,occ[ind.test])))\n",
    "print(\"---\")\n",
    "#cantidad\n",
    "print(\"cantidad\")\n",
    "print(paste0(\"rmse: \",rmse(y.test,pred.prec)))\n",
    "print(paste0(\"spearman: \",cor(y.test,pred.prec,method=\"spearman\")))\n",
    "print(paste0(\"ratio.var: \",var(pred.prec)/var(y.test)))\n",
    "print(\"---\")\n",
    "#cantidad lluvia\n",
    "print(\"cantidad solo lluvia\")\n",
    "print(paste0(\"rmse: \",rmse(y.test2,pred.prec2)))\n",
    "print(paste0(\"spearman: \",cor(y.test2,pred.prec2,method=\"spearman\")))\n",
    "print(paste0(\"ratio.var: \",var(pred.prec2)/var(y.test2)))\n",
    "print(\"---\")\n",
    "#completa\n",
    "print(\"cantidad completa\")\n",
    "print(paste0(\"rmse: \",rmse(y.test,pred.completa)))\n",
    "print(paste0(\"spearman: \",cor(y.test,pred.completa,method=\"spearman\")))\n",
    "print(paste0(\"ratio.var: \",var(pred.completa)/var(y.test)))"
   ]
  },
  {
   "cell_type": "markdown",
   "metadata": {},
   "source": [
    "* Se obtiene un una tasa de aciertos bastante buena para el bosque de ocurrencia. Por otro lado, respecto a los bosques de cantidad, distinguimos varios puntos: los modelos para la cantidaad y la cantidad multiplicada por ocurrencia presentan valores similares de las tres métricas. Por otro lado, respecto al modelo solo entrenado con los datos de lluvia, los modelos de cantidad y cantidad completa consiguen mejores valores de las tres métricas: un rsme menor, un coeficiente de spearman bastante más alto que el del modelo que toma solo lluvia, y una mayor explicación de la varianza. Esto ocurre por la misma razón que en el caso de los árboles: la muestra con solo los días lluviosos pierde representación de los datos.\n",
    "\n",
    "* Por último, comparamos estos resultados con los obtenidos en los árboles individuales. Respecto al accuracy se obtiene un valor ligeramente más alto con bosques que con árboles. Por otro lado, en el caso de la predicción de cantidad, tanto el bosque con el train completo como con el train solamente con días de lluvia presenta mejores valores de las métricas de validación que el árbol correspondiente: el rmse disminuye, el coeficiente de Spearman aumenta, y el ratio de varianzas aumenta. En general, los bosques han generalizado mejor que los árboles en los datos de test."
   ]
  },
  {
   "cell_type": "markdown",
   "metadata": {},
   "source": [
    "## Modelos lineales generalizados (GLMs) (1.5 puntos)\n",
    "\n",
    "Usaremos a continuación GLMs para el mismo problema abordado en los apartados anteriores. Como ya hemos visto en otras sesiones, debemos utilizar la familia binomial con función de enlace logit (regresión logística) para clasificación y la familia Gamma con función de enlace logarítmica para la cantidad.\n",
    "\n",
    "Comenzamos con el modelo para la ocurrencia.\n",
    "\n",
    "Una vez tenemos el modelo, lo utilizamos para predecir en el test. Tendremos que convertir la predicción probabilística obtenida en binaria (considera un umbral 0.5).\n",
    "\n",
    "A continuación, ajustamos el modelo de cantidad. Para ello tenemos que seleccionar previamente los días de lluvia (la familia Gamma sólo acepta valores positivos).\n",
    "\n",
    "Utilizamos el modelo obtenido para predecir la cantidad en el test.\n",
    "\n",
    "De nuevo, multiplicamos la ocurrencia por la cantidad para obtener la predicción completa en el test y la validamos en función de las métricas de validación que utilizamos para CART y random forests.\n",
    "\n",
    "Pregunta: Compara estos resultados con los obtenidos para CART y random forests. ¿Qué conclusiones obtienes?"
   ]
  },
  {
   "cell_type": "code",
   "execution_count": 73,
   "metadata": {},
   "outputs": [],
   "source": [
    "## Incluir el codigo y responder a la cuestion\n",
    "#modelo de ocurrencia\n",
    "glm.occ = glm(ocurrencia ~ ., df.occ, subset = ind.train, family = binomial(link = \"logit\"))\n",
    "\n",
    "pred.glm.occ = predict(glm.occ, df.occ[ind.test, ] , type = \"response\")\n",
    "pred.glm.occ = ifelse(pred.glm.occ >= 0.5, 1, 0)\n",
    "\n",
    "#modelo de cantidad\n",
    "#datos para los que la precipitación tiene valores positivos\n",
    "ind.train.pos <- ind.train[y[ind.train] > 0]\n",
    "ind.test.pos <- ind.test[y[ind.test] > 0]\n",
    "#df.rain <- data.frame(precipitacion=y[ind.train.pos], predictores = x[ind.train.pos, ])\n",
    "\n",
    "t.glm1 = Sys.time()\n",
    "glm.lluvia <- glm(precipitacion ~ ., df.prec ,subset = ind.train.pos, family = Gamma(link = \"log\"))\n",
    "t.glm2 = Sys.time()\n",
    "t.glm <- difftime(t.glm2, t.glm1, units = \"secs\")\n",
    "\n",
    "\n",
    "pred.glm.lluvia <- predict(glm.lluvia, df.prec[ind.test, ], type = \"response\")"
   ]
  },
  {
   "cell_type": "code",
   "execution_count": 53,
   "metadata": {},
   "outputs": [],
   "source": [
    "p.completa <- pred.glm.occ * pred.glm.lluvia"
   ]
  },
  {
   "cell_type": "code",
   "execution_count": 64,
   "metadata": {},
   "outputs": [
    {
     "name": "stdout",
     "output_type": "stream",
     "text": [
      "[1] \"accuracy: 0.6936\"\n",
      "[1] \"rmse: 5.06319252437652\"\n",
      "[1] \"spearman: 0.610557362595856\"\n",
      "[1] \"ration.var: 0.726625425472346\"\n"
     ]
    }
   ],
   "source": [
    "print(paste0(\"accuracy: \",acc.class(y.test,pred.glm.occ)))\n",
    "print(paste0(\"rmse: \",rmse(y.test,p.completa)))\n",
    "print(paste0(\"spearman: \",cor(y.test,p.completa,method=\"spearman\")))\n",
    "print(paste0(\"ration.var: \",var(p.completa)/var(y.test)))"
   ]
  },
  {
   "cell_type": "markdown",
   "metadata": {},
   "source": [
    "* En comparación con la predicción hecha para el árbol de regresión, se obtienen valores similares para el cofeficiente de spearman y para el rmse. Por el contrario, aumenta el valor del ratio de varianzas, indicando que el modelo lineal generalizado explica un porcentaje mayor de la varianza de los datos.\n",
    "\n",
    "* Por otro lado, la ocurrencia predicha con glm tiene menos precisión que la del bosque de ocurrencia. Sin embargo, los resultados obtenidos para la cantidad son similares, siendo el ratio de varianzas mayor en el caso de modelos lineales generalizados."
   ]
  },
  {
   "cell_type": "markdown",
   "metadata": {},
   "source": [
    "## k nearest neighbors (k-NN) (1.5 puntos)\n",
    "\n",
    "La última de las técnicas a utilizar será vecinos cercanos (ten en cuenta que en este caso ya no tendremos que predecir por separado ocurrencia y cantidad). Comenzaremos por una versión de k-NN en la que sólo se considere el vecino más cercano (utiliza la función knn.reg del paquete FNN).\n",
    "\n",
    "Nota: Recuerda que en la técnica k-NN es muy importante pre-procesar adecuadamente (estandarizar) los predictores.\n",
    "\n",
    "Como vimos en su día, el único parámetro a ajustar en la técnica k-NN es k (número de vecinos). Utilizaremos el paquete caret para encontrar el k óptimo en nuestro problema. Para ello, considera una cross-validación con 10 folds sobre el dataset de train y barre todos los k impares desde 1 a 50.\n",
    "\n",
    "Utiliza este k óptimo para predecir en el test.\n",
    "\n",
    "Valida las dos predicciones (con k=1 y con k=óptimo) en el test, en función de las medidas que se han ido utilizando en los apartados anteriores.\n",
    "\n",
    "Pregunta: ¿Qué diferencias obtienes entre las dos versiones utilizadas de la técnica k-NN? ¿A qué se deben?"
   ]
  },
  {
   "cell_type": "code",
   "execution_count": 55,
   "metadata": {},
   "outputs": [
    {
     "name": "stderr",
     "output_type": "stream",
     "text": [
      "Loading required package: ggplot2\n",
      "\n",
      "\n",
      "Attaching package: 'ggplot2'\n",
      "\n",
      "\n",
      "The following object is masked from 'package:randomForest':\n",
      "\n",
      "    margin\n",
      "\n",
      "\n",
      "Loading required package: lattice\n",
      "\n"
     ]
    }
   ],
   "source": [
    "## Incluir el codigo y responder a la cuestion\n",
    "library(FNN)\n",
    "library(caret)\n",
    "params.scaling = preProcess(x.train, method = c(\"center\", \"scale\"))\n",
    "x.train.scaled = scale(x.train, \n",
    "                     center = params.scaling$mean, scale = params.scaling$std)\n",
    "x.test.scaled = scale(x.test, \n",
    "                    center = params.scaling$mean, scale = params.scaling$std)\n",
    "pred.basico = knn.reg(train = x.train.scaled, test = x.test.scaled, \n",
    "             y = y.train, k = 1)"
   ]
  },
  {
   "cell_type": "code",
   "execution_count": 56,
   "metadata": {},
   "outputs": [
    {
     "data": {
      "image/png": "[encoded data removed]",
      "text/plain": [
       "plot without title"
      ]
     },
     "metadata": {
      "image/png": {
       "height": 420,
       "width": 420
      }
     },
     "output_type": "display_data"
    }
   ],
   "source": [
    "#cross-validation\n",
    "set.seed(1)\n",
    "trctrl = trainControl(method = \"cv\", number = 10)\n",
    "knn.opt = train(precipitacion ~ ., df.prec, subset = ind.train,\n",
    "                method = \"knn\",\n",
    "                trControl = trctrl,\n",
    "                preProcess = c(\"center\", \"scale\"),\n",
    "                tuneGrid = expand.grid(k = seq(1, 50, 2)))\n",
    "plot(knn.opt)"
   ]
  },
  {
   "cell_type": "markdown",
   "metadata": {},
   "source": [
    "Se ha tomado como k óptimo el menor de la zona en que el rmse se estabiliza. En este caso, hemos considerado la zona estable a partir de k=19."
   ]
  },
  {
   "cell_type": "code",
   "execution_count": 74,
   "metadata": {},
   "outputs": [],
   "source": [
    "t.knn1 = Sys.time()\n",
    "pred.opt = knn.reg(train = x.train.scaled, test = x.test.scaled, \n",
    "             y = y.train, k = 19)\n",
    "t.knn2 = Sys.time()\n",
    "t.knn <- difftime(t.knn2, t.knn1, units = \"secs\")"
   ]
  },
  {
   "cell_type": "code",
   "execution_count": 58,
   "metadata": {},
   "outputs": [
    {
     "name": "stdout",
     "output_type": "stream",
     "text": [
      "[1] \"rmseBasico: 6.73318587297276\"\n",
      "[1] \"spearmanBasico: 0.536376849566577\"\n",
      "[1] \"ration.varBasico: 1.1797729622145\"\n",
      "[1] \"---\"\n",
      "[1] \"rmseOpt: 4.6887843429783\"\n",
      "[1] \"spearmanOpt: 0.620589118420968\"\n",
      "[1] \"ration.varOpt: 0.24471353347621\"\n"
     ]
    }
   ],
   "source": [
    "#validacion\n",
    "print(paste0(\"rmseBasico: \",rmse(y.test,pred.basico$pred)))\n",
    "print(paste0(\"spearmanBasico: \",cor(y.test,pred.basico$pred,method=\"spearman\")))\n",
    "print(paste0(\"ration.varBasico: \",var(pred.basico$pred)/var(y.test)))\n",
    "print('---')\n",
    "print(paste0(\"rmseOpt: \",rmse(y.test,pred.opt$pred)))\n",
    "print(paste0(\"spearmanOpt: \",cor(y.test,pred.opt$pred,method=\"spearman\")))\n",
    "print(paste0(\"ration.varOpt: \",var(pred.opt$pred)/var(y.test)))"
   ]
  },
  {
   "cell_type": "markdown",
   "metadata": {},
   "source": [
    "Se obtiene en términos del rmse un modelo más preciso con la configuración óptima que con k=1. Esto se debe a que un valor k=1 representa de manera muy simplificada el comportamiento alrededor del punto que se evalúa, haciendo que cuando haya algún caso irregular se le demasiada importancia. Esto, por otro lado, hace que las predicciones con este modelo tengan una varianza mayor, como se puede ver al comparar los cocientes de varianzas, de donde vemos que el knn con k=1 capta bien el ruido de la muestra. Por el contrario, el modelo con k=19 describe menos la varianza de las medidas de precipitación. Por último, respecto al coeficiente de correlación de Spearman, no se observan grandes diferencias entre uno y otro, aunque el modelo óptimo  demuestra una mayor relación entre la precipitación predicha y la medida."
   ]
  },
  {
   "cell_type": "markdown",
   "metadata": {},
   "source": [
    "## Conclusiones generales (2 puntos)\n",
    "\n",
    "A la vista de los resultados obtenidos, argumenta razonadamente qué técnica o técnicas serían las mejores para la predicción de lluvia en Lisboa. Justifica tu respuesta.\n",
    "\n",
    "* Para comparar, vamos a tomar de cada tipo de modelo, las métricas correspondientes a las predicciones completas en el test, y  el accuracy para la ocurrencia. Obtenemos lo siguiente:"
   ]
  },
  {
   "cell_type": "markdown",
   "metadata": {},
   "source": [
    "\n",
    "\n",
    "| Modelo | Métrica   | Valor |\n",
    "|--------|-----------|-------|\n",
    "| knn    | rmse      | 4.69  |\n",
    "| knn    | spearman  | 0.62  |\n",
    "| knn    | ration.var| 0.24  |\n",
    "| glm    | accuracy  | 0.69  |\n",
    "| glm    | rmse      | 5.06  |\n",
    "| glm    | spearman  | 0.61  |\n",
    "| glm    | ration.var| 0.73  |\n",
    "| rf     | accuracy  | 0.87  |\n",
    "| rf     | rmse      | 4.82  |\n",
    "| rf     | spearman  | 0.60  |\n",
    "| rf     | ratio.var | 0.38  |\n",
    "| tree   | accuracy  | 0.85  |\n",
    "| tree   | rmse      | 4.89  |\n",
    "| tree   | spearman  | 0.61  |\n",
    "| tree   | ration.var| 0.22  |"
   ]
  },
  {
   "cell_type": "markdown",
   "metadata": {},
   "source": [
    "* Vemos que el modelo lineal generalizado consigue un mayor valor del ratio de varianzas que el resto, aunque respecto al resto de métricas, el coeficiente de spearman es similar al de los otros modelos, mientras que el accuracy y el rmse son algo peores. Una varianza explicada por el modelo alta aporta información relevante, ya que nos puede interesar saber cómo de probable es que haya casos extremos, en este caso, de precipitación, o simplemente sobre qué valores se mueve la variable. Sin embargo, si lo que nos interesa es acercarnos en cada día al valor de precipitación real, las métricas relaccionadas con la correlación (spearman) y el error (accuracy y rsme) nos dan información más relevante sobre el comportamiento del modelo. Como vemos, un mayor ratio de varianzas no implica menores errores, que es lo que ha pasado en el caso de glm. Atendiendo entonces al rmse y al coeficiente de correlación de spearman, el resto de técnicas quedan bastante igualdas. De ellas, knn tiene unos valores un poco mejores. Si consideramos, además, los tiempos de entrenamiento de cada modelo mostrados en el diagrama de barras de abajo, entonces knn se presenta como la mejor opción, ya que alcanza predicciones igual de buenas que con los árboles, por un tiempo de computación bastante menor."
   ]
  },
  {
   "cell_type": "code",
   "execution_count": 81,
   "metadata": {},
   "outputs": [
    {
     "data": {
      "image/png": "[encoded data removed]",
      "text/plain": [
       "Plot with title \"\""
      ]
     },
     "metadata": {
      "image/png": {
       "height": 420,
       "width": 420
      }
     },
     "output_type": "display_data"
    }
   ],
   "source": [
    "\n",
    "barplot(as.vector(c(t.tree,t.rf,t.glm,t.knn)), names.arg = c('t.tree','t.rf','t.glm','t.knn'), col = \"skyblue\", main = \"\", ylab = \"Tiempo de ejecución (s)\")"
   ]
  },
  {
   "cell_type": "markdown",
   "metadata": {},
   "source": [
    "Comentarios Sixto\n",
    "\n",
    "T03-Predicción (1.50+2.10+0.85+1.35+1.50 = 7.30):\n",
    "Árboles de clasificación y regresión (2.5 puntos): De donde sale el 5 para el número de nodos terminales? Se justifica a posteriori. En el resto se usa un criterio similar, limitando mucho los árboles, si bien no se comenta. ¿Donde se construye la serie completa? Las medidas de evaluación no se aplican sobre la serie completa si no de forma independiente a las series predichas de cantidad y ocurrencia. Se comentan los resultados y se señala alguna posible justificación. Se refiere al ruido observacional si bien, dada la estructura de los árboles construidos, cómo puede darse una variabilidad comparable?\n",
    "Random forests (2.5 puntos): Se razona la selección del número de árboles. Se obtiene sólo la serie completa para una de las predicciones, sesgando la comparación. Se vuelvan a evaluar de forma independiente los errores, incluyendo la parte continua de la serie completa construida. Se comparan los resultados.\n",
    "Modelos lineales generalizados (GLMs) (1.5 puntos): Se impone un umbral diferente para la ocurrencia de precipitación. Se evalúa el accuracy de forma independiente. Se comentan los resultados pero no se alcanza ninguna conclusión. Los árboles y el random forest no requieren normalización, ocurer lo mismo en los GLMs?\n",
    "k nearest neighbors (k-NN) (1.5 puntos): No se evalúa el accuracy. Se describen los resultados.\n",
    "Conclusiones generales (2 puntos): Se resumen los resultados, reflejando las medidas faltantes que se han ido señalando, y se comentan los resultados. Del mismo modo, se extiende la discusión a los tiempos de cómputo requeridos por cada método."
   ]
  },
  {
   "cell_type": "code",
   "execution_count": null,
   "metadata": {},
   "outputs": [],
   "source": []
  }
 ],
 "metadata": {
  "kernelspec": {
   "display_name": "R",
   "language": "R",
   "name": "ir"
  },
  "language_info": {
   "codemirror_mode": "r",
   "file_extension": ".r",
   "mimetype": "text/x-r-source",
   "name": "R",
   "pygments_lexer": "r",
   "version": "4.3.2"
  },
  "toc": {
   "base_numbering": 1,
   "nav_menu": {},
   "number_sections": true,
   "sideBar": true,
   "skip_h1_title": true,
   "title_cell": "Table of Contents",
   "title_sidebar": "Contents",
   "toc_cell": true,
   "toc_position": {},
   "toc_section_display": true,
   "toc_window_display": false
  }
 },
 "nbformat": 4,
 "nbformat_minor": 4
}

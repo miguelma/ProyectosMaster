{
 "cells": [
  {
   "cell_type": "markdown",
   "metadata": {
    "toc": true
   },
   "source": [
    "<h1>Table of Contents<span class=\"tocSkip\"></span></h1>\n",
    "<div class=\"toc\"><ul class=\"toc-item\"><li><ul class=\"toc-item\"><li><span><a href=\"#[Profesores:-Steven-Van-Vaerenbergh,-Rodrigo-G.-Manzanas,-Joaquín-Bedia-y-Sixto-Herrera]\" data-toc-modified-id=\"[Profesores:-Steven-Van-Vaerenbergh,-Rodrigo-G.-Manzanas,-Joaquín-Bedia-y-Sixto-Herrera]-0.1\"><span class=\"toc-item-num\">0.1&nbsp;&nbsp;</span>[Profesores: Steven Van Vaerenbergh, Rodrigo G. Manzanas, Joaquín Bedia y Sixto Herrera]</a></span></li></ul></li><li><span><a href=\"#Introducción:-Reducción-de-la-Dimensión\" data-toc-modified-id=\"Introducción:-Reducción-de-la-Dimensión-1\"><span class=\"toc-item-num\">1&nbsp;&nbsp;</span>Introducción: Reducción de la Dimensión</a></span><ul class=\"toc-item\"><li><span><a href=\"#PCAs-(función-prcomp)\" data-toc-modified-id=\"PCAs-(función-prcomp)-1.1\"><span class=\"toc-item-num\">1.1&nbsp;&nbsp;</span>PCAs (función <a href=\"https://www.rdocumentation.org/packages/stats/versions/3.6.2/topics/prcomp\" target=\"_blank\">prcomp</a>)</a></span></li></ul></li><li><span><a href=\"#Tarea-2.-Problemas-de-Clasificación---Reducción-de-la-Dimensión\" data-toc-modified-id=\"Tarea-2.-Problemas-de-Clasificación---Reducción-de-la-Dimensión-2\"><span class=\"toc-item-num\">2&nbsp;&nbsp;</span>Tarea 2. Problemas de Clasificación - Reducción de la Dimensión</a></span><ul class=\"toc-item\"><li><span><a href=\"#Punto-1-(3-puntos):\" data-toc-modified-id=\"Punto-1-(3-puntos):-2.1\"><span class=\"toc-item-num\">2.1&nbsp;&nbsp;</span>Punto 1 (3 puntos):</a></span></li><li><span><a href=\"#Punto-2-(3-puntos):\" data-toc-modified-id=\"Punto-2-(3-puntos):-2.2\"><span class=\"toc-item-num\">2.2&nbsp;&nbsp;</span>Punto 2 (3 puntos):</a></span></li><li><span><a href=\"#Punto-3-(2-puntos):\" data-toc-modified-id=\"Punto-3-(2-puntos):-2.3\"><span class=\"toc-item-num\">2.3&nbsp;&nbsp;</span>Punto 3 (2 puntos):</a></span></li><li><span><a href=\"#Punto-4-(2-puntos):\" data-toc-modified-id=\"Punto-4-(2-puntos):-2.4\"><span class=\"toc-item-num\">2.4&nbsp;&nbsp;</span>Punto 4 (2 puntos):</a></span></li></ul></li></ul></div>"
   ]
  },
  {
   "cell_type": "markdown",
   "metadata": {
    "button": false,
    "new_sheet": false,
    "run_control": {
     "read_only": false
    }
   },
   "source": [
    "# Minería de Datos (Master en Data Science, UIMP-UC) \n",
    "### [Profesores: Steven Van Vaerenbergh, Rodrigo G. Manzanas, Joaquín Bedia y Sixto Herrera]\n",
    "\n",
    "\n",
    "## Introducción: Reducción de la Dimensión\n",
    "\n",
    "En la presente tarea trabajaremos con datos de variables climáticas los cuales por lo general presentan una alta auto-correlación espacial, rangos muy diferenciados y correlación entre variables, entre otros \"problemas\" citados a lo largo del curso.\n",
    "\n",
    "Como habéis visto en las sesiones de Reducción de la Dimensión con Técnicas No Lineales, estos métodos suelen ser un pre-proceso habitualmente aplicado para resolver dichos problemas. Es por ello que en parte de la presente tarea exploraremos dichas técnicas, sea en su versión lineal (PCAs) o no lineal (KPCAs). Para ello, en esta subsección introduciremos brevemente las funciones en R que aplican ambos métodos.\n",
    "\n",
    "### PCAs (función [prcomp](https://www.rdocumentation.org/packages/stats/versions/3.6.2/topics/prcomp))\n",
    "\n",
    "El análisis de componentes principales (PCAs) está implementado en R a través de la función `prcomp` (`?prcomp`). Veamos como hacer uso de dicha función:"
   ]
  },
  {
   "cell_type": "code",
   "execution_count": 1,
   "metadata": {},
   "outputs": [
    {
     "name": "stderr",
     "output_type": "stream",
     "text": [
      "Loading required package: ggplot2\n",
      "\n",
      "Loading required package: lattice\n",
      "\n"
     ]
    }
   ],
   "source": [
    "library(\"caret\")\n",
    "library(\"FNN\")"
   ]
  },
  {
   "cell_type": "code",
   "execution_count": 1,
   "metadata": {
    "button": false,
    "new_sheet": false,
    "run_control": {
     "read_only": false
    }
   },
   "outputs": [
    {
     "name": "stderr",
     "output_type": "stream",
     "text": [
      "Parsed with column specification:\n",
      "cols(\n",
      "  .default = col_double()\n",
      ")\n",
      "\n",
      "See spec(...) for full column specifications.\n",
      "\n"
     ]
    },
    {
     "name": "stdout",
     "output_type": "stream",
     "text": [
      "List of 5\n",
      " $ sdev    : num [1:784] 592 515 460 439 406 ...\n",
      " $ rotation: num [1:784, 1:784] -2.11e-18 8.88e-16 -3.33e-16 0.00 1.11e-16 ...\n",
      "  ..- attr(*, \"dimnames\")=List of 2\n",
      "  .. ..$ : chr [1:784] \"pixel0\" \"pixel1\" \"pixel2\" \"pixel3\" ...\n",
      "  .. ..$ : chr [1:784] \"PC1\" \"PC2\" \"PC3\" \"PC4\" ...\n",
      " $ center  : Named num [1:784] 0 0 0 0 0 0 0 0 0 0 ...\n",
      "  ..- attr(*, \"names\")= chr [1:784] \"pixel0\" \"pixel1\" \"pixel2\" \"pixel3\" ...\n",
      " $ scale   : logi FALSE\n",
      " $ x       : num [1:1000, 1:784] -629 1736 -841 -178 1960 ...\n",
      "  ..- attr(*, \"dimnames\")=List of 2\n",
      "  .. ..$ : NULL\n",
      "  .. ..$ : chr [1:784] \"PC1\" \"PC2\" \"PC3\" \"PC4\" ...\n",
      " - attr(*, \"class\")= chr \"prcomp\"\n"
     ]
    }
   ],
   "source": [
    "library(\"readr\")\n",
    "mnist_data <- read_csv(\"./train.csv\")\n",
    "nrows <- 1000 # set number of rows to include. Max = 42000\n",
    "PCA1 <- prcomp(mnist_data[1:nrows,(2:ncol(mnist_data))], center = TRUE, scale. = FALSE) # PCA with R\n",
    "str(PCA1)"
   ]
  },
  {
   "cell_type": "markdown",
   "metadata": {
    "button": false,
    "new_sheet": false,
    "run_control": {
     "read_only": false
    }
   },
   "source": [
    "Como vemos la función devuelve un `data.frame` con los siguientes elementos:\n",
    "\n",
    " * `sdev`: Se corresponde con la desviación estándar asociada a cada componente principal.\n",
    " * `rotation`: Es la matriz de cambio de base, desde el espacio original al espacio de las CPs.\n",
    " * `center`: Es el vector de medias de las variables originales.\n",
    " * `scale`: Es el vector de desviaciones estándar de las variables originales. Junto con `center` son los elementos aplicados para normalizar las variables orginales.\n",
    " * `x`: Es la matriz con las coordenadas de los diferentes elementos de la muestra en el espacio de las CPs. En un modelo que utilice CPs serán, por tanto, las nuevas variables de entrada.\n",
    "\n",
    "Una vez hemos obtenido las PCs y entrenado un modelo, para aplicar éste a nuevos datos (test) deberemos reproyectar los nuevos datos al espacio de las PCs con la función `predict`:"
   ]
  },
  {
   "cell_type": "code",
   "execution_count": 2,
   "metadata": {
    "button": false,
    "new_sheet": false,
    "run_control": {
     "read_only": false
    }
   },
   "outputs": [],
   "source": [
    "PCAtest <- predict(PCA1, newdata = mnist_data[1001:2000,(2:ncol(mnist_data))])"
   ]
  },
  {
   "cell_type": "markdown",
   "metadata": {
    "button": false,
    "new_sheet": false,
    "run_control": {
     "read_only": false
    }
   },
   "source": [
    "En el recurso `07 Reducción de la dimensión` incluido en el Moodle de la asignatura tienes toda la información detallada a este respecto.\n",
    "\n",
    "\n",
    "## Tarea 2. Problemas de Clasificación - Reducción de la Dimensión\n",
    "\n",
    "En la presente tarea consideraremos el dataset `meteo.csv`, que podéis descargaros en el GitHub dedicado a este Máster ([meteo.csv](https://github.com/SantanderMetGroup/Master-Data-Science/blob/master/Data_mining/datasets/meteo.csv.)) y que ha sido utilizado en diferentes sesiones prácticas. Dicho dataset contiene en la primera columna el valor de precipitación observado en Lisboa en el periodo 1979-2008 mientras que en las restantes contiene los valores observados de diferentes variables atmosféricas en 40 puntos que cubren aproximadamente la Península Ibérica. Dichas variables serán los `predictores` del modelo mientras que la precipitación será nuestra variable objetivo. En particular los predictores son:\n",
    "\n",
    "* Altura geopotencial en 500 hPa (columnas 2:41),\n",
    "* Temperatura del aire en 850 hPa (columnas 42:81), 700 hPa (columnas 82:121) y 500 hPa (columnas 122:161), \n",
    "* Temperatura del aire en superficie (columnas 162:201),\n",
    "* Humedad específica del aire en 850 hPa (columnas 202:241) y 500 hPa (columnas 242:281) y \n",
    "* Presión al nivel del mar (columnas 282:321)\n",
    "\n",
    "Para establecer el problema de clasificación consideraremos dos umbrales de discretización, 1 mm y 20 mm, que definen la ocurrencia de precipitación (Wet days) y de precipitaciones intensas (Very heavy precipitation days), respectivamente. Puedes consultar más detalles de la definición en la web de [ECA&D](https://www.ecad.eu//indicesextremes/indicesdictionary.php).\n",
    "\n",
    "Para el desarrollo de la tarea se permitirá el uso de todo el material incluido en el Moodle de las asignatura así como el desarrollado por el alumno durante la realización de las prácticas.\n",
    "\n",
    "La entrega consisitirá de un notebook de Jupyter ó un R-MarkDown, junto con el archivo html que éste genera. Ambos ficheros se entregarán a través del Moodle de la asignatura en la tarea correspondiente.\n",
    "\n",
    "### Punto 1 (3 puntos):\n",
    "\n",
    "Considerad la serie de precipitación discretizada a partir del valor 1 mm, que es el estándar definido para establecer los días en que ha llovido. El objetivo de este apartado es predecir la ocurrencia de precipitación en Lisboa a partir de los predictores originales. Para ello consideraremos el método `KNN`. Dividir la muestra en dos subconjuntos, el primero (20 primeros años) lo utilizaremos para calibrar el modelo y obtener su configuración óptima, mientras que el segundo (10 últimos años) lo utilizaremos como test independiente de cara a comparar diferentes métodos.\n",
    "\n",
    "* Obtened el valor óptimo de `K` en cada rastreando valores entre 1 y 15, ¿cambia el valor óptimo si normalizamos las variables originales (`? scale`)? En base a los resultados obtenidos, ¿considerarías las variables originales o normalizadas? En base al coste computacional del entrenamiento ¿consideras cierto que el método `KNN` se ve muy afectado por la dimensionalidad del espacio de trabajo?\n",
    "* Para la configuración óptima calibrada con el conjunto de entrenamiento realizad la predicción sobre el conjunto de test y estimad los errores cometidos sobre este conjunto.\n",
    "\n",
    "`Nota 1:` en principio es posible trabajar con el dataset completo sin seleccionar un subconjunto pero si surge algún problema de memoria podéis considerar únicamente los primeros 10 años (~3650 filas).\n",
    "\n",
    "`Nota 2:` usad las herramientas gráficas vistas durante la práctica para ilustrar los resultados y las conclusiones obtenidas."
   ]
  },
  {
   "cell_type": "markdown",
   "metadata": {},
   "source": [
    "#### "
   ]
  },
  {
   "cell_type": "code",
   "execution_count": 2,
   "metadata": {},
   "outputs": [],
   "source": [
    "# cargar datos\n",
    "data = read.csv(\"meteo.csv\")\n",
    "df = data[, -1]; rm(data)\n",
    "colnames(df)[1] = \"precip\""
   ]
  },
  {
   "cell_type": "code",
   "execution_count": 3,
   "metadata": {},
   "outputs": [],
   "source": [
    "df$precip = ifelse(df$precip < 0.1, 0, 1)\n",
    "df$precip = as.factor(df$precip)"
   ]
  },
  {
   "cell_type": "code",
   "execution_count": 4,
   "metadata": {},
   "outputs": [],
   "source": [
    "y = df[, 1]  \n",
    "x = df[, -1]  "
   ]
  },
  {
   "cell_type": "code",
   "execution_count": 5,
   "metadata": {},
   "outputs": [],
   "source": [
    "#particion train/test\n",
    "n = nrow(df)\n",
    "indtrain = 1:7300\n",
    "indtest = setdiff(1:n, indtrain)\n",
    "\n",
    "df.train = df[indtrain, ]\n",
    "x.train = x[indtrain, ]\n",
    "y.train = y[indtrain]\n",
    "\n",
    "df.test = df[indtest, ]\n",
    "x.test = x[indtest, ]\n",
    "y.test = y[indtest]"
   ]
  },
  {
   "cell_type": "code",
   "execution_count": null,
   "metadata": {},
   "outputs": [],
   "source": [
    "p#valor óptimo de k validando con caret y una cross validpación k-fold\n",
    "#sin normalizar\n",
    "set.seed(1)\n",
    "library(caret)\n",
    "trctrl = trainControl(method = \"cv\", number = 2)\n",
    "t1 = Sys.time()\n",
    "knn.fit = train(precip ~ ., df.train,\n",
    "                method = \"knn\",\n",
    "                trControl = trctrl,\n",
    "                tuneGrid = expand.grid(k = 1:15))\n",
    "t2 = Sys.time()\n",
    "print(paste0(\"tiempo de evaluación:\",t2-t1))\n",
    "plot(knn.fit)\n",
    "knn.fit$bestTune"
   ]
  },
  {
   "cell_type": "code",
   "execution_count": 12,
   "metadata": {},
   "outputs": [
    {
     "data": {
      "text/html": [
       "<table class=\"dataframe\">\n",
       "<caption>A data.frame: 1 × 1</caption>\n",
       "<thead>\n",
       "\t<tr><th></th><th scope=col>k</th></tr>\n",
       "\t<tr><th></th><th scope=col>&lt;int&gt;</th></tr>\n",
       "</thead>\n",
       "<tbody>\n",
       "\t<tr><th scope=row>15</th><td>15</td></tr>\n",
       "</tbody>\n",
       "</table>\n"
      ],
      "text/latex": [
       "A data.frame: 1 × 1\n",
       "\\begin{tabular}{r|l}\n",
       "  & k\\\\\n",
       "  & <int>\\\\\n",
       "\\hline\n",
       "\t15 & 15\\\\\n",
       "\\end{tabular}\n"
      ],
      "text/markdown": [
       "\n",
       "A data.frame: 1 × 1\n",
       "\n",
       "| <!--/--> | k &lt;int&gt; |\n",
       "|---|---|\n",
       "| 15 | 15 |\n",
       "\n"
      ],
      "text/plain": [
       "   k \n",
       "15 15"
      ]
     },
     "metadata": {},
     "output_type": "display_data"
    },
    {
     "data": {
      "image/png": "[encoded data removed]",
      "text/plain": [
       "plot without title"
      ]
     },
     "metadata": {
      "image/png": {
       "height": 420,
       "width": 420
      }
     },
     "output_type": "display_data"
    }
   ],
   "source": [
    "#variables normalizadas\n",
    "knn.fit2 = train(precip ~ ., df.train,\n",
    "                method = \"knn\",\n",
    "                trControl = trctrl,\n",
    "                preProcess = c(\"center\", \"scale\"),\n",
    "                tuneGrid = expand.grid(k = 1:15))\n",
    "\n",
    "plot(knn.fit2)\n",
    "knn.fit2$bestTune"
   ]
  },
  {
   "cell_type": "markdown",
   "metadata": {},
   "source": [
    "Vemos que el valor óptimo para el modelo normalizado es mayor que para el no normalizado, y que el punto en que el accuracy se estabiliza es mayor para el modelo normalizado, a partir de k=11, que para el no normalizado, en torno a k = 7. Por otro lado, comparamos ambos modelos. Para ello, representamos el RMSE en función de k para cada caso:"
   ]
  },
  {
   "cell_type": "code",
   "execution_count": 15,
   "metadata": {},
   "outputs": [
    {
     "data": {
      "image/png": "[encoded data removed]",
      "text/plain": [
       "plot without title"
      ]
     },
     "metadata": {
      "image/png": {
       "height": 420,
       "width": 420
      }
     },
     "output_type": "display_data"
    }
   ],
   "source": [
    "matplot(1:15, cbind(knn.fit$results$Accuracy, knn.fit2$results$Accuracy),\n",
    "        type = \"o\", pch = 19, cex = 0.5, xlab = \"k\", ylab = \"Accuracy\")\n",
    "legend(\"topright\", c(\"Without scaling\", \"With scaling\"), \n",
    "       col = c(\"black\", \"red\"), lty = 1); grid()"
   ]
  },
  {
   "cell_type": "markdown",
   "metadata": {},
   "source": [
    "Vemos que la normalización aumenta en general el accuracy, mejorando la capacidad predictiva del modelo. "
   ]
  },
  {
   "cell_type": "markdown",
   "metadata": {},
   "source": [
    "#### \n",
    "\n",
    "Por último, predecimos la precipitación con el modelo óptimo (k=15 y normalizado) para un conjunto de datos independiente y calculamos varias métricas de validación."
   ]
  },
  {
   "cell_type": "code",
   "execution_count": 6,
   "metadata": {},
   "outputs": [],
   "source": [
    "## validation\n",
    "# RMSE\n",
    "rmse <- function(x, y) {\n",
    "    stopifnot(length(x) == length(y))\n",
    "    sqrt(mean((x - y)^2))\n",
    "}\n",
    "## accuracy binary\n",
    "acc.class = function(x, y) {\n",
    "  stopifnot(length(x) == length(y))\n",
    "  return(sum(diag(table(x, y))) / length(x))\n",
    "}\n"
   ]
  },
  {
   "cell_type": "code",
   "execution_count": 42,
   "metadata": {},
   "outputs": [],
   "source": [
    "\n",
    "#predicción\n",
    "params.scaling = preProcess(x.train, method = c(\"center\", \"scale\"))\n",
    "\n",
    "x.test.scaled = scale(x.test, \n",
    "                    center = params.scaling$mean, scale = params.scaling$std)\n",
    "\n",
    "knn.fit.scale = train(precip ~ ., df.train,\n",
    "                method = \"knn\",\n",
    "                trControl = trctrl,\n",
    "                preProcess = c(\"center\", \"scale\"),\n",
    "                tuneGrid = expand.grid(k=15))\n",
    "\n",
    "pred.with.scaling = predict(knn.fit.scale, x.test.scaled)"
   ]
  },
  {
   "cell_type": "code",
   "execution_count": 53,
   "metadata": {},
   "outputs": [
    {
     "name": "stdout",
     "output_type": "stream",
     "text": [
      "[1] \"RMSE: 0.64546193104524\"\n",
      "[1] \"Coeficiente de correlación de Spearman: 0.153069854430494\"\n",
      "[1] \"Accuracy: 0.58337889557135\"\n",
      "[1] \"Cociente de varianzas: 1.26633707608789\"\n"
     ]
    }
   ],
   "source": [
    "#validación\n",
    "pred.with.scaling2 = as.numeric(pred.with.scaling)\n",
    "y.test.num = as.numeric(y.test)\n",
    "rmse.val = rmse(y.test.num, pred.with.scaling2)\n",
    "r = cor(y.test.num, pred.with.scaling2, method = \"spearman\")\n",
    "bin= acc.class(y.test.num, pred.with.scaling2 )\n",
    "rv = var(pred.with.scaling2) / var(y.test.num)\n",
    "\n",
    "print(paste0(\"RMSE: \",rmse.val))\n",
    "print(paste0(\"Coeficiente de correlación de Spearman: \",r))\n",
    "print(paste0(\"Accuracy: \",bin))\n",
    "print(paste0(\"Cociente de varianzas: \",rv))"
   ]
  },
  {
   "cell_type": "markdown",
   "metadata": {},
   "source": [
    "\n",
    "El coeficiente de correlación muestra una relación pequeña entre la precipitación predicha y medida. Por otro lado, el accuracy se ha reducido bastante respecto a la cross-validación hecha con el conjunto de train. Esto puede deberse a que estamos probando el modelo en un conjunto de test, por lo que el error tiende a aumentar. Además, la eficacia de KNN se reduce en dimensiones altas (Curse of Dimensionality)."
   ]
  },
  {
   "cell_type": "markdown",
   "metadata": {
    "button": false,
    "new_sheet": false,
    "run_control": {
     "read_only": false
    }
   },
   "source": [
    "### Punto 2 (3 puntos):\n",
    "\n",
    "Dados los posibles problemas asociados a la dimensionalidad del espacio de trabajo, en adelante consideraremos como predictores las Componentes Principales en lugar de las variables originales. Para ello, obtén las CPs a partir de los predictores originales del dataset `meteo.csv`. Recuerda la necesidad (o no) de estandarizar las variables para la obtención de las CPs (`Nota:` consultar la ayuda de la función scale -> `? scale`).\n",
    "\n",
    "A continuación, volveremos a considerar la serie de precipitación discretizada a partir del valor 1 mm y predecir la ocurrencia de precipitación en Lisboa a partir de los predictores antes definidos a partir de las CPs. Para ello consideraremos, por un lado, las componentes principales obtenidas estandarizando los datos originales y, por otro lado, el método `KNN`. Dividir la muestra en dos subconjuntos, el primero (20 primeros años) lo utilizaremos para calibrar el modelo y obtener su configuración óptima, mientras que el segundo (10 últimos años) lo utilizaremos como test independiente de cara a comparar diferentes métodos.\n",
    "\n",
    "* Considerad diferentes umbrales de varianza explicada y el número de PCs asociado (p.e. 40%, 60%, 80% y 90%) y obtened el valor óptimo de `K` en cada caso rastreando valores entre 1 y 15, ¿cómo cambia el valor óptimo? En base a los resultados obtenidos, ¿cuantas PCs considerarías para entrenar el modelo? (`Nota:` ver práctica de `KNN`)\n",
    "* Para la configuración óptima calibrada con el conjunto de entrenamiento realizad la predicción sobre el conjunto de test y estimad los errores cometidos sobre este conjunto.\n"
   ]
  },
  {
   "cell_type": "markdown",
   "metadata": {},
   "source": [
    "#### "
   ]
  },
  {
   "cell_type": "code",
   "execution_count": 7,
   "metadata": {},
   "outputs": [],
   "source": [
    "PCA.train <- prcomp(x.train, center = TRUE, scale. = TRUE)"
   ]
  },
  {
   "cell_type": "code",
   "execution_count": 8,
   "metadata": {},
   "outputs": [],
   "source": [
    "\n",
    "#seleccionamos subconjuntos de componentes principales de los datos para varios umbrales de varianza explicada\n",
    "cum.var <- cumsum((PCA.train$sdev))/sum((PCA.train$sdev))\n",
    "umbral.var <- c(0.4,0.6,0.8,0.9)\n",
    "n <- length(umbral.var)\n",
    "umbral.pc <- rep(NA,n)\n",
    "\n",
    "for (i in 1:n){\n",
    "    umbral.pc[i] = which(cum.var > umbral.var[i])[1]\n",
    "}"
   ]
  },
  {
   "cell_type": "code",
   "execution_count": 14,
   "metadata": {},
   "outputs": [
    {
     "data": {
      "text/html": [
       "<style>\n",
       ".list-inline {list-style: none; margin:0; padding: 0}\n",
       ".list-inline>li {display: inline-block}\n",
       ".list-inline>li:not(:last-child)::after {content: \"\\00b7\"; padding: 0 .5ex}\n",
       "</style>\n",
       "<ol class=list-inline><li>1</li><li>2</li><li>4</li><li>10</li></ol>\n"
      ],
      "text/latex": [
       "\\begin{enumerate*}\n",
       "\\item 1\n",
       "\\item 2\n",
       "\\item 4\n",
       "\\item 10\n",
       "\\end{enumerate*}\n"
      ],
      "text/markdown": [
       "1. 1\n",
       "2. 2\n",
       "3. 4\n",
       "4. 10\n",
       "\n",
       "\n"
      ],
      "text/plain": [
       "[1]  1  2  4 10"
      ]
     },
     "metadata": {},
     "output_type": "display_data"
    }
   ],
   "source": [
    "umbral.pc"
   ]
  },
  {
   "cell_type": "code",
   "execution_count": 9,
   "metadata": {},
   "outputs": [],
   "source": [
    "set.seed(1)\n",
    "trctrl = trainControl(method = \"cv\", number = 2)\n",
    "\n",
    "df.pc <- data.frame(y.train,PCA.train$x[,1:umbral.pc[1]])  \n",
    "df.pc$y.train <- as.factor(df.pc$y.train)\n",
    "colnames(df.pc)[1] = \"precip\"\n",
    "\n",
    "#medidas de interes\n",
    "k.opt <- rep(NA,n) #k optimo para un subgrupo de pc dado\n",
    "acc.at.k.opt <- rep(NA,n) #accuracy en ese k optimo\n",
    "t.eval <- rep(NA,n) #tiempo de ejecución de knn por grupo de pc\n",
    "M.acc <- matrix(rep(NA, 15*n),c(n,15)) #accuracy en cada k y subrupo de pc\n",
    "\n",
    "for (i in 1:n){\n",
    "    \n",
    "    if (i > 1){\n",
    "        df.pc <- data.frame(df.pc,PCA.train$x[,(umbral.pc[i-1]+1):umbral.pc[i]])\n",
    "    }  \n",
    "    \n",
    "    t1 = Sys.time()\n",
    "    knn.fit3 = train(precip ~ ., df.pc ,\n",
    "                    method = \"knn\",\n",
    "                    trControl = trctrl,\n",
    "                    tuneGrid = expand.grid(k = 1:15))\n",
    "    t2 = Sys.time()\n",
    "\n",
    "   \n",
    "    k.opt[i] <- knn.fit3$bestTune[1,1]\n",
    "    acc.at.k.opt[i] <- knn.fit3$results$Accuracy[knn.fit3$bestTune[1,1]]\n",
    "    M.acc[i,] <- knn.fit3$results$Accuracy\n",
    "    t.eval[i] <- difftime(t2, t1, units = \"secs\")\n",
    "}"
   ]
  },
  {
   "cell_type": "code",
   "execution_count": 10,
   "metadata": {},
   "outputs": [
    {
     "data": {
      "image/png": "[encoded data removed]",
      "text/plain": [
       "Plot with title \"\""
      ]
     },
     "metadata": {
      "image/png": {
       "height": 420,
       "width": 420
      }
     },
     "output_type": "display_data"
    }
   ],
   "source": [
    "#efecto del porcentaje de varianza explicada en el k óptimo\n",
    "plot(100*cum.var[umbral.pc],k.opt, pch = 16, col = \"purple\",\n",
    "     xlab = \"varianza explicada (%)\", ylab = \"k óptimo\", main = \"\")\n",
    "\n",
    "lines(100*cum.var[umbral.pc],k.opt, type = \"l\", col = \"purple\", lwd = 2)"
   ]
  },
  {
   "cell_type": "markdown",
   "metadata": {},
   "source": [
    "Vemos que aumenta el k óptimo cuando se aumenta la varianza explicada en valores menores y a medida que aumenta la varianza asociada a las componentes principales, la configuración óptima se estabiliza en k=15."
   ]
  },
  {
   "cell_type": "code",
   "execution_count": 11,
   "metadata": {},
   "outputs": [
    {
     "data": {
      "image/png": "[encoded data removed]",
      "text/plain": [
       "Plot with title \"\""
      ]
     },
     "metadata": {
      "image/png": {
       "height": 420,
       "width": 420
      }
     },
     "output_type": "display_data"
    }
   ],
   "source": [
    "#número óptimo de componentes principales\n",
    "plot(umbral.pc,acc.at.k.opt, pch = 16, col = \"purple\",\n",
    "     xlab = \"Número de PC's\", ylab = \"Accuracy para k óptimo\", main = \"\")\n",
    "\n",
    "lines(umbral.pc,acc.at.k.opt, type = \"l\", col = \"purple\", lwd = 2)"
   ]
  },
  {
   "cell_type": "markdown",
   "metadata": {},
   "source": [
    "Vemos que el accuracy obtenido en la cross-validación alcanza el máximo en el tercer grupo de PC's. De todas formas, la diferencia medida en accuracy entre el máximo y el mínimo número de PC's no llega al 1%, con lo que 9 componentes principales puede ser una buena opción, teniendo en cuenta que el tiempo de computación es bastante menor:"
   ]
  },
  {
   "cell_type": "code",
   "execution_count": 12,
   "metadata": {},
   "outputs": [
    {
     "data": {
      "image/png": "[encoded data removed]",
      "text/plain": [
       "Plot with title \"\""
      ]
     },
     "metadata": {
      "image/png": {
       "height": 420,
       "width": 420
      }
     },
     "output_type": "display_data"
    }
   ],
   "source": [
    "#tiempo de computación \n",
    "plot(umbral.pc,t.eval, pch = 16, col = \"purple\",\n",
    "     xlab = \"Número de PC's\", ylab = \"Tiempo de ejecución\", main = \"\")\n",
    "\n",
    "lines(umbral.pc,t.eval, type = \"l\", col = \"purple\", lwd = 2)"
   ]
  },
  {
   "cell_type": "markdown",
   "metadata": {},
   "source": [
    "#### "
   ]
  },
  {
   "cell_type": "code",
   "execution_count": 9,
   "metadata": {},
   "outputs": [],
   "source": [
    "#scaling\n",
    "params.scaling = preProcess(x.test, method = c(\"center\", \"scale\"))\n",
    "x.test.scaled = scale(x.test, \n",
    "                     center = params.scaling$mean, scale = params.scaling$std)\n",
    "PCA.test = x.test.scaled %*% PCA.train$rotation"
   ]
  },
  {
   "cell_type": "code",
   "execution_count": 14,
   "metadata": {},
   "outputs": [],
   "source": [
    "##k=13 y 9 PC's\n",
    "df.pc <- data.frame(y.train,PCA.train$x[,1:umbral.pc[1]])  \n",
    "df.pc$y.train <- as.factor(df.pc$y.train)\n",
    "colnames(df.pc)[1] = \"precip\"\n",
    "\n",
    "knn.fit4 = train(precip ~ ., df.pc ,\n",
    "                    method = \"knn\",\n",
    "                    trControl = trctrl,\n",
    "                    tuneGrid = expand.grid(k = 13))\n"
   ]
  },
  {
   "cell_type": "code",
   "execution_count": 15,
   "metadata": {},
   "outputs": [],
   "source": [
    "pred.test = predict(knn.fit4, PCA.test[,1:umbral.pc[1]])"
   ]
  },
  {
   "cell_type": "code",
   "execution_count": 16,
   "metadata": {},
   "outputs": [
    {
     "name": "stdout",
     "output_type": "stream",
     "text": [
      "[1] \"RMSE: 0.397848230951847\"\n",
      "[1] \"Coeficiente de correlación de Spearman: 0.583606752579477\"\n",
      "[1] \"Accuracy: 0.841716785128485\"\n",
      "[1] \"Cociente de varianzas: 0.919509036803225\"\n"
     ]
    }
   ],
   "source": [
    "#validación\n",
    "y.test.num = as.numeric(y.test)\n",
    "pred.test.num = as.numeric(pred.test)\n",
    "rmse.val = rmse(y.test.num, pred.test.num)\n",
    "r = cor(y.test.num, pred.test.num, method = \"spearman\")\n",
    "bin= acc.class(y.test.num, pred.test.num )\n",
    "rv = var(pred.test.num) / var(y.test.num)\n",
    "\n",
    "print(paste0(\"RMSE: \",rmse.val))\n",
    "print(paste0(\"Coeficiente de correlación de Spearman: \",r))\n",
    "print(paste0(\"Accuracy: \",bin))\n",
    "print(paste0(\"Cociente de varianzas: \",rv))"
   ]
  },
  {
   "cell_type": "markdown",
   "metadata": {},
   "source": [
    "Se obtiene un accuracy similar al accuracy en cross-validación. En comparación al primer punto, se han mejorado los resultados gracias a la reducción de la dimensión."
   ]
  },
  {
   "cell_type": "markdown",
   "metadata": {},
   "source": [
    "### Punto 3 (2 puntos):\n",
    "\n",
    "Repetid el experimento anterior considerando la precipitación discretizada a partir del valor 20 mm, que es el estándar definido para establecer los días en que ha llovido de forma intensa.\n",
    "\n",
    "* ¿Cómo cambian los valores óptimos de `K` y de número de PCs? \n",
    "* ¿Cómo cambian los errores sobre el conjunto de test en este caso?\n",
    "* En caso de existir diferentes significativas en ambos casos, ¿a qué crees que puede ser debido? ¿La frecuencia en la muestra del evento a predecir puede influir en la calidad de la predicción?\n",
    "\n"
   ]
  },
  {
   "cell_type": "code",
   "execution_count": 10,
   "metadata": {},
   "outputs": [],
   "source": [
    "data = read.csv(\"meteo.csv\")\n",
    "precip20 =  ifelse(data[,2] < 20, 0, 1)\n",
    "precip20 = as.factor(precip20)\n",
    "df = data.frame(pr20 = precip20,df)\n",
    "rm(data)"
   ]
  },
  {
   "cell_type": "code",
   "execution_count": 11,
   "metadata": {},
   "outputs": [],
   "source": [
    "y20 = df[, 1]  "
   ]
  },
  {
   "cell_type": "code",
   "execution_count": 12,
   "metadata": {},
   "outputs": [],
   "source": [
    "#particion train/test\n",
    "\n",
    "df.train = df[indtrain, ]\n",
    "y20.train = y20[indtrain]\n",
    "df.test = df[indtest, ]\n",
    "y20.test = y20[indtest]"
   ]
  },
  {
   "cell_type": "code",
   "execution_count": 13,
   "metadata": {},
   "outputs": [],
   "source": [
    "trctrl = trainControl(method = \"cv\", number = 2)\n",
    "\n",
    "df.pc <- data.frame(y20.train,PCA.train$x[,1:umbral.pc[1]])  \n",
    "colnames(df.pc)[1] = \"pr20\""
   ]
  },
  {
   "cell_type": "code",
   "execution_count": 20,
   "metadata": {},
   "outputs": [],
   "source": [
    "set.seed(1)\n",
    "\n",
    "\n",
    "#medidas de interes\n",
    "k.opt20 <- rep(NA,n) #k optimo para un subgrupo de pc dado\n",
    "acc.at.k.opt20 <- rep(NA,n) #accuracy en ese k optimo\n",
    "t.eval20 <- rep(NA,n) #tiempo de ejecución de knn por grupo de pc\n",
    "M.acc20 <- matrix(rep(NA, 15*n),c(n,15)) #accuracy en cada k y subrupo de pc\n",
    "\n",
    "for (i in 1:n){\n",
    "    \n",
    "    if (i > 1){\n",
    "        df.pc <- data.frame(df.pc,PCA.train$x[,(umbral.pc[i-1]+1):umbral.pc[i]])\n",
    "    }  \n",
    "    \n",
    "    t1 = Sys.time()\n",
    "    knn.fit3 = train(pr20 ~ ., df.pc ,\n",
    "                    method = \"knn\",\n",
    "                    trControl = trctrl,\n",
    "                    tuneGrid = expand.grid(k = 1:15))\n",
    "    t2 = Sys.time()\n",
    "\n",
    "   \n",
    "    k.opt20[i] <- knn.fit3$bestTune[1,1]\n",
    "    acc.at.k.opt20[i] <- knn.fit3$results$Accuracy[knn.fit3$bestTune[1,1]]\n",
    "    M.acc20[i,] <- knn.fit3$results$Accuracy\n",
    "    t.eval20[i] <- difftime(t2, t1, units = \"secs\")\n",
    "}"
   ]
  },
  {
   "cell_type": "markdown",
   "metadata": {},
   "source": [
    "#### \n",
    "Evaluamos el k óptimo y el correspondiente accuracy para cada conjunto de componentes principales:"
   ]
  },
  {
   "cell_type": "code",
   "execution_count": 21,
   "metadata": {},
   "outputs": [
    {
     "data": {
      "image/png": "[encoded data removed]",
      "text/plain": [
       "Plot with title \"\""
      ]
     },
     "metadata": {
      "image/png": {
       "height": 420,
       "width": 420
      }
     },
     "output_type": "display_data"
    }
   ],
   "source": [
    "#efecto del número de PC's en el k óptimo\n",
    "plot(umbral.pc,k.opt20, pch = 16, col = \"purple\",\n",
    "     xlab = \"Número de PC's\", ylab = \"k óptimo\", main = \"\")\n",
    "\n",
    "lines(umbral.pc,k.opt20, type = \"l\", col = \"purple\", lwd = 2)"
   ]
  },
  {
   "cell_type": "code",
   "execution_count": 22,
   "metadata": {},
   "outputs": [
    {
     "data": {
      "image/png": "[encoded data removed]",
      "text/plain": [
       "Plot with title \"\""
      ]
     },
     "metadata": {
      "image/png": {
       "height": 420,
       "width": 420
      }
     },
     "output_type": "display_data"
    }
   ],
   "source": [
    "#accuracy en función del número de PC's\n",
    "plot(umbral.pc,acc.at.k.opt20, pch = 16, col = \"purple\",\n",
    "     xlab = \"Número de PC's\", ylab = \"Accuracy para k óptimo\", main = \"\")\n",
    "\n",
    "lines(umbral.pc,acc.at.k.opt20, type = \"l\", col = \"purple\", lwd = 2)"
   ]
  },
  {
   "cell_type": "markdown",
   "metadata": {},
   "source": [
    "En este caso vemos resultados diferentes: k alcanza un valor más bajo, 8, aunque en general se mantiene en torno al 15. Por otro lado, la máxima precisión se alcanza a partir del segundo grupo de PC's, aunque el accuracy tiene valores parecidos en todos los casos."
   ]
  },
  {
   "cell_type": "markdown",
   "metadata": {},
   "source": [
    "#### "
   ]
  },
  {
   "cell_type": "markdown",
   "metadata": {},
   "source": [
    "Tomamos 9 componentes principales, y el correspondiente k, k=15, por tener un accuracy similar al accuracy máximo. Con esta configuración ensayamos sobre el test:"
   ]
  },
  {
   "cell_type": "code",
   "execution_count": 14,
   "metadata": {},
   "outputs": [],
   "source": [
    "##k=13 y 9 PC's\n",
    "df.pc <- data.frame(y20.train,PCA.train$x[,1:umbral.pc[1]])  \n",
    "colnames(df.pc)[1] = \"pr20\"\n",
    "\n",
    "trctrl = trainControl(method = \"cv\", number = 2)\n",
    "knn.fit5 = train(pr20 ~ ., df.pc ,\n",
    "                    method = \"knn\",\n",
    "                    trControl = trctrl,\n",
    "                    tuneGrid = expand.grid(k = 15))"
   ]
  },
  {
   "cell_type": "code",
   "execution_count": 15,
   "metadata": {},
   "outputs": [],
   "source": [
    "pred.test20 = predict(knn.fit5, PCA.test[,1:umbral.pc[1]])"
   ]
  },
  {
   "cell_type": "code",
   "execution_count": 16,
   "metadata": {},
   "outputs": [
    {
     "name": "stderr",
     "output_type": "stream",
     "text": [
      "Warning message in cor(y20.test.num, pred.test20.num, method = \"spearman\"):\n",
      "\"the standard deviation is zero\"\n"
     ]
    },
    {
     "name": "stdout",
     "output_type": "stream",
     "text": [
      "[1] \"RMSE: 0.15944820103582\"\n",
      "[1] \"Coeficiente de correlación de Spearman: NA\"\n",
      "[1] \"Accuracy: 0.974576271186441\"\n",
      "[1] \"Cociente de varianzas: 0\"\n"
     ]
    }
   ],
   "source": [
    "#validación\n",
    "y20.test.num = as.numeric(y20.test)\n",
    "pred.test20.num = as.numeric(pred.test20)\n",
    "rmse.val = rmse(y20.test.num, pred.test20.num)\n",
    "r = cor(y20.test.num, pred.test20.num, method = \"spearman\")\n",
    "bin= acc.class(y20.test.num, pred.test20.num )\n",
    "rv = var(pred.test20.num) / var(y20.test.num)\n",
    "\n",
    "print(paste0(\"RMSE: \",rmse.val))\n",
    "print(paste0(\"Coeficiente de correlación de Spearman: \",r))\n",
    "print(paste0(\"Accuracy: \",bin))\n",
    "print(paste0(\"Cociente de varianzas: \",rv))"
   ]
  },
  {
   "cell_type": "markdown",
   "metadata": {},
   "source": [
    "Se observa una mejor del error de test respecto del test hecho sobre la precipitación discretizada en el valor 0.1 mm."
   ]
  },
  {
   "cell_type": "markdown",
   "metadata": {},
   "source": [
    "#### "
   ]
  },
  {
   "cell_type": "code",
   "execution_count": 17,
   "metadata": {},
   "outputs": [
    {
     "name": "stdout",
     "output_type": "stream",
     "text": [
      "[1] \"Proporción de dias con lluvia por encima de los 0.1 mm\"\n"
     ]
    },
    {
     "data": {
      "text/html": [
       "0.268726079825041"
      ],
      "text/latex": [
       "0.268726079825041"
      ],
      "text/markdown": [
       "0.268726079825041"
      ],
      "text/plain": [
       "[1] 0.2687261"
      ]
     },
     "metadata": {},
     "output_type": "display_data"
    }
   ],
   "source": [
    "print('Proporción de dias con lluvia por encima de los 0.1 mm')\n",
    "sum(as.numeric(y.test)-1)/length(y.test)"
   ]
  },
  {
   "cell_type": "code",
   "execution_count": 18,
   "metadata": {},
   "outputs": [
    {
     "name": "stdout",
     "output_type": "stream",
     "text": [
      "[1] \"Proporción de dias con lluvia por encima de los 20 mm\"\n"
     ]
    },
    {
     "data": {
      "text/html": [
       "0.0254237288135593"
      ],
      "text/latex": [
       "0.0254237288135593"
      ],
      "text/markdown": [
       "0.0254237288135593"
      ],
      "text/plain": [
       "[1] 0.02542373"
      ]
     },
     "metadata": {},
     "output_type": "display_data"
    }
   ],
   "source": [
    "\n",
    "print('Proporción de dias con lluvia por encima de los 20 mm')\n",
    "sum(as.numeric(y20.test)-1)/length(y20.test)"
   ]
  },
  {
   "cell_type": "code",
   "execution_count": 21,
   "metadata": {},
   "outputs": [
    {
     "data": {
      "text/html": [
       "1"
      ],
      "text/latex": [
       "1"
      ],
      "text/markdown": [
       "1"
      ],
      "text/plain": [
       "[1] 1"
      ]
     },
     "metadata": {},
     "output_type": "display_data"
    }
   ],
   "source": [
    "unique(pred.test20.num)"
   ]
  },
  {
   "cell_type": "markdown",
   "metadata": {},
   "source": [
    "El accuracy obtenido está en torno a los 0.975, es decir, los casos mal predichos son el 0.025 de los casos. Atendientdo a la proporción de días con lluvia por encima de los 20 mm, vemos que estos valores son prácticamente iguales. Una posible explicación es que, al ser los días de lluvia intensa poco frecuentes, el algoritmo de knn les ha dado poco peso y siempre se han clasificado como días de menos lluvia. Esto muestra cómo el accuracy en este caso no está representando la precisión de la predicción, y que hay que tener en cuenta la estructura de los datos para aplicar un algoritmo u otro."
   ]
  },
  {
   "cell_type": "markdown",
   "metadata": {},
   "source": [
    "### Punto 4 (2 puntos):\n",
    "\n",
    "Considerando el número de PCs óptimo obtenido en el apartado anterior, predecid el conjunto de test utilizando en este caso la regresión logística como método de clasificación (`Nota:` ver `Práctica Clasificacion Lineal` en el Moodle de la asignatura de Estadística o en la de Minería de Datos). \n",
    "\n",
    "* Comparad los resultados obtenidos utilizando ambos métodos para la predicción de la ocurrencia de precipitación y de precipitación intensa (`Nota:` considerar, por ejemplo, la curva ROC para la comparación), ¿alguno de los métodos se comporta mejor que el otro de forma sistemática?"
   ]
  }
 ],
 "metadata": {
  "kernelspec": {
   "display_name": "R",
   "language": "R",
   "name": "ir"
  },
  "language_info": {
   "codemirror_mode": "r",
   "file_extension": ".r",
   "mimetype": "text/x-r-source",
   "name": "R",
   "pygments_lexer": "r",
   "version": "4.3.2"
  },
  "toc": {
   "base_numbering": 1,
   "nav_menu": {},
   "number_sections": true,
   "sideBar": true,
   "skip_h1_title": true,
   "title_cell": "Table of Contents",
   "title_sidebar": "Contents",
   "toc_cell": true,
   "toc_position": {},
   "toc_section_display": true,
   "toc_window_display": false
  }
 },
 "nbformat": 4,
 "nbformat_minor": 4
}

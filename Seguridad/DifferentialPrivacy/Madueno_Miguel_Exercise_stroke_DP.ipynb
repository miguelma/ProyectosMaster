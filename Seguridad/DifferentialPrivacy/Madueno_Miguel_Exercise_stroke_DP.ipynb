{
 "cells": [
  {
   "cell_type": "markdown",
   "id": "513a87d6",
   "metadata": {},
   "source": [
    "# Exercise: applying differential privacy by means of Python-DP library \n",
    "## Safety, Privacy and Legal Aspects - Master in Data Science (2022/2023)\n",
    "### Name: ..................................................."
   ]
  },
  {
   "cell_type": "raw",
   "id": "c41e69b1-5945-4306-a8a4-fb022be40d2c",
   "metadata": {},
   "source": [
    "# Install PyDP\n",
    "!pip install python-dp"
   ]
  },
  {
   "cell_type": "code",
   "execution_count": 1,
   "id": "4a8536e8",
   "metadata": {},
   "outputs": [],
   "source": [
    "import numpy as np\n",
    "import pandas as pd\n",
    "import matplotlib.pyplot as plt\n",
    "\n",
    "import pydp as dp\n",
    "from pydp.algorithms.laplacian import BoundedSum, Count, BoundedMean, Max, Min\n",
    "import requests\n",
    "\n",
    "# ... other libraries you may need"
   ]
  },
  {
   "cell_type": "markdown",
   "id": "731cc07b",
   "metadata": {},
   "source": [
    "#### Download and read the widely known Stroke Prediction Dataset  https://www.kaggle.com/datasets/fedesoriano/stroke-prediction-dataset. Remove NaN values and answer the following questions:"
   ]
  },
  {
   "cell_type": "code",
   "execution_count": 2,
   "id": "c9f1f458",
   "metadata": {},
   "outputs": [
    {
     "name": "stdout",
     "output_type": "stream",
     "text": [
      "(4909, 12)\n"
     ]
    },
    {
     "data": {
      "text/html": [
       "<div>\n",
       "<style scoped>\n",
       "    .dataframe tbody tr th:only-of-type {\n",
       "        vertical-align: middle;\n",
       "    }\n",
       "\n",
       "    .dataframe tbody tr th {\n",
       "        vertical-align: top;\n",
       "    }\n",
       "\n",
       "    .dataframe thead th {\n",
       "        text-align: right;\n",
       "    }\n",
       "</style>\n",
       "<table border=\"1\" class=\"dataframe\">\n",
       "  <thead>\n",
       "    <tr style=\"text-align: right;\">\n",
       "      <th></th>\n",
       "      <th>id</th>\n",
       "      <th>gender</th>\n",
       "      <th>age</th>\n",
       "      <th>hypertension</th>\n",
       "      <th>heart_disease</th>\n",
       "      <th>ever_married</th>\n",
       "      <th>work_type</th>\n",
       "      <th>Residence_type</th>\n",
       "      <th>avg_glucose_level</th>\n",
       "      <th>bmi</th>\n",
       "      <th>smoking_status</th>\n",
       "      <th>stroke</th>\n",
       "    </tr>\n",
       "  </thead>\n",
       "  <tbody>\n",
       "    <tr>\n",
       "      <th>0</th>\n",
       "      <td>9046</td>\n",
       "      <td>Male</td>\n",
       "      <td>67.0</td>\n",
       "      <td>0</td>\n",
       "      <td>1</td>\n",
       "      <td>Yes</td>\n",
       "      <td>Private</td>\n",
       "      <td>Urban</td>\n",
       "      <td>228.69</td>\n",
       "      <td>36.6</td>\n",
       "      <td>formerly smoked</td>\n",
       "      <td>1</td>\n",
       "    </tr>\n",
       "    <tr>\n",
       "      <th>1</th>\n",
       "      <td>31112</td>\n",
       "      <td>Male</td>\n",
       "      <td>80.0</td>\n",
       "      <td>0</td>\n",
       "      <td>1</td>\n",
       "      <td>Yes</td>\n",
       "      <td>Private</td>\n",
       "      <td>Rural</td>\n",
       "      <td>105.92</td>\n",
       "      <td>32.5</td>\n",
       "      <td>never smoked</td>\n",
       "      <td>1</td>\n",
       "    </tr>\n",
       "    <tr>\n",
       "      <th>2</th>\n",
       "      <td>60182</td>\n",
       "      <td>Female</td>\n",
       "      <td>49.0</td>\n",
       "      <td>0</td>\n",
       "      <td>0</td>\n",
       "      <td>Yes</td>\n",
       "      <td>Private</td>\n",
       "      <td>Urban</td>\n",
       "      <td>171.23</td>\n",
       "      <td>34.4</td>\n",
       "      <td>smokes</td>\n",
       "      <td>1</td>\n",
       "    </tr>\n",
       "  </tbody>\n",
       "</table>\n",
       "</div>"
      ],
      "text/plain": [
       "      id  gender   age  hypertension  heart_disease ever_married work_type  \\\n",
       "0   9046    Male  67.0             0              1          Yes   Private   \n",
       "1  31112    Male  80.0             0              1          Yes   Private   \n",
       "2  60182  Female  49.0             0              0          Yes   Private   \n",
       "\n",
       "  Residence_type  avg_glucose_level   bmi   smoking_status  stroke  \n",
       "0          Urban             228.69  36.6  formerly smoked       1  \n",
       "1          Rural             105.92  32.5     never smoked       1  \n",
       "2          Urban             171.23  34.4           smokes       1  "
      ]
     },
     "execution_count": 2,
     "metadata": {},
     "output_type": "execute_result"
    }
   ],
   "source": [
    "df = pd.read_csv('healthcare-dataset-stroke-data.csv')\n",
    "df = df.dropna()\n",
    "df = df.reset_index(drop=True)\n",
    "print(df.shape)\n",
    "df.head(3)"
   ]
  },
  {
   "cell_type": "markdown",
   "id": "30aaa947",
   "metadata": {},
   "source": [
    "#### 1. Calculate using differential privacy (DP) for an epsilon value of your choice, how many women have suffered a stroke. And considering women aged 60 years and older? Repeat the same for men.\n",
    "\n",
    "#### In both cases, compare the results with those obtained if DP is not applied."
   ]
  },
  {
   "cell_type": "code",
   "execution_count": 3,
   "id": "457cedce-b43e-4127-a8cb-f1d531e3d633",
   "metadata": {},
   "outputs": [],
   "source": [
    "epsilon = 0.5"
   ]
  },
  {
   "cell_type": "code",
   "execution_count": 27,
   "id": "fee68315",
   "metadata": {},
   "outputs": [
    {
     "name": "stdout",
     "output_type": "stream",
     "text": [
      "women: 120\n",
      "women_dp: 111\n"
     ]
    }
   ],
   "source": [
    "#mujeres\n",
    "\n",
    "df2 = df[df.gender == 'Female']\n",
    "w_s = sum(df2.stroke.values)\n",
    "x = BoundedSum(epsilon=epsilon,lower_bound=0, upper_bound=1)\n",
    "w_s_dp=x.quick_result(df2.stroke.values)\n",
    "print('women: '+str(w_s))\n",
    "print('women_dp: '+str(w_s_dp))"
   ]
  },
  {
   "cell_type": "code",
   "execution_count": 29,
   "id": "358b65ba-9e37-4c9c-a651-4143c0d83a09",
   "metadata": {},
   "outputs": [
    {
     "name": "stdout",
     "output_type": "stream",
     "text": [
      "women60: 84\n",
      "women60_dp: 86\n"
     ]
    }
   ],
   "source": [
    "#mujeres mayores 60\n",
    "df2 = df[(df.gender == 'Female') & (df.age >= 60)]\n",
    "w_s = sum(df2.stroke.values)\n",
    "x = BoundedSum(epsilon=epsilon,lower_bound=0, upper_bound=1)\n",
    "w_s_dp=x.quick_result(df2.stroke.values)\n",
    "print('women60: '+str(w_s))\n",
    "print('women60_dp: '+str(w_s_dp))"
   ]
  },
  {
   "cell_type": "code",
   "execution_count": 31,
   "id": "e3f6f289-28b9-441b-a79a-8a67fee63218",
   "metadata": {},
   "outputs": [
    {
     "name": "stdout",
     "output_type": "stream",
     "text": [
      "men: 89\n",
      "men_dp: 83\n"
     ]
    }
   ],
   "source": [
    "#hombres\n",
    "df2 = df[df.gender == 'Male']\n",
    "w_s = sum(df2.stroke.values)\n",
    "x = BoundedSum(epsilon=epsilon,lower_bound=0, upper_bound=1)\n",
    "w_s_dp=x.quick_result(df2.stroke.values)\n",
    "print('men: '+str(w_s))\n",
    "print('men_dp: '+str(w_s_dp))"
   ]
  },
  {
   "cell_type": "code",
   "execution_count": 32,
   "id": "1e5dc572-bd8a-4902-afd6-9dd10789d604",
   "metadata": {},
   "outputs": [
    {
     "name": "stdout",
     "output_type": "stream",
     "text": [
      "men60: 66\n",
      "men60_dp: 70\n"
     ]
    }
   ],
   "source": [
    "#hombres mayores 60\n",
    "df2 = df[(df.gender == 'Male') & (df.age >= 60)]\n",
    "w_s = sum(df2.stroke.values)\n",
    "x = BoundedSum(epsilon=epsilon,lower_bound=0, upper_bound=1)\n",
    "w_s_dp=x.quick_result(df2.stroke.values)\n",
    "print('men60: '+str(w_s))\n",
    "print('men60_dp: '+str(w_s_dp))"
   ]
  },
  {
   "cell_type": "markdown",
   "id": "efbf138c",
   "metadata": {},
   "source": [
    "#### 2. For all women who have suffered a stroke, calculate the mean BMI applying PD for a certain epsilon value.  Repeat the same for those who have not suffered a stroke. \n",
    "\n",
    "#### Compare the results with those obtained if DP is not applied."
   ]
  },
  {
   "cell_type": "code",
   "execution_count": 33,
   "id": "4892497c",
   "metadata": {},
   "outputs": [],
   "source": [
    "femStroke = df[(df.gender == 'Female') & (df.stroke == 1)]\n",
    "femNoStroke = df[(df.gender == 'Female') & (df.stroke == 0)]\n",
    "\n",
    "bmiStroke = femStroke[\"bmi\"]\n",
    "bmiNoStroke = femNoStroke[\"bmi\"]\n",
    "\n",
    "meanStrokeNoDP=np.mean(bmiStroke)\n",
    "meanNoStrokeNoDP=np.mean(bmiNoStroke)"
   ]
  },
  {
   "cell_type": "code",
   "execution_count": 34,
   "id": "32ec5473-d6f2-4f21-a429-2c2cdb7d58d2",
   "metadata": {},
   "outputs": [],
   "source": [
    "x = BoundedMean(epsilon=epsilon, lower_bound=min(bmiStroke), upper_bound=max(bmiStroke),dtype='float')\n",
    "meanStrokeDP=x.quick_result(list(bmiStroke))\n",
    "\n",
    "x = BoundedMean(epsilon=epsilon, lower_bound=min(bmiNoStroke), upper_bound=max(bmiNoStroke),dtype='float')\n",
    "meanNoStrokeDP=x.quick_result(list(bmiNoStroke))"
   ]
  },
  {
   "cell_type": "code",
   "execution_count": 57,
   "id": "40928a22-16a1-49c9-957f-d78be03878df",
   "metadata": {},
   "outputs": [
    {
     "name": "stdout",
     "output_type": "stream",
     "text": [
      "meanNoStrokeNoDP: 29.015952466690674\n",
      "meanNoStrokeDP: 28.801421005352246\n",
      "meanStrokeNoDP: 30.21833333333333\n",
      "meanStrokeDP: 29.130942374774477\n"
     ]
    }
   ],
   "source": [
    "print('meanNoStrokeNoDP: '+str(meanNoStrokeNoDP))\n",
    "print('meanNoStrokeDP: '+str(meanNoStrokeDP))\n",
    "print('meanStrokeNoDP: '+str(meanStrokeNoDP))\n",
    "print('meanStrokeDP: '+str(meanStrokeDP))"
   ]
  },
  {
   "cell_type": "markdown",
   "id": "b804749f",
   "metadata": {},
   "source": [
    "#### 3. For all the people who have suffered a stroke, calculate (by applying PD) how many of them suffered from hypertension.  Repeat the same for those who have not suffered a stroke. \n",
    "\n",
    "#### Compare the results with those obtained if DP is not applied."
   ]
  },
  {
   "cell_type": "code",
   "execution_count": 37,
   "id": "5839fae3-4dbe-4feb-8850-16596ad6e6ee",
   "metadata": {},
   "outputs": [
    {
     "data": {
      "text/html": [
       "<div>\n",
       "<style scoped>\n",
       "    .dataframe tbody tr th:only-of-type {\n",
       "        vertical-align: middle;\n",
       "    }\n",
       "\n",
       "    .dataframe tbody tr th {\n",
       "        vertical-align: top;\n",
       "    }\n",
       "\n",
       "    .dataframe thead th {\n",
       "        text-align: right;\n",
       "    }\n",
       "</style>\n",
       "<table border=\"1\" class=\"dataframe\">\n",
       "  <thead>\n",
       "    <tr style=\"text-align: right;\">\n",
       "      <th></th>\n",
       "      <th>id</th>\n",
       "      <th>gender</th>\n",
       "      <th>age</th>\n",
       "      <th>hypertension</th>\n",
       "      <th>heart_disease</th>\n",
       "      <th>ever_married</th>\n",
       "      <th>work_type</th>\n",
       "      <th>Residence_type</th>\n",
       "      <th>avg_glucose_level</th>\n",
       "      <th>bmi</th>\n",
       "      <th>smoking_status</th>\n",
       "      <th>stroke</th>\n",
       "    </tr>\n",
       "  </thead>\n",
       "  <tbody>\n",
       "    <tr>\n",
       "      <th>0</th>\n",
       "      <td>9046</td>\n",
       "      <td>Male</td>\n",
       "      <td>67.0</td>\n",
       "      <td>0</td>\n",
       "      <td>1</td>\n",
       "      <td>Yes</td>\n",
       "      <td>Private</td>\n",
       "      <td>Urban</td>\n",
       "      <td>228.69</td>\n",
       "      <td>36.6</td>\n",
       "      <td>formerly smoked</td>\n",
       "      <td>1</td>\n",
       "    </tr>\n",
       "    <tr>\n",
       "      <th>1</th>\n",
       "      <td>31112</td>\n",
       "      <td>Male</td>\n",
       "      <td>80.0</td>\n",
       "      <td>0</td>\n",
       "      <td>1</td>\n",
       "      <td>Yes</td>\n",
       "      <td>Private</td>\n",
       "      <td>Rural</td>\n",
       "      <td>105.92</td>\n",
       "      <td>32.5</td>\n",
       "      <td>never smoked</td>\n",
       "      <td>1</td>\n",
       "    </tr>\n",
       "    <tr>\n",
       "      <th>2</th>\n",
       "      <td>60182</td>\n",
       "      <td>Female</td>\n",
       "      <td>49.0</td>\n",
       "      <td>0</td>\n",
       "      <td>0</td>\n",
       "      <td>Yes</td>\n",
       "      <td>Private</td>\n",
       "      <td>Urban</td>\n",
       "      <td>171.23</td>\n",
       "      <td>34.4</td>\n",
       "      <td>smokes</td>\n",
       "      <td>1</td>\n",
       "    </tr>\n",
       "  </tbody>\n",
       "</table>\n",
       "</div>"
      ],
      "text/plain": [
       "      id  gender   age  hypertension  heart_disease ever_married work_type  \\\n",
       "0   9046    Male  67.0             0              1          Yes   Private   \n",
       "1  31112    Male  80.0             0              1          Yes   Private   \n",
       "2  60182  Female  49.0             0              0          Yes   Private   \n",
       "\n",
       "  Residence_type  avg_glucose_level   bmi   smoking_status  stroke  \n",
       "0          Urban             228.69  36.6  formerly smoked       1  \n",
       "1          Rural             105.92  32.5     never smoked       1  \n",
       "2          Urban             171.23  34.4           smokes       1  "
      ]
     },
     "execution_count": 37,
     "metadata": {},
     "output_type": "execute_result"
    }
   ],
   "source": [
    "df.head(3)"
   ]
  },
  {
   "cell_type": "code",
   "execution_count": 55,
   "id": "99a4db4b",
   "metadata": {},
   "outputs": [],
   "source": [
    "x = Count(epsilon=epsilon, dtype=\"int\")\n",
    "\n",
    "df1=df[(df['hypertension']==1)&(df['stroke']==1)]\n",
    "countStrokeDP = x.quick_result(list(df1['hypertension']))\n",
    "\n",
    "df2=df[(df['hypertension']==1)&(df['stroke']==0)]\n",
    "countNoStrokeDP = x.quick_result(list(df2['hypertension']))"
   ]
  },
  {
   "cell_type": "code",
   "execution_count": 56,
   "id": "426a9191-e1b1-42c9-b0eb-de1dac486248",
   "metadata": {},
   "outputs": [
    {
     "name": "stdout",
     "output_type": "stream",
     "text": [
      "cuentas de hipertensión por grupos:\n",
      "countNoStrokeNoDP: 391\n",
      "countNoStrokeDP: 382\n",
      "countStrokeNoDP: 60\n",
      "countStrokeDP: 54\n"
     ]
    }
   ],
   "source": [
    "print('cuentas de hipertensión por grupos:')\n",
    "print('countNoStrokeNoDP: '+str(df2.shape[0]))\n",
    "print('countNoStrokeDP: '+str(countNoStrokeDP))\n",
    "print('countStrokeNoDP: '+str(df1.shape[0]))\n",
    "print('countStrokeDP: '+str(countStrokeDP))"
   ]
  },
  {
   "cell_type": "markdown",
   "id": "c24e4268",
   "metadata": {},
   "source": [
    "#### 4. Calculate the avgerage glucose level of all the people who have suffered a stroke. Compare this result graphically with that obtained by applying DP as a function of the epsilon value introduced (e.g., you can test what happens even with epsilon values higher than 1, epsilon = [0.1, 0.2, 0.3,...,10]). \n",
    "\n",
    "#### What property of differential privacy and the privacy budget (epsilon) do you see reflected in this case?"
   ]
  },
  {
   "cell_type": "code",
   "execution_count": 58,
   "id": "e654c03f-20de-4651-82ae-a011246ef2ca",
   "metadata": {},
   "outputs": [
    {
     "data": {
      "text/html": [
       "<div>\n",
       "<style scoped>\n",
       "    .dataframe tbody tr th:only-of-type {\n",
       "        vertical-align: middle;\n",
       "    }\n",
       "\n",
       "    .dataframe tbody tr th {\n",
       "        vertical-align: top;\n",
       "    }\n",
       "\n",
       "    .dataframe thead th {\n",
       "        text-align: right;\n",
       "    }\n",
       "</style>\n",
       "<table border=\"1\" class=\"dataframe\">\n",
       "  <thead>\n",
       "    <tr style=\"text-align: right;\">\n",
       "      <th></th>\n",
       "      <th>id</th>\n",
       "      <th>gender</th>\n",
       "      <th>age</th>\n",
       "      <th>hypertension</th>\n",
       "      <th>heart_disease</th>\n",
       "      <th>ever_married</th>\n",
       "      <th>work_type</th>\n",
       "      <th>Residence_type</th>\n",
       "      <th>avg_glucose_level</th>\n",
       "      <th>bmi</th>\n",
       "      <th>smoking_status</th>\n",
       "      <th>stroke</th>\n",
       "    </tr>\n",
       "  </thead>\n",
       "  <tbody>\n",
       "    <tr>\n",
       "      <th>0</th>\n",
       "      <td>9046</td>\n",
       "      <td>Male</td>\n",
       "      <td>67.0</td>\n",
       "      <td>0</td>\n",
       "      <td>1</td>\n",
       "      <td>Yes</td>\n",
       "      <td>Private</td>\n",
       "      <td>Urban</td>\n",
       "      <td>228.69</td>\n",
       "      <td>36.6</td>\n",
       "      <td>formerly smoked</td>\n",
       "      <td>1</td>\n",
       "    </tr>\n",
       "    <tr>\n",
       "      <th>1</th>\n",
       "      <td>31112</td>\n",
       "      <td>Male</td>\n",
       "      <td>80.0</td>\n",
       "      <td>0</td>\n",
       "      <td>1</td>\n",
       "      <td>Yes</td>\n",
       "      <td>Private</td>\n",
       "      <td>Rural</td>\n",
       "      <td>105.92</td>\n",
       "      <td>32.5</td>\n",
       "      <td>never smoked</td>\n",
       "      <td>1</td>\n",
       "    </tr>\n",
       "    <tr>\n",
       "      <th>2</th>\n",
       "      <td>60182</td>\n",
       "      <td>Female</td>\n",
       "      <td>49.0</td>\n",
       "      <td>0</td>\n",
       "      <td>0</td>\n",
       "      <td>Yes</td>\n",
       "      <td>Private</td>\n",
       "      <td>Urban</td>\n",
       "      <td>171.23</td>\n",
       "      <td>34.4</td>\n",
       "      <td>smokes</td>\n",
       "      <td>1</td>\n",
       "    </tr>\n",
       "  </tbody>\n",
       "</table>\n",
       "</div>"
      ],
      "text/plain": [
       "      id  gender   age  hypertension  heart_disease ever_married work_type  \\\n",
       "0   9046    Male  67.0             0              1          Yes   Private   \n",
       "1  31112    Male  80.0             0              1          Yes   Private   \n",
       "2  60182  Female  49.0             0              0          Yes   Private   \n",
       "\n",
       "  Residence_type  avg_glucose_level   bmi   smoking_status  stroke  \n",
       "0          Urban             228.69  36.6  formerly smoked       1  \n",
       "1          Rural             105.92  32.5     never smoked       1  \n",
       "2          Urban             171.23  34.4           smokes       1  "
      ]
     },
     "execution_count": 58,
     "metadata": {},
     "output_type": "execute_result"
    }
   ],
   "source": [
    "df.head(3)"
   ]
  },
  {
   "cell_type": "code",
   "execution_count": 61,
   "id": "e81173c7",
   "metadata": {},
   "outputs": [],
   "source": [
    "dfStroke=df[df['stroke']==1]\n",
    "glucosa = dfStroke['avg_glucose_level']\n",
    "avgGlucose = np.mean(dfStroke['avg_glucose_level'])"
   ]
  },
  {
   "cell_type": "code",
   "execution_count": 63,
   "id": "5e096539-c269-4050-8079-f8b7c719397b",
   "metadata": {},
   "outputs": [],
   "source": [
    "epsVal = np.arange(0.1,10+0.1,0.1) #valores de epsilon\n",
    "meanGlucosa = np.full(len(epsVal), np.nan)\n",
    "for i in np.arange(len(epsVal)):\n",
    "    x = BoundedMean(epsilon=epsVal[i], lower_bound=min(glucosa), upper_bound=max(glucosa),dtype='float')\n",
    "    meanGlucosa[i]=x.quick_result(list(glucosa))"
   ]
  },
  {
   "cell_type": "code",
   "execution_count": 66,
   "id": "9672646a-d69e-4359-a99f-79de23eed8db",
   "metadata": {},
   "outputs": [
    {
     "data": {
      "image/png": "[encoded data removed]",
      "text/plain": [
       "<Figure size 640x480 with 1 Axes>"
      ]
     },
     "metadata": {},
     "output_type": "display_data"
    }
   ],
   "source": [
    "fig, ax = plt.subplots()\n",
    "\n",
    "ax.plot(epsVal,meanGlucosa, label='DP')\n",
    "ax.axhline(y=avgGlucose, color='red', linestyle='--', label='real')\n",
    "\n",
    "ax.set_xlabel('$\\epsilon$')\n",
    "ax.set_ylabel('Glucosa media')\n",
    "\n",
    "ax.legend()\n",
    "\n",
    "plt.grid(True)\n",
    "plt.show()"
   ]
  },
  {
   "cell_type": "markdown",
   "id": "566d3d83-cdeb-4f7c-bf15-1d8d1a7280d0",
   "metadata": {},
   "source": [
    "Vemos que la precisión del cálculo de la media depende del valor de epsilon. En concreto, se comete más error, a cambio de un mayor nivel de privacidad, para valores de epsilon bajos, mientras que el valor de la media calculado con DP tiende al valor real a medida que epsilon tiende a infinito."
   ]
  },
  {
   "cell_type": "markdown",
   "id": "03703457",
   "metadata": {},
   "source": [
    "#### 5. Compare by means of bar charts the total number of people who have suffered a stroke according to the age range grouped in intervals of 20 years. Compare in each case the result obtained without applying differential privacy and the one obtained by applying DP for a pre-fixed epsilon value."
   ]
  },
  {
   "cell_type": "code",
   "execution_count": 4,
   "id": "b61b7a9e",
   "metadata": {},
   "outputs": [],
   "source": [
    "#plot del numero de casos con el valor de epsilon fijado al principio de la practica\n",
    "\n",
    "#inicializar vectores\n",
    "limEdad = np.arange(0,100+20,20)\n",
    "numReal = np.full(len(limEdad)-1, np.nan)\n",
    "numDP = np.full(len(limEdad)-1, np.nan)"
   ]
  },
  {
   "cell_type": "code",
   "execution_count": 5,
   "id": "b75c8656-2f58-49e1-b937-e789475bcc91",
   "metadata": {},
   "outputs": [],
   "source": [
    "#contamos numero de strokes por intervalo\n",
    "x = Count(epsilon=epsilon, dtype=\"int\")\n",
    "for i in np.arange(len(limEdad)-1):\n",
    "    dfaux=df[(df['age']>=limEdad[i])&(df['age']<limEdad[i+1])]\n",
    "    numReal[i]= np.sum(dfaux['stroke'])\n",
    "    numDP[i]  = x.quick_result(list(dfaux[dfaux['stroke']==1]['stroke']))"
   ]
  },
  {
   "cell_type": "code",
   "execution_count": 11,
   "id": "fdff97bb-8580-4ed7-978f-5ca1b17a25c6",
   "metadata": {},
   "outputs": [
    {
     "data": {
      "image/png": "[encoded data removed]",
      "text/plain": [
       "<Figure size 640x480 with 1 Axes>"
      ]
     },
     "metadata": {},
     "output_type": "display_data"
    }
   ],
   "source": [
    "values = limEdad[0:5]\n",
    "frequencies1 = numReal\n",
    "frequencies2 = numDP\n",
    "value_labels = ['0-20','20-40','40-60','60-80','80-100']\n",
    "\n",
    "bar_width = 5\n",
    "\n",
    "plt.bar(np.array(values) - bar_width/2, frequencies1, bar_width, label='real')\n",
    "plt.bar(np.array(values) + bar_width/2, frequencies2, bar_width, label='DP')\n",
    "\n",
    "plt.xlabel('Edad (años)')\n",
    "plt.ylabel('Número de strokes')\n",
    "plt.xticks(values, value_labels)\n",
    "# plt.title('Bar Plot of Values and Frequencies')\n",
    "plt.legend()\n",
    "\n",
    "plt.show()"
   ]
  }
 ],
 "metadata": {
  "kernelspec": {
   "display_name": "Python 3 (ipykernel)",
   "language": "python",
   "name": "python3"
  },
  "language_info": {
   "codemirror_mode": {
    "name": "ipython",
    "version": 3
   },
   "file_extension": ".py",
   "mimetype": "text/x-python",
   "name": "python",
   "nbconvert_exporter": "python",
   "pygments_lexer": "ipython3",
   "version": "3.11.5"
  }
 },
 "nbformat": 4,
 "nbformat_minor": 5
}

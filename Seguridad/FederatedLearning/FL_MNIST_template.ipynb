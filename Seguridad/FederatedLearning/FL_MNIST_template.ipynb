{
 "cells": [
  {
   "cell_type": "markdown",
   "id": "a987ad74",
   "metadata": {},
   "source": [
    "# EXAMPLE OF FEDERATED LEARNING APPLICATION\n",
    "## Safety, Privacy and Legal Aspects"
   ]
  },
  {
   "cell_type": "code",
   "execution_count": 1,
   "id": "6f971ecb",
   "metadata": {},
   "outputs": [
    {
     "name": "stdout",
     "output_type": "stream",
     "text": [
      "WARNING:tensorflow:From C:\\Users\\migue\\miniconda3\\Lib\\site-packages\\keras\\src\\losses.py:2976: The name tf.losses.sparse_softmax_cross_entropy is deprecated. Please use tf.compat.v1.losses.sparse_softmax_cross_entropy instead.\n",
      "\n"
     ]
    }
   ],
   "source": [
    "import numpy as np\n",
    "import tensorflow as tf\n",
    "import matplotlib.pyplot as plt\n",
    "from tensorflow import keras\n",
    "import pandas as pd\n",
    "\n",
    "from keras.datasets import mnist\n",
    "from keras.utils import to_categorical\n",
    "from keras import layers\n",
    "from tensorflow.keras import regularizers\n",
    "from plot_keras_history import show_history, plot_history\n",
    "from tensorflow.keras.models import load_model"
   ]
  },
  {
   "cell_type": "code",
   "execution_count": 2,
   "id": "eb9e9a38-fca4-4c1e-a80c-72f4b1a63dfe",
   "metadata": {},
   "outputs": [],
   "source": [
    "(X_train, y_train), (X_test, y_test) = keras.datasets.mnist.load_data()"
   ]
  },
  {
   "cell_type": "code",
   "execution_count": 3,
   "id": "b52abfa9-852b-48d2-9c72-7305e706a44a",
   "metadata": {},
   "outputs": [
    {
     "name": "stdout",
     "output_type": "stream",
     "text": [
      "forma de la imagen (pixeles): (28, 28)\n",
      "etiqueta de la imagen: 0\n"
     ]
    },
    {
     "data": {
      "image/png": "[encoded data removed]",
      "text/plain": [
       "<Figure size 640x480 with 1 Axes>"
      ]
     },
     "metadata": {},
     "output_type": "display_data"
    }
   ],
   "source": [
    "#visuzalización imagen de ejemplo\n",
    "plt.pcolormesh(X_train[1,:,:])\n",
    "print('forma de la imagen (pixeles): '+str(np.shape(X_train[1,:,:])))\n",
    "print('etiqueta de la imagen: '+str(y_train[1]))"
   ]
  },
  {
   "cell_type": "code",
   "execution_count": 4,
   "id": "737c0fac",
   "metadata": {},
   "outputs": [],
   "source": [
    "# Read the MNIST data and process it. \n",
    "#reshape, to_categorical, reescalamiento\n",
    "\n",
    "X_train = X_train.reshape((X_train.shape[0], 784))\n",
    "X_test = X_test.reshape(X_test.shape[0], 784)\n",
    "\n",
    "X_train = X_train / 255\n",
    "X_test = X_test / 255\n",
    "\n",
    "y_train = to_categorical(y_train, 10)\n",
    "y_test = to_categorical(y_test, 10)"
   ]
  },
  {
   "cell_type": "code",
   "execution_count": 5,
   "id": "41106f37",
   "metadata": {},
   "outputs": [
    {
     "name": "stdout",
     "output_type": "stream",
     "text": [
      "forma final de los datos:\n",
      "(60000, 784)\n",
      "fotos aplanadas en vectores de longitud 28*28=784\n",
      "(60000, 10)\n",
      "etiquetas en forma de vectores binarios de longitud 10\n"
     ]
    }
   ],
   "source": [
    "print('forma final de los datos:')\n",
    "print(X_train.shape)\n",
    "print('fotos aplanadas en vectores de longitud 28*28=784')\n",
    "print(y_train.shape)\n",
    "print('etiquetas en forma de vectores binarios de longitud 10')"
   ]
  },
  {
   "cell_type": "code",
   "execution_count": 6,
   "id": "febb75a9",
   "metadata": {},
   "outputs": [],
   "source": [
    "# Create 3 clients from the train data. You can do it as you prefer, either using slices \n",
    "# (e.g. client1_x = X_train[:len(X_train)//3]), creating a function that makes it automatic according\n",
    "# to the number of clients desired (remember that two different customers cannot have data in common),\n",
    "# or any other way you can think of.\n",
    "n = len(y_train)\n",
    "arr = np.arange(0, n)\n",
    "np.random.shuffle(arr)\n",
    "subsets = np.array_split(arr, 3)"
   ]
  },
  {
   "cell_type": "code",
   "execution_count": 7,
   "id": "a31db651-5dba-4006-a248-dafd2ee0a00c",
   "metadata": {},
   "outputs": [],
   "source": [
    "ind1 = subsets[0]\n",
    "ind2 = subsets[1]\n",
    "ind3 = subsets[2]\n",
    "\n",
    "client1_x = X_train[ind1]\n",
    "client1_y = y_train[ind1]\n",
    "\n",
    "client2_x = X_train[ind2]\n",
    "client2_y = y_train[ind2]\n",
    "\n",
    "client3_x = X_train[ind3]\n",
    "client3_y = y_train[ind3]"
   ]
  },
  {
   "cell_type": "code",
   "execution_count": 8,
   "id": "43945097",
   "metadata": {},
   "outputs": [
    {
     "name": "stdout",
     "output_type": "stream",
     "text": [
      "Number of data for each customer: \n",
      " \t Client 1: 20000\n",
      "     \t Client 2: 20000 \n",
      " \t Client 3: 20000\n"
     ]
    }
   ],
   "source": [
    "print(f'''Number of data for each customer: \\n \\t Client 1: {len(client1_x)}\n",
    "     \\t Client 2: {len(client2_x)} \\n \\t Client 3: {len(client3_x)}''')"
   ]
  },
  {
   "cell_type": "code",
   "execution_count": 9,
   "id": "ca50dd35",
   "metadata": {},
   "outputs": [],
   "source": [
    "# Check that the clients have been created correctly (that there is the same number of data in X_train as adding\n",
    "# up all clients)\n",
    "assert sum([len(client1_x), len(client2_x), len(client3_x)]) == len(X_train), 'Clients have not been created correctly'"
   ]
  },
  {
   "cell_type": "code",
   "execution_count": 10,
   "id": "7b08629e",
   "metadata": {},
   "outputs": [
    {
     "name": "stdout",
     "output_type": "stream",
     "text": [
      "WARNING:tensorflow:From C:\\Users\\migue\\miniconda3\\Lib\\site-packages\\keras\\src\\backend.py:873: The name tf.get_default_graph is deprecated. Please use tf.compat.v1.get_default_graph instead.\n",
      "\n",
      "WARNING:tensorflow:From C:\\Users\\migue\\miniconda3\\Lib\\site-packages\\keras\\src\\optimizers\\__init__.py:309: The name tf.train.Optimizer is deprecated. Please use tf.compat.v1.train.Optimizer instead.\n",
      "\n",
      "Model: \"sequential\"\n",
      "_________________________________________________________________\n",
      " Layer (type)                Output Shape              Param #   \n",
      "=================================================================\n",
      " dense (Dense)               (None, 100)               78500     \n",
      "                                                                 \n",
      " dense_1 (Dense)             (None, 100)               10100     \n",
      "                                                                 \n",
      " dense_2 (Dense)             (None, 10)                1010      \n",
      "                                                                 \n",
      "=================================================================\n",
      "Total params: 89610 (350.04 KB)\n",
      "Trainable params: 89610 (350.04 KB)\n",
      "Non-trainable params: 0 (0.00 Byte)\n",
      "_________________________________________________________________\n"
     ]
    }
   ],
   "source": [
    "# Create the model (neural network) with the layers you consider\n",
    "model = keras.Sequential()\n",
    "n1=100\n",
    "n2=100\n",
    "\n",
    "# model.add(layers.Conv2D())\n",
    "# model.add(layers.MaxPooling2D())\n",
    "# model.add(layers.Conv2D())\n",
    "# flatten\n",
    "# dense\n",
    "# dense\n",
    "\n",
    "model.add(layers.Dense(units = n1, input_dim = 784, activation = \"sigmoid\")) \n",
    "model.add(layers.Dense(units = n2, activation = \"sigmoid\")) \n",
    "model.add(layers.Dense(units = 10 , activation = \"sigmoid\"))\n",
    "# If you wish you can modify the way the model is compiled\n",
    "\n",
    "model.compile(loss = 'categorical_crossentropy',\n",
    "              optimizer = 'rmsprop',\n",
    "              metrics = ['accuracy'])\n",
    "model.summary()\n",
    "\n",
    "# model.compile(\n",
    "#   optimizer = keras.optimizers.SGD(0.1), # Stochastic Gradient Descent (SGD) con un learning rate de 0.1\n",
    "#   # optimizer = keras.optimizers.SGD(0.1, momentum = 0.01), # Con momento\n",
    "#   # Una de las ventajas del optimizador SGD es que en cada iteración se utiliza un subgrupo de muestras diferente lo que evita caer en mínimos locales\n",
    "#   loss = \"mse\",\n",
    "#   metrics = [\"accuracy\"]\n",
    "#)"
   ]
  },
  {
   "cell_type": "code",
   "execution_count": 11,
   "id": "f7f8ce5d-46cb-4153-b447-8c16a0b68ab2",
   "metadata": {},
   "outputs": [],
   "source": [
    "ep = 10 #num epocas\n",
    "bs = 10 #batch size"
   ]
  },
  {
   "cell_type": "code",
   "execution_count": 12,
   "id": "ba25f485",
   "metadata": {
    "scrolled": true
   },
   "outputs": [
    {
     "name": "stdout",
     "output_type": "stream",
     "text": [
      "Epoch 1/10\n",
      "WARNING:tensorflow:From C:\\Users\\migue\\miniconda3\\Lib\\site-packages\\keras\\src\\utils\\tf_utils.py:492: The name tf.ragged.RaggedTensorValue is deprecated. Please use tf.compat.v1.ragged.RaggedTensorValue instead.\n",
      "\n",
      "WARNING:tensorflow:From C:\\Users\\migue\\miniconda3\\Lib\\site-packages\\keras\\src\\engine\\base_layer_utils.py:384: The name tf.executing_eagerly_outside_functions is deprecated. Please use tf.compat.v1.executing_eagerly_outside_functions instead.\n",
      "\n",
      "2000/2000 [==============================] - 5s 2ms/step - loss: 1.2887 - accuracy: 0.6615\n",
      "Epoch 2/10\n",
      "2000/2000 [==============================] - 4s 2ms/step - loss: 0.4614 - accuracy: 0.8593\n",
      "Epoch 3/10\n",
      "2000/2000 [==============================] - 4s 2ms/step - loss: 0.3348 - accuracy: 0.9008\n",
      "Epoch 4/10\n",
      "2000/2000 [==============================] - 5s 2ms/step - loss: 0.2643 - accuracy: 0.9214\n",
      "Epoch 5/10\n",
      "2000/2000 [==============================] - 5s 3ms/step - loss: 0.2192 - accuracy: 0.9351\n",
      "Epoch 6/10\n",
      "2000/2000 [==============================] - 5s 2ms/step - loss: 0.1844 - accuracy: 0.9470\n",
      "Epoch 7/10\n",
      "2000/2000 [==============================] - 5s 2ms/step - loss: 0.1576 - accuracy: 0.9553\n",
      "Epoch 8/10\n",
      "2000/2000 [==============================] - 4s 2ms/step - loss: 0.1371 - accuracy: 0.9610\n",
      "Epoch 9/10\n",
      "2000/2000 [==============================] - 5s 2ms/step - loss: 0.1205 - accuracy: 0.9650\n",
      "Epoch 10/10\n",
      "2000/2000 [==============================] - 5s 2ms/step - loss: 0.1055 - accuracy: 0.9708\n",
      "Epoch 1/10\n",
      "2000/2000 [==============================] - 5s 2ms/step - loss: 1.2794 - accuracy: 0.6582\n",
      "Epoch 2/10\n",
      "2000/2000 [==============================] - 5s 2ms/step - loss: 0.4505 - accuracy: 0.8612\n",
      "Epoch 3/10\n",
      "2000/2000 [==============================] - 4s 2ms/step - loss: 0.3264 - accuracy: 0.9015\n",
      "Epoch 4/10\n",
      "2000/2000 [==============================] - 5s 2ms/step - loss: 0.2605 - accuracy: 0.9233\n",
      "Epoch 5/10\n",
      "2000/2000 [==============================] - 4s 2ms/step - loss: 0.2163 - accuracy: 0.9373\n",
      "Epoch 6/10\n",
      "2000/2000 [==============================] - 5s 3ms/step - loss: 0.1852 - accuracy: 0.9444\n",
      "Epoch 7/10\n",
      "2000/2000 [==============================] - 5s 2ms/step - loss: 0.1618 - accuracy: 0.9531\n",
      "Epoch 8/10\n",
      "2000/2000 [==============================] - 5s 3ms/step - loss: 0.1416 - accuracy: 0.9593\n",
      "Epoch 9/10\n",
      "2000/2000 [==============================] - 5s 2ms/step - loss: 0.1251 - accuracy: 0.9643\n",
      "Epoch 10/10\n",
      "2000/2000 [==============================] - 4s 2ms/step - loss: 0.1101 - accuracy: 0.9682\n",
      "Epoch 1/10\n",
      "2000/2000 [==============================] - 4s 2ms/step - loss: 1.2770 - accuracy: 0.6593\n",
      "Epoch 2/10\n",
      "2000/2000 [==============================] - 5s 2ms/step - loss: 0.4544 - accuracy: 0.8606\n",
      "Epoch 3/10\n",
      "2000/2000 [==============================] - 5s 2ms/step - loss: 0.3268 - accuracy: 0.9031\n",
      "Epoch 4/10\n",
      "2000/2000 [==============================] - 4s 2ms/step - loss: 0.2631 - accuracy: 0.9230\n",
      "Epoch 5/10\n",
      "2000/2000 [==============================] - 4s 2ms/step - loss: 0.2190 - accuracy: 0.9364\n",
      "Epoch 6/10\n",
      "2000/2000 [==============================] - 4s 2ms/step - loss: 0.1872 - accuracy: 0.9450\n",
      "Epoch 7/10\n",
      "2000/2000 [==============================] - 4s 2ms/step - loss: 0.1609 - accuracy: 0.9524\n",
      "Epoch 8/10\n",
      "2000/2000 [==============================] - 4s 2ms/step - loss: 0.1415 - accuracy: 0.9600\n",
      "Epoch 9/10\n",
      "2000/2000 [==============================] - 4s 2ms/step - loss: 0.1263 - accuracy: 0.9657\n",
      "Epoch 10/10\n",
      "2000/2000 [==============================] - 4s 2ms/step - loss: 0.1112 - accuracy: 0.9689\n"
     ]
    },
    {
     "name": "stderr",
     "output_type": "stream",
     "text": [
      "C:\\Users\\migue\\miniconda3\\Lib\\site-packages\\keras\\src\\engine\\training.py:3103: UserWarning: You are saving your model as an HDF5 file via `model.save()`. This file format is considered legacy. We recommend using instead the native Keras format, e.g. `model.save('my_model.keras')`.\n",
      "  saving_api.save_model(\n"
     ]
    }
   ],
   "source": [
    "#ronda 1\n",
    "weights_for_layer1 = np.random.randn(784, n1)\n",
    "biases_for_layer1 = np.ones(n1) \n",
    "weights_for_layer2 = np.random.randn(n1, n2)\n",
    "biases_for_layer2 = np.ones(n2)\n",
    "weights_for_layer3 = np.random.randn(n2, 10)\n",
    "biases_for_layer3 = np.ones(10)\n",
    "\n",
    "# Train for the first client\n",
    "model.layers[0].set_weights([weights_for_layer1, biases_for_layer1])\n",
    "model.layers[1].set_weights([weights_for_layer2, biases_for_layer2])\n",
    "model.layers[2].set_weights([weights_for_layer3, biases_for_layer3])\n",
    "\n",
    "model.fit(client1_x, client1_y, epochs = ep, batch_size = bs)\n",
    "\n",
    "w1cl1, b1cl1 = model.layers[0].get_weights()\n",
    "w2cl1, b2cl1 = model.layers[1].get_weights()\n",
    "w3cl1, b3cl1 = model.layers[2].get_weights()\n",
    "\n",
    "# Train for the second client (remember to give the model the initial weights).\n",
    "\n",
    "model.layers[0].set_weights([weights_for_layer1, biases_for_layer1])\n",
    "model.layers[1].set_weights([weights_for_layer2, biases_for_layer2])\n",
    "model.layers[2].set_weights([weights_for_layer3, biases_for_layer3])\n",
    "\n",
    "model.fit(client2_x, client2_y, epochs = ep, batch_size = bs)\n",
    "\n",
    "w1cl2, b1cl2 = model.layers[0].get_weights()\n",
    "w2cl2, b2cl2 = model.layers[1].get_weights()\n",
    "w3cl2, b3cl2 = model.layers[2].get_weights()\n",
    "\n",
    "# Train for the third client (remember to set the initial weights for the model).\n",
    "model.layers[0].set_weights([weights_for_layer1, biases_for_layer1])\n",
    "model.layers[1].set_weights([weights_for_layer2, biases_for_layer2])\n",
    "model.layers[2].set_weights([weights_for_layer3, biases_for_layer3])\n",
    "\n",
    "model.fit(client3_x, client3_y, epochs = ep, batch_size = bs)\n",
    "# Obtain client 1 weights:\n",
    "w1cl3, b1cl3 = model.layers[0].get_weights()\n",
    "w2cl3, b2cl3 = model.layers[1].get_weights()\n",
    "w3cl3, b3cl3 = model.layers[2].get_weights()\n",
    "\n",
    "\n",
    "# Aggregate the weights obtained with each client using an aggregation function that performs a weighted average:\n",
    "\n",
    "#la suma ponderada coincide con la media aritmetica tiendo en cuenta que los subconjuntos de datos tienen el mismo \n",
    "#número de elementos\n",
    "avg_w1 = (w1cl1+w1cl2+w1cl3)/3\n",
    "avg_w2 = (w2cl1+w2cl2+w2cl3)/3\n",
    "avg_w3 = (w3cl1+w3cl2+w3cl3)/3\n",
    "\n",
    "avg_b1 = (b1cl1+b1cl2+b1cl3)/3\n",
    "avg_b2 = (b2cl1+b2cl2+b2cl3)/3\n",
    "avg_b3 = (b3cl1+b3cl2+b3cl3)/3\n",
    "\n",
    "# Save the resulting model (with the new weights), you will use it to train on the test set:\n",
    "\n",
    "model.layers[0].set_weights([avg_w1, avg_b1])\n",
    "model.layers[1].set_weights([avg_w2, avg_b2])\n",
    "model.layers[2].set_weights([avg_w3, avg_b3])\n",
    "\n",
    "model.save('model1.h5')\n",
    "model.save('model1.keras')\n",
    "# Repeat the above process 2 more times (you can use a loop if you wish). Remember to update the weights\n",
    "# of the model as corresponds in each case "
   ]
  },
  {
   "cell_type": "code",
   "execution_count": 13,
   "id": "03e6fab5-c2c9-4d0c-ad27-b075cb05ed1c",
   "metadata": {
    "scrolled": true
   },
   "outputs": [
    {
     "name": "stdout",
     "output_type": "stream",
     "text": [
      "Epoch 1/10\n",
      "2000/2000 [==============================] - 5s 2ms/step - loss: 0.2136 - accuracy: 0.9388\n",
      "Epoch 2/10\n",
      "2000/2000 [==============================] - 4s 2ms/step - loss: 0.1684 - accuracy: 0.9521\n",
      "Epoch 3/10\n",
      "2000/2000 [==============================] - 4s 2ms/step - loss: 0.1403 - accuracy: 0.9600\n",
      "Epoch 4/10\n",
      "2000/2000 [==============================] - 4s 2ms/step - loss: 0.1211 - accuracy: 0.9662\n",
      "Epoch 5/10\n",
      "2000/2000 [==============================] - 4s 2ms/step - loss: 0.1020 - accuracy: 0.9717\n",
      "Epoch 6/10\n",
      "2000/2000 [==============================] - 4s 2ms/step - loss: 0.0900 - accuracy: 0.9761\n",
      "Epoch 7/10\n",
      "2000/2000 [==============================] - 4s 2ms/step - loss: 0.0796 - accuracy: 0.9789\n",
      "Epoch 8/10\n",
      "2000/2000 [==============================] - 4s 2ms/step - loss: 0.0690 - accuracy: 0.9808\n",
      "Epoch 9/10\n",
      "2000/2000 [==============================] - 4s 2ms/step - loss: 0.0618 - accuracy: 0.9840\n",
      "Epoch 10/10\n",
      "2000/2000 [==============================] - 5s 2ms/step - loss: 0.0543 - accuracy: 0.9858\n",
      "Epoch 1/10\n",
      "2000/2000 [==============================] - 4s 2ms/step - loss: 0.2142 - accuracy: 0.9402\n",
      "Epoch 2/10\n",
      "2000/2000 [==============================] - 5s 2ms/step - loss: 0.1699 - accuracy: 0.9516\n",
      "Epoch 3/10\n",
      "2000/2000 [==============================] - 4s 2ms/step - loss: 0.1444 - accuracy: 0.9599\n",
      "Epoch 4/10\n",
      "2000/2000 [==============================] - 4s 2ms/step - loss: 0.1219 - accuracy: 0.9661\n",
      "Epoch 5/10\n",
      "2000/2000 [==============================] - 5s 2ms/step - loss: 0.1075 - accuracy: 0.9707\n",
      "Epoch 6/10\n",
      "2000/2000 [==============================] - 4s 2ms/step - loss: 0.0925 - accuracy: 0.9746\n",
      "Epoch 7/10\n",
      "2000/2000 [==============================] - 5s 2ms/step - loss: 0.0823 - accuracy: 0.9776\n",
      "Epoch 8/10\n",
      "2000/2000 [==============================] - 4s 2ms/step - loss: 0.0721 - accuracy: 0.9800\n",
      "Epoch 9/10\n",
      "2000/2000 [==============================] - 4s 2ms/step - loss: 0.0651 - accuracy: 0.9828\n",
      "Epoch 10/10\n",
      "2000/2000 [==============================] - 4s 2ms/step - loss: 0.0577 - accuracy: 0.9851\n",
      "Epoch 1/10\n",
      "2000/2000 [==============================] - 4s 2ms/step - loss: 0.2103 - accuracy: 0.9397\n",
      "Epoch 2/10\n",
      "2000/2000 [==============================] - 6s 3ms/step - loss: 0.1670 - accuracy: 0.9518\n",
      "Epoch 3/10\n",
      "2000/2000 [==============================] - 5s 2ms/step - loss: 0.1403 - accuracy: 0.9597\n",
      "Epoch 4/10\n",
      "2000/2000 [==============================] - 5s 3ms/step - loss: 0.1206 - accuracy: 0.9660\n",
      "Epoch 5/10\n",
      "2000/2000 [==============================] - 5s 2ms/step - loss: 0.1023 - accuracy: 0.9708\n",
      "Epoch 6/10\n",
      "2000/2000 [==============================] - 4s 2ms/step - loss: 0.0913 - accuracy: 0.9744\n",
      "Epoch 7/10\n",
      "2000/2000 [==============================] - 4s 2ms/step - loss: 0.0786 - accuracy: 0.9778\n",
      "Epoch 8/10\n",
      "2000/2000 [==============================] - 6s 3ms/step - loss: 0.0677 - accuracy: 0.9819\n",
      "Epoch 9/10\n",
      "2000/2000 [==============================] - 5s 2ms/step - loss: 0.0599 - accuracy: 0.9847\n",
      "Epoch 10/10\n",
      "2000/2000 [==============================] - 5s 2ms/step - loss: 0.0523 - accuracy: 0.9869\n",
      "Epoch 1/10\n",
      "2000/2000 [==============================] - 5s 2ms/step - loss: 0.1338 - accuracy: 0.9627\n",
      "Epoch 2/10\n",
      "2000/2000 [==============================] - 4s 2ms/step - loss: 0.1032 - accuracy: 0.9714\n",
      "Epoch 3/10\n",
      "2000/2000 [==============================] - 4s 2ms/step - loss: 0.0837 - accuracy: 0.9764\n",
      "Epoch 4/10\n",
      "2000/2000 [==============================] - 4s 2ms/step - loss: 0.0706 - accuracy: 0.9802\n",
      "Epoch 5/10\n",
      "2000/2000 [==============================] - 4s 2ms/step - loss: 0.0602 - accuracy: 0.9846\n",
      "Epoch 6/10\n",
      "2000/2000 [==============================] - 4s 2ms/step - loss: 0.0517 - accuracy: 0.9862\n",
      "Epoch 7/10\n",
      "2000/2000 [==============================] - 4s 2ms/step - loss: 0.0461 - accuracy: 0.9880\n",
      "Epoch 8/10\n",
      "2000/2000 [==============================] - 4s 2ms/step - loss: 0.0399 - accuracy: 0.9898\n",
      "Epoch 9/10\n",
      "2000/2000 [==============================] - 4s 2ms/step - loss: 0.0340 - accuracy: 0.9911\n",
      "Epoch 10/10\n",
      "2000/2000 [==============================] - 4s 2ms/step - loss: 0.0309 - accuracy: 0.9921\n",
      "Epoch 1/10\n",
      "2000/2000 [==============================] - 4s 2ms/step - loss: 0.1384 - accuracy: 0.9617\n",
      "Epoch 2/10\n",
      "2000/2000 [==============================] - 4s 2ms/step - loss: 0.1082 - accuracy: 0.9708\n",
      "Epoch 3/10\n",
      "2000/2000 [==============================] - 4s 2ms/step - loss: 0.0889 - accuracy: 0.9760\n",
      "Epoch 4/10\n",
      "2000/2000 [==============================] - 4s 2ms/step - loss: 0.0766 - accuracy: 0.9788\n",
      "Epoch 5/10\n",
      "2000/2000 [==============================] - 4s 2ms/step - loss: 0.0648 - accuracy: 0.9821\n",
      "Epoch 6/10\n",
      "2000/2000 [==============================] - 4s 2ms/step - loss: 0.0560 - accuracy: 0.9851\n",
      "Epoch 7/10\n",
      "2000/2000 [==============================] - 4s 2ms/step - loss: 0.0491 - accuracy: 0.9876\n",
      "Epoch 8/10\n",
      "2000/2000 [==============================] - 4s 2ms/step - loss: 0.0428 - accuracy: 0.9893\n",
      "Epoch 9/10\n",
      "2000/2000 [==============================] - 4s 2ms/step - loss: 0.0370 - accuracy: 0.9905\n",
      "Epoch 10/10\n",
      "2000/2000 [==============================] - 4s 2ms/step - loss: 0.0328 - accuracy: 0.9919\n",
      "Epoch 1/10\n",
      "2000/2000 [==============================] - 4s 2ms/step - loss: 0.1369 - accuracy: 0.9622\n",
      "Epoch 2/10\n",
      "2000/2000 [==============================] - 4s 2ms/step - loss: 0.1050 - accuracy: 0.9702\n",
      "Epoch 3/10\n",
      "2000/2000 [==============================] - 4s 2ms/step - loss: 0.0856 - accuracy: 0.9776\n",
      "Epoch 4/10\n",
      "2000/2000 [==============================] - 4s 2ms/step - loss: 0.0718 - accuracy: 0.9809\n",
      "Epoch 5/10\n",
      "2000/2000 [==============================] - 4s 2ms/step - loss: 0.0613 - accuracy: 0.9843\n",
      "Epoch 6/10\n",
      "2000/2000 [==============================] - 4s 2ms/step - loss: 0.0528 - accuracy: 0.9863\n",
      "Epoch 7/10\n",
      "2000/2000 [==============================] - 4s 2ms/step - loss: 0.0462 - accuracy: 0.9880\n",
      "Epoch 8/10\n",
      "2000/2000 [==============================] - 4s 2ms/step - loss: 0.0407 - accuracy: 0.9897\n",
      "Epoch 9/10\n",
      "2000/2000 [==============================] - 4s 2ms/step - loss: 0.0353 - accuracy: 0.9909\n",
      "Epoch 10/10\n",
      "2000/2000 [==============================] - 4s 2ms/step - loss: 0.0308 - accuracy: 0.9923\n"
     ]
    }
   ],
   "source": [
    "#resto de rondas\n",
    "for i in np.arange(2,4):\n",
    "    weights_for_layer1, biases_for_layer1 = model.layers[0].get_weights() \n",
    "    weights_for_layer2, biases_for_layer2 = model.layers[1].get_weights() \n",
    "    weights_for_layer3, biases_for_layer3 = model.layers[2].get_weights() \n",
    "    \n",
    "    # Train for the first client\n",
    "    \n",
    "    model.fit(client1_x, client1_y, epochs = ep, batch_size = bs)\n",
    "    \n",
    "    w1cl1, b1cl1 = model.layers[0].get_weights()\n",
    "    w2cl1, b2cl1 = model.layers[1].get_weights()\n",
    "    w3cl1, b3cl1 = model.layers[2].get_weights()\n",
    "    \n",
    "    # Train for the second client (remember to give the model the initial weights).\n",
    "    \n",
    "    model.layers[0].set_weights([weights_for_layer1, biases_for_layer1])\n",
    "    model.layers[1].set_weights([weights_for_layer2, biases_for_layer2])\n",
    "    model.layers[2].set_weights([weights_for_layer3, biases_for_layer3])\n",
    "    \n",
    "    model.fit(client2_x, client2_y, epochs = ep, batch_size = bs)\n",
    "    \n",
    "    w1cl2, b1cl2 = model.layers[0].get_weights()\n",
    "    w2cl2, b2cl2 = model.layers[1].get_weights()\n",
    "    w3cl2, b3cl2 = model.layers[2].get_weights()\n",
    "    \n",
    "    # Train for the third client (remember to set the initial weights for the model).\n",
    "    model.layers[0].set_weights([weights_for_layer1, biases_for_layer1])\n",
    "    model.layers[1].set_weights([weights_for_layer2, biases_for_layer2])\n",
    "    model.layers[2].set_weights([weights_for_layer3, biases_for_layer3])\n",
    "    \n",
    "    model.fit(client3_x, client3_y, epochs = ep, batch_size = bs)\n",
    "    # Obtain client 1 weights:\n",
    "    w1cl3, b1cl3 = model.layers[0].get_weights()\n",
    "    w2cl3, b2cl3 = model.layers[1].get_weights()\n",
    "    w3cl3, b3cl3 = model.layers[2].get_weights()\n",
    "    \n",
    "    # Aggregate the weights obtained with each client using an aggregation function that performs a weighted average:\n",
    "    \n",
    "    #la suma ponderada coincide con la media aritmetica tiendo en cuenta que los subconjuntos de datos tienen el mismo \n",
    "    #número de elementos\n",
    "    avg_w1 = (w1cl1+w1cl2+w1cl3)/3\n",
    "    avg_w2 = (w2cl1+w2cl2+w2cl3)/3\n",
    "    avg_w3 = (w3cl1+w3cl2+w3cl3)/3\n",
    "    \n",
    "    avg_b1 = (b1cl1+b1cl2+b1cl3)/3\n",
    "    avg_b2 = (b2cl1+b2cl2+b2cl3)/3\n",
    "    avg_b3 = (b3cl1+b3cl2+b3cl3)/3\n",
    "    \n",
    "    # Save the resulting model (with the new weights), you will use it to train on the test set:\n",
    "    \n",
    "    model.layers[0].set_weights([avg_w1, avg_b1])\n",
    "    model.layers[1].set_weights([avg_w2, avg_b2])\n",
    "    model.layers[2].set_weights([avg_w3, avg_b3])\n",
    "    \n",
    "    model.save('model'+str(i)+'.h5')\n",
    "    model.save('model'+str(i)+'.keras')"
   ]
  },
  {
   "cell_type": "markdown",
   "id": "0f37b536",
   "metadata": {},
   "source": [
    "\n",
    "**HINT**: some functions you need to know: set_weights, get_weights. Create an auxiliary function to aggregate the weights. This function will receive the number of data for each client (so that the average is weighted), and the weights for each of them. \n",
    "\n",
    "Let $N$ be the number of clients and $n_i$ the number of data for each of these, remember that this aggregation function is given by:\n",
    "\n",
    "$$\n",
    "\\sum_{i=1}^{N} w_{i} \\cdot weights\\_client\\_i\n",
    "$$\n",
    "\n",
    "$$\n",
    "w_i = \\frac{n_i}{\\sum_{i=1}^{N}n_{i}} \\hspace{0.5cm} \\forall i \\in \\{1,...,N\\}\n",
    "$$"
   ]
  },
  {
   "cell_type": "code",
   "execution_count": 14,
   "id": "bacf46c9",
   "metadata": {},
   "outputs": [
    {
     "name": "stdout",
     "output_type": "stream",
     "text": [
      "100/100 [==============================] - 0s 2ms/step - loss: 0.2728 - accuracy: 0.9259\n",
      "100/100 [==============================] - 0s 2ms/step - loss: 0.2073 - accuracy: 0.9498\n",
      "100/100 [==============================] - 0s 3ms/step - loss: 0.1965 - accuracy: 0.9546\n"
     ]
    }
   ],
   "source": [
    "# Evaluate each saved model (you should have model1.h5, model2.h5 and model3.h5) with the test data,\n",
    "# display and analyze the obtained results:\n",
    "\n",
    "testEval = np.empty((3,2))\n",
    "for i in np.arange(3):\n",
    "    modelprueba = load_model('model'+str(i+1)+'.keras')\n",
    "    m_eval = modelprueba.evaluate(X_test, y_test, batch_size=100)\n",
    "    testEval[i] = m_eval"
   ]
  },
  {
   "cell_type": "code",
   "execution_count": 15,
   "id": "dc4a76ed-fbdf-41c0-87b0-88ee26813cb2",
   "metadata": {},
   "outputs": [
    {
     "data": {
      "text/html": [
       "<div>\n",
       "<style scoped>\n",
       "    .dataframe tbody tr th:only-of-type {\n",
       "        vertical-align: middle;\n",
       "    }\n",
       "\n",
       "    .dataframe tbody tr th {\n",
       "        vertical-align: top;\n",
       "    }\n",
       "\n",
       "    .dataframe thead th {\n",
       "        text-align: right;\n",
       "    }\n",
       "</style>\n",
       "<table border=\"1\" class=\"dataframe\">\n",
       "  <thead>\n",
       "    <tr style=\"text-align: right;\">\n",
       "      <th></th>\n",
       "      <th>Loss</th>\n",
       "      <th>Accuracy</th>\n",
       "    </tr>\n",
       "  </thead>\n",
       "  <tbody>\n",
       "    <tr>\n",
       "      <th>0</th>\n",
       "      <td>0.272763</td>\n",
       "      <td>0.9259</td>\n",
       "    </tr>\n",
       "    <tr>\n",
       "      <th>1</th>\n",
       "      <td>0.207298</td>\n",
       "      <td>0.9498</td>\n",
       "    </tr>\n",
       "    <tr>\n",
       "      <th>2</th>\n",
       "      <td>0.196519</td>\n",
       "      <td>0.9546</td>\n",
       "    </tr>\n",
       "  </tbody>\n",
       "</table>\n",
       "</div>"
      ],
      "text/plain": [
       "       Loss  Accuracy\n",
       "0  0.272763    0.9259\n",
       "1  0.207298    0.9498\n",
       "2  0.196519    0.9546"
      ]
     },
     "execution_count": 15,
     "metadata": {},
     "output_type": "execute_result"
    }
   ],
   "source": [
    "dataEval = pd.DataFrame({'Loss': testEval[:,0],\n",
    "                        'Accuracy': testEval[:,1]})\n",
    "dataEval"
   ]
  },
  {
   "cell_type": "code",
   "execution_count": 16,
   "id": "a8228fe2-2a40-45db-8256-7ff25a57b3d9",
   "metadata": {},
   "outputs": [
    {
     "data": {
      "image/png": "[encoded data removed]",
      "text/plain": [
       "<Figure size 640x480 with 1 Axes>"
      ]
     },
     "metadata": {},
     "output_type": "display_data"
    }
   ],
   "source": [
    "plt.plot(np.array([1,2,3]),testEval[:,0])\n",
    "plt.xlabel('modelo')\n",
    "plt.ylabel('Loss')\n",
    "plt.show()"
   ]
  },
  {
   "cell_type": "code",
   "execution_count": 17,
   "id": "8887ec16-2072-44ee-923e-a5a71d0c7c94",
   "metadata": {},
   "outputs": [
    {
     "data": {
      "image/png": "[encoded data removed]",
      "text/plain": [
       "<Figure size 640x480 with 1 Axes>"
      ]
     },
     "metadata": {},
     "output_type": "display_data"
    }
   ],
   "source": [
    "plt.plot(np.array([1,2,3]),testEval[:,1])\n",
    "plt.xlabel('modelo')\n",
    "plt.ylabel('Accuracy')\n",
    "plt.show()"
   ]
  },
  {
   "cell_type": "markdown",
   "id": "0e0aa5cc-3510-4b91-9311-f9b2d062be43",
   "metadata": {},
   "source": [
    "Vemos que a medida que se hacen más rondas de entrenamiento del modelo mejoran las métricas loss y accuracy consideradas, y que por tanto el Federated Learning está permitiendo mejorar los modelos de cada cliente con los datos del resto accediendo solo a los pesos calculados."
   ]
  }
 ],
 "metadata": {
  "kernelspec": {
   "display_name": "Python 3 (ipykernel)",
   "language": "python",
   "name": "python3"
  },
  "language_info": {
   "codemirror_mode": {
    "name": "ipython",
    "version": 3
   },
   "file_extension": ".py",
   "mimetype": "text/x-python",
   "name": "python",
   "nbconvert_exporter": "python",
   "pygments_lexer": "ipython3",
   "version": "3.11.5"
  }
 },
 "nbformat": 4,
 "nbformat_minor": 5
}

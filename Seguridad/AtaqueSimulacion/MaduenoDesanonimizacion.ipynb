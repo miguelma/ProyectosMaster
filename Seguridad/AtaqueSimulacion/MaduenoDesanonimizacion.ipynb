{
 "cells": [
  {
   "cell_type": "markdown",
   "id": "472ce8f9-731d-4ce0-9778-f386683fdc69",
   "metadata": {},
   "source": [
    "#### Realizar una desanonimización de los datos de Medallion y números de licencia. Subir a Moodle el código utilizado (incluyendo explicaciones y comentarios) y el dataset desanonimizado (2 ficheros en total)."
   ]
  },
  {
   "cell_type": "code",
   "execution_count": 1,
   "id": "3c856c23-d622-4908-b1c6-7d7185f190a8",
   "metadata": {},
   "outputs": [],
   "source": [
    "import pandas as pd\n",
    "import numpy as np\n",
    "import hashlib \n",
    "import itertools"
   ]
  },
  {
   "cell_type": "markdown",
   "id": "bf8fcdde-c964-4bee-afd1-95e694455daf",
   "metadata": {},
   "source": [
    "Empezamos haciendo un diccionario para los posibles valores de medallions y licencias y sus correspondientes hashes."
   ]
  },
  {
   "cell_type": "markdown",
   "id": "fff204d6-51e4-48c9-9740-0fec5a9183ad",
   "metadata": {},
   "source": [
    "#### Medallion"
   ]
  },
  {
   "cell_type": "code",
   "execution_count": 5,
   "id": "1a3b9135-bf14-4554-9c93-2e5c56cb1b7b",
   "metadata": {},
   "outputs": [],
   "source": [
    "#medallion\n",
    "#inicializamos tabla\n",
    "hashes = {}\n",
    "\n",
    "#añadimos datos de los medallion con formato 5X55\n",
    "alfabeto = 'ABCDEFGHIJKLMNOPQRSTUVWXYZ' #valores que puede tomar X\n",
    "\n",
    "for num1 in range(10):\n",
    "    for num2 in range(100):\n",
    "        for x in alfabeto:\n",
    "            #crea el hash y lo almacena\n",
    "            codigomed = str(num1)+x+('%0.2d' % num2)\n",
    "            hashes[hashlib.md5(codigomed.encode()).hexdigest().upper()] = codigomed"
   ]
  },
  {
   "cell_type": "code",
   "execution_count": 6,
   "id": "e5cfa152-a5ba-4551-a586-f271688bd36c",
   "metadata": {},
   "outputs": [],
   "source": [
    "#medallions con formato XX555\n",
    "for num1 in range(1000):\n",
    "    for comb in itertools.permutations(alfabeto, 2):\n",
    "        #crea el hash y lo añade\n",
    "        codigomed = ''.join(comb)+('%0.3d' % num1)\n",
    "        hashes[hashlib.md5(codigomed.encode()).hexdigest().upper()] = codigomed "
   ]
  },
  {
   "cell_type": "code",
   "execution_count": 7,
   "id": "2b32e7e9-04d8-47a4-907a-f58a025c8413",
   "metadata": {},
   "outputs": [],
   "source": [
    "#medallions con formato XXX555\n",
    "for num1 in range(1000):\n",
    "    for comb in itertools.permutations(alfabeto, 3):\n",
    "        #crea el hash y lo añade\n",
    "        codigomed = ''.join(comb)+('%0.3d' % num1)\n",
    "        hashes[hashlib.md5(codigomed.encode()).hexdigest().upper()]=codigomed"
   ]
  },
  {
   "cell_type": "markdown",
   "id": "c62f133c-b69c-4128-8144-12e1c42a68d4",
   "metadata": {},
   "source": [
    "#### Licencias"
   ]
  },
  {
   "cell_type": "code",
   "execution_count": 8,
   "id": "e29692d4-c9ea-4ada-87db-50b785be4f06",
   "metadata": {},
   "outputs": [],
   "source": [
    "#lo mismo para licencias\n",
    "for num in range(1000000):\n",
    "    #crea el hash y lo añade\n",
    "    codigolic = '%0.6d' % num\n",
    "    codigolic2 = str(5)+codigolic\n",
    "    hashes[hashlib.md5(codigolic.encode()).hexdigest().upper()]=codigolic\n",
    "    hashes[hashlib.md5(codigolic2.encode()).hexdigest().upper()]=codigolic2     "
   ]
  },
  {
   "cell_type": "markdown",
   "id": "a1362879-8883-4c36-9cae-9a78f6662a50",
   "metadata": {},
   "source": [
    "A continuación, recorremos el dataset original y buscamos en el diccionario de hashes cada medallion y hack_license para intentar identificarlos."
   ]
  },
  {
   "cell_type": "code",
   "execution_count": 9,
   "id": "70350440-c3b3-42b0-9af1-591960a519bd",
   "metadata": {},
   "outputs": [
    {
     "data": {
      "text/html": [
       "<div>\n",
       "<style scoped>\n",
       "    .dataframe tbody tr th:only-of-type {\n",
       "        vertical-align: middle;\n",
       "    }\n",
       "\n",
       "    .dataframe tbody tr th {\n",
       "        vertical-align: top;\n",
       "    }\n",
       "\n",
       "    .dataframe thead th {\n",
       "        text-align: right;\n",
       "    }\n",
       "</style>\n",
       "<table border=\"1\" class=\"dataframe\">\n",
       "  <thead>\n",
       "    <tr style=\"text-align: right;\">\n",
       "      <th></th>\n",
       "      <th>medallion</th>\n",
       "      <th>hack_license</th>\n",
       "      <th>vendor_id</th>\n",
       "      <th>rate_code</th>\n",
       "      <th>store_and_fwd_flag</th>\n",
       "      <th>pickup_datetime</th>\n",
       "      <th>dropoff_datetime</th>\n",
       "      <th>passenger_count</th>\n",
       "      <th>trip_time_in_secs</th>\n",
       "      <th>trip_distance</th>\n",
       "      <th>pickup_longitude</th>\n",
       "      <th>pickup_latitude</th>\n",
       "      <th>dropoff_longitude</th>\n",
       "      <th>dropoff_latitude</th>\n",
       "    </tr>\n",
       "  </thead>\n",
       "  <tbody>\n",
       "    <tr>\n",
       "      <th>0</th>\n",
       "      <td>789E7E64EC7C31A88C1683D3BA163A46</td>\n",
       "      <td>3C0FB2975708DF2E873C6D7C72E7EABE</td>\n",
       "      <td>VTS</td>\n",
       "      <td>1</td>\n",
       "      <td>NaN</td>\n",
       "      <td>2013-12-05 22:45:00</td>\n",
       "      <td>2013-12-05 22:54:00</td>\n",
       "      <td>4</td>\n",
       "      <td>540</td>\n",
       "      <td>2.08</td>\n",
       "      <td>-73.973854</td>\n",
       "      <td>40.762615</td>\n",
       "      <td>-73.954041</td>\n",
       "      <td>40.775455</td>\n",
       "    </tr>\n",
       "    <tr>\n",
       "      <th>1</th>\n",
       "      <td>9C34910D26A3CBBC48D309CEA303A1B7</td>\n",
       "      <td>D05DEF3DD93BBCF5D596476C8C18A138</td>\n",
       "      <td>VTS</td>\n",
       "      <td>1</td>\n",
       "      <td>NaN</td>\n",
       "      <td>2013-12-05 22:53:00</td>\n",
       "      <td>2013-12-05 22:57:00</td>\n",
       "      <td>6</td>\n",
       "      <td>240</td>\n",
       "      <td>0.56</td>\n",
       "      <td>-73.982300</td>\n",
       "      <td>40.766106</td>\n",
       "      <td>-73.982079</td>\n",
       "      <td>40.763973</td>\n",
       "    </tr>\n",
       "    <tr>\n",
       "      <th>2</th>\n",
       "      <td>5BA6F6CB6D998B34BAD3701A118E5419</td>\n",
       "      <td>AA6850948D1690435B1339BA4DCC0AA8</td>\n",
       "      <td>VTS</td>\n",
       "      <td>1</td>\n",
       "      <td>NaN</td>\n",
       "      <td>2013-12-05 22:51:00</td>\n",
       "      <td>2013-12-05 22:55:00</td>\n",
       "      <td>1</td>\n",
       "      <td>240</td>\n",
       "      <td>1.44</td>\n",
       "      <td>-73.989204</td>\n",
       "      <td>40.757675</td>\n",
       "      <td>-73.974815</td>\n",
       "      <td>40.765179</td>\n",
       "    </tr>\n",
       "  </tbody>\n",
       "</table>\n",
       "</div>"
      ],
      "text/plain": [
       "                          medallion                      hack_license  \\\n",
       "0  789E7E64EC7C31A88C1683D3BA163A46  3C0FB2975708DF2E873C6D7C72E7EABE   \n",
       "1  9C34910D26A3CBBC48D309CEA303A1B7  D05DEF3DD93BBCF5D596476C8C18A138   \n",
       "2  5BA6F6CB6D998B34BAD3701A118E5419  AA6850948D1690435B1339BA4DCC0AA8   \n",
       "\n",
       "  vendor_id  rate_code  store_and_fwd_flag      pickup_datetime  \\\n",
       "0       VTS          1                 NaN  2013-12-05 22:45:00   \n",
       "1       VTS          1                 NaN  2013-12-05 22:53:00   \n",
       "2       VTS          1                 NaN  2013-12-05 22:51:00   \n",
       "\n",
       "      dropoff_datetime  passenger_count  trip_time_in_secs  trip_distance  \\\n",
       "0  2013-12-05 22:54:00                4                540           2.08   \n",
       "1  2013-12-05 22:57:00                6                240           0.56   \n",
       "2  2013-12-05 22:55:00                1                240           1.44   \n",
       "\n",
       "   pickup_longitude  pickup_latitude  dropoff_longitude  dropoff_latitude  \n",
       "0        -73.973854        40.762615         -73.954041         40.775455  \n",
       "1        -73.982300        40.766106         -73.982079         40.763973  \n",
       "2        -73.989204        40.757675         -73.974815         40.765179  "
      ]
     },
     "execution_count": 9,
     "metadata": {},
     "output_type": "execute_result"
    }
   ],
   "source": [
    "df= pd.read_csv(\"trip_data.csv\")\n",
    "df.head(3)"
   ]
  },
  {
   "cell_type": "code",
   "execution_count": 10,
   "id": "1dc1a299-b845-491b-bca8-cdba2b66c403",
   "metadata": {},
   "outputs": [],
   "source": [
    "df_id = df.copy()"
   ]
  },
  {
   "cell_type": "code",
   "execution_count": 11,
   "id": "80878d86-65ca-4086-8ab1-0ea8827ecb94",
   "metadata": {},
   "outputs": [],
   "source": [
    "#desanonimizamos y almacenamos las nuevas columnas\n",
    "medallion2 = [None]*len(df)\n",
    "license2 = [None]*len(df)\n",
    "\n",
    "for i in df_id.index:\n",
    "    hashmed = df_id.loc[i]['medallion']\n",
    "    valmed = hashes.get(hashmed)\n",
    "    medallion2[i] = valmed\n",
    "\n",
    "    hashlic = df_id.loc[i]['hack_license']\n",
    "    vallic = hashes.get(hashlic)\n",
    "    license2[i] = vallic"
   ]
  },
  {
   "cell_type": "code",
   "execution_count": 14,
   "id": "9cbd0b22-b191-4686-9bd8-08aabd903702",
   "metadata": {},
   "outputs": [],
   "source": [
    "#añadimos las nuevas columnas al dataset de copia\n",
    "df_id['medallion_id']=medallion2\n",
    "df_id['license_id']=license2"
   ]
  },
  {
   "cell_type": "code",
   "execution_count": 15,
   "id": "acb2b630-af3e-424f-9228-e11bcbab64ed",
   "metadata": {},
   "outputs": [
    {
     "data": {
      "text/plain": [
       "Index(['medallion', 'hack_license', 'vendor_id', 'rate_code',\n",
       "       'store_and_fwd_flag', 'pickup_datetime', 'dropoff_datetime',\n",
       "       'passenger_count', 'trip_time_in_secs', 'trip_distance',\n",
       "       'pickup_longitude', 'pickup_latitude', 'dropoff_longitude',\n",
       "       'dropoff_latitude', 'medallion_id', 'license_id'],\n",
       "      dtype='object')"
      ]
     },
     "execution_count": 15,
     "metadata": {},
     "output_type": "execute_result"
    }
   ],
   "source": [
    "#cambiamos de orden las columnas para ver mejor los valores desanonimizados\n",
    "df_id.columns"
   ]
  },
  {
   "cell_type": "code",
   "execution_count": 16,
   "id": "36f46332-d93d-421c-93b0-b70b047eb00c",
   "metadata": {},
   "outputs": [
    {
     "data": {
      "text/html": [
       "<div>\n",
       "<style scoped>\n",
       "    .dataframe tbody tr th:only-of-type {\n",
       "        vertical-align: middle;\n",
       "    }\n",
       "\n",
       "    .dataframe tbody tr th {\n",
       "        vertical-align: top;\n",
       "    }\n",
       "\n",
       "    .dataframe thead th {\n",
       "        text-align: right;\n",
       "    }\n",
       "</style>\n",
       "<table border=\"1\" class=\"dataframe\">\n",
       "  <thead>\n",
       "    <tr style=\"text-align: right;\">\n",
       "      <th></th>\n",
       "      <th>medallion</th>\n",
       "      <th>hack_license</th>\n",
       "      <th>medallion_id</th>\n",
       "      <th>license_id</th>\n",
       "      <th>vendor_id</th>\n",
       "      <th>rate_code</th>\n",
       "      <th>store_and_fwd_flag</th>\n",
       "      <th>pickup_datetime</th>\n",
       "      <th>dropoff_datetime</th>\n",
       "      <th>passenger_count</th>\n",
       "      <th>trip_time_in_secs</th>\n",
       "      <th>trip_distance</th>\n",
       "      <th>pickup_longitude</th>\n",
       "      <th>pickup_latitude</th>\n",
       "      <th>dropoff_longitude</th>\n",
       "      <th>dropoff_latitude</th>\n",
       "    </tr>\n",
       "  </thead>\n",
       "  <tbody>\n",
       "    <tr>\n",
       "      <th>0</th>\n",
       "      <td>789E7E64EC7C31A88C1683D3BA163A46</td>\n",
       "      <td>3C0FB2975708DF2E873C6D7C72E7EABE</td>\n",
       "      <td>6D62</td>\n",
       "      <td>5123537</td>\n",
       "      <td>VTS</td>\n",
       "      <td>1</td>\n",
       "      <td>NaN</td>\n",
       "      <td>2013-12-05 22:45:00</td>\n",
       "      <td>2013-12-05 22:54:00</td>\n",
       "      <td>4</td>\n",
       "      <td>540</td>\n",
       "      <td>2.08</td>\n",
       "      <td>-73.973854</td>\n",
       "      <td>40.762615</td>\n",
       "      <td>-73.954041</td>\n",
       "      <td>40.775455</td>\n",
       "    </tr>\n",
       "    <tr>\n",
       "      <th>1</th>\n",
       "      <td>9C34910D26A3CBBC48D309CEA303A1B7</td>\n",
       "      <td>D05DEF3DD93BBCF5D596476C8C18A138</td>\n",
       "      <td>4D22</td>\n",
       "      <td>5171753</td>\n",
       "      <td>VTS</td>\n",
       "      <td>1</td>\n",
       "      <td>NaN</td>\n",
       "      <td>2013-12-05 22:53:00</td>\n",
       "      <td>2013-12-05 22:57:00</td>\n",
       "      <td>6</td>\n",
       "      <td>240</td>\n",
       "      <td>0.56</td>\n",
       "      <td>-73.982300</td>\n",
       "      <td>40.766106</td>\n",
       "      <td>-73.982079</td>\n",
       "      <td>40.763973</td>\n",
       "    </tr>\n",
       "    <tr>\n",
       "      <th>2</th>\n",
       "      <td>5BA6F6CB6D998B34BAD3701A118E5419</td>\n",
       "      <td>AA6850948D1690435B1339BA4DCC0AA8</td>\n",
       "      <td>7G79</td>\n",
       "      <td>491738</td>\n",
       "      <td>VTS</td>\n",
       "      <td>1</td>\n",
       "      <td>NaN</td>\n",
       "      <td>2013-12-05 22:51:00</td>\n",
       "      <td>2013-12-05 22:55:00</td>\n",
       "      <td>1</td>\n",
       "      <td>240</td>\n",
       "      <td>1.44</td>\n",
       "      <td>-73.989204</td>\n",
       "      <td>40.757675</td>\n",
       "      <td>-73.974815</td>\n",
       "      <td>40.765179</td>\n",
       "    </tr>\n",
       "  </tbody>\n",
       "</table>\n",
       "</div>"
      ],
      "text/plain": [
       "                          medallion                      hack_license  \\\n",
       "0  789E7E64EC7C31A88C1683D3BA163A46  3C0FB2975708DF2E873C6D7C72E7EABE   \n",
       "1  9C34910D26A3CBBC48D309CEA303A1B7  D05DEF3DD93BBCF5D596476C8C18A138   \n",
       "2  5BA6F6CB6D998B34BAD3701A118E5419  AA6850948D1690435B1339BA4DCC0AA8   \n",
       "\n",
       "  medallion_id license_id vendor_id  rate_code  store_and_fwd_flag  \\\n",
       "0         6D62    5123537       VTS          1                 NaN   \n",
       "1         4D22    5171753       VTS          1                 NaN   \n",
       "2         7G79     491738       VTS          1                 NaN   \n",
       "\n",
       "       pickup_datetime     dropoff_datetime  passenger_count  \\\n",
       "0  2013-12-05 22:45:00  2013-12-05 22:54:00                4   \n",
       "1  2013-12-05 22:53:00  2013-12-05 22:57:00                6   \n",
       "2  2013-12-05 22:51:00  2013-12-05 22:55:00                1   \n",
       "\n",
       "   trip_time_in_secs  trip_distance  pickup_longitude  pickup_latitude  \\\n",
       "0                540           2.08        -73.973854        40.762615   \n",
       "1                240           0.56        -73.982300        40.766106   \n",
       "2                240           1.44        -73.989204        40.757675   \n",
       "\n",
       "   dropoff_longitude  dropoff_latitude  \n",
       "0         -73.954041         40.775455  \n",
       "1         -73.982079         40.763973  \n",
       "2         -73.974815         40.765179  "
      ]
     },
     "execution_count": 16,
     "metadata": {},
     "output_type": "execute_result"
    }
   ],
   "source": [
    "df_id = df_id.reindex(columns=['medallion', 'hack_license', 'medallion_id', 'license_id','vendor_id',\n",
    "                         'rate_code', 'store_and_fwd_flag', 'pickup_datetime', 'dropoff_datetime','passenger_count',\n",
    "                         'trip_time_in_secs', 'trip_distance', 'pickup_longitude', 'pickup_latitude',\n",
    "                         'dropoff_longitude', 'dropoff_latitude'])\n",
    "df_id.head(3)"
   ]
  },
  {
   "cell_type": "markdown",
   "id": "0f04cea8-7eda-4f84-b6f1-c607a6997d05",
   "metadata": {},
   "source": [
    "Vemos el número de hashes no reidentificados."
   ]
  },
  {
   "cell_type": "code",
   "execution_count": 29,
   "id": "a84e1691-1df8-4431-bcf7-bbdc007ba0a5",
   "metadata": {},
   "outputs": [
    {
     "name": "stdout",
     "output_type": "stream",
     "text": [
      "No se han identificado 14 medallions, que intervinieron en 101 viajes.\n"
     ]
    }
   ],
   "source": [
    "print('No se han identificado '+str(len(np.unique(df_id['medallion'][df_id['medallion_id'].isnull()])))+' medallions, que intervinieron en '+str(np.sum(df_id['medallion_id'].isnull()))+' viajes.')"
   ]
  },
  {
   "cell_type": "code",
   "execution_count": 32,
   "id": "442b54a7-4117-46f1-a5c1-38601de28b02",
   "metadata": {},
   "outputs": [
    {
     "name": "stdout",
     "output_type": "stream",
     "text": [
      "No se han identificado 11 licencias, que intervinieron en 45 viajes.\n"
     ]
    }
   ],
   "source": [
    "print('No se han identificado '+str(len(np.unique(df_id['hack_license'][df_id['license_id'].isnull()])))+' licencias, que intervinieron en '+str(np.sum(df_id['license_id'].isnull()))+' viajes.')"
   ]
  },
  {
   "cell_type": "code",
   "execution_count": 31,
   "id": "b45a598e-30f0-49c9-8769-06a2cb2fb842",
   "metadata": {},
   "outputs": [],
   "source": [
    "#guardamos el nuevo dataset en un archivo csv\n",
    "df_id.to_csv('df_desanon.csv')"
   ]
  },
  {
   "cell_type": "code",
   "execution_count": null,
   "id": "8ac0a8ff-510c-46e9-8b59-a1ac998cda04",
   "metadata": {},
   "outputs": [],
   "source": []
  }
 ],
 "metadata": {
  "kernelspec": {
   "display_name": "Python 3 (ipykernel)",
   "language": "python",
   "name": "python3"
  },
  "language_info": {
   "codemirror_mode": {
    "name": "ipython",
    "version": 3
   },
   "file_extension": ".py",
   "mimetype": "text/x-python",
   "name": "python",
   "nbconvert_exporter": "python",
   "pygments_lexer": "ipython3",
   "version": "3.11.5"
  }
 },
 "nbformat": 4,
 "nbformat_minor": 5
}

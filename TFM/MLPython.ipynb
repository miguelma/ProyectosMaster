{
 "cells": [
  {
   "cell_type": "code",
   "execution_count": 7,
   "id": "36dde288-0295-4e70-998d-684dc1bdf7e7",
   "metadata": {},
   "outputs": [],
   "source": [
    "import numpy as np\n",
    "import pandas as pd\n",
    "import matplotlib.pyplot as plt\n",
    "import matplotlib\n",
    "# from scipy.stats import gaussian_kde\n",
    "# import seaborn as sns\n",
    "from scipy.integrate import trapz\n",
    "# from matplotlib.colors import LinearSegmentedColormap\n",
    "pd.options.display.max_rows=150 # para mostrar 150 filas\n",
    "pd.options.display.max_columns=150 # para mostrar 150 columnas\n",
    "import sys\n",
    "if not sys.warnoptions:\n",
    "    import warnings\n",
    "    warnings.simplefilter(\"ignore\")\n",
    "# import time\n",
    "# from scipy.optimize import curve_fit\n",
    "# from sklearn.linear_model import LinearRegression\n",
    "import itertools\n",
    "from keras.optimizers import Adam, SGD\n",
    "from sklearn.preprocessing import StandardScaler\n",
    "from keras.callbacks import EarlyStopping\n",
    "import keras\n",
    "from keras import layers\n",
    "import random\n",
    "from tensorflow.keras import regularizers\n",
    "from sklearn.model_selection import train_test_split\n",
    "# from sklearn.datasets import fetch_openml\n",
    "# from sklearn.neighbors import KNeighborsRegressor\n",
    "# from sklearn.kernel_approximation import Nystroem\n",
    "from sklearn.linear_model import Ridge\n",
    "# from sklearn import pipeline\n",
    "# from sklearn.kernel_approximation import RBFSampler\n",
    "# from sklearn.model_selection import GridSearchCV\n",
    "from sklearn.kernel_ridge import KernelRidge\n",
    "from sklearn.metrics import mean_squared_error\n",
    "from sklearn.preprocessing import OneHotEncoder"
   ]
  },
  {
   "cell_type": "markdown",
   "id": "64d6417c-a046-48a9-9e65-b345d370026a",
   "metadata": {},
   "source": [
    "#### Preparar datos"
   ]
  },
  {
   "cell_type": "code",
   "execution_count": 2,
   "id": "a2a4d91b-8360-423e-90f1-f8ab2d32ff11",
   "metadata": {},
   "outputs": [],
   "source": [
    "def minimo (a,b):\n",
    "    return (0.5 * ( a+b - abs(a-b)))\n",
    " \n",
    "def maximo (a,b):\n",
    "    return (0.5 * ( a+b + abs(a-b)))"
   ]
  },
  {
   "cell_type": "code",
   "execution_count": 3,
   "id": "0280d320-3b69-47af-9ff2-3841a41f5ca3",
   "metadata": {},
   "outputs": [],
   "source": [
    "#TTS de Miguel\n",
    "def TTS_eval(pf,cu,ni,mn,p,t,fl): \n",
    "    #fl un np.array\n",
    "    if pf == 'F':\n",
    "        A=1.011\n",
    "        B=0.738\n",
    "    elif (pf == 'P') or (pf == 'SRM'):\n",
    "        A=1.080\n",
    "        B=0.819\n",
    "    elif pf == 'W':\n",
    "        A=0.919\n",
    "        B=0.968\n",
    "    else:\n",
    "        raise ValueError(\"Product Form no admisible\")\n",
    "        \n",
    "    TTS1 = A*5/9*1.8943e-12*fl**(0.5695)*((1.8*t+32)/550)**(-5.47)*(0.09+p/0.012)**(0.216)*(1.66+ni**(8.54)/0.63)**(0.39)*(mn/1.36)**(0.3)\n",
    "\n",
    "    M = B*maximo(minimo(113.87*(np.log(fl)-np.log(4.5e20)),612.6),0)*((1.8*t+32)/550)**(-5.45)*(0.1+p/0.012)**(-0.098)*(0.168+ni**(0.58)/0.63)**(0.73)\n",
    "\n",
    "    TTS2 = 5/9*M*maximo((minimo(cu,0.28)-0.053),0)\n",
    "    \n",
    "    return TTS1+TTS2"
   ]
  },
  {
   "cell_type": "code",
   "execution_count": 4,
   "id": "59421092-0b89-44b3-acac-531034894a50",
   "metadata": {},
   "outputs": [],
   "source": [
    "df=pd.read_csv('df.csv') #contiene las medidas experimentales de plotter "
   ]
  },
  {
   "cell_type": "code",
   "execution_count": 8,
   "id": "6b2e6fc8-3149-4294-b1dc-90c6e3cde582",
   "metadata": {},
   "outputs": [],
   "source": [
    "#añado AUC_astm a df para cada material \n",
    "Fl = np.array([i * 1e18 for i in range(1, int(1e20 / 1e18) + 1)])*1e4  # n/m2\n",
    "df.reset_index(drop=True, inplace=True)\n",
    "AUC_astm = np.full(np.shape(df)[0], np.nan)\n",
    "for i in df.index:\n",
    "    #no contar con HAZ product form \n",
    "    if df.loc[i][4] != 'HAZ' :\n",
    "        if df.loc[i][4] == 'SRM':\n",
    "            area = trapz(TTS_eval('P',df.loc[i][5],df.loc[i][6],df.loc[i][7],df.loc[i][8],df.loc[i][10],Fl),Fl*1e-23) \n",
    "            AUC_astm[i]=area\n",
    "        else:\n",
    "            area = trapz(TTS_eval(df.loc[i][4],df.loc[i][5],df.loc[i][6],df.loc[i][7],df.loc[i][8],df.loc[i][10],Fl),Fl*1e-23) \n",
    "            AUC_astm[i]=area\n",
    "df['AUC_astm']=AUC_astm"
   ]
  },
  {
   "cell_type": "code",
   "execution_count": 9,
   "id": "a7e2d0ed-46fb-4e4b-8f3d-353ef0432136",
   "metadata": {},
   "outputs": [],
   "source": [
    "df=df.dropna()"
   ]
  },
  {
   "cell_type": "code",
   "execution_count": 10,
   "id": "3db1bd5b-6db5-40d7-b14d-fb7fba79b983",
   "metadata": {},
   "outputs": [],
   "source": [
    "#datos de cada material\n",
    "ml=df.drop_duplicates(subset=['MaterialLookup'])\n",
    "ml = ml.drop(['Unnamed: 0'], axis=1)\n",
    "ml.reset_index(drop=True, inplace=True)"
   ]
  },
  {
   "cell_type": "code",
   "execution_count": 11,
   "id": "1d490e92-8cea-4709-8797-5b9f4ca9d93c",
   "metadata": {},
   "outputs": [],
   "source": [
    "#arreglar datos para entrenar con R algunos modelos\n",
    "dfML = df.copy()\n",
    "dfML = dfML.drop(['Unnamed: 0','Record_Number','Reactor_Type','MaterialLookup','Flux_n_cm2_s','AUC_astm'], axis=1)"
   ]
  },
  {
   "cell_type": "raw",
   "id": "823660b3-4f79-4ead-8784-ca6ddcf67350",
   "metadata": {},
   "source": [
    "dfML.to_csv('dfML.csv')"
   ]
  },
  {
   "cell_type": "code",
   "execution_count": 12,
   "id": "32909295-998b-452f-bc48-c9faf6777eb0",
   "metadata": {},
   "outputs": [],
   "source": [
    "y = dfML['DT41J_Celsius']\n",
    "x = dfML.loc[:, dfML.columns != 'DT41J_Celsius']\n",
    "x['Product_Form'].iloc[np.where(x['Product_Form']=='SRM')[0]] = 'P'\n",
    "xtrain, xtest, ytrain, ytest = train_test_split(x, y, test_size=0.15, random_state=42)"
   ]
  },
  {
   "cell_type": "code",
   "execution_count": 13,
   "id": "c15964cb-8b30-4e0e-aa5f-d7f18459337a",
   "metadata": {},
   "outputs": [],
   "source": [
    "scaler = StandardScaler()"
   ]
  },
  {
   "cell_type": "code",
   "execution_count": 14,
   "id": "73359742-4285-4d0c-9ba4-9ef8cfeb03bf",
   "metadata": {},
   "outputs": [],
   "source": [
    "xtrain.loc[:, xtrain.columns != 'Product_Form'] = scaler.fit_transform(xtrain.loc[:, xtrain.columns != 'Product_Form']) \n",
    "xtest.loc[:, xtest.columns != 'Product_Form'] = scaler.transform(xtest.loc[:, xtest.columns != 'Product_Form'])\n",
    "x.loc[:, x.columns != 'Product_Form'] = scaler.transform(x.loc[:, x.columns != 'Product_Form'])"
   ]
  },
  {
   "cell_type": "code",
   "execution_count": 15,
   "id": "b5adad34-4769-405f-b081-924b67c00677",
   "metadata": {},
   "outputs": [],
   "source": [
    "encoder = OneHotEncoder(sparse=False)\n",
    "encoded_data = encoder.fit_transform(x[['Product_Form']])\n",
    "xEncode = x.copy()\n",
    "xEncode['Product_Form_F'] = encoded_data[:,0]\n",
    "xEncode['Product_Form_P'] = encoded_data[:,1]\n",
    "xEncode['Product_Form_W'] = encoded_data[:,2]\n",
    "xEncode.drop('Product_Form', axis=1, inplace=True)"
   ]
  },
  {
   "cell_type": "code",
   "execution_count": 16,
   "id": "64d8f8d5-e473-43d5-9705-7c18a3805514",
   "metadata": {},
   "outputs": [],
   "source": [
    "encoded_data = encoder.fit_transform(xtrain[['Product_Form']])\n",
    "xtrainEncode = xtrain.copy()\n",
    "xtrainEncode['Product_Form_F'] = encoded_data[:,0]\n",
    "xtrainEncode['Product_Form_P'] = encoded_data[:,1]\n",
    "xtrainEncode['Product_Form_W'] = encoded_data[:,2]\n",
    "xtrainEncode.drop('Product_Form', axis=1, inplace=True)"
   ]
  },
  {
   "cell_type": "code",
   "execution_count": 17,
   "id": "6a9e559c-db9f-41bf-aaaa-c00d8c88824c",
   "metadata": {},
   "outputs": [],
   "source": [
    "encoded_data = encoder.fit_transform(xtest[['Product_Form']])\n",
    "xtestEncode = xtest.copy()\n",
    "xtestEncode['Product_Form_F'] = encoded_data[:,0]\n",
    "xtestEncode['Product_Form_P'] = encoded_data[:,1]\n",
    "xtestEncode['Product_Form_W'] = encoded_data[:,2]\n",
    "xtestEncode.drop('Product_Form', axis=1, inplace=True)"
   ]
  },
  {
   "cell_type": "code",
   "execution_count": 18,
   "id": "35c4da02-657e-466d-b85b-6a4f95cede91",
   "metadata": {},
   "outputs": [],
   "source": [
    "def rmse(num1, num2):\n",
    "    result = np.sqrt(mean_squared_error(num1,num2))\n",
    "    return result"
   ]
  },
  {
   "cell_type": "markdown",
   "id": "61cd756f-39a6-4de2-a15e-230c91112ca8",
   "metadata": {
    "jp-MarkdownHeadingCollapsed": true
   },
   "source": [
    "#### SVM"
   ]
  },
  {
   "cell_type": "code",
   "execution_count": 125,
   "id": "38a3b061-48d1-4fc0-a9e6-8feab3b64d2a",
   "metadata": {},
   "outputs": [
    {
     "data": {
      "text/plain": [
       "16.416364055811055"
      ]
     },
     "execution_count": 125,
     "metadata": {},
     "output_type": "execute_result"
    }
   ],
   "source": [
    "kernel_ridge_model = KernelRidge(kernel='rbf')\n",
    "kernel_ridge_model.fit(xtrainEncode, ytrain)\n",
    "DTpredKr = kernel_ridge_model.predict(xtestEncode)\n",
    "rmse(ytest,DTpredKr)"
   ]
  },
  {
   "cell_type": "markdown",
   "id": "62049c6b-7111-4575-9a99-70b143dadfb1",
   "metadata": {
    "jp-MarkdownHeadingCollapsed": true
   },
   "source": [
    "#### NN"
   ]
  },
  {
   "cell_type": "code",
   "execution_count": 19,
   "id": "19e33d60-6e50-4916-8502-71911e5f16f3",
   "metadata": {},
   "outputs": [],
   "source": [
    "early_stopping = EarlyStopping(monitor='val_loss', patience=20, verbose=0, restore_best_weights=True) "
   ]
  },
  {
   "cell_type": "code",
   "execution_count": 20,
   "id": "63339a2a-ceaa-41ee-adaf-aab920aef6ca",
   "metadata": {},
   "outputs": [],
   "source": [
    "nep = 100 #num epochs"
   ]
  },
  {
   "cell_type": "markdown",
   "id": "bed72ce8-a882-456a-a98a-78665f47df18",
   "metadata": {
    "jp-MarkdownHeadingCollapsed": true
   },
   "source": [
    "##### Regularizacion L1"
   ]
  },
  {
   "cell_type": "code",
   "execution_count": 21,
   "id": "c2d0f9fd-9953-4813-b0f6-a046eef20fdf",
   "metadata": {},
   "outputs": [],
   "source": [
    "#para PF en oneHotEncoding\n",
    "def create_model(algoritmo, learning_rate, num_layer, size_layer, reg_lambda, mom,\n",
    "                     activacion_salida, activacion_hidden, bnorm):\n",
    "    #estructura red\n",
    "    model = keras.Sequential()\n",
    "\n",
    "    model.add(layers.Input(shape=(9,)))\n",
    "    for i in range(num_layer):\n",
    "        model.add(layers.Dense(size_layer, activation=activacion_hidden, kernel_regularizer = regularizers.L1(reg_lambda)))\n",
    "        if bnorm:\n",
    "            model.add(layers.BatchNormalization())\n",
    "       \n",
    "    model.add(layers.Dense(1, activation=activacion_salida, kernel_regularizer = regularizers.L1(reg_lambda)))\n",
    "\n",
    "    #optimizador\n",
    "    if algoritmo == 'adam':\n",
    "        opt = Adam(learning_rate=learning_rate)\n",
    "    elif algoritmo == 'sgd':\n",
    "        opt = SGD(learning_rate=learning_rate, momentum = mom)\n",
    "\n",
    "    model.compile(optimizer=opt,\n",
    "                  loss='mse',\n",
    "                  metrics=['mse'])\n",
    "    return model"
   ]
  },
  {
   "cell_type": "code",
   "execution_count": 30,
   "id": "8592cbec-3179-47d8-bbcc-fb1f4148059a",
   "metadata": {
    "scrolled": true
   },
   "outputs": [
    {
     "name": "stdout",
     "output_type": "stream",
     "text": [
      "3/3 [==============================] - 0s 4ms/step - loss: 175.8285 - mse: 175.8285\n",
      "3/3 [==============================] - 0s 3ms/step - loss: 194.6978 - mse: 194.6978\n",
      "3/3 [==============================] - 0s 4ms/step - loss: 253.9345 - mse: 253.9345\n",
      "3/3 [==============================] - 0s 4ms/step - loss: 192.0782 - mse: 192.0782\n",
      "3/3 [==============================] - 0s 3ms/step - loss: 190.6942 - mse: 190.6823\n",
      "3/3 [==============================] - 0s 3ms/step - loss: 184.9641 - mse: 184.9523\n",
      "3/3 [==============================] - 0s 3ms/step - loss: 187.0140 - mse: 187.0014\n",
      "3/3 [==============================] - 0s 4ms/step - loss: 202.5032 - mse: 202.4915\n",
      "3/3 [==============================] - 0s 4ms/step - loss: 203.8472 - mse: 202.5510\n",
      "3/3 [==============================] - 0s 4ms/step - loss: 202.8564 - mse: 201.7269\n",
      "3/3 [==============================] - 0s 4ms/step - loss: 206.3863 - mse: 205.3682\n",
      "3/3 [==============================] - 0s 3ms/step - loss: 235.1959 - mse: 233.9427\n",
      "3/3 [==============================] - 0s 4ms/step - loss: 172.2045 - mse: 172.2045\n",
      "3/3 [==============================] - 0s 4ms/step - loss: 167.7026 - mse: 167.7026\n",
      "3/3 [==============================] - 0s 4ms/step - loss: 190.4861 - mse: 190.4861\n",
      "3/3 [==============================] - 0s 4ms/step - loss: 176.4606 - mse: 176.4606\n",
      "3/3 [==============================] - 0s 5ms/step - loss: 386.5786 - mse: 386.5375\n",
      "3/3 [==============================] - 0s 4ms/step - loss: 169.5837 - mse: 169.5286\n",
      "3/3 [==============================] - 0s 4ms/step - loss: 173.4634 - mse: 173.4045\n",
      "3/3 [==============================] - 0s 4ms/step - loss: 182.4822 - mse: 182.4267\n",
      "3/3 [==============================] - 0s 3ms/step - loss: 180.4995 - mse: 175.4229\n",
      "3/3 [==============================] - 0s 4ms/step - loss: 177.8747 - mse: 172.6385\n",
      "3/3 [==============================] - 0s 4ms/step - loss: 192.0046 - mse: 186.5673\n",
      "3/3 [==============================] - 0s 3ms/step - loss: 197.0191 - mse: 192.0803\n",
      "3/3 [==============================] - 0s 3ms/step - loss: 175.3488 - mse: 175.3488\n",
      "3/3 [==============================] - 0s 3ms/step - loss: 165.0699 - mse: 165.0699\n",
      "3/3 [==============================] - 0s 4ms/step - loss: 171.1131 - mse: 171.1131\n",
      "3/3 [==============================] - 0s 4ms/step - loss: 173.2548 - mse: 173.2548\n",
      "3/3 [==============================] - 0s 5ms/step - loss: 181.6391 - mse: 181.5181\n",
      "3/3 [==============================] - 0s 4ms/step - loss: 168.2041 - mse: 168.0796\n",
      "3/3 [==============================] - 0s 4ms/step - loss: 187.1672 - mse: 187.0100\n",
      "3/3 [==============================] - 0s 3ms/step - loss: 173.5656 - mse: 173.4310\n",
      "3/3 [==============================] - 0s 4ms/step - loss: 178.7882 - mse: 168.1883\n",
      "3/3 [==============================] - 0s 4ms/step - loss: 180.4779 - mse: 168.9395\n",
      "3/3 [==============================] - 0s 3ms/step - loss: 188.2300 - mse: 177.7892\n",
      "3/3 [==============================] - 0s 3ms/step - loss: 174.2659 - mse: 164.9644\n",
      "3/3 [==============================] - 0s 4ms/step - loss: 343.1684 - mse: 343.1684\n",
      "3/3 [==============================] - 0s 3ms/step - loss: 186.6527 - mse: 186.6528\n",
      "3/3 [==============================] - 0s 4ms/step - loss: 180.4655 - mse: 180.4655\n",
      "3/3 [==============================] - 0s 8ms/step - loss: 223.1154 - mse: 223.1154\n",
      "3/3 [==============================] - 0s 3ms/step - loss: 191.6574 - mse: 191.6377\n",
      "3/3 [==============================] - 0s 4ms/step - loss: 231.6156 - mse: 231.5949\n",
      "3/3 [==============================] - 0s 4ms/step - loss: 306.3101 - mse: 306.2947\n",
      "3/3 [==============================] - 0s 4ms/step - loss: 197.1337 - mse: 197.1151\n",
      "3/3 [==============================] - 0s 4ms/step - loss: 199.4200 - mse: 197.5949\n",
      "3/3 [==============================] - 0s 4ms/step - loss: 200.3577 - mse: 198.5665\n",
      "3/3 [==============================] - 0s 4ms/step - loss: 184.4570 - mse: 182.6506\n",
      "3/3 [==============================] - 0s 4ms/step - loss: 189.6485 - mse: 187.7421\n",
      "3/3 [==============================] - 0s 3ms/step - loss: 365.1378 - mse: 365.1378\n",
      "3/3 [==============================] - 0s 4ms/step - loss: 176.4196 - mse: 176.4196\n",
      "3/3 [==============================] - 0s 4ms/step - loss: 188.4720 - mse: 188.4720\n",
      "3/3 [==============================] - 0s 4ms/step - loss: 405.1009 - mse: 405.1009\n",
      "3/3 [==============================] - 0s 5ms/step - loss: 198.1436 - mse: 198.0530\n",
      "3/3 [==============================] - 0s 4ms/step - loss: 187.4036 - mse: 187.3160\n",
      "3/3 [==============================] - 0s 4ms/step - loss: 370.0069 - mse: 369.9340\n",
      "3/3 [==============================] - 0s 4ms/step - loss: 177.8238 - mse: 177.7300\n",
      "3/3 [==============================] - 0s 4ms/step - loss: 192.9347 - mse: 184.7211\n",
      "3/3 [==============================] - 0s 4ms/step - loss: 190.3735 - mse: 181.5666\n",
      "3/3 [==============================] - 0s 4ms/step - loss: 187.8692 - mse: 179.3669\n",
      "3/3 [==============================] - 0s 4ms/step - loss: 354.1424 - mse: 347.0142\n",
      "3/3 [==============================] - 0s 4ms/step - loss: 180.3107 - mse: 180.3107\n",
      "3/3 [==============================] - 0s 4ms/step - loss: 174.5116 - mse: 174.5116\n",
      "3/3 [==============================] - 0s 4ms/step - loss: 205.3575 - mse: 205.3575\n",
      "3/3 [==============================] - 0s 4ms/step - loss: 161.1572 - mse: 161.1572\n",
      "3/3 [==============================] - 0s 4ms/step - loss: 161.5091 - mse: 161.2803\n",
      "3/3 [==============================] - 0s 5ms/step - loss: 180.4561 - mse: 180.2615\n",
      "3/3 [==============================] - 0s 4ms/step - loss: 662.0911 - mse: 661.9410\n",
      "3/3 [==============================] - 0s 4ms/step - loss: 565.3651 - mse: 565.2160\n",
      "3/3 [==============================] - 0s 3ms/step - loss: 191.3754 - mse: 176.8778\n",
      "3/3 [==============================] - 0s 3ms/step - loss: 190.7426 - mse: 175.8587\n",
      "3/3 [==============================] - 0s 4ms/step - loss: 188.5862 - mse: 173.0740\n",
      "3/3 [==============================] - 0s 5ms/step - loss: 456.6387 - mse: 441.8663\n",
      "3/3 [==============================] - 0s 4ms/step - loss: 210.6290 - mse: 210.6290\n",
      "3/3 [==============================] - 0s 4ms/step - loss: 375.7726 - mse: 375.7726\n",
      "3/3 [==============================] - 0s 5ms/step - loss: 320.9391 - mse: 320.9391\n",
      "3/3 [==============================] - 0s 4ms/step - loss: 350.3994 - mse: 350.3994\n",
      "3/3 [==============================] - 0s 4ms/step - loss: 392.8141 - mse: 392.7926\n",
      "3/3 [==============================] - 0s 4ms/step - loss: 528.1329 - mse: 528.1107\n",
      "3/3 [==============================] - 0s 4ms/step - loss: 215.0675 - mse: 215.0433\n",
      "3/3 [==============================] - 0s 4ms/step - loss: 227.5450 - mse: 227.5207\n",
      "3/3 [==============================] - 0s 5ms/step - loss: 546.0076 - mse: 543.9293\n",
      "3/3 [==============================] - 0s 7ms/step - loss: 296.0366 - mse: 293.8621\n",
      "3/3 [==============================] - 0s 4ms/step - loss: 197.6501 - mse: 195.0383\n",
      "3/3 [==============================] - 0s 3ms/step - loss: 342.9992 - mse: 340.8116\n",
      "3/3 [==============================] - 0s 4ms/step - loss: 571.5675 - mse: 571.5675\n",
      "3/3 [==============================] - 0s 4ms/step - loss: 436.2881 - mse: 436.2881\n",
      "3/3 [==============================] - 0s 4ms/step - loss: 193.8494 - mse: 193.8494\n",
      "3/3 [==============================] - 0s 4ms/step - loss: 460.9876 - mse: 460.9876\n",
      "3/3 [==============================] - 0s 5ms/step - loss: 515.9954 - mse: 515.8921\n",
      "3/3 [==============================] - 0s 10ms/step - loss: 617.9412 - mse: 617.8373\n",
      "3/3 [==============================] - 0s 4ms/step - loss: 476.8228 - mse: 476.7232\n",
      "3/3 [==============================] - 0s 4ms/step - loss: 205.4631 - mse: 205.3342\n",
      "3/3 [==============================] - 0s 7ms/step - loss: 397.9845 - mse: 387.7767\n",
      "3/3 [==============================] - 0s 4ms/step - loss: 330.6125 - mse: 320.6503\n",
      "3/3 [==============================] - 0s 4ms/step - loss: 1763.5917 - mse: 1750.8857\n",
      "3/3 [==============================] - 0s 4ms/step - loss: 397.5756 - mse: 387.5627\n",
      "3/3 [==============================] - 0s 4ms/step - loss: 1051.2288 - mse: 1051.2288\n",
      "3/3 [==============================] - 0s 5ms/step - loss: 232.9372 - mse: 232.9372\n",
      "3/3 [==============================] - 0s 4ms/step - loss: 683.9279 - mse: 683.9279\n",
      "3/3 [==============================] - 0s 4ms/step - loss: 972.5923 - mse: 972.5923\n",
      "3/3 [==============================] - 0s 4ms/step - loss: 928.6514 - mse: 928.4415\n",
      "3/3 [==============================] - 0s 4ms/step - loss: 734.4365 - mse: 734.2270\n",
      "3/3 [==============================] - 0s 4ms/step - loss: 595.7482 - mse: 595.5385\n",
      "3/3 [==============================] - 0s 5ms/step - loss: 284.4463 - mse: 284.1743\n",
      "3/3 [==============================] - 0s 5ms/step - loss: 203.8280 - mse: 182.4203\n",
      "3/3 [==============================] - 0s 4ms/step - loss: 1005.0728 - mse: 984.3434\n",
      "3/3 [==============================] - 0s 4ms/step - loss: 209.6144 - mse: 187.5899\n",
      "3/3 [==============================] - 0s 5ms/step - loss: 193.3521 - mse: 174.2192\n",
      "3/3 [==============================] - 0s 4ms/step - loss: 342.7098 - mse: 342.7098\n",
      "3/3 [==============================] - 0s 4ms/step - loss: 329.5479 - mse: 329.5479\n",
      "3/3 [==============================] - 0s 5ms/step - loss: 291.9727 - mse: 291.9727\n",
      "3/3 [==============================] - 0s 3ms/step - loss: 292.6947 - mse: 292.6947\n",
      "3/3 [==============================] - 0s 4ms/step - loss: 379.7207 - mse: 379.7115\n",
      "3/3 [==============================] - 0s 4ms/step - loss: 288.6309 - mse: 288.6212\n",
      "3/3 [==============================] - 0s 9ms/step - loss: 319.1515 - mse: 319.1429\n",
      "3/3 [==============================] - 0s 6ms/step - loss: 290.1638 - mse: 290.1547\n",
      "3/3 [==============================] - 0s 4ms/step - loss: 314.8684 - mse: 313.9696\n",
      "3/3 [==============================] - 0s 8ms/step - loss: 272.0373 - mse: 271.1762\n",
      "3/3 [==============================] - 0s 5ms/step - loss: 315.5534 - mse: 314.6672\n",
      "3/3 [==============================] - 0s 9ms/step - loss: 248.9131 - mse: 248.0354\n",
      "3/3 [==============================] - 0s 10ms/step - loss: 241.8486 - mse: 241.8486\n",
      "3/3 [==============================] - 0s 8ms/step - loss: 192.9541 - mse: 192.9541\n",
      "3/3 [==============================] - 0s 6ms/step - loss: 214.3046 - mse: 214.3046\n",
      "3/3 [==============================] - 0s 6ms/step - loss: 204.0112 - mse: 204.0112\n",
      "3/3 [==============================] - 0s 7ms/step - loss: 219.5576 - mse: 219.5219\n",
      "3/3 [==============================] - 0s 5ms/step - loss: 206.6549 - mse: 206.6199\n",
      "3/3 [==============================] - 0s 9ms/step - loss: 207.7344 - mse: 207.6989\n",
      "3/3 [==============================] - 0s 9ms/step - loss: 198.1023 - mse: 198.0662\n",
      "3/3 [==============================] - 0s 11ms/step - loss: 220.0995 - mse: 216.5838\n",
      "3/3 [==============================] - 0s 9ms/step - loss: 214.1824 - mse: 210.7286\n",
      "3/3 [==============================] - 0s 6ms/step - loss: 206.7868 - mse: 203.2946\n",
      "3/3 [==============================] - 0s 4ms/step - loss: 224.7813 - mse: 221.2663\n",
      "3/3 [==============================] - 0s 5ms/step - loss: 190.1454 - mse: 190.1454\n",
      "3/3 [==============================] - 0s 11ms/step - loss: 210.7182 - mse: 210.7182\n",
      "3/3 [==============================] - 0s 10ms/step - loss: 200.4383 - mse: 200.4383\n",
      "3/3 [==============================] - 0s 8ms/step - loss: 199.4759 - mse: 199.4759\n",
      "3/3 [==============================] - 0s 7ms/step - loss: 202.5889 - mse: 202.5165\n",
      "3/3 [==============================] - 0s 4ms/step - loss: 215.5197 - mse: 215.4477\n",
      "3/3 [==============================] - 0s 9ms/step - loss: 190.6785 - mse: 190.6057\n",
      "3/3 [==============================] - 0s 0s/step - loss: 214.7430 - mse: 214.6708\n",
      "3/3 [==============================] - 0s 0s/step - loss: 220.8117 - mse: 213.9714\n",
      "3/3 [==============================] - 0s 6ms/step - loss: 207.0561 - mse: 200.2006\n",
      "3/3 [==============================] - 0s 11ms/step - loss: 223.0016 - mse: 216.1508\n",
      "3/3 [==============================] - 0s 0s/step - loss: 215.7077 - mse: 208.7836\n",
      "3/3 [==============================] - 0s 8ms/step - loss: 295.6341 - mse: 295.6341\n",
      "3/3 [==============================] - 0s 0s/step - loss: 323.0793 - mse: 323.0793\n",
      "3/3 [==============================] - 0s 8ms/step - loss: 310.5383 - mse: 310.5383\n",
      "3/3 [==============================] - 0s 4ms/step - loss: 391.1456 - mse: 391.1456\n",
      "3/3 [==============================] - 0s 8ms/step - loss: 322.2404 - mse: 322.2259\n",
      "3/3 [==============================] - 0s 2ms/step - loss: 305.5580 - mse: 305.5434\n",
      "3/3 [==============================] - 0s 10ms/step - loss: 341.1620 - mse: 341.1475\n",
      "3/3 [==============================] - 0s 4ms/step - loss: 245.5820 - mse: 245.5670\n",
      "3/3 [==============================] - 0s 4ms/step - loss: 323.6131 - mse: 322.1936\n",
      "3/3 [==============================] - 0s 4ms/step - loss: 310.3161 - mse: 308.8420\n",
      "3/3 [==============================] - 0s 11ms/step - loss: 284.0039 - mse: 282.5235\n",
      "3/3 [==============================] - 0s 10ms/step - loss: 342.5566 - mse: 341.1104\n",
      "3/3 [==============================] - 0s 5ms/step - loss: 215.2964 - mse: 215.2964\n",
      "3/3 [==============================] - 0s 7ms/step - loss: 209.4170 - mse: 209.4170\n",
      "3/3 [==============================] - 0s 5ms/step - loss: 218.3754 - mse: 218.3754\n",
      "3/3 [==============================] - 0s 4ms/step - loss: 223.0389 - mse: 223.0389\n",
      "3/3 [==============================] - 0s 3ms/step - loss: 225.6784 - mse: 225.6139\n",
      "3/3 [==============================] - 0s 4ms/step - loss: 208.8227 - mse: 208.7574\n",
      "3/3 [==============================] - 0s 4ms/step - loss: 228.1392 - mse: 228.0747\n",
      "3/3 [==============================] - 0s 4ms/step - loss: 215.5410 - mse: 215.4761\n",
      "3/3 [==============================] - 0s 6ms/step - loss: 201.9863 - mse: 195.7441\n",
      "3/3 [==============================] - 0s 3ms/step - loss: 215.3581 - mse: 209.1177\n",
      "3/3 [==============================] - 0s 3ms/step - loss: 202.3966 - mse: 196.0550\n",
      "3/3 [==============================] - 0s 4ms/step - loss: 205.5253 - mse: 199.1887\n",
      "3/3 [==============================] - 0s 3ms/step - loss: 216.5179 - mse: 216.5179\n",
      "3/3 [==============================] - 0s 10ms/step - loss: 205.7982 - mse: 205.7982\n",
      "3/3 [==============================] - 0s 10ms/step - loss: 202.3916 - mse: 202.3916\n",
      "3/3 [==============================] - 0s 11ms/step - loss: 203.5354 - mse: 203.5354\n",
      "3/3 [==============================] - 0s 7ms/step - loss: 209.4159 - mse: 209.2819\n",
      "3/3 [==============================] - 0s 10ms/step - loss: 200.1628 - mse: 200.0260\n",
      "3/3 [==============================] - 0s 7ms/step - loss: 224.8871 - mse: 224.7512\n",
      "3/3 [==============================] - 0s 8ms/step - loss: 179.4204 - mse: 179.2849\n",
      "3/3 [==============================] - 0s 7ms/step - loss: 235.2414 - mse: 222.5143\n",
      "3/3 [==============================] - 0s 10ms/step - loss: 236.2411 - mse: 223.3994\n",
      "3/3 [==============================] - 0s 10ms/step - loss: 236.3662 - mse: 223.5624\n",
      "3/3 [==============================] - 0s 9ms/step - loss: 211.7788 - mse: 198.8878\n",
      "3/3 [==============================] - 0s 5ms/step - loss: 302.3425 - mse: 302.3425\n",
      "3/3 [==============================] - 0s 4ms/step - loss: 326.0630 - mse: 326.0630\n",
      "3/3 [==============================] - 0s 5ms/step - loss: 283.3943 - mse: 283.3943\n",
      "3/3 [==============================] - 0s 8ms/step - loss: 305.7201 - mse: 305.7201\n",
      "3/3 [==============================] - 0s 7ms/step - loss: 309.5925 - mse: 309.5729\n",
      "3/3 [==============================] - 0s 8ms/step - loss: 359.7230 - mse: 359.7037\n",
      "3/3 [==============================] - 0s 8ms/step - loss: 287.4210 - mse: 287.4011\n",
      "3/3 [==============================] - 0s 8ms/step - loss: 359.2586 - mse: 359.2381\n",
      "3/3 [==============================] - 0s 8ms/step - loss: 284.4212 - mse: 282.4980\n",
      "3/3 [==============================] - 0s 7ms/step - loss: 296.1591 - mse: 294.0965\n",
      "3/3 [==============================] - 0s 10ms/step - loss: 319.3976 - mse: 317.3738\n",
      "3/3 [==============================] - 0s 11ms/step - loss: 289.6205 - mse: 287.6058\n",
      "3/3 [==============================] - 0s 9ms/step - loss: 203.0776 - mse: 203.0776\n",
      "3/3 [==============================] - 0s 5ms/step - loss: 227.1868 - mse: 227.1868\n",
      "3/3 [==============================] - 0s 10ms/step - loss: 189.7733 - mse: 189.7733\n",
      "3/3 [==============================] - 0s 8ms/step - loss: 225.1697 - mse: 225.1697\n",
      "3/3 [==============================] - 0s 4ms/step - loss: 208.9445 - mse: 208.8505\n",
      "3/3 [==============================] - 0s 8ms/step - loss: 221.6410 - mse: 221.5475\n",
      "3/3 [==============================] - 0s 9ms/step - loss: 215.8882 - mse: 215.7945\n",
      "3/3 [==============================] - 0s 8ms/step - loss: 206.8420 - mse: 206.7480\n",
      "3/3 [==============================] - 0s 4ms/step - loss: 255.9837 - mse: 246.6786\n",
      "3/3 [==============================] - 0s 11ms/step - loss: 216.0504 - mse: 206.9095\n",
      "3/3 [==============================] - 0s 8ms/step - loss: 226.1409 - mse: 217.0118\n",
      "3/3 [==============================] - 0s 8ms/step - loss: 257.4585 - mse: 248.2717\n",
      "3/3 [==============================] - 0s 7ms/step - loss: 211.3049 - mse: 211.3049\n",
      "3/3 [==============================] - 0s 4ms/step - loss: 211.2600 - mse: 211.2600\n",
      "3/3 [==============================] - 0s 6ms/step - loss: 227.5263 - mse: 227.5263\n",
      "3/3 [==============================] - 0s 7ms/step - loss: 205.4110 - mse: 205.4110\n",
      "3/3 [==============================] - 0s 9ms/step - loss: 239.8029 - mse: 239.6051\n",
      "3/3 [==============================] - 0s 6ms/step - loss: 211.2200 - mse: 211.0218\n",
      "3/3 [==============================] - 0s 10ms/step - loss: 220.3314 - mse: 220.1335\n",
      "3/3 [==============================] - 0s 8ms/step - loss: 234.8963 - mse: 234.6972\n",
      "3/3 [==============================] - 0s 10ms/step - loss: 224.9494 - mse: 206.1806\n",
      "3/3 [==============================] - 0s 10ms/step - loss: 242.4529 - mse: 223.6689\n",
      "3/3 [==============================] - 0s 4ms/step - loss: 266.6926 - mse: 247.9907\n",
      "3/3 [==============================] - 0s 12ms/step - loss: 241.0219 - mse: 222.3603\n",
      "Mejor combinación de parámetros encontrada:  {'algoritmo': 'adam', 'learning_rate': 0.01, 'num_layer': 5, 'size_layer': 50, 'reg_lambda': 0, 'mom': 0.9, 'activacion_salida': <keras.src.layers.activation.leaky_relu.LeakyReLU object at 0x000002AEE363ED50>, 'activacion_hidden': <keras.src.layers.activation.leaky_relu.LeakyReLU object at 0x000002AEE3674690>, 'bnorm': 1}\n",
      "Mejor precisión en el conjunto de prueba:  161.15719604492188\n"
     ]
    }
   ],
   "source": [
    "#optimizacion de parametros con cross-validacion\n",
    "#grid de parametros\n",
    "\n",
    "#ejemplo anterior\n",
    "#best param\n",
    "# {'algoritmo': 'adam',\n",
    "#  'learning_rate': 0.01,\n",
    "#  'num_layer': 4,\n",
    "#  'size_layer': 50,\n",
    "#  'reg_lambda': 0.0001,\n",
    "#  'mom': 0.9,\n",
    "#  'activacion_salida': 'relu',\n",
    "#  'activacion_hidden': 'relu',\n",
    "#  'bnorm': 1}\n",
    "# best_loss\n",
    "# 159.45091247558594\n",
    "\n",
    "param = {\n",
    "    'algoritmo': ['adam'], #'sgd',\n",
    "    'learning_rate': [0.01, 0.001], \n",
    "    'num_layer': [3,5,7],\n",
    "    'size_layer':[10,30,50],\n",
    "    'reg_lambda':[0,0.0001,0.01], \n",
    "    'mom':[0.9], \n",
    "    'activacion_salida':['relu',layers.LeakyReLU(alpha=0.01)], \n",
    "    'activacion_hidden':['relu',layers.LeakyReLU(alpha=0.01)], \n",
    "    'bnorm':[1]\n",
    "}\n",
    "param_combinations = list(itertools.product(*param.values()))\n",
    "\n",
    "best_loss = 1e10\n",
    "best_param = {}\n",
    "\n",
    "for combination in param_combinations:\n",
    "\n",
    "    #asignamos el numero de neuronas para cada capa dada\n",
    "    param_dict = dict(zip(param.keys(), combination))\n",
    "    \n",
    "    #compilamos y entrenamos el modelo\n",
    "    model = create_model(**param_dict)\n",
    "\n",
    "    history = model.fit(xtrainEncode, ytrain, epochs=nep, batch_size=128,\n",
    "                                verbose=0, validation_data = (xtestEncode,ytest), callbacks = early_stopping)\n",
    "\n",
    "    # Evaluar el modelo en el conjunto de prueba\n",
    "    m_eval = model.evaluate(xtestEncode, ytest, batch_size=128)    \n",
    "    val_loss = m_eval[1]\n",
    "\n",
    "    # Actualizar el mejor modelo y los mejores parámetros si se obtiene un mejor rendimiento\n",
    "    if val_loss < best_loss:\n",
    "        best_loss = val_loss\n",
    "        best_param = param_dict\n",
    "            \n",
    "# Mostrar los mejores parámetros encontrados y la mejor precisión\n",
    "print(\"Mejor combinación de parámetros encontrada: \", best_param)\n",
    "print(\"Mejor precisión en el conjunto de prueba: \", best_loss)"
   ]
  },
  {
   "cell_type": "code",
   "execution_count": 31,
   "id": "df22c771-5dfc-4c55-900c-10c23f8ee3a4",
   "metadata": {},
   "outputs": [
    {
     "data": {
      "text/plain": [
       "{'algoritmo': 'adam',\n",
       " 'learning_rate': 0.01,\n",
       " 'num_layer': 5,\n",
       " 'size_layer': 50,\n",
       " 'reg_lambda': 0,\n",
       " 'mom': 0.9,\n",
       " 'activacion_salida': <keras.src.layers.activation.leaky_relu.LeakyReLU at 0x2aee363ed50>,\n",
       " 'activacion_hidden': <keras.src.layers.activation.leaky_relu.LeakyReLU at 0x2aee3674690>,\n",
       " 'bnorm': 1}"
      ]
     },
     "execution_count": 31,
     "metadata": {},
     "output_type": "execute_result"
    }
   ],
   "source": [
    "best_param"
   ]
  },
  {
   "cell_type": "code",
   "execution_count": 32,
   "id": "110f514e-b56e-4545-a18a-bea505b92145",
   "metadata": {},
   "outputs": [
    {
     "data": {
      "text/plain": [
       "161.15719604492188"
      ]
     },
     "execution_count": 32,
     "metadata": {},
     "output_type": "execute_result"
    }
   ],
   "source": [
    "best_loss"
   ]
  },
  {
   "cell_type": "code",
   "execution_count": 33,
   "id": "76a0df4b-1adc-41ab-b6c5-d8c3647a2a3b",
   "metadata": {},
   "outputs": [
    {
     "data": {
      "text/plain": [
       "12.694770421119157"
      ]
     },
     "execution_count": 33,
     "metadata": {},
     "output_type": "execute_result"
    }
   ],
   "source": [
    "#rmse sobre test\n",
    "np.sqrt(best_loss)"
   ]
  },
  {
   "cell_type": "code",
   "execution_count": 34,
   "id": "36deecbf-5eba-4cf3-be1f-bc7ddb46beaf",
   "metadata": {},
   "outputs": [],
   "source": [
    "#diseño modelo optimo\n",
    "model = create_model(**best_param)"
   ]
  },
  {
   "cell_type": "code",
   "execution_count": 35,
   "id": "b59c0cd5-3fb9-4a8d-830e-e2ac149ad0e6",
   "metadata": {},
   "outputs": [],
   "source": [
    "#entreno modelo optimo\n",
    "random.seed(0)\n",
    "history2 = model.fit(xtrainEncode, ytrain, epochs=nep, batch_size=128, \n",
    "              verbose=0, validation_data = (xtestEncode,ytest), callbacks = early_stopping)"
   ]
  },
  {
   "cell_type": "code",
   "execution_count": 36,
   "id": "0e84f24f-9447-4fbc-aa37-ed11b4c8df98",
   "metadata": {},
   "outputs": [
    {
     "data": {
      "image/png": "[encoded data removed]",
      "text/plain": [
       "<Figure size 640x480 with 1 Axes>"
      ]
     },
     "metadata": {},
     "output_type": "display_data"
    }
   ],
   "source": [
    "plt.plot(history2.history['loss'])\n",
    "plt.plot(history2.history['val_loss'])\n",
    "plt.ylabel('mse')\n",
    "plt.xlabel('epoch')\n",
    "plt.legend(['train', 'test'], loc='upper left')\n",
    "plt.grid(True)"
   ]
  },
  {
   "cell_type": "markdown",
   "id": "a6c273ff-32a0-4638-bd7a-54becb882563",
   "metadata": {
    "jp-MarkdownHeadingCollapsed": true
   },
   "source": [
    "##### Regularizacion L2"
   ]
  },
  {
   "cell_type": "code",
   "execution_count": 21,
   "id": "a4bbd471-a0c0-49ba-bfb1-15eeb8d9c290",
   "metadata": {},
   "outputs": [],
   "source": [
    "#para PF en oneHotEncoding\n",
    "def create_model(algoritmo, learning_rate, num_layer, size_layer, reg_lambda, mom,\n",
    "                     activacion_salida, activacion_hidden, bnorm):\n",
    "    #estructura red\n",
    "    model = keras.Sequential()\n",
    "\n",
    "    model.add(layers.Input(shape=(9,)))\n",
    "    for i in range(num_layer):\n",
    "        model.add(layers.Dense(size_layer, activation=activacion_hidden, kernel_regularizer = regularizers.L2(reg_lambda)))\n",
    "        if bnorm:\n",
    "            model.add(layers.BatchNormalization())\n",
    "       \n",
    "    model.add(layers.Dense(1, activation=activacion_salida, kernel_regularizer = regularizers.L2(reg_lambda)))\n",
    "\n",
    "    #optimizador\n",
    "    if algoritmo == 'adam':\n",
    "        opt = Adam(learning_rate=learning_rate)\n",
    "    elif algoritmo == 'sgd':\n",
    "        opt = SGD(learning_rate=learning_rate, momentum = mom)\n",
    "\n",
    "    model.compile(optimizer=opt,\n",
    "                  loss='mse',\n",
    "                  metrics=['mse'])\n",
    "    return model"
   ]
  },
  {
   "cell_type": "code",
   "execution_count": 22,
   "id": "cbfb462f-c5d2-4787-9d69-787ad5a0498a",
   "metadata": {
    "scrolled": true
   },
   "outputs": [
    {
     "name": "stdout",
     "output_type": "stream",
     "text": [
      "WARNING:tensorflow:From C:\\Users\\migue\\miniconda3\\Lib\\site-packages\\keras\\src\\backend.py:873: The name tf.get_default_graph is deprecated. Please use tf.compat.v1.get_default_graph instead.\n",
      "\n",
      "WARNING:tensorflow:From C:\\Users\\migue\\miniconda3\\Lib\\site-packages\\keras\\src\\utils\\tf_utils.py:492: The name tf.ragged.RaggedTensorValue is deprecated. Please use tf.compat.v1.ragged.RaggedTensorValue instead.\n",
      "\n",
      "WARNING:tensorflow:From C:\\Users\\migue\\miniconda3\\Lib\\site-packages\\keras\\src\\engine\\base_layer_utils.py:384: The name tf.executing_eagerly_outside_functions is deprecated. Please use tf.compat.v1.executing_eagerly_outside_functions instead.\n",
      "\n",
      "3/3 [==============================] - 0s 7ms/step - loss: 204.0154 - mse: 204.0154\n",
      "3/3 [==============================] - 0s 8ms/step - loss: 191.4516 - mse: 191.4516\n",
      "3/3 [==============================] - 0s 8ms/step - loss: 194.2561 - mse: 194.2561\n",
      "3/3 [==============================] - 0s 10ms/step - loss: 187.7189 - mse: 187.7189\n",
      "3/3 [==============================] - 0s 0s/step - loss: 205.8537 - mse: 205.8425\n",
      "3/3 [==============================] - 0s 0s/step - loss: 187.7011 - mse: 187.6917\n",
      "3/3 [==============================] - 0s 3ms/step - loss: 190.0922 - mse: 190.0815\n",
      "3/3 [==============================] - 0s 3ms/step - loss: 195.1310 - mse: 195.1219\n",
      "3/3 [==============================] - 0s 0s/step - loss: 179.6971 - mse: 178.5080\n",
      "3/3 [==============================] - 0s 9ms/step - loss: 207.6902 - mse: 206.8706\n",
      "3/3 [==============================] - 0s 8ms/step - loss: 176.2520 - mse: 175.2364\n",
      "3/3 [==============================] - 0s 0s/step - loss: 183.9220 - mse: 182.9098\n",
      "3/3 [==============================] - 0s 0s/step - loss: 173.2450 - mse: 173.2450\n",
      "3/3 [==============================] - 0s 0s/step - loss: 159.1079 - mse: 159.1079\n",
      "3/3 [==============================] - 0s 9ms/step - loss: 167.8695 - mse: 167.8695\n",
      "3/3 [==============================] - 0s 9ms/step - loss: 172.8293 - mse: 172.8293\n",
      "3/3 [==============================] - 0s 8ms/step - loss: 183.3474 - mse: 183.3213\n",
      "3/3 [==============================] - 0s 0s/step - loss: 184.7965 - mse: 184.7737\n",
      "3/3 [==============================] - 0s 4ms/step - loss: 163.2698 - mse: 163.2413\n",
      "3/3 [==============================] - 0s 8ms/step - loss: 184.5673 - mse: 184.5451\n",
      "3/3 [==============================] - 0s 4ms/step - loss: 202.7077 - mse: 200.3694\n",
      "3/3 [==============================] - 0s 0s/step - loss: 177.9033 - mse: 175.7904\n",
      "3/3 [==============================] - 0s 0s/step - loss: 183.3239 - mse: 181.1450\n",
      "3/3 [==============================] - 0s 4ms/step - loss: 168.7816 - mse: 166.5258\n",
      "3/3 [==============================] - 0s 0s/step - loss: 180.7971 - mse: 180.7971\n",
      "3/3 [==============================] - 0s 0s/step - loss: 178.7852 - mse: 178.7852\n",
      "3/3 [==============================] - 0s 8ms/step - loss: 381.7721 - mse: 381.7721\n",
      "3/3 [==============================] - 0s 8ms/step - loss: 169.2879 - mse: 169.2879\n",
      "3/3 [==============================] - 0s 8ms/step - loss: 173.8049 - mse: 173.7622\n",
      "3/3 [==============================] - 0s 8ms/step - loss: 167.9652 - mse: 167.9271\n",
      "3/3 [==============================] - 0s 0s/step - loss: 177.9041 - mse: 177.8694\n",
      "3/3 [==============================] - 0s 8ms/step - loss: 172.2424 - mse: 172.2032\n",
      "3/3 [==============================] - 0s 0s/step - loss: 173.9758 - mse: 169.7634\n",
      "3/3 [==============================] - 0s 8ms/step - loss: 165.9384 - mse: 162.1359\n",
      "3/3 [==============================] - 0s 0s/step - loss: 177.7414 - mse: 173.8293\n",
      "3/3 [==============================] - 0s 8ms/step - loss: 176.5544 - mse: 172.0326\n",
      "3/3 [==============================] - 0s 0s/step - loss: 185.2823 - mse: 185.2823\n",
      "3/3 [==============================] - 0s 8ms/step - loss: 187.0261 - mse: 187.0261\n",
      "3/3 [==============================] - 0s 8ms/step - loss: 183.5117 - mse: 183.5117\n",
      "3/3 [==============================] - 0s 8ms/step - loss: 201.0139 - mse: 201.0139\n",
      "3/3 [==============================] - 0s 8ms/step - loss: 240.2411 - mse: 240.2258\n",
      "3/3 [==============================] - 0s 0s/step - loss: 343.3996 - mse: 343.3916\n",
      "3/3 [==============================] - 0s 8ms/step - loss: 215.6637 - mse: 215.6522\n",
      "3/3 [==============================] - 0s 0s/step - loss: 234.5558 - mse: 234.5452\n",
      "3/3 [==============================] - 0s 8ms/step - loss: 274.3621 - mse: 273.4681\n",
      "3/3 [==============================] - 0s 8ms/step - loss: 202.1174 - mse: 200.9581\n",
      "3/3 [==============================] - 0s 0s/step - loss: 216.3229 - mse: 215.1484\n",
      "3/3 [==============================] - 0s 0s/step - loss: 191.5332 - mse: 190.3305\n",
      "3/3 [==============================] - 0s 8ms/step - loss: 389.3300 - mse: 389.3300\n",
      "3/3 [==============================] - 0s 8ms/step - loss: 381.1472 - mse: 381.1472\n",
      "3/3 [==============================] - 0s 8ms/step - loss: 195.2204 - mse: 195.2204\n",
      "3/3 [==============================] - 0s 8ms/step - loss: 185.8272 - mse: 185.8272\n",
      "3/3 [==============================] - 0s 0s/step - loss: 186.6548 - mse: 186.6184\n",
      "3/3 [==============================] - 0s 0s/step - loss: 358.6454 - mse: 358.6238\n",
      "3/3 [==============================] - 0s 8ms/step - loss: 169.1051 - mse: 169.0668\n",
      "3/3 [==============================] - 0s 0s/step - loss: 191.3127 - mse: 191.2729\n",
      "3/3 [==============================] - 0s 0s/step - loss: 381.7408 - mse: 379.6255\n",
      "3/3 [==============================] - 0s 0s/step - loss: 588.3112 - mse: 586.3205\n",
      "3/3 [==============================] - 0s 8ms/step - loss: 180.7415 - mse: 177.6889\n",
      "3/3 [==============================] - 0s 0s/step - loss: 200.9590 - mse: 197.8788\n",
      "3/3 [==============================] - 0s 0s/step - loss: 509.8893 - mse: 509.8893\n",
      "3/3 [==============================] - 0s 8ms/step - loss: 184.0050 - mse: 184.0050\n",
      "3/3 [==============================] - 0s 1ms/step - loss: 179.7160 - mse: 179.7160\n",
      "3/3 [==============================] - 0s 0s/step - loss: 178.5249 - mse: 178.5249\n",
      "3/3 [==============================] - 0s 4ms/step - loss: 187.9594 - mse: 187.9044\n",
      "3/3 [==============================] - 0s 0s/step - loss: 816.3386 - mse: 816.3088\n",
      "3/3 [==============================] - 0s 4ms/step - loss: 483.1095 - mse: 483.0775\n",
      "3/3 [==============================] - 0s 8ms/step - loss: 655.4536 - mse: 655.4240\n",
      "3/3 [==============================] - 0s 0s/step - loss: 187.7273 - mse: 182.2141\n",
      "3/3 [==============================] - 0s 3ms/step - loss: 185.6957 - mse: 179.8391\n",
      "3/3 [==============================] - 0s 8ms/step - loss: 216.8231 - mse: 212.2084\n",
      "3/3 [==============================] - 0s 4ms/step - loss: 174.1038 - mse: 168.8157\n",
      "3/3 [==============================] - 0s 8ms/step - loss: 439.3344 - mse: 439.3344\n",
      "3/3 [==============================] - 0s 0s/step - loss: 205.6963 - mse: 205.6963\n",
      "3/3 [==============================] - 0s 5ms/step - loss: 408.9064 - mse: 408.9064\n",
      "3/3 [==============================] - 0s 4ms/step - loss: 416.4385 - mse: 416.4384\n",
      "3/3 [==============================] - 0s 4ms/step - loss: 361.8216 - mse: 361.8099\n",
      "3/3 [==============================] - 0s 3ms/step - loss: 214.2707 - mse: 214.2531\n",
      "3/3 [==============================] - 0s 0s/step - loss: 354.5812 - mse: 354.5704\n",
      "3/3 [==============================] - 0s 3ms/step - loss: 522.4234 - mse: 522.4131\n",
      "3/3 [==============================] - 0s 4ms/step - loss: 303.9237 - mse: 302.7580\n",
      "3/3 [==============================] - 0s 8ms/step - loss: 218.1795 - mse: 216.7713\n",
      "3/3 [==============================] - 0s 8ms/step - loss: 428.7809 - mse: 427.7708\n",
      "3/3 [==============================] - 0s 3ms/step - loss: 192.8441 - mse: 191.2966\n",
      "3/3 [==============================] - 0s 2ms/step - loss: 537.1697 - mse: 537.1697\n",
      "3/3 [==============================] - 0s 8ms/step - loss: 605.1467 - mse: 605.1467\n",
      "3/3 [==============================] - 0s 4ms/step - loss: 621.0086 - mse: 621.0086\n",
      "3/3 [==============================] - 0s 8ms/step - loss: 195.5328 - mse: 195.5328\n",
      "3/3 [==============================] - 0s 8ms/step - loss: 598.0469 - mse: 598.0184\n",
      "3/3 [==============================] - 0s 0s/step - loss: 349.7817 - mse: 349.7529\n",
      "3/3 [==============================] - 0s 4ms/step - loss: 404.8102 - mse: 404.7831\n",
      "3/3 [==============================] - 0s 8ms/step - loss: 366.8170 - mse: 366.7915\n",
      "3/3 [==============================] - 0s 9ms/step - loss: 387.8066 - mse: 385.1234\n",
      "3/3 [==============================] - 0s 10ms/step - loss: 187.8734 - mse: 183.3795\n",
      "3/3 [==============================] - 0s 8ms/step - loss: 398.4095 - mse: 395.6177\n",
      "3/3 [==============================] - 0s 8ms/step - loss: 560.0592 - mse: 557.3814\n",
      "3/3 [==============================] - 0s 0s/step - loss: 1040.4323 - mse: 1040.4323\n",
      "3/3 [==============================] - 0s 8ms/step - loss: 1341.6859 - mse: 1341.6859\n",
      "3/3 [==============================] - 0s 4ms/step - loss: 994.0256 - mse: 994.0256\n",
      "3/3 [==============================] - 0s 0s/step - loss: 184.1254 - mse: 184.1254\n",
      "3/3 [==============================] - 0s 8ms/step - loss: 414.7995 - mse: 414.6831\n",
      "3/3 [==============================] - 0s 8ms/step - loss: 816.5634 - mse: 816.5219\n",
      "3/3 [==============================] - 0s 8ms/step - loss: 239.4233 - mse: 239.3355\n",
      "3/3 [==============================] - 0s 0s/step - loss: 1175.7607 - mse: 1175.7192\n",
      "3/3 [==============================] - 0s 10ms/step - loss: 1118.9213 - mse: 1114.8246\n",
      "3/3 [==============================] - 0s 0s/step - loss: 574.8101 - mse: 570.3571\n",
      "3/3 [==============================] - 0s 5ms/step - loss: 196.7804 - mse: 189.8303\n",
      "3/3 [==============================] - 0s 5ms/step - loss: 181.9256 - mse: 175.3887\n",
      "3/3 [==============================] - 0s 8ms/step - loss: 287.3919 - mse: 287.3919\n",
      "3/3 [==============================] - 0s 8ms/step - loss: 294.0213 - mse: 294.0213\n",
      "3/3 [==============================] - 0s 4ms/step - loss: 349.6198 - mse: 349.6198\n",
      "3/3 [==============================] - 0s 3ms/step - loss: 350.1298 - mse: 350.1298\n",
      "3/3 [==============================] - 0s 3ms/step - loss: 335.0415 - mse: 335.0355\n",
      "3/3 [==============================] - 0s 4ms/step - loss: 309.4506 - mse: 309.4446\n",
      "3/3 [==============================] - 0s 3ms/step - loss: 317.2342 - mse: 317.2285\n",
      "3/3 [==============================] - 0s 4ms/step - loss: 326.6135 - mse: 326.6074\n",
      "3/3 [==============================] - 0s 4ms/step - loss: 345.3335 - mse: 344.7396\n",
      "3/3 [==============================] - 0s 8ms/step - loss: 282.1813 - mse: 281.5913\n",
      "3/3 [==============================] - 0s 0s/step - loss: 296.9734 - mse: 296.3772\n",
      "3/3 [==============================] - 0s 0s/step - loss: 285.7815 - mse: 285.2079\n",
      "3/3 [==============================] - 0s 7ms/step - loss: 197.4395 - mse: 197.4395\n",
      "3/3 [==============================] - 0s 0s/step - loss: 211.8601 - mse: 211.8601\n",
      "3/3 [==============================] - 0s 0s/step - loss: 197.0947 - mse: 197.0947\n",
      "3/3 [==============================] - 0s 0s/step - loss: 202.9604 - mse: 202.9604\n",
      "3/3 [==============================] - 0s 0s/step - loss: 198.7338 - mse: 198.7227\n",
      "3/3 [==============================] - 0s 0s/step - loss: 215.2230 - mse: 215.2118\n",
      "3/3 [==============================] - 0s 0s/step - loss: 209.5363 - mse: 209.5256\n",
      "3/3 [==============================] - 0s 8ms/step - loss: 200.7841 - mse: 200.7732\n",
      "3/3 [==============================] - 0s 8ms/step - loss: 202.6126 - mse: 201.5343\n",
      "3/3 [==============================] - 0s 0s/step - loss: 208.6859 - mse: 207.6340\n",
      "3/3 [==============================] - 0s 0s/step - loss: 200.4232 - mse: 199.3345\n",
      "3/3 [==============================] - 0s 9ms/step - loss: 205.5221 - mse: 204.4224\n",
      "3/3 [==============================] - 0s 8ms/step - loss: 194.8476 - mse: 194.8476\n",
      "3/3 [==============================] - 0s 0s/step - loss: 204.8361 - mse: 204.8361\n",
      "3/3 [==============================] - 0s 8ms/step - loss: 195.5161 - mse: 195.5161\n",
      "3/3 [==============================] - 0s 8ms/step - loss: 203.1049 - mse: 203.1049\n",
      "3/3 [==============================] - 0s 8ms/step - loss: 201.4792 - mse: 201.4639\n",
      "3/3 [==============================] - 0s 0s/step - loss: 209.5955 - mse: 209.5795\n",
      "3/3 [==============================] - 0s 0s/step - loss: 183.4733 - mse: 183.4577\n",
      "3/3 [==============================] - 0s 0s/step - loss: 206.9857 - mse: 206.9699\n",
      "3/3 [==============================] - 0s 0s/step - loss: 210.0459 - mse: 208.4819\n",
      "3/3 [==============================] - 0s 0s/step - loss: 195.8377 - mse: 194.3179\n",
      "3/3 [==============================] - 0s 0s/step - loss: 191.2964 - mse: 189.7764\n",
      "3/3 [==============================] - 0s 8ms/step - loss: 189.8265 - mse: 188.2787\n",
      "3/3 [==============================] - 0s 0s/step - loss: 310.2875 - mse: 310.2875\n",
      "3/3 [==============================] - 0s 0s/step - loss: 275.0901 - mse: 275.0901\n",
      "3/3 [==============================] - 0s 4ms/step - loss: 301.2293 - mse: 301.2293\n",
      "3/3 [==============================] - 0s 3ms/step - loss: 333.7689 - mse: 333.7689\n",
      "3/3 [==============================] - 0s 4ms/step - loss: 341.6357 - mse: 341.6280\n",
      "3/3 [==============================] - 0s 3ms/step - loss: 339.7997 - mse: 339.7918\n",
      "3/3 [==============================] - 0s 0s/step - loss: 290.4267 - mse: 290.4186\n",
      "3/3 [==============================] - 0s 8ms/step - loss: 348.1882 - mse: 348.1802\n",
      "3/3 [==============================] - 0s 0s/step - loss: 264.5855 - mse: 263.8087\n",
      "3/3 [==============================] - 0s 8ms/step - loss: 297.7532 - mse: 296.9532\n",
      "3/3 [==============================] - 0s 0s/step - loss: 292.0663 - mse: 291.3181\n",
      "3/3 [==============================] - 0s 1ms/step - loss: 259.5005 - mse: 258.6920\n",
      "3/3 [==============================] - 0s 8ms/step - loss: 223.0233 - mse: 223.0233\n",
      "3/3 [==============================] - 0s 14ms/step - loss: 223.8812 - mse: 223.8812\n",
      "3/3 [==============================] - 0s 5ms/step - loss: 232.6465 - mse: 232.6465\n",
      "3/3 [==============================] - 0s 8ms/step - loss: 219.1707 - mse: 219.1707\n",
      "3/3 [==============================] - 0s 9ms/step - loss: 240.3568 - mse: 240.3391\n",
      "3/3 [==============================] - 0s 3ms/step - loss: 207.1171 - mse: 207.0997\n",
      "3/3 [==============================] - 0s 0s/step - loss: 217.8761 - mse: 217.8590\n",
      "3/3 [==============================] - 0s 0s/step - loss: 211.5499 - mse: 211.5327\n",
      "3/3 [==============================] - 0s 0s/step - loss: 226.1391 - mse: 224.4442\n",
      "3/3 [==============================] - 0s 8ms/step - loss: 207.6441 - mse: 205.9241\n",
      "3/3 [==============================] - 0s 8ms/step - loss: 208.6566 - mse: 206.9500\n",
      "3/3 [==============================] - 0s 4ms/step - loss: 204.8182 - mse: 203.1186\n",
      "3/3 [==============================] - 0s 1ms/step - loss: 209.7367 - mse: 209.7367\n",
      "3/3 [==============================] - 0s 3ms/step - loss: 177.7330 - mse: 177.7330\n",
      "3/3 [==============================] - 0s 788us/step - loss: 200.1655 - mse: 200.1655\n",
      "3/3 [==============================] - 0s 0s/step - loss: 217.9758 - mse: 217.9758\n",
      "3/3 [==============================] - 0s 0s/step - loss: 219.1991 - mse: 219.1724\n",
      "3/3 [==============================] - 0s 2ms/step - loss: 198.3516 - mse: 198.3256\n",
      "3/3 [==============================] - 0s 5ms/step - loss: 214.8257 - mse: 214.7991\n",
      "3/3 [==============================] - 0s 4ms/step - loss: 203.7209 - mse: 203.6949\n",
      "3/3 [==============================] - 0s 0s/step - loss: 197.7098 - mse: 195.0900\n",
      "3/3 [==============================] - 0s 1ms/step - loss: 187.1005 - mse: 184.4826\n",
      "3/3 [==============================] - 0s 0s/step - loss: 208.7904 - mse: 206.2405\n",
      "3/3 [==============================] - 0s 0s/step - loss: 210.9731 - mse: 208.3855\n",
      "3/3 [==============================] - 0s 0s/step - loss: 362.3221 - mse: 362.3221\n",
      "3/3 [==============================] - 0s 8ms/step - loss: 292.1634 - mse: 292.1634\n",
      "3/3 [==============================] - 0s 0s/step - loss: 289.7956 - mse: 289.7956\n",
      "3/3 [==============================] - 0s 0s/step - loss: 355.2896 - mse: 355.2896\n",
      "3/3 [==============================] - 0s 8ms/step - loss: 345.1628 - mse: 345.1527\n",
      "3/3 [==============================] - 0s 8ms/step - loss: 305.4755 - mse: 305.4657\n",
      "3/3 [==============================] - 0s 8ms/step - loss: 308.3153 - mse: 308.3051\n",
      "3/3 [==============================] - 0s 8ms/step - loss: 342.7950 - mse: 342.7853\n",
      "3/3 [==============================] - 0s 0s/step - loss: 326.0931 - mse: 325.1308\n",
      "3/3 [==============================] - 0s 0s/step - loss: 314.4483 - mse: 313.5024\n",
      "3/3 [==============================] - 0s 0s/step - loss: 275.7812 - mse: 274.8167\n",
      "3/3 [==============================] - 0s 8ms/step - loss: 281.3558 - mse: 280.2882\n",
      "3/3 [==============================] - 0s 0s/step - loss: 242.8284 - mse: 242.8284\n",
      "3/3 [==============================] - 0s 6ms/step - loss: 242.4321 - mse: 242.4321\n",
      "3/3 [==============================] - 0s 8ms/step - loss: 245.5537 - mse: 245.5537\n",
      "3/3 [==============================] - 0s 0s/step - loss: 238.5137 - mse: 238.5137\n",
      "3/3 [==============================] - 0s 0s/step - loss: 210.0256 - mse: 210.0018\n",
      "3/3 [==============================] - 0s 8ms/step - loss: 218.0349 - mse: 218.0112\n",
      "3/3 [==============================] - 0s 3ms/step - loss: 214.4915 - mse: 214.4677\n",
      "3/3 [==============================] - 0s 0s/step - loss: 217.3975 - mse: 217.3738\n",
      "3/3 [==============================] - 0s 8ms/step - loss: 212.3429 - mse: 210.0390\n",
      "3/3 [==============================] - 0s 8ms/step - loss: 215.7224 - mse: 213.3850\n",
      "3/3 [==============================] - 0s 0s/step - loss: 245.3032 - mse: 242.9863\n",
      "3/3 [==============================] - 0s 8ms/step - loss: 219.2414 - mse: 216.8662\n",
      "3/3 [==============================] - 0s 8ms/step - loss: 216.9553 - mse: 216.9553\n",
      "3/3 [==============================] - 0s 1ms/step - loss: 213.3909 - mse: 213.3909\n",
      "3/3 [==============================] - 0s 8ms/step - loss: 194.5240 - mse: 194.5240\n",
      "3/3 [==============================] - 0s 4ms/step - loss: 212.9209 - mse: 212.9209\n",
      "3/3 [==============================] - 0s 4ms/step - loss: 212.0007 - mse: 211.9645\n",
      "3/3 [==============================] - 0s 0s/step - loss: 188.0365 - mse: 187.9993\n",
      "3/3 [==============================] - 0s 8ms/step - loss: 232.8421 - mse: 232.8047\n",
      "3/3 [==============================] - 0s 8ms/step - loss: 202.2177 - mse: 202.1802\n",
      "3/3 [==============================] - 0s 0s/step - loss: 246.4475 - mse: 242.9205\n",
      "3/3 [==============================] - 0s 0s/step - loss: 208.6381 - mse: 204.9937\n",
      "3/3 [==============================] - 0s 8ms/step - loss: 256.2889 - mse: 252.6317\n",
      "3/3 [==============================] - 0s 0s/step - loss: 208.4771 - mse: 204.8892\n",
      "Mejor combinación de parámetros encontrada:  {'algoritmo': 'adam', 'learning_rate': 0.01, 'num_layer': 3, 'size_layer': 30, 'reg_lambda': 0, 'mom': 0.9, 'activacion_salida': 'relu', 'activacion_hidden': <keras.src.layers.activation.leaky_relu.LeakyReLU object at 0x0000015E8992FA90>, 'bnorm': 1}\n",
      "Mejor precisión en el conjunto de prueba:  159.10794067382812\n"
     ]
    }
   ],
   "source": [
    "#optimizacion de parametros con cross-validacion\n",
    "#grid de parametros\n",
    "\n",
    "#ejemplo anterior\n",
    "#best param\n",
    "# {'algoritmo': 'adam',\n",
    "#  'learning_rate': 0.01,\n",
    "#  'num_layer': 4,\n",
    "#  'size_layer': 50,\n",
    "#  'reg_lambda': 0.0001,\n",
    "#  'mom': 0.9,\n",
    "#  'activacion_salida': 'relu',\n",
    "#  'activacion_hidden': 'relu',\n",
    "#  'bnorm': 1}\n",
    "# best_loss\n",
    "# 159.45091247558594\n",
    "\n",
    "param = {\n",
    "    'algoritmo': ['adam'], #'sgd',\n",
    "    'learning_rate': [0.01, 0.001], \n",
    "    'num_layer': [3,5,7],\n",
    "    'size_layer':[10,30,50],\n",
    "    'reg_lambda':[0,0.0001,0.01], \n",
    "    'mom':[0.9], \n",
    "    'activacion_salida':['relu',layers.LeakyReLU(alpha=0.01)], \n",
    "    'activacion_hidden':['relu',layers.LeakyReLU(alpha=0.01)], \n",
    "    'bnorm':[1]\n",
    "}\n",
    "param_combinations = list(itertools.product(*param.values()))\n",
    "\n",
    "best_loss = 1e10\n",
    "best_param = {}\n",
    "\n",
    "for combination in param_combinations:\n",
    "\n",
    "    #asignamos el numero de neuronas para cada capa dada\n",
    "    param_dict = dict(zip(param.keys(), combination))\n",
    "    \n",
    "    #compilamos y entrenamos el modelo\n",
    "    model = create_model(**param_dict)\n",
    "\n",
    "    history = model.fit(xtrainEncode, ytrain, epochs=nep, batch_size=128,\n",
    "                                verbose=0, validation_data = (xtestEncode,ytest), callbacks = early_stopping)\n",
    "\n",
    "    # Evaluar el modelo en el conjunto de prueba\n",
    "    m_eval = model.evaluate(xtestEncode, ytest, batch_size=128)    \n",
    "    val_loss = m_eval[1]\n",
    "\n",
    "    # Actualizar el mejor modelo y los mejores parámetros si se obtiene un mejor rendimiento\n",
    "    if val_loss < best_loss:\n",
    "        best_loss = val_loss\n",
    "        best_param = param_dict\n",
    "            \n",
    "# Mostrar los mejores parámetros encontrados y la mejor precisión\n",
    "print(\"Mejor combinación de parámetros encontrada: \", best_param)\n",
    "print(\"Mejor precisión en el conjunto de prueba: \", best_loss)"
   ]
  },
  {
   "cell_type": "code",
   "execution_count": 23,
   "id": "9da33294-4a8c-46c1-8708-c37cafa331fc",
   "metadata": {},
   "outputs": [
    {
     "data": {
      "text/plain": [
       "{'algoritmo': 'adam',\n",
       " 'learning_rate': 0.01,\n",
       " 'num_layer': 3,\n",
       " 'size_layer': 30,\n",
       " 'reg_lambda': 0,\n",
       " 'mom': 0.9,\n",
       " 'activacion_salida': 'relu',\n",
       " 'activacion_hidden': <keras.src.layers.activation.leaky_relu.LeakyReLU at 0x15e8992fa90>,\n",
       " 'bnorm': 1}"
      ]
     },
     "execution_count": 23,
     "metadata": {},
     "output_type": "execute_result"
    }
   ],
   "source": [
    "best_param"
   ]
  },
  {
   "cell_type": "code",
   "execution_count": 24,
   "id": "cc24716a-0437-41ef-afe3-8de566419a8b",
   "metadata": {},
   "outputs": [
    {
     "data": {
      "text/plain": [
       "159.10794067382812"
      ]
     },
     "execution_count": 24,
     "metadata": {},
     "output_type": "execute_result"
    }
   ],
   "source": [
    "best_loss"
   ]
  },
  {
   "cell_type": "code",
   "execution_count": 25,
   "id": "272c1623-846a-4834-bdb1-c2382c1f3371",
   "metadata": {},
   "outputs": [
    {
     "data": {
      "text/plain": [
       "12.613799612877482"
      ]
     },
     "execution_count": 25,
     "metadata": {},
     "output_type": "execute_result"
    }
   ],
   "source": [
    "#rmse sobre test\n",
    "np.sqrt(best_loss)"
   ]
  },
  {
   "cell_type": "code",
   "execution_count": 26,
   "id": "3bb4dab3-7da3-4927-9e09-99ffe2c5647b",
   "metadata": {},
   "outputs": [],
   "source": [
    "#diseño modelo optimo\n",
    "model = create_model(**best_param)"
   ]
  },
  {
   "cell_type": "code",
   "execution_count": 27,
   "id": "5ae927f3-90c8-4410-a747-4c01f349e55d",
   "metadata": {},
   "outputs": [],
   "source": [
    "#entreno modelo optimo\n",
    "random.seed(0)\n",
    "history2 = model.fit(xtrainEncode, ytrain, epochs=nep, batch_size=128, \n",
    "              verbose=0, validation_data = (xtestEncode,ytest), callbacks = early_stopping)"
   ]
  },
  {
   "cell_type": "code",
   "execution_count": 28,
   "id": "384f6024-313b-4ba0-a8aa-a0d7ecb7becc",
   "metadata": {},
   "outputs": [
    {
     "data": {
      "image/png": "[encoded data removed]",
      "text/plain": [
       "<Figure size 640x480 with 1 Axes>"
      ]
     },
     "metadata": {},
     "output_type": "display_data"
    }
   ],
   "source": [
    "plt.plot(history2.history['loss'])\n",
    "plt.plot(history2.history['val_loss'])\n",
    "plt.ylabel('mse')\n",
    "plt.xlabel('epoch')\n",
    "plt.legend(['train', 'test'], loc='upper left')\n",
    "plt.grid(True)"
   ]
  },
  {
   "cell_type": "code",
   "execution_count": null,
   "id": "6c669761-41c6-417e-adec-9d0491c9ba07",
   "metadata": {},
   "outputs": [],
   "source": []
  },
  {
   "cell_type": "code",
   "execution_count": null,
   "id": "5b4b2352-ed78-4e4b-b525-8e03c681793a",
   "metadata": {},
   "outputs": [],
   "source": []
  },
  {
   "cell_type": "code",
   "execution_count": null,
   "id": "cd83481a-2bbd-4c7e-bf76-0af8c8f43c7f",
   "metadata": {},
   "outputs": [],
   "source": []
  }
 ],
 "metadata": {
  "kernelspec": {
   "display_name": "Python 3 (ipykernel)",
   "language": "python",
   "name": "python3"
  },
  "language_info": {
   "codemirror_mode": {
    "name": "ipython",
    "version": 3
   },
   "file_extension": ".py",
   "mimetype": "text/x-python",
   "name": "python",
   "nbconvert_exporter": "python",
   "pygments_lexer": "ipython3",
   "version": "3.11.5"
  }
 },
 "nbformat": 4,
 "nbformat_minor": 5
}

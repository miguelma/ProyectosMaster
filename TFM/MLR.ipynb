{
 "cells": [
  {
   "cell_type": "code",
   "execution_count": null,
   "id": "eb8a4f6c-35b5-43fa-bcaa-a7b316b54545",
   "metadata": {},
   "outputs": [],
   "source": [
    "library(tree)\n",
    "library(randomForest)\n",
    "library(FNN)\n",
    "library(caret)\n",
    "library(adabag) \n",
    "library(gbm) \n",
    "library(MASS)\n",
    "library(xgboost)\n",
    "library(gRain)\n",
    "library(bnlearn)"
   ]
  },
  {
   "cell_type": "markdown",
   "id": "f0920e60-91b0-4696-bb1c-30e364e7c371",
   "metadata": {
    "jp-MarkdownHeadingCollapsed": true
   },
   "source": [
    "#### Preparar datos"
   ]
  },
  {
   "cell_type": "code",
   "execution_count": 3,
   "id": "ca7be3af-23ce-4746-a83f-ad987f7e2163",
   "metadata": {},
   "outputs": [],
   "source": [
    "data = read.csv(\"dfML.csv\")\n",
    "dfML = data[, -1]; rm(data)"
   ]
  },
  {
   "cell_type": "code",
   "execution_count": 4,
   "id": "195696bf-ce7a-4aa6-94c9-aa24bba1e0ff",
   "metadata": {},
   "outputs": [],
   "source": [
    "dfML$Product_Form <- factor(dfML$Product_Form)"
   ]
  },
  {
   "cell_type": "code",
   "execution_count": 5,
   "id": "234b25a7-7093-42cc-b64e-51179ae69eb6",
   "metadata": {},
   "outputs": [],
   "source": [
    "y <- dfML$DT41J_Celsius\n",
    "x <- dfML[,-7]"
   ]
  },
  {
   "cell_type": "code",
   "execution_count": 6,
   "id": "7e6bc452-6fc8-40e4-ac52-22fd15b9e42d",
   "metadata": {},
   "outputs": [],
   "source": [
    "set.seed(2)\n",
    "n <- length(y)\n",
    "ind.train <- sample(1:n, round(0.85*n))\n",
    "ind.test <- setdiff(1:n,ind.train)"
   ]
  },
  {
   "cell_type": "code",
   "execution_count": 7,
   "id": "3d78dc40-1cce-42fc-9108-9c15df7c100e",
   "metadata": {},
   "outputs": [],
   "source": [
    "params.scaling <- preProcess(x[ind.train,-1], method = c(\"center\", \"scale\"))\n",
    "x[ind.train,-1] <- scale(x[ind.train,-1], center = params.scaling$mean, scale = params.scaling$std)\n",
    "x[ind.test,-1] <- scale(x[ind.test,-1], center = params.scaling$mean, scale = params.scaling$std)"
   ]
  },
  {
   "cell_type": "code",
   "execution_count": 8,
   "id": "1bb8143a-c80a-4a94-b961-ec9689e8b8a2",
   "metadata": {},
   "outputs": [],
   "source": [
    "dfscale <- data.frame(y, x)\n",
    "y.train <- y[ind.train]\n",
    "y.test <- y[ind.test]\n",
    "x.train <- x[ind.train,]\n",
    "x.test <- x[ind.test,]"
   ]
  },
  {
   "cell_type": "code",
   "execution_count": 9,
   "id": "c0a705ee-ae5e-44b5-8378-6c2384eae5f2",
   "metadata": {},
   "outputs": [],
   "source": [
    "rmse <- function(x, y) {\n",
    "    stopifnot(length(x) == length(y))\n",
    "    sqrt(mean((x - y)^2))\n",
    "}"
   ]
  },
  {
   "cell_type": "code",
   "execution_count": 10,
   "id": "f85ac420-bd13-4c81-995a-6468f95d86e0",
   "metadata": {},
   "outputs": [],
   "source": [
    "#con one hot encoding para PF\n",
    "#cambiar product form a one hot encoding\n",
    "col <- dfscale$Product_Form\n",
    "positions <- which(col == 'SRM')\n",
    "col[positions] <- 'P'\n",
    "dfProdForm <- model.matrix(~ col - 1)[,-3]"
   ]
  },
  {
   "cell_type": "code",
   "execution_count": 11,
   "id": "63d1fb6f-f6d5-422a-9dda-f9e95d819aab",
   "metadata": {},
   "outputs": [],
   "source": [
    "#con integer encoding para PF\n",
    "xaux <- x"
   ]
  },
  {
   "cell_type": "code",
   "execution_count": 12,
   "id": "45eec482-1ebc-4288-b14d-84c41fa15879",
   "metadata": {},
   "outputs": [],
   "source": [
    "xaux$Product_Form <- as.numeric(xaux$Product_Form)\n",
    "xaux$Product_Form[which(xaux$Product_Form == 3)] <- 2\n",
    "xaux$Product_Form[which(xaux$Product_Form == 4)] <- 3"
   ]
  },
  {
   "cell_type": "markdown",
   "id": "acd996d5-e609-4261-bd6c-a97c7c22b3bc",
   "metadata": {},
   "source": [
    "#### Árboles de regresión"
   ]
  },
  {
   "cell_type": "code",
   "execution_count": 150,
   "id": "9116f96d-2622-418f-8496-281a98f20e1d",
   "metadata": {},
   "outputs": [],
   "source": [
    "tree.completo = tree(y ~., data=dfscale, subset = ind.train, mincut = 1, minsize = 2, mindev = 0)"
   ]
  },
  {
   "cell_type": "code",
   "execution_count": 151,
   "id": "7cfab379-1913-4827-b5f0-b5fe7ccd4ce6",
   "metadata": {},
   "outputs": [
    {
     "data": {
      "image/png": "[encoded data removed]",
      "text/plain": [
       "plot without title"
      ]
     },
     "metadata": {
      "image/png": {
       "height": 420,
       "width": 420
      }
     },
     "output_type": "display_data"
    }
   ],
   "source": [
    "set.seed(1)\n",
    "tree.cv = cv.tree(tree.completo, K = 20)  \n",
    "plot(tree.cv$size, tree.cv$dev,\n",
    "     type = \"o\", pch = 19,\n",
    "     xlab = \"number of leaves\", ylab = \"deviance\",\n",
    "     xlim = c(0,100))\n",
    "grid()"
   ]
  },
  {
   "cell_type": "code",
   "execution_count": 152,
   "id": "7cf02bc4-e5f5-413c-b8f8-b2d6eeb2c471",
   "metadata": {},
   "outputs": [],
   "source": [
    "tree.optimo <- prune.tree(tree.completo, best=18)"
   ]
  },
  {
   "cell_type": "code",
   "execution_count": 153,
   "id": "a1cbcb49-67e4-4385-8b00-2140d0988f4c",
   "metadata": {},
   "outputs": [],
   "source": [
    "DT.pred.tree <- predict(tree.optimo, dfscale[ind.test,])"
   ]
  },
  {
   "cell_type": "code",
   "execution_count": 154,
   "id": "213b8748-cb8c-420d-bb32-d05c71a49259",
   "metadata": {},
   "outputs": [
    {
     "data": {
      "text/html": [
       "18.2804684179727"
      ],
      "text/latex": [
       "18.2804684179727"
      ],
      "text/markdown": [
       "18.2804684179727"
      ],
      "text/plain": [
       "[1] 18.28047"
      ]
     },
     "metadata": {},
     "output_type": "display_data"
    }
   ],
   "source": [
    "rmse(y.test,DT.pred.tree)"
   ]
  },
  {
   "cell_type": "markdown",
   "id": "0db5efd3-c536-4f9c-86e8-2b04e719f357",
   "metadata": {},
   "source": [
    "#### KNN regresión"
   ]
  },
  {
   "cell_type": "code",
   "execution_count": 123,
   "id": "8414966c-6e38-44e7-ba24-f8f8153f2653",
   "metadata": {},
   "outputs": [
    {
     "data": {
      "image/png": "[encoded data removed]",
      "text/plain": [
       "plot without title"
      ]
     },
     "metadata": {
      "image/png": {
       "height": 420,
       "width": 420
      }
     },
     "output_type": "display_data"
    }
   ],
   "source": [
    "set.seed(1)\n",
    "trctrl = trainControl(method = \"cv\", number = 20)\n",
    "knn.optimo = train(y ~ ., dfscale, subset = ind.train,\n",
    "                method = \"knn\",\n",
    "                trControl = trctrl,\n",
    "                preProcess = c(\"center\", \"scale\"),\n",
    "                tuneGrid = expand.grid(k = seq(1, 30, 1)))\n",
    "plot(knn.optimo)"
   ]
  },
  {
   "cell_type": "code",
   "execution_count": 124,
   "id": "8e37af8f-16c6-4339-9ea9-a8fcf327c91b",
   "metadata": {},
   "outputs": [],
   "source": [
    "knn.opt <- knn.reg(train = x.train[,-1], test = x.test[,-1], \n",
    "             y = y.train, k = 4)\n",
    "DT.pred.knn <- knn.opt$pred"
   ]
  },
  {
   "cell_type": "code",
   "execution_count": 125,
   "id": "939b91d1-61b9-4c13-9371-1fc5822cac1a",
   "metadata": {},
   "outputs": [
    {
     "data": {
      "text/html": [
       "14.8523380847079"
      ],
      "text/latex": [
       "14.8523380847079"
      ],
      "text/markdown": [
       "14.8523380847079"
      ],
      "text/plain": [
       "[1] 14.85234"
      ]
     },
     "metadata": {},
     "output_type": "display_data"
    }
   ],
   "source": [
    "rmse(y.test,DT.pred.knn)"
   ]
  },
  {
   "cell_type": "code",
   "execution_count": 127,
   "id": "04b28026-dd64-4cfb-9de5-674054ce4c3c",
   "metadata": {},
   "outputs": [],
   "source": [
    "knn.opt2 <- knn.reg(train = data.frame(dfProdForm,x[,-1])[ind.train,], \n",
    "                   test = data.frame(dfProdForm,x[,-1])[ind.test,], y = y.train, k = 4)\n",
    "DT.pred.knn2 <- knn.opt2$pred"
   ]
  },
  {
   "cell_type": "code",
   "execution_count": 128,
   "id": "1c211712-aab4-4c4d-b3a4-ceaee34ceb08",
   "metadata": {},
   "outputs": [
    {
     "data": {
      "text/html": [
       "14.8510143848925"
      ],
      "text/latex": [
       "14.8510143848925"
      ],
      "text/markdown": [
       "14.8510143848925"
      ],
      "text/plain": [
       "[1] 14.85101"
      ]
     },
     "metadata": {},
     "output_type": "display_data"
    }
   ],
   "source": [
    "rmse(y.test,DT.pred.knn2)"
   ]
  },
  {
   "cell_type": "code",
   "execution_count": 131,
   "id": "ecb7d20d-003f-4822-ad1c-ecbb4342c782",
   "metadata": {},
   "outputs": [],
   "source": [
    "knn.opt3 <- knn.reg(train = xaux[ind.train,], \n",
    "                   test = xaux[ind.test,], y = y.train, k = 4)\n",
    "DT.pred.knn3 <- knn.opt3$pred"
   ]
  },
  {
   "cell_type": "code",
   "execution_count": 132,
   "id": "c82f0385-e97d-4f9e-99c8-659e18d5e8b8",
   "metadata": {},
   "outputs": [
    {
     "data": {
      "text/html": [
       "14.7101043465629"
      ],
      "text/latex": [
       "14.7101043465629"
      ],
      "text/markdown": [
       "14.7101043465629"
      ],
      "text/plain": [
       "[1] 14.7101"
      ]
     },
     "metadata": {},
     "output_type": "display_data"
    }
   ],
   "source": [
    "rmse(y.test,DT.pred.knn3)"
   ]
  },
  {
   "cell_type": "markdown",
   "id": "0fe60875-38d8-4dd6-bdf3-8ec3fdc5cbb7",
   "metadata": {},
   "source": [
    "#### Random forest"
   ]
  },
  {
   "cell_type": "code",
   "execution_count": 11,
   "id": "9f844603-9c32-416a-a682-d453d2f6644f",
   "metadata": {},
   "outputs": [],
   "source": [
    "set.seed(1)\n",
    "rf = randomForest(y ~., dfscale , subset = ind.train)"
   ]
  },
  {
   "cell_type": "code",
   "execution_count": 12,
   "id": "20c5df6c-5cbe-45a9-9f14-33742f2f795f",
   "metadata": {},
   "outputs": [
    {
     "data": {
      "image/png": "[encoded data removed]",
      "text/plain": [
       "plot without title"
      ]
     },
     "metadata": {
      "image/png": {
       "height": 420,
       "width": 420
      }
     },
     "output_type": "display_data"
    }
   ],
   "source": [
    "plot(rf$mse, type = \"l\", xlab = \"no. trees\",\n",
    "ylab = \"OOB error\"); grid()"
   ]
  },
  {
   "cell_type": "code",
   "execution_count": 13,
   "id": "1b8c67b3-53fe-47dd-96ea-27f6373bdd10",
   "metadata": {},
   "outputs": [],
   "source": [
    "ntreeval <- 200\n",
    "mtryval <- length(x[1,])/3\n",
    "set.seed(1)\n",
    "rf.optimo <- randomForest(y ~ .,  dfscale, subset = ind.train, ntree = ntreeval, mtry = mtryval)"
   ]
  },
  {
   "cell_type": "code",
   "execution_count": 14,
   "id": "235293c4-11f3-4226-a0ed-7ec95eb028c5",
   "metadata": {},
   "outputs": [],
   "source": [
    "DT.pred.rf <- predict(rf.optimo, dfscale[ind.test, ])"
   ]
  },
  {
   "cell_type": "code",
   "execution_count": 15,
   "id": "6596e5c7-78cf-4d74-8b26-787a2c5d22f0",
   "metadata": {},
   "outputs": [
    {
     "data": {
      "text/html": [
       "12.1546371117664"
      ],
      "text/latex": [
       "12.1546371117664"
      ],
      "text/markdown": [
       "12.1546371117664"
      ],
      "text/plain": [
       "[1] 12.15464"
      ]
     },
     "metadata": {},
     "output_type": "display_data"
    }
   ],
   "source": [
    "rmse(DT.pred.rf,y.test)"
   ]
  },
  {
   "cell_type": "markdown",
   "id": "41ccb414-3498-412e-934a-f715dfdf11a3",
   "metadata": {},
   "source": [
    "#### Gradient boosting"
   ]
  },
  {
   "cell_type": "code",
   "execution_count": 36,
   "id": "d6d9e6ed-f71b-4885-9e51-b1d1c1bd6772",
   "metadata": {},
   "outputs": [
    {
     "name": "stdout",
     "output_type": "stream",
     "text": [
      "Distribution not specified, assuming gaussian ...\n"
     ]
    }
   ],
   "source": [
    "#gbm CV solo  n.trees\n",
    "set.seed(1)\n",
    "\n",
    "gb.cv <- gbm(y~., data=dfscale[ind.train, ], n.trees=5000, \n",
    "             interaction.depth=20, shrinkage = 0.01, cv.folds = 10)"
   ]
  },
  {
   "cell_type": "code",
   "execution_count": 37,
   "id": "a1f2d0cb-c861-441a-97a3-274b9a7440c0",
   "metadata": {},
   "outputs": [
    {
     "data": {
      "image/png": "[encoded data removed]",
      "text/plain": [
       "plot without title"
      ]
     },
     "metadata": {
      "image/png": {
       "height": 420,
       "width": 420
      }
     },
     "output_type": "display_data"
    }
   ],
   "source": [
    "set.seed(1)\n",
    "ntree_opt_cv <- gbm.perf(gb.cv, method = \"cv\")"
   ]
  },
  {
   "cell_type": "code",
   "execution_count": 23,
   "id": "5d3194e3-be2f-440b-af44-02507bdd6ef3",
   "metadata": {},
   "outputs": [
    {
     "name": "stdout",
     "output_type": "stream",
     "text": [
      "Distribution not specified, assuming gaussian ...\n"
     ]
    }
   ],
   "source": [
    "set.seed(1)\n",
    "gb <- gbm(y~., data=dfscale[ind.train, ], n.trees=ntree_opt_cv, \n",
    "          interaction.depth=20, shrinkage = 0.01)"
   ]
  },
  {
   "cell_type": "code",
   "execution_count": 24,
   "id": "d7896c57-2575-4896-8b1a-1ef6b85d7831",
   "metadata": {},
   "outputs": [],
   "source": [
    "DT.pred.gbm <- predict(object = gb, newdata = dfscale[ind.test, ], \n",
    "                        n.trees = ntree_opt_cv, type = \"response\")"
   ]
  },
  {
   "cell_type": "code",
   "execution_count": 25,
   "id": "6035b167-1e2f-449e-bb98-9e33c0a27f8e",
   "metadata": {},
   "outputs": [
    {
     "data": {
      "text/html": [
       "11.3405439810619"
      ],
      "text/latex": [
       "11.3405439810619"
      ],
      "text/markdown": [
       "11.3405439810619"
      ],
      "text/plain": [
       "[1] 11.34054"
      ]
     },
     "metadata": {},
     "output_type": "display_data"
    }
   ],
   "source": [
    "rmse(DT.pred.gbm,y.test)"
   ]
  },
  {
   "cell_type": "code",
   "execution_count": 49,
   "id": "b2e5ec66-4909-4825-85a0-9734b786ebae",
   "metadata": {},
   "outputs": [
    {
     "name": "stdout",
     "output_type": "stream",
     "text": [
      "Distribution not specified, assuming gaussian ...\n",
      "Distribution not specified, assuming gaussian ...\n",
      "Distribution not specified, assuming gaussian ...\n"
     ]
    },
    {
     "data": {
      "image/png": "[encoded data removed]",
      "text/plain": [
       "plot without title"
      ]
     },
     "metadata": {
      "image/png": {
       "height": 420,
       "width": 420
      }
     },
     "output_type": "display_data"
    },
    {
     "name": "stdout",
     "output_type": "stream",
     "text": [
      "Distribution not specified, assuming gaussian ...\n",
      "Distribution not specified, assuming gaussian ...\n"
     ]
    },
    {
     "data": {
      "image/png": "[encoded data removed]",
      "text/plain": [
       "plot without title"
      ]
     },
     "metadata": {
      "image/png": {
       "height": 420,
       "width": 420
      }
     },
     "output_type": "display_data"
    },
    {
     "name": "stdout",
     "output_type": "stream",
     "text": [
      "Distribution not specified, assuming gaussian ...\n"
     ]
    },
    {
     "data": {
      "image/png": "[encoded data removed]",
      "text/plain": [
       "plot without title"
      ]
     },
     "metadata": {
      "image/png": {
       "height": 420,
       "width": 420
      }
     },
     "output_type": "display_data"
    }
   ],
   "source": [
    "#gbm CV n.trees y depth\n",
    "set.seed(1)\n",
    "depth_range <- c(3,6,10)\n",
    "\n",
    "min_error <- 100\n",
    "param_opt <- list(\n",
    "    ntree_opt = 0,\n",
    "    depth_opt = 0\n",
    ")\n",
    "\n",
    "for (d in depth_range){\n",
    "    gb.cv <- gbm(y~., data=dfscale[ind.train, ], n.trees=10000, \n",
    "                 interaction.depth=d, shrinkage = 0.01, cv.folds = 10)\n",
    "    ntree_opt_cv <- gbm.perf(gb.cv, method = \"cv\")\n",
    "    gb <- gbm(y~., data=dfscale[ind.train, ], n.trees=ntree_opt_cv, \n",
    "              interaction.depth=d, shrinkage = 0.01)\n",
    "    DT.pred.gbm <- predict(object = gb, newdata = dfscale[ind.test, ], \n",
    "                            n.trees = ntree_opt_cv, type = \"response\")\n",
    "    error <-rmse(DT.pred.gbm,y.test)\n",
    "    if (error < min_error){\n",
    "        min_error <- error\n",
    "        param_opt$ntree_opt <- ntree_opt_cv\n",
    "        param_opt$depth_opt <- d\n",
    "    }\n",
    "} "
   ]
  },
  {
   "cell_type": "code",
   "execution_count": 50,
   "id": "7b35a354-23b4-4bfe-9326-5baa4f307f55",
   "metadata": {},
   "outputs": [
    {
     "name": "stdout",
     "output_type": "stream",
     "text": [
      "[1] 10.98208\n",
      "$ntree_opt\n",
      "[1] 5596\n",
      "\n",
      "$depth_opt\n",
      "[1] 6\n",
      "\n"
     ]
    }
   ],
   "source": [
    "print(min_error)\n",
    "print(param_opt)"
   ]
  },
  {
   "cell_type": "code",
   "execution_count": 18,
   "id": "6c7fb919-c883-421b-ad48-8baff64c0b60",
   "metadata": {},
   "outputs": [],
   "source": [
    "#xgboost\n",
    "#cv de eta max_depth \n",
    "nroundsmax <- 300\n",
    "nthreadval <- 2\n",
    "\n",
    "eta_range <- c(0.1,0.3,0.5,1)\n",
    "depth_range <- c(3,6,12)\n",
    "\n",
    "param <- expand.grid(eta_range,depth_range)\n",
    "param_opt <- list(\n",
    "    eta_opt = 0,\n",
    "    depth_opt = 0\n",
    ")\n",
    "best_error <- 100\n",
    "xboost.cv <- 0\n",
    "\n",
    "for (icomb in 1:dim(param)[1]){\n",
    "    xboost.cv.iter <- xgb.cv(data = as.matrix(xaux[ind.train,]), label = dfscale$y[ind.train],\n",
    "                             nrounds = nroundsmax, nthread = nthreadval, nfold = 10, metrics = list(\"rmse\"),\n",
    "                             max_depth = param$Var2[i], eta = param$Var1[i], objective = \"reg:squarederror\",\n",
    "                             verbose = FALSE)\n",
    "    min_error <- min(xboost.cv.iter$evaluation_log$test_rmse_mean)\n",
    "    if (min_error<best_error){\n",
    "        best_error <- min_error\n",
    "        xboost.cv <- xboost.cv.iter\n",
    "        param_opt$eta_opt <- param$Var1[i]\n",
    "        param_opt$depth_opt <- param$Var2[i]\n",
    "    }     \n",
    "}"
   ]
  },
  {
   "cell_type": "code",
   "execution_count": 19,
   "id": "35c1a054-8d4b-4f72-bc9d-d83706dbcfc5",
   "metadata": {},
   "outputs": [
    {
     "data": {
      "image/png": "[encoded data removed]",
      "text/plain": [
       "plot without title"
      ]
     },
     "metadata": {
      "image/png": {
       "height": 420,
       "width": 420
      }
     },
     "output_type": "display_data"
    }
   ],
   "source": [
    "plot(xboost.cv$evaluation_log$iter,xboost.cv$evaluation_log$test_rmse_mean)"
   ]
  },
  {
   "cell_type": "code",
   "execution_count": 20,
   "id": "7465ca88-f7ac-4b7b-9d26-1f53d4a5db43",
   "metadata": {},
   "outputs": [
    {
     "data": {
      "text/html": [
       "<dl>\n",
       "\t<dt>$eta_opt</dt>\n",
       "\t\t<dd>0.3</dd>\n",
       "\t<dt>$depth_opt</dt>\n",
       "\t\t<dd>3</dd>\n",
       "</dl>\n"
      ],
      "text/latex": [
       "\\begin{description}\n",
       "\\item[\\$eta\\_opt] 0.3\n",
       "\\item[\\$depth\\_opt] 3\n",
       "\\end{description}\n"
      ],
      "text/markdown": [
       "$eta_opt\n",
       ":   0.3\n",
       "$depth_opt\n",
       ":   3\n",
       "\n",
       "\n"
      ],
      "text/plain": [
       "$eta_opt\n",
       "[1] 0.3\n",
       "\n",
       "$depth_opt\n",
       "[1] 3\n"
      ]
     },
     "metadata": {},
     "output_type": "display_data"
    }
   ],
   "source": [
    "param_opt"
   ]
  },
  {
   "cell_type": "code",
   "execution_count": 21,
   "id": "c3476cab-d04a-4116-8471-5015dd3c74c1",
   "metadata": {},
   "outputs": [],
   "source": [
    "#cv de nrounds\n",
    "etaval <- 0.3\n",
    "max_depthval <- 3\n",
    "nroundsopt <- 100"
   ]
  },
  {
   "cell_type": "code",
   "execution_count": 22,
   "id": "9bd2c7bf-9327-4361-a191-a8321a755eca",
   "metadata": {},
   "outputs": [],
   "source": [
    "set.seed(1)\n",
    "xboost <- xgboost(data = as.matrix(xaux[ind.train,]), label = dfscale$y[ind.train],max.depth = max_depthval, \n",
    "                  eta = etaval, nrounds = nroundsopt, nthread = nthreadval,verbose = FALSE)"
   ]
  },
  {
   "cell_type": "code",
   "execution_count": 23,
   "id": "d077c245-3254-44b2-b8f3-5ab837433377",
   "metadata": {},
   "outputs": [],
   "source": [
    "DT.pred.xgb <- predict(xboost, newdata = as.matrix(xaux[ind.test, ]), type = \"response\")"
   ]
  },
  {
   "cell_type": "code",
   "execution_count": 24,
   "id": "982f97f7-563b-4fc2-bce5-3ae45b291629",
   "metadata": {},
   "outputs": [
    {
     "data": {
      "text/html": [
       "12.0016333685691"
      ],
      "text/latex": [
       "12.0016333685691"
      ],
      "text/markdown": [
       "12.0016333685691"
      ],
      "text/plain": [
       "[1] 12.00163"
      ]
     },
     "metadata": {},
     "output_type": "display_data"
    }
   ],
   "source": [
    "rmse(y.test,DT.pred.xgb)"
   ]
  },
  {
   "cell_type": "code",
   "execution_count": null,
   "id": "a73980d1-52e9-4818-bdce-c560b8d31a5d",
   "metadata": {},
   "outputs": [],
   "source": []
  },
  {
   "cell_type": "code",
   "execution_count": null,
   "id": "d09c9da8-81a8-4c73-973e-599e346891d2",
   "metadata": {},
   "outputs": [],
   "source": []
  },
  {
   "cell_type": "code",
   "execution_count": null,
   "id": "76b11dc3-9051-4f0a-907b-4415fa397e7a",
   "metadata": {},
   "outputs": [],
   "source": []
  },
  {
   "cell_type": "code",
   "execution_count": null,
   "id": "4c61063a-16f6-4486-a49b-6ccf62791811",
   "metadata": {},
   "outputs": [],
   "source": []
  },
  {
   "cell_type": "code",
   "execution_count": null,
   "id": "9bdca27a-358c-4394-bf5a-ec878c3748b0",
   "metadata": {},
   "outputs": [],
   "source": []
  },
  {
   "cell_type": "code",
   "execution_count": null,
   "id": "a714bef7-ce0b-4956-9aa9-6fdbc212c3f7",
   "metadata": {},
   "outputs": [],
   "source": []
  },
  {
   "cell_type": "markdown",
   "id": "a3943251-1f82-493f-8687-ae21d07576ba",
   "metadata": {},
   "source": [
    "#### "
   ]
  },
  {
   "cell_type": "code",
   "execution_count": null,
   "id": "4f733982-3212-4359-8ebd-328fc82c0bae",
   "metadata": {},
   "outputs": [],
   "source": [
    "#otras metricas\n",
    "# print(paste0(\"rmseOpt: \",rmse(y.test,pred.opt$pred)))\n",
    "# print(paste0(\"spearmanOpt: \",cor(y.test,pred.opt$pred,method=\"spearman\")))\n",
    "# print(paste0(\"ration.varOpt: \",var(pred.opt$pred)/var(y.test)))"
   ]
  },
  {
   "cell_type": "code",
   "execution_count": null,
   "id": "106fdc20-7c66-4ddb-b1e7-38119d107078",
   "metadata": {},
   "outputs": [],
   "source": []
  }
 ],
 "metadata": {
  "kernelspec": {
   "display_name": "R",
   "language": "R",
   "name": "ir"
  },
  "language_info": {
   "codemirror_mode": "r",
   "file_extension": ".r",
   "mimetype": "text/x-r-source",
   "name": "R",
   "pygments_lexer": "r",
   "version": "4.3.2"
  }
 },
 "nbformat": 4,
 "nbformat_minor": 5
}

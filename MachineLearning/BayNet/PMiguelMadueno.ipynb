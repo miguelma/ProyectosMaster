{
 "cells": [
  {
   "cell_type": "markdown",
   "id": "0bd0164c-5b28-4cdf-ba28-c3076c49bc62",
   "metadata": {},
   "source": [
    "Redes bayesianas - Miguel Madueño Sanz"
   ]
  },
  {
   "cell_type": "code",
   "execution_count": 2,
   "id": "7e5210db-d2c9-4a1a-8914-88dc746704f2",
   "metadata": {},
   "outputs": [],
   "source": [
    "library(gRain)\n",
    "library(bnlearn)"
   ]
  },
  {
   "cell_type": "markdown",
   "id": "7fb6bae4-0eae-4f6e-b72a-acac0534d572",
   "metadata": {},
   "source": [
    "**Ejercicio 1 (2.5 Puntos)**\n",
    "\n",
    "    - A partir del grafo dado por el experto, determina la expresión que refleja la factorización de la distribución global, y escríbela como una secuencia de caracteres del tipo generado por la función modelstring del paquete de R bnlearn.\n",
    "\n",
    "NOTA: Como ya se comentado anteriormente, es importante evitar tildes a la hora de nombrar los nodos. Tampoco son recomendables espacios en blanco ni ningún tipo de carácter especial.\n",
    "\n",
    "    - A continuación, introduce el DAG en R utilizando la definicíon del modelo que acabas de crear\n",
    "\n",
    "    - Realiza una lista de los padres e hijos de cada uno de los nodos\n",
    "\n",
    "    - Realiza una lista de todas las conexiones fundamentales presentes en el grafo, y realiza una clasificación de cada una de ellas determinando si es una estructura en serie, divergente o convergente.\n",
    "\n",
    "    - ¿Se observa alguna v-estructura en el grafo?\n",
    "\n",
    "    - Intenta introducir un arco que parta del nodo neblina y se dirija hacia escarcha, y otro que vaya de granizo a lluvia. Comenta qué sucede en cada caso, y si el resultado daría lugar a una red bayesiana válida.\n",
    "\n",
    "    - Determina la manta de Markov del nodo rocio\n",
    "\n",
    "    - Introduce un arco que parta del nodo Lluvia y se dirija al nodo Niebla, ¿cambia la manta de Markov del nodo rocio? En caso afirmativo, ¿cómo lo hace?\n",
    "\n",
    "Para continuar, elimina el arco definido anteriormente entre los nodos Lluvia y Niebla, recuperando el DAG original."
   ]
  },
  {
   "cell_type": "code",
   "execution_count": 3,
   "id": "a44cff82-6918-4597-ac11-b6514f421946",
   "metadata": {},
   "outputs": [],
   "source": [
    "#expresión de la distribución global\n",
    "string <- '[viento][rocio|viento][lluvia|viento][tormenta|lluvia][neblina|niebla][granizo|tormenta][nieve|tormenta][escarcha|rocio][niebla|viento:rocio][nieveSuelo|nieve]'"
   ]
  },
  {
   "cell_type": "code",
   "execution_count": 4,
   "id": "3845b791-1920-493d-8305-59277b88af46",
   "metadata": {},
   "outputs": [
    {
     "data": {
      "image/png": "[encoded data removed]",
      "text/plain": [
       "plot without title"
      ]
     },
     "metadata": {
      "image/png": {
       "height": 420,
       "width": 420
      }
     },
     "output_type": "display_data"
    }
   ],
   "source": [
    "#dag\n",
    "dag <- model2network(string)\n",
    "plot(dag)"
   ]
  },
  {
   "cell_type": "code",
   "execution_count": 5,
   "id": "66766bd4-d0c6-4fa0-b835-8af9567b9089",
   "metadata": {},
   "outputs": [],
   "source": [
    "#padres e hijos por nodo\n",
    "tablaParent <- data.frame(\n",
    "    Nodo = character(),\n",
    "    Padres = character(),\n",
    "    Hijos = character(),\n",
    "    stringsAsFactors = FALSE\n",
    ")"
   ]
  },
  {
   "cell_type": "code",
   "execution_count": 6,
   "id": "8ea693e9-cc4d-4a6f-868f-2c1b662d0f43",
   "metadata": {},
   "outputs": [
    {
     "data": {
      "text/html": [
       "<table class=\"dataframe\">\n",
       "<caption>A data.frame: 10 × 3</caption>\n",
       "<thead>\n",
       "\t<tr><th></th><th scope=col>Nodo</th><th scope=col>Padres</th><th scope=col>Hijos</th></tr>\n",
       "\t<tr><th></th><th scope=col>&lt;chr&gt;</th><th scope=col>&lt;chr&gt;</th><th scope=col>&lt;chr&gt;</th></tr>\n",
       "</thead>\n",
       "<tbody>\n",
       "\t<tr><th scope=row>1</th><td>escarcha  </td><td>rocio        </td><td>NA                   </td></tr>\n",
       "\t<tr><th scope=row>2</th><td>granizo   </td><td>tormenta     </td><td>NA                   </td></tr>\n",
       "\t<tr><th scope=row>3</th><td>lluvia    </td><td>viento       </td><td>tormenta             </td></tr>\n",
       "\t<tr><th scope=row>4</th><td>neblina   </td><td>niebla       </td><td>NA                   </td></tr>\n",
       "\t<tr><th scope=row>5</th><td>niebla    </td><td>rocio, viento</td><td>neblina              </td></tr>\n",
       "\t<tr><th scope=row>6</th><td>nieve     </td><td>tormenta     </td><td>nieveSuelo           </td></tr>\n",
       "\t<tr><th scope=row>7</th><td>nieveSuelo</td><td>nieve        </td><td>NA                   </td></tr>\n",
       "\t<tr><th scope=row>8</th><td>rocio     </td><td>viento       </td><td>escarcha, niebla     </td></tr>\n",
       "\t<tr><th scope=row>9</th><td>tormenta  </td><td>lluvia       </td><td>granizo, nieve       </td></tr>\n",
       "\t<tr><th scope=row>10</th><td>viento    </td><td>NA           </td><td>lluvia, niebla, rocio</td></tr>\n",
       "</tbody>\n",
       "</table>\n"
      ],
      "text/latex": [
       "A data.frame: 10 × 3\n",
       "\\begin{tabular}{r|lll}\n",
       "  & Nodo & Padres & Hijos\\\\\n",
       "  & <chr> & <chr> & <chr>\\\\\n",
       "\\hline\n",
       "\t1 & escarcha   & rocio         & NA                   \\\\\n",
       "\t2 & granizo    & tormenta      & NA                   \\\\\n",
       "\t3 & lluvia     & viento        & tormenta             \\\\\n",
       "\t4 & neblina    & niebla        & NA                   \\\\\n",
       "\t5 & niebla     & rocio, viento & neblina              \\\\\n",
       "\t6 & nieve      & tormenta      & nieveSuelo           \\\\\n",
       "\t7 & nieveSuelo & nieve         & NA                   \\\\\n",
       "\t8 & rocio      & viento        & escarcha, niebla     \\\\\n",
       "\t9 & tormenta   & lluvia        & granizo, nieve       \\\\\n",
       "\t10 & viento     & NA            & lluvia, niebla, rocio\\\\\n",
       "\\end{tabular}\n"
      ],
      "text/markdown": [
       "\n",
       "A data.frame: 10 × 3\n",
       "\n",
       "| <!--/--> | Nodo &lt;chr&gt; | Padres &lt;chr&gt; | Hijos &lt;chr&gt; |\n",
       "|---|---|---|---|\n",
       "| 1 | escarcha   | rocio         | NA                    |\n",
       "| 2 | granizo    | tormenta      | NA                    |\n",
       "| 3 | lluvia     | viento        | tormenta              |\n",
       "| 4 | neblina    | niebla        | NA                    |\n",
       "| 5 | niebla     | rocio, viento | neblina               |\n",
       "| 6 | nieve      | tormenta      | nieveSuelo            |\n",
       "| 7 | nieveSuelo | nieve         | NA                    |\n",
       "| 8 | rocio      | viento        | escarcha, niebla      |\n",
       "| 9 | tormenta   | lluvia        | granizo, nieve        |\n",
       "| 10 | viento     | NA            | lluvia, niebla, rocio |\n",
       "\n"
      ],
      "text/plain": [
       "   Nodo       Padres        Hijos                \n",
       "1  escarcha   rocio         NA                   \n",
       "2  granizo    tormenta      NA                   \n",
       "3  lluvia     viento        tormenta             \n",
       "4  neblina    niebla        NA                   \n",
       "5  niebla     rocio, viento neblina              \n",
       "6  nieve      tormenta      nieveSuelo           \n",
       "7  nieveSuelo nieve         NA                   \n",
       "8  rocio      viento        escarcha, niebla     \n",
       "9  tormenta   lluvia        granizo, nieve       \n",
       "10 viento     NA            lluvia, niebla, rocio"
      ]
     },
     "metadata": {},
     "output_type": "display_data"
    }
   ],
   "source": [
    "for (nodo in nodes(dag)) {\n",
    "    hijos <- ifelse(length(bnlearn::children(dag, nodo))==0, NA, paste(bnlearn::children(dag, nodo), collapse = \", \"))\n",
    "    padres <- ifelse(length(bnlearn::parents(dag, nodo))==0, NA, paste(bnlearn::parents(dag, nodo), collapse = \", \"))\n",
    "    \n",
    "    tablaParent[nrow(tablaParent)+1,] = c(nodo, padres, hijos)\n",
    "}\n",
    "tablaParent"
   ]
  },
  {
   "cell_type": "code",
   "execution_count": 7,
   "id": "57627dd1-91ec-40c5-bf48-d6ac00506242",
   "metadata": {},
   "outputs": [
    {
     "data": {
      "text/html": [
       "<table class=\"dataframe\">\n",
       "<caption>A data.frame: 14 × 4</caption>\n",
       "<thead>\n",
       "\t<tr><th></th><th scope=col>A</th><th scope=col>X</th><th scope=col>B</th><th scope=col>tipo</th></tr>\n",
       "\t<tr><th></th><th scope=col>&lt;chr&gt;</th><th scope=col>&lt;chr&gt;</th><th scope=col>&lt;chr&gt;</th><th scope=col>&lt;chr&gt;</th></tr>\n",
       "</thead>\n",
       "<tbody>\n",
       "\t<tr><th scope=row>1</th><td>viento  </td><td>lluvia  </td><td>tormenta  </td><td>enSerie    </td></tr>\n",
       "\t<tr><th scope=row>2</th><td>rocio   </td><td>niebla  </td><td>viento    </td><td>convergente</td></tr>\n",
       "\t<tr><th scope=row>3</th><td>rocio   </td><td>niebla  </td><td>neblina   </td><td>enSerie    </td></tr>\n",
       "\t<tr><th scope=row>4</th><td>viento  </td><td>niebla  </td><td>neblina   </td><td>enSerie    </td></tr>\n",
       "\t<tr><th scope=row>5</th><td>tormenta</td><td>nieve   </td><td>nieveSuelo</td><td>enSerie    </td></tr>\n",
       "\t<tr><th scope=row>6</th><td>viento  </td><td>rocio   </td><td>escarcha  </td><td>enSerie    </td></tr>\n",
       "\t<tr><th scope=row>7</th><td>viento  </td><td>rocio   </td><td>niebla    </td><td>enSerie    </td></tr>\n",
       "\t<tr><th scope=row>8</th><td>escarcha</td><td>rocio   </td><td>niebla    </td><td>divergente </td></tr>\n",
       "\t<tr><th scope=row>9</th><td>lluvia  </td><td>tormenta</td><td>granizo   </td><td>enSerie    </td></tr>\n",
       "\t<tr><th scope=row>10</th><td>lluvia  </td><td>tormenta</td><td>nieve     </td><td>enSerie    </td></tr>\n",
       "\t<tr><th scope=row>11</th><td>granizo </td><td>tormenta</td><td>nieve     </td><td>divergente </td></tr>\n",
       "\t<tr><th scope=row>12</th><td>lluvia  </td><td>viento  </td><td>niebla    </td><td>divergente </td></tr>\n",
       "\t<tr><th scope=row>13</th><td>lluvia  </td><td>viento  </td><td>rocio     </td><td>divergente </td></tr>\n",
       "\t<tr><th scope=row>14</th><td>niebla  </td><td>viento  </td><td>rocio     </td><td>divergente </td></tr>\n",
       "</tbody>\n",
       "</table>\n"
      ],
      "text/latex": [
       "A data.frame: 14 × 4\n",
       "\\begin{tabular}{r|llll}\n",
       "  & A & X & B & tipo\\\\\n",
       "  & <chr> & <chr> & <chr> & <chr>\\\\\n",
       "\\hline\n",
       "\t1 & viento   & lluvia   & tormenta   & enSerie    \\\\\n",
       "\t2 & rocio    & niebla   & viento     & convergente\\\\\n",
       "\t3 & rocio    & niebla   & neblina    & enSerie    \\\\\n",
       "\t4 & viento   & niebla   & neblina    & enSerie    \\\\\n",
       "\t5 & tormenta & nieve    & nieveSuelo & enSerie    \\\\\n",
       "\t6 & viento   & rocio    & escarcha   & enSerie    \\\\\n",
       "\t7 & viento   & rocio    & niebla     & enSerie    \\\\\n",
       "\t8 & escarcha & rocio    & niebla     & divergente \\\\\n",
       "\t9 & lluvia   & tormenta & granizo    & enSerie    \\\\\n",
       "\t10 & lluvia   & tormenta & nieve      & enSerie    \\\\\n",
       "\t11 & granizo  & tormenta & nieve      & divergente \\\\\n",
       "\t12 & lluvia   & viento   & niebla     & divergente \\\\\n",
       "\t13 & lluvia   & viento   & rocio      & divergente \\\\\n",
       "\t14 & niebla   & viento   & rocio      & divergente \\\\\n",
       "\\end{tabular}\n"
      ],
      "text/markdown": [
       "\n",
       "A data.frame: 14 × 4\n",
       "\n",
       "| <!--/--> | A &lt;chr&gt; | X &lt;chr&gt; | B &lt;chr&gt; | tipo &lt;chr&gt; |\n",
       "|---|---|---|---|---|\n",
       "| 1 | viento   | lluvia   | tormenta   | enSerie     |\n",
       "| 2 | rocio    | niebla   | viento     | convergente |\n",
       "| 3 | rocio    | niebla   | neblina    | enSerie     |\n",
       "| 4 | viento   | niebla   | neblina    | enSerie     |\n",
       "| 5 | tormenta | nieve    | nieveSuelo | enSerie     |\n",
       "| 6 | viento   | rocio    | escarcha   | enSerie     |\n",
       "| 7 | viento   | rocio    | niebla     | enSerie     |\n",
       "| 8 | escarcha | rocio    | niebla     | divergente  |\n",
       "| 9 | lluvia   | tormenta | granizo    | enSerie     |\n",
       "| 10 | lluvia   | tormenta | nieve      | enSerie     |\n",
       "| 11 | granizo  | tormenta | nieve      | divergente  |\n",
       "| 12 | lluvia   | viento   | niebla     | divergente  |\n",
       "| 13 | lluvia   | viento   | rocio      | divergente  |\n",
       "| 14 | niebla   | viento   | rocio      | divergente  |\n",
       "\n"
      ],
      "text/plain": [
       "   A        X        B          tipo       \n",
       "1  viento   lluvia   tormenta   enSerie    \n",
       "2  rocio    niebla   viento     convergente\n",
       "3  rocio    niebla   neblina    enSerie    \n",
       "4  viento   niebla   neblina    enSerie    \n",
       "5  tormenta nieve    nieveSuelo enSerie    \n",
       "6  viento   rocio    escarcha   enSerie    \n",
       "7  viento   rocio    niebla     enSerie    \n",
       "8  escarcha rocio    niebla     divergente \n",
       "9  lluvia   tormenta granizo    enSerie    \n",
       "10 lluvia   tormenta nieve      enSerie    \n",
       "11 granizo  tormenta nieve      divergente \n",
       "12 lluvia   viento   niebla     divergente \n",
       "13 lluvia   viento   rocio      divergente \n",
       "14 niebla   viento   rocio      divergente "
      ]
     },
     "metadata": {},
     "output_type": "display_data"
    }
   ],
   "source": [
    "#conexiones fundamentales y clasificación según su tipo. Recorremos los nodos del grafo y hacemos estructuras \n",
    "#combinando sus padres e hijos siempre que sea posible\n",
    "\n",
    "#estructuras de la forma A---X---B. En caso de que sean en serie, se coloca el padre a la izquierda.\n",
    "\n",
    "tablaConex <- data.frame(\n",
    "    A = character(),\n",
    "    X = character(),\n",
    "    B = character(),\n",
    "    tipo = character(),\n",
    "    stringsAsFactors = FALSE\n",
    ")\n",
    "\n",
    "for (nodo in nodes(dag)) {\n",
    "    hijos <- bnlearn::children(dag, nodo)\n",
    "    padres <- bnlearn::parents(dag, nodo)\n",
    "\n",
    "    familiares <- union(padres,hijos)\n",
    "\n",
    "    #compruebo si hay estructuras de 3\n",
    "    if(length(familiares)>1){\n",
    "        #calculo las posibles combinaciones\n",
    "        combinations <- combn(familiares, 2)\n",
    "        for(c in 1:dim(combinations)[2]){\n",
    "            a <- combinations[1,c]\n",
    "            b <- combinations[2,c]\n",
    "            if (is.element(a,padres)){\n",
    "                if(is.element(b,padres)){\n",
    "                    tablaConex[nrow(tablaConex)+1,] = c(a, nodo, b, 'convergente')\n",
    "                }else{\n",
    "                    tablaConex[nrow(tablaConex)+1,] = c(a, nodo, b, 'enSerie')\n",
    "                }\n",
    "            }else{\n",
    "                if(is.element(b,padres)){\n",
    "                    tablaConex[nrow(tablaConex)+1,] = c(b, nodo, a, 'enSerie')\n",
    "                }else{\n",
    "                    tablaConex[nrow(tablaConex)+1,] = c(a, nodo, b, 'divergente')\n",
    "                }\n",
    "            }     \n",
    "        }         \n",
    "    }  \n",
    "}\n",
    "tablaConex"
   ]
  },
  {
   "cell_type": "code",
   "execution_count": 8,
   "id": "3316555d-4ef6-4916-aaca-2f79e3b23e2b",
   "metadata": {},
   "outputs": [
    {
     "data": {
      "text/html": [
       "<table class=\"dataframe\">\n",
       "<caption>A matrix: 0 × 3 of type chr</caption>\n",
       "<thead>\n",
       "\t<tr><th scope=col>X</th><th scope=col>Z</th><th scope=col>Y</th></tr>\n",
       "</thead>\n",
       "<tbody>\n",
       "</tbody>\n",
       "</table>\n"
      ],
      "text/latex": [
       "A matrix: 0 × 3 of type chr\n",
       "\\begin{tabular}{lll}\n",
       " X & Z & Y\\\\\n",
       "\\hline\n",
       "\\end{tabular}\n"
      ],
      "text/markdown": [
       "\n",
       "A matrix: 0 × 3 of type chr\n",
       "\n",
       "| X | Z | Y |\n",
       "|---|---|---|\n",
       "\n"
      ],
      "text/plain": [
       "     X Z Y"
      ]
     },
     "metadata": {},
     "output_type": "display_data"
    }
   ],
   "source": [
    "#no hay v-estructuras\n",
    "vstructs(dag)"
   ]
  },
  {
   "cell_type": "code",
   "execution_count": 9,
   "id": "7973c181-0f33-484b-9a17-da4e357c0d00",
   "metadata": {},
   "outputs": [],
   "source": [
    "#introducir nuevos arcos\n",
    "dag <- set.arc(dag, from = \"neblina\", to = \"escarcha\") "
   ]
  },
  {
   "cell_type": "code",
   "execution_count": 10,
   "id": "3695d7cf-cba3-45a3-8ff8-e97168e7b42c",
   "metadata": {},
   "outputs": [
    {
     "data": {
      "image/png": "[encoded data removed]",
      "text/plain": [
       "plot without title"
      ]
     },
     "metadata": {
      "image/png": {
       "height": 420,
       "width": 420
      }
     },
     "output_type": "display_data"
    }
   ],
   "source": [
    "plot(dag)"
   ]
  },
  {
   "cell_type": "markdown",
   "id": "94931cd1-6e8a-494f-a5fe-9f328ed68373",
   "metadata": {},
   "source": [
    "Se ejecuta el código sin problemas y se obtiene una red bayesiana válida."
   ]
  },
  {
   "cell_type": "code",
   "execution_count": 11,
   "id": "860767cc-99fe-4a93-bdf0-428345c30de6",
   "metadata": {},
   "outputs": [
    {
     "ename": "ERROR",
     "evalue": "Error in arc.operations(x = x, from = from, to = to, op = \"set\", check.cycles = check.cycles, : the resulting graph contains cycles.\n",
     "output_type": "error",
     "traceback": [
      "Error in arc.operations(x = x, from = from, to = to, op = \"set\", check.cycles = check.cycles, : the resulting graph contains cycles.\nTraceback:\n",
      "1. set.arc(dag, from = \"granizo\", to = \"lluvia\")",
      "2. arc.operations(x = x, from = from, to = to, op = \"set\", check.cycles = check.cycles, \n .     check.illegal = check.illegal, debug = debug)",
      "3. stop(\"the resulting graph contains cycles.\")"
     ]
    }
   ],
   "source": [
    "dag <- set.arc(dag, from = \"granizo\", to = \"lluvia\") "
   ]
  },
  {
   "cell_type": "markdown",
   "id": "f6cfa5de-0841-4a0b-a013-4eaa73073007",
   "metadata": {},
   "source": [
    "No se ejecuta el código porque este arco introduce un ciclo cerrado en la red y la función set.arc evita este tipo de configuraciones, ya que forman redes que no son válidas."
   ]
  },
  {
   "cell_type": "code",
   "execution_count": 12,
   "id": "47a61cc9-de71-4ab9-b671-30b63d3fbdbe",
   "metadata": {},
   "outputs": [
    {
     "data": {
      "text/html": [
       "<style>\n",
       ".list-inline {list-style: none; margin:0; padding: 0}\n",
       ".list-inline>li {display: inline-block}\n",
       ".list-inline>li:not(:last-child)::after {content: \"\\00b7\"; padding: 0 .5ex}\n",
       "</style>\n",
       "<ol class=list-inline><li>'escarcha'</li><li>'neblina'</li><li>'niebla'</li><li>'viento'</li></ol>\n"
      ],
      "text/latex": [
       "\\begin{enumerate*}\n",
       "\\item 'escarcha'\n",
       "\\item 'neblina'\n",
       "\\item 'niebla'\n",
       "\\item 'viento'\n",
       "\\end{enumerate*}\n"
      ],
      "text/markdown": [
       "1. 'escarcha'\n",
       "2. 'neblina'\n",
       "3. 'niebla'\n",
       "4. 'viento'\n",
       "\n",
       "\n"
      ],
      "text/plain": [
       "[1] \"escarcha\" \"neblina\"  \"niebla\"   \"viento\"  "
      ]
     },
     "metadata": {},
     "output_type": "display_data"
    }
   ],
   "source": [
    "#manta de Markov del nodo Rocio, que coincide con el conjunto de sus padres, hijos, y padres de sus hijos. \n",
    "mb(dag, \"rocio\")"
   ]
  },
  {
   "cell_type": "code",
   "execution_count": 13,
   "id": "ed72f59a-2187-4239-9f9d-e8d41cac4e90",
   "metadata": {},
   "outputs": [],
   "source": [
    "dag <- set.arc(dag, from = \"lluvia\", to = \"niebla\") "
   ]
  },
  {
   "cell_type": "code",
   "execution_count": 14,
   "id": "1dec625f-0b49-419b-b57d-6f0ae41ec843",
   "metadata": {},
   "outputs": [
    {
     "data": {
      "image/png": "[encoded data removed]",
      "text/plain": [
       "plot without title"
      ]
     },
     "metadata": {
      "image/png": {
       "height": 420,
       "width": 420
      }
     },
     "output_type": "display_data"
    }
   ],
   "source": [
    "plot(dag)"
   ]
  },
  {
   "cell_type": "code",
   "execution_count": 15,
   "id": "e8b31be2-7c8c-46de-9787-28888b271c9c",
   "metadata": {},
   "outputs": [
    {
     "data": {
      "text/html": [
       "<style>\n",
       ".list-inline {list-style: none; margin:0; padding: 0}\n",
       ".list-inline>li {display: inline-block}\n",
       ".list-inline>li:not(:last-child)::after {content: \"\\00b7\"; padding: 0 .5ex}\n",
       "</style>\n",
       "<ol class=list-inline><li>'escarcha'</li><li>'lluvia'</li><li>'neblina'</li><li>'niebla'</li><li>'viento'</li></ol>\n"
      ],
      "text/latex": [
       "\\begin{enumerate*}\n",
       "\\item 'escarcha'\n",
       "\\item 'lluvia'\n",
       "\\item 'neblina'\n",
       "\\item 'niebla'\n",
       "\\item 'viento'\n",
       "\\end{enumerate*}\n"
      ],
      "text/markdown": [
       "1. 'escarcha'\n",
       "2. 'lluvia'\n",
       "3. 'neblina'\n",
       "4. 'niebla'\n",
       "5. 'viento'\n",
       "\n",
       "\n"
      ],
      "text/plain": [
       "[1] \"escarcha\" \"lluvia\"   \"neblina\"  \"niebla\"   \"viento\"  "
      ]
     },
     "metadata": {},
     "output_type": "display_data"
    }
   ],
   "source": [
    "mb(dag, \"rocio\")"
   ]
  },
  {
   "cell_type": "markdown",
   "id": "cb6b118d-2a27-4604-835e-ff4fe2ce080b",
   "metadata": {},
   "source": [
    "Se añade el nodo Lluvia, ya que es padre de un hijo de Rocio, Niebla."
   ]
  },
  {
   "cell_type": "code",
   "execution_count": 16,
   "id": "88987d49-1186-478e-ad53-e8a30d0887cf",
   "metadata": {},
   "outputs": [],
   "source": [
    "#recuperamos dag original: eliminar neblina --> escarcha y lluvia --> niebla\n",
    "\n",
    "dag <- drop.arc(dag, from = \"lluvia\", to = \"niebla\") \n",
    "dag <- drop.arc(dag, from = \"neblina\", to = \"escarcha\") "
   ]
  },
  {
   "cell_type": "markdown",
   "id": "a5d83293-3905-404a-affa-0d07f0940784",
   "metadata": {},
   "source": [
    "**Ejercicio 2 (2.5 Puntos)**\n",
    "\n",
    "    - Considerando la información proporcionada por el conjunto de datos meteor, construye la red bayesiana utilizando el método bayesiano de estimación paramétrica.\n",
    "\n",
    "    - ¿Cuál sería el número potencial de parámetros (sin usar la red bayesiana) del modelo para calcular la probabilidad global si no utilizasemos el DAG?\n",
    "\n",
    "    - ¿Cuántos parámetros tiene la distribución global dada por la red bayesiana?\n",
    "\n",
    "    - Determina el número de parámetros asociado a cada una de las distribuciones locales\n",
    "\n",
    "    - Obtén las tablas de probabilidad condicional asociadas los nodos granizo y niebla. Ahora representa la información de cada tabla en sendos gráficos.\n"
   ]
  },
  {
   "cell_type": "code",
   "execution_count": 17,
   "id": "8cf6aedf-1d05-450d-8b28-5cf98d8c3761",
   "metadata": {},
   "outputs": [
    {
     "data": {
      "text/html": [
       "<table class=\"dataframe\">\n",
       "<caption>A data.frame: 6 × 10</caption>\n",
       "<thead>\n",
       "\t<tr><th></th><th scope=col>lluvia</th><th scope=col>nieve</th><th scope=col>granizo</th><th scope=col>tormenta</th><th scope=col>niebla</th><th scope=col>rocio</th><th scope=col>escarcha</th><th scope=col>nieveSuelo</th><th scope=col>neblina</th><th scope=col>viento</th></tr>\n",
       "\t<tr><th></th><th scope=col>&lt;fct&gt;</th><th scope=col>&lt;fct&gt;</th><th scope=col>&lt;fct&gt;</th><th scope=col>&lt;fct&gt;</th><th scope=col>&lt;fct&gt;</th><th scope=col>&lt;fct&gt;</th><th scope=col>&lt;fct&gt;</th><th scope=col>&lt;fct&gt;</th><th scope=col>&lt;fct&gt;</th><th scope=col>&lt;fct&gt;</th></tr>\n",
       "</thead>\n",
       "<tbody>\n",
       "\t<tr><th scope=row>1</th><td>s</td><td>n</td><td>n</td><td>n</td><td>n</td><td>n</td><td>n</td><td>n</td><td>n</td><td>s</td></tr>\n",
       "\t<tr><th scope=row>2</th><td>s</td><td>n</td><td>n</td><td>n</td><td>n</td><td>n</td><td>n</td><td>n</td><td>n</td><td>s</td></tr>\n",
       "\t<tr><th scope=row>3</th><td>s</td><td>n</td><td>n</td><td>s</td><td>n</td><td>n</td><td>n</td><td>n</td><td>n</td><td>s</td></tr>\n",
       "\t<tr><th scope=row>4</th><td>s</td><td>n</td><td>n</td><td>n</td><td>n</td><td>n</td><td>n</td><td>n</td><td>n</td><td>s</td></tr>\n",
       "\t<tr><th scope=row>5</th><td>s</td><td>n</td><td>s</td><td>s</td><td>n</td><td>n</td><td>n</td><td>n</td><td>n</td><td>s</td></tr>\n",
       "\t<tr><th scope=row>6</th><td>s</td><td>n</td><td>s</td><td>s</td><td>n</td><td>n</td><td>n</td><td>n</td><td>n</td><td>s</td></tr>\n",
       "</tbody>\n",
       "</table>\n"
      ],
      "text/latex": [
       "A data.frame: 6 × 10\n",
       "\\begin{tabular}{r|llllllllll}\n",
       "  & lluvia & nieve & granizo & tormenta & niebla & rocio & escarcha & nieveSuelo & neblina & viento\\\\\n",
       "  & <fct> & <fct> & <fct> & <fct> & <fct> & <fct> & <fct> & <fct> & <fct> & <fct>\\\\\n",
       "\\hline\n",
       "\t1 & s & n & n & n & n & n & n & n & n & s\\\\\n",
       "\t2 & s & n & n & n & n & n & n & n & n & s\\\\\n",
       "\t3 & s & n & n & s & n & n & n & n & n & s\\\\\n",
       "\t4 & s & n & n & n & n & n & n & n & n & s\\\\\n",
       "\t5 & s & n & s & s & n & n & n & n & n & s\\\\\n",
       "\t6 & s & n & s & s & n & n & n & n & n & s\\\\\n",
       "\\end{tabular}\n"
      ],
      "text/markdown": [
       "\n",
       "A data.frame: 6 × 10\n",
       "\n",
       "| <!--/--> | lluvia &lt;fct&gt; | nieve &lt;fct&gt; | granizo &lt;fct&gt; | tormenta &lt;fct&gt; | niebla &lt;fct&gt; | rocio &lt;fct&gt; | escarcha &lt;fct&gt; | nieveSuelo &lt;fct&gt; | neblina &lt;fct&gt; | viento &lt;fct&gt; |\n",
       "|---|---|---|---|---|---|---|---|---|---|---|\n",
       "| 1 | s | n | n | n | n | n | n | n | n | s |\n",
       "| 2 | s | n | n | n | n | n | n | n | n | s |\n",
       "| 3 | s | n | n | s | n | n | n | n | n | s |\n",
       "| 4 | s | n | n | n | n | n | n | n | n | s |\n",
       "| 5 | s | n | s | s | n | n | n | n | n | s |\n",
       "| 6 | s | n | s | s | n | n | n | n | n | s |\n",
       "\n"
      ],
      "text/plain": [
       "  lluvia nieve granizo tormenta niebla rocio escarcha nieveSuelo neblina viento\n",
       "1 s      n     n       n        n      n     n        n          n       s     \n",
       "2 s      n     n       n        n      n     n        n          n       s     \n",
       "3 s      n     n       s        n      n     n        n          n       s     \n",
       "4 s      n     n       n        n      n     n        n          n       s     \n",
       "5 s      n     s       s        n      n     n        n          n       s     \n",
       "6 s      n     s       s        n      n     n        n          n       s     "
      ]
     },
     "metadata": {},
     "output_type": "display_data"
    }
   ],
   "source": [
    "#BN con estimación parametrica\n",
    "df <- read.table(\"meteoro.txt\", header = TRUE, stringsAsFactors = TRUE)\n",
    "head(df)"
   ]
  },
  {
   "cell_type": "code",
   "execution_count": 18,
   "id": "8f6b4e0b-305f-4f3c-bbb6-b6699ed25296",
   "metadata": {},
   "outputs": [
    {
     "data": {
      "text/html": [
       "<style>\n",
       ".list-inline {list-style: none; margin:0; padding: 0}\n",
       ".list-inline>li {display: inline-block}\n",
       ".list-inline>li:not(:last-child)::after {content: \"\\00b7\"; padding: 0 .5ex}\n",
       "</style>\n",
       "<ol class=list-inline><li>'bn.fit'</li><li>'bn.fit.dnet'</li></ol>\n"
      ],
      "text/latex": [
       "\\begin{enumerate*}\n",
       "\\item 'bn.fit'\n",
       "\\item 'bn.fit.dnet'\n",
       "\\end{enumerate*}\n"
      ],
      "text/markdown": [
       "1. 'bn.fit'\n",
       "2. 'bn.fit.dnet'\n",
       "\n",
       "\n"
      ],
      "text/plain": [
       "[1] \"bn.fit\"      \"bn.fit.dnet\""
      ]
     },
     "metadata": {},
     "output_type": "display_data"
    }
   ],
   "source": [
    "bred <- bn.fit(dag, data = df, method = \"bayes\")\n",
    "class(bred)"
   ]
  },
  {
   "cell_type": "code",
   "execution_count": 19,
   "id": "fb8da97d-f3fa-4761-a196-208d18b8bd71",
   "metadata": {},
   "outputs": [
    {
     "data": {
      "text/html": [
       "1023"
      ],
      "text/latex": [
       "1023"
      ],
      "text/markdown": [
       "1023"
      ],
      "text/plain": [
       "[1] 1023"
      ]
     },
     "metadata": {},
     "output_type": "display_data"
    }
   ],
   "source": [
    "# numero de parametros del modelo sin el dag = \n",
    "# = numero de valores de la probabilidad -1 = numero de combinaciones de estados -1 = \n",
    "2**10-1"
   ]
  },
  {
   "cell_type": "markdown",
   "id": "4143aefe-eeb0-4c77-bb93-1a1c755b696d",
   "metadata": {},
   "source": [
    "Cálculo del número de parámetros correspondiente a un nodo, $numPar$: suponemos que el nodo puede tomar n valores diferentes, y que tiene m padres, cada uno de los cuales puede tomar k_i, i=1,...,m valores. Para una combinación concreta de los estados de los nodos padre, el nodo hijo tiene asociada una distribución de probabilidad concreta, y basta conocer su valor en n-1 estados del nodo para determinarla, ya que la probabilidad del último estado se obtiene sabiendo que la probabilidad del total de estados es 1. Por tanto, recorriendo todas las combinaciones de valores de los padres, se puede calcular el número de parámetros correspondientes al nodo seleccionado, siendo la expresión: \n",
    "\n",
    "$numPar = (n-1) \\cdot k_1 \\cdot ~...~ \\cdot k_m$"
   ]
  },
  {
   "cell_type": "code",
   "execution_count": 20,
   "id": "edc7642b-f125-4307-8760-850a33f53277",
   "metadata": {},
   "outputs": [
    {
     "data": {
      "text/html": [
       "21"
      ],
      "text/latex": [
       "21"
      ],
      "text/markdown": [
       "21"
      ],
      "text/plain": [
       "[1] 21"
      ]
     },
     "metadata": {},
     "output_type": "display_data"
    }
   ],
   "source": [
    "#parametros de la distribucion de la red bayesiana\n",
    "numpar <- 0\n",
    "for (n in nodes(bred)){\n",
    "    dimensiones <- dim(bred[[n]]$prob)\n",
    "    dimensiones[1] <- dimensiones[1]-1\n",
    "    numpar <- numpar + prod(dimensiones)  \n",
    "}\n",
    "numpar"
   ]
  },
  {
   "cell_type": "code",
   "execution_count": 21,
   "id": "b6013483-f389-4e46-a808-2daba23b763e",
   "metadata": {},
   "outputs": [
    {
     "data": {
      "text/html": [
       "<table class=\"dataframe\">\n",
       "<caption>A data.frame: 10 × 2</caption>\n",
       "<thead>\n",
       "\t<tr><th></th><th scope=col>Nodo</th><th scope=col>NumParam</th></tr>\n",
       "\t<tr><th></th><th scope=col>&lt;chr&gt;</th><th scope=col>&lt;chr&gt;</th></tr>\n",
       "</thead>\n",
       "<tbody>\n",
       "\t<tr><th scope=row>1</th><td>escarcha  </td><td>4</td></tr>\n",
       "\t<tr><th scope=row>2</th><td>granizo   </td><td>4</td></tr>\n",
       "\t<tr><th scope=row>3</th><td>lluvia    </td><td>4</td></tr>\n",
       "\t<tr><th scope=row>4</th><td>neblina   </td><td>4</td></tr>\n",
       "\t<tr><th scope=row>5</th><td>niebla    </td><td>8</td></tr>\n",
       "\t<tr><th scope=row>6</th><td>nieve     </td><td>4</td></tr>\n",
       "\t<tr><th scope=row>7</th><td>nieveSuelo</td><td>4</td></tr>\n",
       "\t<tr><th scope=row>8</th><td>rocio     </td><td>4</td></tr>\n",
       "\t<tr><th scope=row>9</th><td>tormenta  </td><td>4</td></tr>\n",
       "\t<tr><th scope=row>10</th><td>viento    </td><td>2</td></tr>\n",
       "</tbody>\n",
       "</table>\n"
      ],
      "text/latex": [
       "A data.frame: 10 × 2\n",
       "\\begin{tabular}{r|ll}\n",
       "  & Nodo & NumParam\\\\\n",
       "  & <chr> & <chr>\\\\\n",
       "\\hline\n",
       "\t1 & escarcha   & 4\\\\\n",
       "\t2 & granizo    & 4\\\\\n",
       "\t3 & lluvia     & 4\\\\\n",
       "\t4 & neblina    & 4\\\\\n",
       "\t5 & niebla     & 8\\\\\n",
       "\t6 & nieve      & 4\\\\\n",
       "\t7 & nieveSuelo & 4\\\\\n",
       "\t8 & rocio      & 4\\\\\n",
       "\t9 & tormenta   & 4\\\\\n",
       "\t10 & viento     & 2\\\\\n",
       "\\end{tabular}\n"
      ],
      "text/markdown": [
       "\n",
       "A data.frame: 10 × 2\n",
       "\n",
       "| <!--/--> | Nodo &lt;chr&gt; | NumParam &lt;chr&gt; |\n",
       "|---|---|---|\n",
       "| 1 | escarcha   | 4 |\n",
       "| 2 | granizo    | 4 |\n",
       "| 3 | lluvia     | 4 |\n",
       "| 4 | neblina    | 4 |\n",
       "| 5 | niebla     | 8 |\n",
       "| 6 | nieve      | 4 |\n",
       "| 7 | nieveSuelo | 4 |\n",
       "| 8 | rocio      | 4 |\n",
       "| 9 | tormenta   | 4 |\n",
       "| 10 | viento     | 2 |\n",
       "\n"
      ],
      "text/plain": [
       "   Nodo       NumParam\n",
       "1  escarcha   4       \n",
       "2  granizo    4       \n",
       "3  lluvia     4       \n",
       "4  neblina    4       \n",
       "5  niebla     8       \n",
       "6  nieve      4       \n",
       "7  nieveSuelo 4       \n",
       "8  rocio      4       \n",
       "9  tormenta   4       \n",
       "10 viento     2       "
      ]
     },
     "metadata": {},
     "output_type": "display_data"
    }
   ],
   "source": [
    "#numero de parametros de las distribuciones de cada nodo\n",
    "i <- 1\n",
    "df_local <- data.frame(\n",
    "    Nodo = character(),\n",
    "    NumParam = character(),\n",
    "    stringsAsFactors = FALSE\n",
    ")\n",
    "\n",
    "for (n in nodes(bred)){\n",
    "    df_local[nrow(df_local)+1,] <- c(n, prod(dim(bred[[n]]$prob)))\n",
    "    i <- i+1\n",
    "}\n",
    "\n",
    "df_local"
   ]
  },
  {
   "cell_type": "code",
   "execution_count": 22,
   "id": "046fa10e-7b21-4ded-b071-d24f5bab2fce",
   "metadata": {},
   "outputs": [
    {
     "data": {
      "text/plain": [
       "       tormenta\n",
       "granizo           n           s\n",
       "      n 0.990183352 0.745742092\n",
       "      s 0.009816648 0.254257908"
      ]
     },
     "metadata": {},
     "output_type": "display_data"
    }
   ],
   "source": [
    "#visualizamos las tablas de probabilidad condicional para granizo y niebla\n",
    "\n",
    "#granizo\n",
    "bred$granizo$prob"
   ]
  },
  {
   "cell_type": "code",
   "execution_count": 23,
   "id": "56698b7e-d60b-4b12-b6ba-1e2c73415a25",
   "metadata": {},
   "outputs": [
    {
     "data": {
      "text/plain": [
       ", , viento = n\n",
       "\n",
       "      rocio\n",
       "niebla           n           s\n",
       "     n 0.946399802 0.855234203\n",
       "     s 0.053600198 0.144765797\n",
       "\n",
       ", , viento = s\n",
       "\n",
       "      rocio\n",
       "niebla           n           s\n",
       "     n 0.995195025 0.934108527\n",
       "     s 0.004804975 0.065891473\n"
      ]
     },
     "metadata": {},
     "output_type": "display_data"
    }
   ],
   "source": [
    "#niebla\n",
    "bred$niebla$prob"
   ]
  },
  {
   "cell_type": "code",
   "execution_count": 24,
   "id": "ec610472-0097-44d1-9a16-6d5d3ff54f06",
   "metadata": {},
   "outputs": [
    {
     "data": {
      "image/png": "[encoded data removed]",
      "text/plain": [
       "plot without title"
      ]
     },
     "metadata": {
      "image/png": {
       "height": 420,
       "width": 420
      }
     },
     "output_type": "display_data"
    }
   ],
   "source": [
    "#densidad de probabiliddad de granizo\n",
    "barplot(t(bred$granizo$prob), beside=TRUE, col =  c(rgb(0, 0, 1, 0.5), rgb(1, 0, 0, 0.5)))\n",
    "legend(\"topright\", legend = c(\"tormenta = n\", \"tormenta = s\"), fill = c(rgb(0, 0, 1, 0.5), rgb(1, 0, 0, 0.5)))"
   ]
  },
  {
   "cell_type": "markdown",
   "id": "e37621b2-45c0-453d-b74f-3549b7b8af4d",
   "metadata": {},
   "source": [
    "Vemos que los días de granizo son pocos, y que, cuando se dan, por lo general hay tormenta."
   ]
  },
  {
   "cell_type": "code",
   "execution_count": 25,
   "id": "1e6d938d-fe94-4ac5-9038-b214ec475b9f",
   "metadata": {},
   "outputs": [
    {
     "data": {
      "image/png": "[encoded data removed]",
      "text/plain": [
       "Plot with title \"rocio = s, viento = s\""
      ]
     },
     "metadata": {
      "image/png": {
       "height": 420,
       "width": 420
      }
     },
     "output_type": "display_data"
    }
   ],
   "source": [
    "#densidades de probabilidad de niebla\n",
    "par(mfrow = c(2, 2))\n",
    "\n",
    "barplot(bred$niebla$prob[,1,1], main = 'rocio = n, viento = n')\n",
    "barplot(bred$niebla$prob[,2,1], main = 'rocio = s, viento = n')\n",
    "barplot(bred$niebla$prob[,1,2], main = 'rocio = n, viento = s')\n",
    "barplot(bred$niebla$prob[,2,2], main = 'rocio = s, viento = s')"
   ]
  },
  {
   "cell_type": "markdown",
   "id": "f6dc9507-4cc5-41e7-acd5-4579f2553540",
   "metadata": {},
   "source": [
    "Estas tablas pueden ser calculadas también con las frecuencias empíricas de cada variable"
   ]
  },
  {
   "cell_type": "code",
   "execution_count": 26,
   "id": "68fe22bb-d54b-44dc-a196-2143ec31cb6c",
   "metadata": {},
   "outputs": [],
   "source": [
    "estados <- c(\"n\", \"s\")\n",
    "n <- length(df$viento)"
   ]
  },
  {
   "cell_type": "code",
   "execution_count": 27,
   "id": "8f416268-250a-430a-b570-630371d0f60c",
   "metadata": {},
   "outputs": [],
   "source": [
    "\n",
    "granizo.prob <- array(c(length(which(df$granizo == 'n' & df$tormenta == 'n'))/length(which(df$tormenta == 'n')),\n",
    "                       length(which(df$granizo == 's' & df$tormenta == 'n'))/length(which(df$tormenta == 'n')),\n",
    "                       length(which(df$granizo == 'n' & df$tormenta == 's'))/length(which(df$tormenta == 's')),\n",
    "                       length(which(df$granizo == 's' & df$tormenta == 's'))/length(which(df$tormenta == 's'))), dim = c(2,2), \n",
    "                     dimnames = list(granizo = estados, tormenta = estados))\n",
    "\n",
    "\n",
    "niebla.prob <- array(c(length(which(df$niebla == 'n' & df$rocio == 'n' & df$viento == 'n'))/length(which(df$rocio == 'n' & df$viento == 'n')),\n",
    "                     length(which(df$niebla == 's' & df$rocio == 'n' & df$viento == 'n'))/length(which(df$rocio == 'n' & df$viento == 'n')),\n",
    "                     length(which(df$niebla == 'n' & df$rocio == 's' & df$viento == 'n'))/length(which(df$rocio == 's' & df$viento == 'n')),\n",
    "                     length(which(df$niebla == 's' & df$rocio == 's' & df$viento == 'n'))/length(which(df$rocio == 's' & df$viento == 'n')),\n",
    "                     length(which(df$niebla == 'n' & df$rocio == 'n' & df$viento == 's'))/length(which(df$rocio == 'n' & df$viento == 's')),\n",
    "                     length(which(df$niebla == 's' & df$rocio == 'n' & df$viento == 's'))/length(which(df$rocio == 'n' & df$viento == 's')),\n",
    "                     length(which(df$niebla == 'n' & df$rocio == 's' & df$viento == 's'))/length(which(df$rocio == 's' & df$viento == 's')),\n",
    "                     length(which(df$niebla == 's' & df$rocio == 's' & df$viento == 's'))/length(which(df$rocio == 's' & df$viento == 's'))), dim = c(2,2,2), \n",
    "                  dimnames = list(niebla = estados, rocio = estados, viento = estados))"
   ]
  },
  {
   "cell_type": "code",
   "execution_count": 28,
   "id": "947075c2-b0af-4550-a8e8-bbde9e16847b",
   "metadata": {},
   "outputs": [
    {
     "data": {
      "text/html": [
       "<table class=\"dataframe\">\n",
       "<caption>A matrix: 2 × 2 of type dbl</caption>\n",
       "<thead>\n",
       "\t<tr><th></th><th scope=col>n</th><th scope=col>s</th></tr>\n",
       "</thead>\n",
       "<tbody>\n",
       "\t<tr><th scope=row>n</th><td>0.990262902</td><td>0.7463415</td></tr>\n",
       "\t<tr><th scope=row>s</th><td>0.009737098</td><td>0.2536585</td></tr>\n",
       "</tbody>\n",
       "</table>\n"
      ],
      "text/latex": [
       "A matrix: 2 × 2 of type dbl\n",
       "\\begin{tabular}{r|ll}\n",
       "  & n & s\\\\\n",
       "\\hline\n",
       "\tn & 0.990262902 & 0.7463415\\\\\n",
       "\ts & 0.009737098 & 0.2536585\\\\\n",
       "\\end{tabular}\n"
      ],
      "text/markdown": [
       "\n",
       "A matrix: 2 × 2 of type dbl\n",
       "\n",
       "| <!--/--> | n | s |\n",
       "|---|---|---|\n",
       "| n | 0.990262902 | 0.7463415 |\n",
       "| s | 0.009737098 | 0.2536585 |\n",
       "\n"
      ],
      "text/plain": [
       "       tormenta\n",
       "granizo n           s        \n",
       "      n 0.990262902 0.7463415\n",
       "      s 0.009737098 0.2536585"
      ]
     },
     "metadata": {},
     "output_type": "display_data"
    }
   ],
   "source": [
    "granizo.prob"
   ]
  },
  {
   "cell_type": "code",
   "execution_count": 29,
   "id": "25bd822d-02a0-433a-878e-d3a050b39dbd",
   "metadata": {},
   "outputs": [
    {
     "data": {
      "text/html": [
       "<table class=\"dataframe\">\n",
       "<caption>A matrix: 2 × 2 of type dbl</caption>\n",
       "<thead>\n",
       "\t<tr><th></th><th scope=col>n</th><th scope=col>s</th></tr>\n",
       "</thead>\n",
       "<tbody>\n",
       "\t<tr><th scope=row>n</th><td>0.94645513</td><td>0.8553459</td></tr>\n",
       "\t<tr><th scope=row>s</th><td>0.05354487</td><td>0.1446541</td></tr>\n",
       "</tbody>\n",
       "</table>\n"
      ],
      "text/latex": [
       "A matrix: 2 × 2 of type dbl\n",
       "\\begin{tabular}{r|ll}\n",
       "  & n & s\\\\\n",
       "\\hline\n",
       "\tn & 0.94645513 & 0.8553459\\\\\n",
       "\ts & 0.05354487 & 0.1446541\\\\\n",
       "\\end{tabular}\n"
      ],
      "text/markdown": [
       "\n",
       "A matrix: 2 × 2 of type dbl\n",
       "\n",
       "| <!--/--> | n | s |\n",
       "|---|---|---|\n",
       "| n | 0.94645513 | 0.8553459 |\n",
       "| s | 0.05354487 | 0.1446541 |\n",
       "\n"
      ],
      "text/plain": [
       "      rocio\n",
       "niebla n          s        \n",
       "     n 0.94645513 0.8553459\n",
       "     s 0.05354487 0.1446541"
      ]
     },
     "metadata": {},
     "output_type": "display_data"
    }
   ],
   "source": [
    "niebla.prob[,,1]"
   ]
  },
  {
   "cell_type": "code",
   "execution_count": 30,
   "id": "84650dc5-f472-4b50-86eb-312e7aa4c298",
   "metadata": {},
   "outputs": [
    {
     "data": {
      "text/html": [
       "<table class=\"dataframe\">\n",
       "<caption>A matrix: 2 × 2 of type dbl</caption>\n",
       "<thead>\n",
       "\t<tr><th></th><th scope=col>n</th><th scope=col>s</th></tr>\n",
       "</thead>\n",
       "<tbody>\n",
       "\t<tr><th scope=row>n</th><td>0.995475113</td><td>0.9375</td></tr>\n",
       "\t<tr><th scope=row>s</th><td>0.004524887</td><td>0.0625</td></tr>\n",
       "</tbody>\n",
       "</table>\n"
      ],
      "text/latex": [
       "A matrix: 2 × 2 of type dbl\n",
       "\\begin{tabular}{r|ll}\n",
       "  & n & s\\\\\n",
       "\\hline\n",
       "\tn & 0.995475113 & 0.9375\\\\\n",
       "\ts & 0.004524887 & 0.0625\\\\\n",
       "\\end{tabular}\n"
      ],
      "text/markdown": [
       "\n",
       "A matrix: 2 × 2 of type dbl\n",
       "\n",
       "| <!--/--> | n | s |\n",
       "|---|---|---|\n",
       "| n | 0.995475113 | 0.9375 |\n",
       "| s | 0.004524887 | 0.0625 |\n",
       "\n"
      ],
      "text/plain": [
       "      rocio\n",
       "niebla n           s     \n",
       "     n 0.995475113 0.9375\n",
       "     s 0.004524887 0.0625"
      ]
     },
     "metadata": {},
     "output_type": "display_data"
    }
   ],
   "source": [
    "niebla.prob[,,2]"
   ]
  },
  {
   "cell_type": "markdown",
   "id": "9e409bda-6bcd-4814-a65f-86f8ffb822b7",
   "metadata": {},
   "source": [
    "Vemos que se obtienen aproximadamente las mismas probabilidades, aunque los valores difieran un poco."
   ]
  },
  {
   "cell_type": "markdown",
   "id": "fa95e7f9-a6fa-49b4-b309-7352bf244eed",
   "metadata": {},
   "source": [
    "**Ejercicio 3 (2.5 Puntos)**\n",
    "\n",
    "Una vez construída la red hemos establecido la base de conocimiento del sistema inteligente. A continuación se puede calcular la probabilidad de cualquier variable o conjunto de variables condicionadas a cualquier evidencia que se tenga disponible para un problema dado, es decir, realizar la inferencia.\n",
    "\n",
    "    - Observa la estructura del DAG y repasa la teoría y el concepto de d-separación. Responde razonadamente si las siguientes afirmaciones son verdaderas o falsas, utilizando únicamente la estructura del DAG y el concepto de d-separación:\n",
    "\n",
    "        La nieve y el granizo son fenómenos independientes a priori\n",
    "        \n",
    "        La nieve y el granizo son fenómenos independientes dado que haya habido tormenta\n",
    "        \n",
    "        La nieve en el suelo y la neblina son fenómenos independientes\n",
    "        \n",
    "        La nieve en el suelo y la neblina son fenómenos independientes dado que haya habido tormenta\n",
    "\n",
    "    - NOTA: En este apartado se deberá aplicar la inferencia exacta. Conocido que en un día dado se han producido tormentas, calcula cómo afecta este hecho a la probabilidad de que se produzcan los siguientes fenómenos meteorológicos:\n",
    "\n",
    "        Que llueva, P(lluvia=s|tormenta=s)\n",
    "        \n",
    "        Que haya rachas de viento superiores a 50 Km/h, P(viento=s|tormenta=s)\n",
    "        \n",
    "        Que llueva y que además las rachas de viento superen los 50 Km/h, P(lluvia=s,viento=n|tormenta=s)\n",
    "        \n",
    "        A partir de la información revelada por la red bayesiana, sabiendo que un día se producen tormentas:  \n",
    "    \n",
    "            * ¿Hay mayor probabilidad de que llueva cuando se producen tormentas que cualquier otro día?\n",
    "            * ¿Aumenta o disminuye la probabilidad de tener rachas de viento mayores de 50 Km/h cuando se produce tormenta? ¿Cuánto?    \n",
    "    \n",
    "    \n",
    "    - Dado el ejercicio anterior, repetir ahora el ejercicio mediante inferencia aproximada, calculando para cada una de las estimaciones 100 realizaciones. Para cada una de las respuestas anteriores, representa un diagrama de cajas que represente la dispersión en la estimación de la probabilidad, marcando además el valor obtenido de manera exacta en el apartado anterior."
   ]
  },
  {
   "cell_type": "code",
   "execution_count": 31,
   "id": "51f592ec-87d8-45d5-bf07-0d238acf07c6",
   "metadata": {},
   "outputs": [],
   "source": [
    "#verdadero o falso:"
   ]
  },
  {
   "cell_type": "code",
   "execution_count": 32,
   "id": "9d3f1bda-f9c5-4528-ad4b-7cf7a072d001",
   "metadata": {},
   "outputs": [
    {
     "data": {
      "image/png": "[encoded data removed]",
      "text/plain": [
       "plot without title"
      ]
     },
     "metadata": {
      "image/png": {
       "height": 420,
       "width": 420
      }
     },
     "output_type": "display_data"
    }
   ],
   "source": [
    "plot(dag)"
   ]
  },
  {
   "cell_type": "markdown",
   "id": "2438b33e-94df-49a5-a628-effddb7d6733",
   "metadata": {},
   "source": [
    "* La nieve y el granizo son fenómenos independientes a priori. Falso: el camino nieve-tormenta-granizo los relaciona.\n",
    "\n",
    "* La nieve y el granizo son fenómenos independientes dado que haya habido tormenta. Verdadero. Nieve y granizo están d-separados porque forman una estructura divergente con tormenta y el valor de esta última se conoce.\n",
    "\n",
    "* La nieve en el suelo y la neblina son fenómenos independientes. Falso. Hay un camino que los une: nieveSuelo-nieve-tormenta-lluvia-viento-niebla-neblina.\n",
    "\n",
    "* La nieve en el suelo y la neblina son fenómenos independientes dado que haya habido tormenta. Verdadero. Están d-separados conocido el valor de tormenta ya que solo hay dos caminos que unen nieveSuelo con neblina y los dos pasan por tormenta."
   ]
  },
  {
   "cell_type": "code",
   "execution_count": 33,
   "id": "0e5abc41-9222-4c48-aa4e-dd43bb1d47c6",
   "metadata": {},
   "outputs": [],
   "source": [
    "#calculo de probabilidades con inferencia exacta\n",
    "\n",
    "#probabilidades marginales\n",
    "arbol <- compile(as.grain(bred))"
   ]
  },
  {
   "cell_type": "code",
   "execution_count": 34,
   "id": "8ec121ff-8d9a-4970-b158-61037c4de0b7",
   "metadata": {},
   "outputs": [
    {
     "data": {
      "text/html": [
       "<strong>s:</strong> 0.555673866747794"
      ],
      "text/latex": [
       "\\textbf{s:} 0.555673866747794"
      ],
      "text/markdown": [
       "**s:** 0.555673866747794"
      ],
      "text/plain": [
       "        s \n",
       "0.5556739 "
      ]
     },
     "metadata": {},
     "output_type": "display_data"
    }
   ],
   "source": [
    "#probabilidad marginal de que llueva\n",
    "lluvia.marg <-querygrain(arbol, nodes = \"lluvia\")$lluvia[2]\n",
    "lluvia.marg"
   ]
  },
  {
   "cell_type": "code",
   "execution_count": 35,
   "id": "9f99f705-7cf1-412b-a202-ed66c8adac26",
   "metadata": {},
   "outputs": [
    {
     "data": {
      "text/html": [
       "<strong>s:</strong> 0.14435655613021"
      ],
      "text/latex": [
       "\\textbf{s:} 0.14435655613021"
      ],
      "text/markdown": [
       "**s:** 0.14435655613021"
      ],
      "text/plain": [
       "        s \n",
       "0.1443566 "
      ]
     },
     "metadata": {},
     "output_type": "display_data"
    }
   ],
   "source": [
    "#probabilidad marginal de que haya rachas de viento\n",
    "viento.marg <- querygrain(arbol, nodes = \"viento\")$viento[2]\n",
    "viento.marg"
   ]
  },
  {
   "cell_type": "code",
   "execution_count": 36,
   "id": "bd32d4df-ebe9-400c-b8d9-94b2345007d9",
   "metadata": {},
   "outputs": [
    {
     "data": {
      "text/html": [
       "0.124505628232431"
      ],
      "text/latex": [
       "0.124505628232431"
      ],
      "text/markdown": [
       "0.124505628232431"
      ],
      "text/plain": [
       "[1] 0.1245056"
      ]
     },
     "metadata": {},
     "output_type": "display_data"
    }
   ],
   "source": [
    "#probabilidad marginal de que haya rachas de viento y llueva\n",
    "lluviayviento.marg <-querygrain(arbol, nodes = c(\"lluvia\",'viento'), type = 'joint')[2,2]\n",
    "lluviayviento.marg"
   ]
  },
  {
   "cell_type": "code",
   "execution_count": 37,
   "id": "bd4b9fd6-4676-4f6e-8118-8512b95b80a2",
   "metadata": {},
   "outputs": [],
   "source": [
    "#probabilidades condicionadas a tormenta = s\n",
    "\n",
    "arbolT <- setEvidence(arbol, nodes = \"tormenta\", states = \"s\")"
   ]
  },
  {
   "cell_type": "code",
   "execution_count": 38,
   "id": "5510a9a7-0fd8-48fd-91da-8139c640150d",
   "metadata": {},
   "outputs": [
    {
     "data": {
      "text/html": [
       "<strong>s:</strong> 0.95985401459854"
      ],
      "text/latex": [
       "\\textbf{s:} 0.95985401459854"
      ],
      "text/markdown": [
       "**s:** 0.95985401459854"
      ],
      "text/plain": [
       "       s \n",
       "0.959854 "
      ]
     },
     "metadata": {},
     "output_type": "display_data"
    }
   ],
   "source": [
    "#probabilidad de que llueva condicionada a que haya tormenta\n",
    "lluvia.cond <- querygrain(arbolT, nodes = \"lluvia\")$lluvia[2]\n",
    "lluvia.cond"
   ]
  },
  {
   "cell_type": "code",
   "execution_count": 39,
   "id": "2c250248-b56c-493b-bb96-61858c0cef89",
   "metadata": {},
   "outputs": [
    {
     "data": {
      "text/html": [
       "<strong>s:</strong> 0.216860789374449"
      ],
      "text/latex": [
       "\\textbf{s:} 0.216860789374449"
      ],
      "text/markdown": [
       "**s:** 0.216860789374449"
      ],
      "text/plain": [
       "        s \n",
       "0.2168608 "
      ]
     },
     "metadata": {},
     "output_type": "display_data"
    }
   ],
   "source": [
    "#probabilidad de que haya rachas de viento condicionada a que haya tormenta\n",
    "viento.cond <- querygrain(arbolT, nodes = \"viento\")$viento[2]\n",
    "viento.cond "
   ]
  },
  {
   "cell_type": "code",
   "execution_count": 40,
   "id": "302aae74-c1ad-4d87-bc36-8d668b2ebb27",
   "metadata": {},
   "outputs": [
    {
     "data": {
      "text/html": [
       "0.215067208034192"
      ],
      "text/latex": [
       "0.215067208034192"
      ],
      "text/markdown": [
       "0.215067208034192"
      ],
      "text/plain": [
       "[1] 0.2150672"
      ]
     },
     "metadata": {},
     "output_type": "display_data"
    }
   ],
   "source": [
    "#probabilidad de que haya rachas de viento y llueva cuando hay tormenta\n",
    "lluviayviento.cond <- querygrain(arbolT, nodes = c(\"lluvia\",'viento'), type = 'joint')[2,2]\n",
    "lluviayviento.cond"
   ]
  },
  {
   "cell_type": "code",
   "execution_count": 41,
   "id": "88311c67-c1b6-4a7f-b50e-dee10b131d28",
   "metadata": {},
   "outputs": [
    {
     "data": {
      "text/html": [
       "<strong>s:</strong> 1.72736936544506"
      ],
      "text/latex": [
       "\\textbf{s:} 1.72736936544506"
      ],
      "text/markdown": [
       "**s:** 1.72736936544506"
      ],
      "text/plain": [
       "       s \n",
       "1.727369 "
      ]
     },
     "metadata": {},
     "output_type": "display_data"
    }
   ],
   "source": [
    "#comparacion\n",
    "lluvia.cond/lluvia.marg"
   ]
  },
  {
   "cell_type": "code",
   "execution_count": 42,
   "id": "1eacab7e-4057-4516-909a-30e1997cfb03",
   "metadata": {},
   "outputs": [
    {
     "data": {
      "text/html": [
       "<strong>s:</strong> 1.50225798666768"
      ],
      "text/latex": [
       "\\textbf{s:} 1.50225798666768"
      ],
      "text/markdown": [
       "**s:** 1.50225798666768"
      ],
      "text/plain": [
       "       s \n",
       "1.502258 "
      ]
     },
     "metadata": {},
     "output_type": "display_data"
    }
   ],
   "source": [
    "viento.cond/viento.marg"
   ]
  },
  {
   "cell_type": "code",
   "execution_count": 43,
   "id": "a0f396af-5fa4-468d-81a0-d2af16758c26",
   "metadata": {},
   "outputs": [
    {
     "data": {
      "text/html": [
       "1.72736936544506"
      ],
      "text/latex": [
       "1.72736936544506"
      ],
      "text/markdown": [
       "1.72736936544506"
      ],
      "text/plain": [
       "[1] 1.727369"
      ]
     },
     "metadata": {},
     "output_type": "display_data"
    }
   ],
   "source": [
    "lluviayviento.cond/lluviayviento.marg"
   ]
  },
  {
   "cell_type": "markdown",
   "id": "42a963a9-0f50-44c9-8b7e-6faa4dc514a8",
   "metadata": {},
   "source": [
    "Al tener en cuenta el efecto de que haya tormenta en la probabilidad de lluvia y/o viento, vemos que tanto en los casos de lluvia o viento por separado como en la combinación de lluvia y viento, el hecho de haber tormenta aumenta la probabilidad de que se produzcan estos fenómenos en comparación con los casos marginales.\n",
    "\n"
   ]
  },
  {
   "cell_type": "code",
   "execution_count": 44,
   "id": "32c6e692-a484-47f3-99d6-abe707dff706",
   "metadata": {},
   "outputs": [],
   "source": [
    "#calculo de probabilidades con inferencia aproximada\n",
    "set.seed(1)\n",
    "\n",
    "v.aprox <- vector(\"numeric\", length = 100)\n",
    "ll.aprox <- vector(\"numeric\", length = 100)\n",
    "llyv.aprox <- vector(\"numeric\", length = 100)\n",
    "v.marg.aprox <- vector(\"numeric\", length = 100)\n",
    "ll.marg.aprox <- vector(\"numeric\", length = 100)\n",
    "llyv.marg.aprox <- vector(\"numeric\", length = 100)\n",
    "\n",
    "set.seed(1)\n",
    "for(i in 1:100){\n",
    "    v.aprox[i] <- cpquery(bred, event = (viento == \"s\"), evidence = (tormenta == \"s\"))\n",
    "    ll.aprox[i] <- cpquery(bred, event = (lluvia == \"s\"), evidence = (tormenta == \"s\"))\n",
    "    llyv.aprox[i] <- cpquery(bred, event = (viento == \"s\") & (lluvia == \"s\"), evidence = (tormenta == \"s\"))\n",
    "    v.marg.aprox[i] <- cpquery(bred, event = (viento == \"s\"), evidence = TRUE)\n",
    "    ll.marg.aprox[i] <- cpquery(bred, event = (lluvia == \"s\"), evidence = TRUE)\n",
    "    llyv.marg.aprox[i] <- cpquery(bred, event = (viento == \"s\") & (lluvia == \"s\"), evidence = TRUE)\n",
    "}"
   ]
  },
  {
   "cell_type": "code",
   "execution_count": 45,
   "id": "14e5b063-272f-47fa-a085-afa11737a720",
   "metadata": {},
   "outputs": [
    {
     "data": {
      "image/png": "[encoded data removed]",
      "text/plain": [
       "Plot with title \"lluvia\""
      ]
     },
     "metadata": {
      "image/png": {
       "height": 420,
       "width": 420
      }
     },
     "output_type": "display_data"
    },
    {
     "data": {
      "image/png": "[encoded data removed]",
      "text/plain": [
       "Plot with title \"viento\""
      ]
     },
     "metadata": {
      "image/png": {
       "height": 420,
       "width": 420
      }
     },
     "output_type": "display_data"
    },
    {
     "data": {
      "image/png": "[encoded data removed]",
      "text/plain": [
       "Plot with title \"lluvia y viento\""
      ]
     },
     "metadata": {
      "image/png": {
       "height": 420,
       "width": 420
      }
     },
     "output_type": "display_data"
    }
   ],
   "source": [
    "#boxplot probabilidad de fenomenos condicionados a tormenta = 's'\n",
    "\n",
    "boxplot(ll.aprox, main = 'lluvia')\n",
    "abline(h = lluvia.cond, col = \"red\", lty = 2)\n",
    "\n",
    "boxplot(v.aprox, main = 'viento')\n",
    "abline(h = viento.cond, col = \"red\", lty = 2)\n",
    "\n",
    "boxplot(llyv.aprox, main = 'lluvia y viento')\n",
    "abline(h = lluviayviento.cond, col = \"red\", lty = 2)"
   ]
  },
  {
   "cell_type": "markdown",
   "id": "7e01eb53-eed7-4a33-a78a-a18d9a45daaf",
   "metadata": {},
   "source": [
    "Se observa que para las probabilidades condicionadas calculadas por inferencia aproximada, el valor mediano aproxima bastante bien el calculado por inferencia exacta. Además, los percentiles 5 y 95 se alejan poco de la mediana, especialmente en el caso de lluvia, donde la desviación está en torno al 2 \\%."
   ]
  },
  {
   "cell_type": "code",
   "execution_count": 79,
   "id": "806582a0-c581-4763-8a5b-9d4447d8b15e",
   "metadata": {},
   "outputs": [
    {
     "data": {
      "text/html": [
       "<table class=\"dataframe\">\n",
       "<caption>A data.frame: 2 × 6</caption>\n",
       "<thead>\n",
       "\t<tr><th></th><th scope=col>ll</th><th scope=col>v</th><th scope=col>llyv</th><th scope=col>ll.cond</th><th scope=col>v.cond</th><th scope=col>llyv.cond</th></tr>\n",
       "\t<tr><th></th><th scope=col>&lt;dbl&gt;</th><th scope=col>&lt;dbl&gt;</th><th scope=col>&lt;dbl&gt;</th><th scope=col>&lt;dbl&gt;</th><th scope=col>&lt;dbl&gt;</th><th scope=col>&lt;dbl&gt;</th></tr>\n",
       "</thead>\n",
       "<tbody>\n",
       "\t<tr><th scope=row>inf.exacta</th><td>0.5556739</td><td>0.1443566</td><td>0.1245056</td><td>0.9598540</td><td>0.2168608</td><td>0.2150672</td></tr>\n",
       "\t<tr><th scope=row>inf.aprox.</th><td>0.5548340</td><td>0.1448360</td><td>0.1243900</td><td>0.9598238</td><td>0.2182872</td><td>0.2173832</td></tr>\n",
       "</tbody>\n",
       "</table>\n"
      ],
      "text/latex": [
       "A data.frame: 2 × 6\n",
       "\\begin{tabular}{r|llllll}\n",
       "  & ll & v & llyv & ll.cond & v.cond & llyv.cond\\\\\n",
       "  & <dbl> & <dbl> & <dbl> & <dbl> & <dbl> & <dbl>\\\\\n",
       "\\hline\n",
       "\tinf.exacta & 0.5556739 & 0.1443566 & 0.1245056 & 0.9598540 & 0.2168608 & 0.2150672\\\\\n",
       "\tinf.aprox. & 0.5548340 & 0.1448360 & 0.1243900 & 0.9598238 & 0.2182872 & 0.2173832\\\\\n",
       "\\end{tabular}\n"
      ],
      "text/markdown": [
       "\n",
       "A data.frame: 2 × 6\n",
       "\n",
       "| <!--/--> | ll &lt;dbl&gt; | v &lt;dbl&gt; | llyv &lt;dbl&gt; | ll.cond &lt;dbl&gt; | v.cond &lt;dbl&gt; | llyv.cond &lt;dbl&gt; |\n",
       "|---|---|---|---|---|---|---|\n",
       "| inf.exacta | 0.5556739 | 0.1443566 | 0.1245056 | 0.9598540 | 0.2168608 | 0.2150672 |\n",
       "| inf.aprox. | 0.5548340 | 0.1448360 | 0.1243900 | 0.9598238 | 0.2182872 | 0.2173832 |\n",
       "\n"
      ],
      "text/plain": [
       "           ll        v         llyv      ll.cond   v.cond    llyv.cond\n",
       "inf.exacta 0.5556739 0.1443566 0.1245056 0.9598540 0.2168608 0.2150672\n",
       "inf.aprox. 0.5548340 0.1448360 0.1243900 0.9598238 0.2182872 0.2173832"
      ]
     },
     "metadata": {},
     "output_type": "display_data"
    }
   ],
   "source": [
    "#comparacion de resultados obtenidos con inferencia exacta y a proximada\n",
    "probComp <- data.frame(\n",
    "     ll = c(unname(lluvia.marg),mean(ll.marg.aprox)),\n",
    "     v = c(unname(viento.marg),mean(v.marg.aprox)),\n",
    "     llyv = c(unname(lluviayviento.marg),mean(llyv.marg.aprox)),\n",
    "     ll.cond = c(unname(lluvia.cond),mean(ll.aprox)),\n",
    "     v.cond = c(unname(viento.cond),mean(v.aprox)),\n",
    "     llyv.cond = c(unname(lluviayviento.cond),mean(llyv.aprox))    \n",
    ")\n",
    "\n",
    "row.names(probComp) <- c('inf.exacta','inf.aprox.')\n",
    "probComp"
   ]
  },
  {
   "cell_type": "markdown",
   "id": "518755b6-d480-42c7-b8f0-bc453065f16a",
   "metadata": {},
   "source": [
    "Comprobamos que las estimaciones de las probabilidadas dadas por ambos métodos son muy parecidas."
   ]
  },
  {
   "cell_type": "code",
   "execution_count": 80,
   "id": "a8057729-d41b-423d-b667-a9bf2dcf085f",
   "metadata": {},
   "outputs": [
    {
     "data": {
      "text/html": [
       "1.72992974929358"
      ],
      "text/latex": [
       "1.72992974929358"
      ],
      "text/markdown": [
       "1.72992974929358"
      ],
      "text/plain": [
       "[1] 1.72993"
      ]
     },
     "metadata": {},
     "output_type": "display_data"
    }
   ],
   "source": [
    "#por último, comparamos las probabilidades marginales y condicionadas de cada variable \n",
    "#para el cálculo con inferenica aproximada\n",
    "\n",
    "#lluvia\n",
    "mean(ll.aprox)/mean(ll.marg.aprox)"
   ]
  },
  {
   "cell_type": "code",
   "execution_count": 81,
   "id": "10e73925-dfff-4583-8ec4-b66f7c1e3ae0",
   "metadata": {},
   "outputs": [
    {
     "data": {
      "text/html": [
       "1.50713357949662"
      ],
      "text/latex": [
       "1.50713357949662"
      ],
      "text/markdown": [
       "1.50713357949662"
      ],
      "text/plain": [
       "[1] 1.507134"
      ]
     },
     "metadata": {},
     "output_type": "display_data"
    }
   ],
   "source": [
    "#viento\n",
    "mean(v.aprox)/mean(v.marg.aprox)"
   ]
  },
  {
   "cell_type": "code",
   "execution_count": 82,
   "id": "d0776b79-046a-488d-8b9d-c94a7d1c730b",
   "metadata": {},
   "outputs": [
    {
     "data": {
      "text/html": [
       "1.74759373882692"
      ],
      "text/latex": [
       "1.74759373882692"
      ],
      "text/markdown": [
       "1.74759373882692"
      ],
      "text/plain": [
       "[1] 1.747594"
      ]
     },
     "metadata": {},
     "output_type": "display_data"
    }
   ],
   "source": [
    "#viento y lluvia\n",
    "mean(llyv.aprox)/mean(llyv.marg.aprox)"
   ]
  },
  {
   "cell_type": "markdown",
   "id": "a3944717-4a0e-43c1-8b6f-2a1f8aee3f6e",
   "metadata": {},
   "source": [
    "De la misma forma que en el apartado anterior, observamos que la inferencia aproximada sigue estimando que la ocurrencia de tormenta tiene un efecto positivo en el evento de lluvia, de viento, y de lluvia y viento conjuntos."
   ]
  },
  {
   "cell_type": "markdown",
   "id": "c733673b-f4d1-439a-8aae-34515e3774d3",
   "metadata": {},
   "source": [
    "**Ejercicio 4 (2.5 Puntos)**\n",
    "\n",
    "Como hemos visto, es posible realizar un aprendizaje automático de la estructura del DAG a partir de los datos, usando algoritmos específicos para ello. Durante las clases hemos visto el ejemplo del algoritmo hill-climbing, aunque como vimos, hay otras posibilidades. Tambien hemos visto que podemos combinar nuestra experiencia y el aprendizaje automático definiendo previamente relaciones entre variables que queremos introducir o descartar en el DAG resultante. Además, se ha explicado que existen scores que sirven como criterio para evaluar la fuerza de la dependendencia entre nodos de la red y comparar la bondad de ajuste del modelo.\n",
    "\n",
    "    - Evalúa la significación de los arcos dibujados por el experto en el actual DAG utilizando el estadístico χ2 . ¿Hay algún arco no significativo? ¿Cuáles son los tres pares de nodos que presentan un arco de unión más fuerte?\n",
    "\n",
    "    - Además del algoritmo hill-climbing, existe otro algoritmo popular de tipo “voraz” denominado Tabu search. En bnlearn se encuentra implementado a traves de la función tabu, y los argumentos de entrada son similares a los vistos para hill-climbing.\n",
    "\n",
    "        Compara el score global (BIC) obtenido por el DAG inicial, con los obtenidos por los DAG aprendidos de forma automática con los algoritmos tabu y hill-climbing. ¿Cuál obtiene mejor score?\n",
    "        \n",
    "        Ahora, para comparar el DAG original con los dos nuevos DAG tabu y hill-climbing, dibuja los tres utilizando la función graphviz.plot. A la luz de los grafos obtenidos en cada caso, ¿cuál te parece que recoge mejor las relaciones causa-efecto entre variables?. Hay que tener en cuenta que los arcos de un grafo no expresan causalidad, sino simplemente dependencia entre variables en términos de probabilidad.\n",
    "    \n",
    "    - Ahora vuelve a aprender de forma automática el DAG usando tabu y hill-climbing, pero imponiendo las siguientes restricciones: 1. Los arcos viento --> lluvia, tormenta --> granizo y nieve --> nieveSuelo deben quedar reflejados en el DAG. 2. Ningún arco debe unir directamente la neblina con el granizo ni la niebla con la tormenta.\n",
    "\n",
    "            Vuelve a dibujar los DAG resultantes, y a partir del BIC obtenido por cada modelo, determina cuál es el mejor de todos poniéndolos en una tabla.\n",
    "\n",
    "                * Computa la fuerza de la relación entre nodos de los dos últimos modelos que combinan nuestra experiencia con el aprendizaje automático.\n",
    "                * Comenta brevemente los resultados obtenidos tras combinar nuestro conocimiento con el aprendizaje automático."
   ]
  },
  {
   "cell_type": "code",
   "execution_count": 46,
   "id": "3778e1bf-8153-4713-94af-1f5fb83568c7",
   "metadata": {},
   "outputs": [
    {
     "data": {
      "text/html": [
       "<table class=\"dataframe\">\n",
       "<caption>A bn.strength: 10 × 3</caption>\n",
       "<thead>\n",
       "\t<tr><th></th><th scope=col>from</th><th scope=col>to</th><th scope=col>strength</th></tr>\n",
       "\t<tr><th></th><th scope=col>&lt;chr&gt;</th><th scope=col>&lt;chr&gt;</th><th scope=col>&lt;dbl&gt;</th></tr>\n",
       "</thead>\n",
       "<tbody>\n",
       "\t<tr><th scope=row>5</th><td>tormenta</td><td>granizo   </td><td>3.189229e-104</td></tr>\n",
       "\t<tr><th scope=row>10</th><td>nieve   </td><td>nieveSuelo</td><td>2.515328e-101</td></tr>\n",
       "\t<tr><th scope=row>2</th><td>viento  </td><td>lluvia    </td><td> 5.887107e-48</td></tr>\n",
       "\t<tr><th scope=row>3</th><td>lluvia  </td><td>tormenta  </td><td> 1.707081e-33</td></tr>\n",
       "\t<tr><th scope=row>4</th><td>niebla  </td><td>neblina   </td><td> 1.300969e-27</td></tr>\n",
       "\t<tr><th scope=row>1</th><td>viento  </td><td>rocio     </td><td> 1.730098e-23</td></tr>\n",
       "\t<tr><th scope=row>9</th><td>rocio   </td><td>niebla    </td><td> 2.087399e-17</td></tr>\n",
       "\t<tr><th scope=row>6</th><td>tormenta</td><td>nieve     </td><td> 1.051550e-13</td></tr>\n",
       "\t<tr><th scope=row>8</th><td>viento  </td><td>niebla    </td><td> 1.591451e-05</td></tr>\n",
       "\t<tr><th scope=row>7</th><td>rocio   </td><td>escarcha  </td><td> 2.106559e-05</td></tr>\n",
       "</tbody>\n",
       "</table>\n"
      ],
      "text/latex": [
       "A bn.strength: 10 × 3\n",
       "\\begin{tabular}{r|lll}\n",
       "  & from & to & strength\\\\\n",
       "  & <chr> & <chr> & <dbl>\\\\\n",
       "\\hline\n",
       "\t5 & tormenta & granizo    & 3.189229e-104\\\\\n",
       "\t10 & nieve    & nieveSuelo & 2.515328e-101\\\\\n",
       "\t2 & viento   & lluvia     &  5.887107e-48\\\\\n",
       "\t3 & lluvia   & tormenta   &  1.707081e-33\\\\\n",
       "\t4 & niebla   & neblina    &  1.300969e-27\\\\\n",
       "\t1 & viento   & rocio      &  1.730098e-23\\\\\n",
       "\t9 & rocio    & niebla     &  2.087399e-17\\\\\n",
       "\t6 & tormenta & nieve      &  1.051550e-13\\\\\n",
       "\t8 & viento   & niebla     &  1.591451e-05\\\\\n",
       "\t7 & rocio    & escarcha   &  2.106559e-05\\\\\n",
       "\\end{tabular}\n"
      ],
      "text/markdown": [
       "\n",
       "A bn.strength: 10 × 3\n",
       "\n",
       "| <!--/--> | from &lt;chr&gt; | to &lt;chr&gt; | strength &lt;dbl&gt; |\n",
       "|---|---|---|---|\n",
       "| 5 | tormenta | granizo    | 3.189229e-104 |\n",
       "| 10 | nieve    | nieveSuelo | 2.515328e-101 |\n",
       "| 2 | viento   | lluvia     |  5.887107e-48 |\n",
       "| 3 | lluvia   | tormenta   |  1.707081e-33 |\n",
       "| 4 | niebla   | neblina    |  1.300969e-27 |\n",
       "| 1 | viento   | rocio      |  1.730098e-23 |\n",
       "| 9 | rocio    | niebla     |  2.087399e-17 |\n",
       "| 6 | tormenta | nieve      |  1.051550e-13 |\n",
       "| 8 | viento   | niebla     |  1.591451e-05 |\n",
       "| 7 | rocio    | escarcha   |  2.106559e-05 |\n",
       "\n"
      ],
      "text/plain": [
       "   from     to         strength     \n",
       "5  tormenta granizo    3.189229e-104\n",
       "10 nieve    nieveSuelo 2.515328e-101\n",
       "2  viento   lluvia      5.887107e-48\n",
       "3  lluvia   tormenta    1.707081e-33\n",
       "4  niebla   neblina     1.300969e-27\n",
       "1  viento   rocio       1.730098e-23\n",
       "9  rocio    niebla      2.087399e-17\n",
       "6  tormenta nieve       1.051550e-13\n",
       "8  viento   niebla      1.591451e-05\n",
       "7  rocio    escarcha    2.106559e-05"
      ]
     },
     "metadata": {},
     "output_type": "display_data"
    }
   ],
   "source": [
    "#significación de los arcos. alpha = 0.05. cuanto menor sea el p-valor, mayor es la fuerza del arco.\n",
    "f.arc <- arc.strength(dag, data = df, criterion = \"x2\")\n",
    "f.arc <- f.arc[order(f.arc$strength), ]\n",
    "f.arc"
   ]
  },
  {
   "cell_type": "markdown",
   "id": "c855708e-60f3-4263-9718-068d0c8e68bb",
   "metadata": {},
   "source": [
    "\n",
    "1) No se observa ningún arco cuyo p-valor esté por encima de $\\alpha = 0.05$ por lo que todos son significativos.\n",
    "2) Los tres arcos con mayor fuerza son: tormenta -> granizo; nieve -> nieveSuelo; viento -> lluvia."
   ]
  },
  {
   "cell_type": "code",
   "execution_count": 48,
   "id": "fff5eaed-c49e-4022-baf9-c93399cc8425",
   "metadata": {},
   "outputs": [],
   "source": [
    "#comparacion de dags aprendidos \n",
    "dag.hc <- hc(df)\n",
    "dag.tabu <- tabu(df)"
   ]
  },
  {
   "cell_type": "code",
   "execution_count": 63,
   "id": "f31741bd-e907-4799-b9ea-e161538904a8",
   "metadata": {},
   "outputs": [
    {
     "data": {
      "text/html": [
       "<table class=\"dataframe\">\n",
       "<caption>A data.frame: 3 × 2</caption>\n",
       "<thead>\n",
       "\t<tr><th></th><th scope=col>algoritmo</th><th scope=col>BIC</th></tr>\n",
       "\t<tr><th></th><th scope=col>&lt;chr&gt;</th><th scope=col>&lt;dbl&gt;</th></tr>\n",
       "</thead>\n",
       "<tbody>\n",
       "\t<tr><th scope=row>1</th><td>experto</td><td>-9724.872</td></tr>\n",
       "\t<tr><th scope=row>2</th><td>hc     </td><td>-9366.750</td></tr>\n",
       "\t<tr><th scope=row>3</th><td>tabu   </td><td>-9365.175</td></tr>\n",
       "</tbody>\n",
       "</table>\n"
      ],
      "text/latex": [
       "A data.frame: 3 × 2\n",
       "\\begin{tabular}{r|ll}\n",
       "  & algoritmo & BIC\\\\\n",
       "  & <chr> & <dbl>\\\\\n",
       "\\hline\n",
       "\t1 & experto & -9724.872\\\\\n",
       "\t2 & hc      & -9366.750\\\\\n",
       "\t3 & tabu    & -9365.175\\\\\n",
       "\\end{tabular}\n"
      ],
      "text/markdown": [
       "\n",
       "A data.frame: 3 × 2\n",
       "\n",
       "| <!--/--> | algoritmo &lt;chr&gt; | BIC &lt;dbl&gt; |\n",
       "|---|---|---|\n",
       "| 1 | experto | -9724.872 |\n",
       "| 2 | hc      | -9366.750 |\n",
       "| 3 | tabu    | -9365.175 |\n",
       "\n"
      ],
      "text/plain": [
       "  algoritmo BIC      \n",
       "1 experto   -9724.872\n",
       "2 hc        -9366.750\n",
       "3 tabu      -9365.175"
      ]
     },
     "metadata": {},
     "output_type": "display_data"
    }
   ],
   "source": [
    "bic.hc <- bnlearn::score(dag.hc, data = df, type = \"bic\")\n",
    "bic.tabu <- bnlearn::score(dag.tabu, data = df, type = \"bic\")\n",
    "bic.experto <- bnlearn::score(dag, data = df, type = \"bic\")\n",
    "\n",
    "tablaBic <- data.frame(\n",
    "    algoritmo = character(),\n",
    "    BIC = double(),\n",
    "    stringsAsFactors = FALSE\n",
    ")\n",
    "\n",
    "tablaBic[1,] = list('experto', bic.experto)\n",
    "tablaBic[2,] = list('hc',bic.hc)\n",
    "tablaBic[3,] = list('tabu',bic.tabu)\n",
    "\n",
    "tablaBic"
   ]
  },
  {
   "cell_type": "markdown",
   "id": "e3c0f280-0461-4e45-bcd2-f59f8fc17f07",
   "metadata": {},
   "source": [
    "Viendo los valores del BIC, y teniendo en cuenta que a mayor BIC mayor es la bondad del ajuste del grafo a los datos, se tiene que los grafos aprendidos de forma automática (hill-climbing y tabu) obtienen valores de la métrica prácticamente iguales. Por otro lado, se ve que el grafo dado por el experto se ajusta un poco peor a los datos que los grafos aprendidos."
   ]
  },
  {
   "cell_type": "code",
   "execution_count": 67,
   "id": "b411080f-76c1-41ef-bc68-f7043225bcb7",
   "metadata": {},
   "outputs": [
    {
     "data": {
      "image/png": "[encoded data removed]",
      "text/plain": [
       "plot without title"
      ]
     },
     "metadata": {
      "image/png": {
       "height": 420,
       "width": 420
      }
     },
     "output_type": "display_data"
    }
   ],
   "source": [
    "#grafos\n",
    "graphviz.plot(dag)"
   ]
  },
  {
   "cell_type": "code",
   "execution_count": 65,
   "id": "3f824941-85d0-493f-844b-fe1a972c1db9",
   "metadata": {},
   "outputs": [
    {
     "data": {
      "image/png": "[encoded data removed]",
      "text/plain": [
       "plot without title"
      ]
     },
     "metadata": {
      "image/png": {
       "height": 420,
       "width": 420
      }
     },
     "output_type": "display_data"
    }
   ],
   "source": [
    "graphviz.plot(dag.hc)"
   ]
  },
  {
   "cell_type": "code",
   "execution_count": 66,
   "id": "d88a27ec-a22b-4da9-be15-57f604805809",
   "metadata": {},
   "outputs": [
    {
     "data": {
      "image/png": "[encoded data removed]",
      "text/plain": [
       "plot without title"
      ]
     },
     "metadata": {
      "image/png": {
       "height": 420,
       "width": 420
      }
     },
     "output_type": "display_data"
    }
   ],
   "source": [
    "graphviz.plot(dag.tabu)"
   ]
  },
  {
   "cell_type": "markdown",
   "id": "7c5f5dba-fd9b-49e1-9342-c64153621864",
   "metadata": {},
   "source": [
    "Me parece que las relaciones que muestra el grafo del experto son un poco más realistas que las que hay en los grafos aprendidos en términos de causalidad. En dag.hc, por ejemplo, el nodo raíz es nieve, lo que indica que la nieve tiene una influencia directa o indirecta sobre el resto de nodos y hay relaciones como nieve -> lluvia o nieve --> viento que entiendo que no tendrían por qué darse. Por otro lado, en dag.tabu rocio --> nieve no creo que sea una relación causal y, encambio, rocio --> escarcha sí debería serlo y no aparece."
   ]
  },
  {
   "cell_type": "code",
   "execution_count": 69,
   "id": "99b15bf6-8e99-4c12-90d8-eb4051ee088a",
   "metadata": {},
   "outputs": [],
   "source": [
    "#aprendizaje de dags con restricciones\n",
    "\n",
    "#hc\n",
    "whitelist <- matrix(c(\"viento\", \"lluvia\", 'tormenta','granizo','nieve','nieveSuelo'),\n",
    "                    ncol = 2, byrow = TRUE,\n",
    "                    dimnames = list(NULL, c(\"from\", \"to\")))\n",
    "blacklist <- matrix(c('neblina','granizo','granizo','neblina','niebla','tormenta','tormenta','niebla'), \n",
    "                    ncol = 2, byrow = TRUE,\n",
    "                    dimnames = list(NULL, c(\"from\", \"to\")))"
   ]
  },
  {
   "cell_type": "code",
   "execution_count": 70,
   "id": "5b065a63-95f4-40d6-bfc4-f7ec538eca92",
   "metadata": {},
   "outputs": [],
   "source": [
    "dag.hc.2 <- hc(df, whitelist = whitelist, blacklist = blacklist)"
   ]
  },
  {
   "cell_type": "code",
   "execution_count": 71,
   "id": "9086f2fe-d895-45c9-82ea-9f550b67b79d",
   "metadata": {},
   "outputs": [],
   "source": [
    "dag.tabu.2 <- tabu(df, whitelist = whitelist, blacklist = blacklist)"
   ]
  },
  {
   "cell_type": "code",
   "execution_count": 72,
   "id": "2928ec13-6529-42f5-858f-e8f149e2a89f",
   "metadata": {},
   "outputs": [
    {
     "data": {
      "image/png": "[encoded data removed]",
      "text/plain": [
       "plot without title"
      ]
     },
     "metadata": {
      "image/png": {
       "height": 420,
       "width": 420
      }
     },
     "output_type": "display_data"
    }
   ],
   "source": [
    "graphviz.plot(dag.hc.2)"
   ]
  },
  {
   "cell_type": "code",
   "execution_count": 73,
   "id": "da6c8bb9-ae0c-4202-9c0b-56898030bfe8",
   "metadata": {},
   "outputs": [
    {
     "data": {
      "image/png": "[encoded data removed]",
      "text/plain": [
       "plot without title"
      ]
     },
     "metadata": {
      "image/png": {
       "height": 420,
       "width": 420
      }
     },
     "output_type": "display_data"
    }
   ],
   "source": [
    "graphviz.plot(dag.tabu.2)"
   ]
  },
  {
   "cell_type": "markdown",
   "id": "042d970e-464e-4f76-9952-21107a192e1c",
   "metadata": {},
   "source": [
    "Vemos que ha cambiado la estructura de los grafos obtenidos por tabu y hill-climbing y que en este caso coinciden. A continuación calculamos el score global."
   ]
  },
  {
   "cell_type": "code",
   "execution_count": 74,
   "id": "c590d3f8-e1f7-498f-a789-0d8160e35cfe",
   "metadata": {},
   "outputs": [],
   "source": [
    "bic.tabu.2  <- bnlearn::score(dag.tabu.2, data = df, type = \"bic\")\n",
    "bic.hc.2  <- bnlearn::score(dag.hc.2, data = df, type = \"bic\")"
   ]
  },
  {
   "cell_type": "code",
   "execution_count": 76,
   "id": "0e8af22b-56da-450e-ab09-10f931dbc9c0",
   "metadata": {},
   "outputs": [],
   "source": [
    "tablaBic2 <- tablaBic"
   ]
  },
  {
   "cell_type": "code",
   "execution_count": 79,
   "id": "f1b915c4-7ac8-4a99-ad78-6d34f3d64ac0",
   "metadata": {},
   "outputs": [],
   "source": [
    "tablaBic2[4,] = list('hc2', bic.hc.2)\n",
    "tablaBic2[5,] = list('tabu2', bic.tabu.2)"
   ]
  },
  {
   "cell_type": "code",
   "execution_count": 81,
   "id": "a4d835e8-af92-4472-8d26-880ff24c2733",
   "metadata": {},
   "outputs": [
    {
     "data": {
      "text/html": [
       "<table class=\"dataframe\">\n",
       "<caption>A data.frame: 5 × 2</caption>\n",
       "<thead>\n",
       "\t<tr><th></th><th scope=col>algoritmo</th><th scope=col>BIC</th></tr>\n",
       "\t<tr><th></th><th scope=col>&lt;chr&gt;</th><th scope=col>&lt;dbl&gt;</th></tr>\n",
       "</thead>\n",
       "<tbody>\n",
       "\t<tr><th scope=row>1</th><td>experto</td><td>-9724.872</td></tr>\n",
       "\t<tr><th scope=row>2</th><td>hc     </td><td>-9366.750</td></tr>\n",
       "\t<tr><th scope=row>3</th><td>tabu   </td><td>-9365.175</td></tr>\n",
       "\t<tr><th scope=row>4</th><td>hc2    </td><td>-9361.871</td></tr>\n",
       "\t<tr><th scope=row>5</th><td>tabu2  </td><td>-9361.871</td></tr>\n",
       "</tbody>\n",
       "</table>\n"
      ],
      "text/latex": [
       "A data.frame: 5 × 2\n",
       "\\begin{tabular}{r|ll}\n",
       "  & algoritmo & BIC\\\\\n",
       "  & <chr> & <dbl>\\\\\n",
       "\\hline\n",
       "\t1 & experto & -9724.872\\\\\n",
       "\t2 & hc      & -9366.750\\\\\n",
       "\t3 & tabu    & -9365.175\\\\\n",
       "\t4 & hc2     & -9361.871\\\\\n",
       "\t5 & tabu2   & -9361.871\\\\\n",
       "\\end{tabular}\n"
      ],
      "text/markdown": [
       "\n",
       "A data.frame: 5 × 2\n",
       "\n",
       "| <!--/--> | algoritmo &lt;chr&gt; | BIC &lt;dbl&gt; |\n",
       "|---|---|---|\n",
       "| 1 | experto | -9724.872 |\n",
       "| 2 | hc      | -9366.750 |\n",
       "| 3 | tabu    | -9365.175 |\n",
       "| 4 | hc2     | -9361.871 |\n",
       "| 5 | tabu2   | -9361.871 |\n",
       "\n"
      ],
      "text/plain": [
       "  algoritmo BIC      \n",
       "1 experto   -9724.872\n",
       "2 hc        -9366.750\n",
       "3 tabu      -9365.175\n",
       "4 hc2       -9361.871\n",
       "5 tabu2     -9361.871"
      ]
     },
     "metadata": {},
     "output_type": "display_data"
    }
   ],
   "source": [
    "#tabla ordenando por bic\n",
    "tablaBic2[order(tablaBic2$BIC), ]"
   ]
  },
  {
   "cell_type": "markdown",
   "id": "a6fa2107-7181-4e4c-9d9a-479fe46932c5",
   "metadata": {},
   "source": [
    "Vemos que los grafos que combinan el aprendizaje con el conocimiento a priori obtienen el mismo valor del BIC entre ellos y mejoran los resultados respecto a los grafos anteriores."
   ]
  },
  {
   "cell_type": "code",
   "execution_count": 84,
   "id": "e299fed1-7e50-450c-9684-eba4b4ab9b33",
   "metadata": {},
   "outputs": [
    {
     "data": {
      "text/html": [
       "<table class=\"dataframe\">\n",
       "<caption>A bn.strength: 14 × 3</caption>\n",
       "<thead>\n",
       "\t<tr><th></th><th scope=col>from</th><th scope=col>to</th><th scope=col>strength</th></tr>\n",
       "\t<tr><th></th><th scope=col>&lt;chr&gt;</th><th scope=col>&lt;chr&gt;</th><th scope=col>&lt;dbl&gt;</th></tr>\n",
       "</thead>\n",
       "<tbody>\n",
       "\t<tr><th scope=row>3</th><td>nieve   </td><td>nieveSuelo</td><td>2.515328e-101</td></tr>\n",
       "\t<tr><th scope=row>4</th><td>lluvia  </td><td>rocio     </td><td> 1.588620e-78</td></tr>\n",
       "\t<tr><th scope=row>2</th><td>tormenta</td><td>granizo   </td><td> 1.375034e-67</td></tr>\n",
       "\t<tr><th scope=row>1</th><td>viento  </td><td>lluvia    </td><td> 5.887107e-48</td></tr>\n",
       "\t<tr><th scope=row>5</th><td>rocio   </td><td>neblina   </td><td> 9.575702e-44</td></tr>\n",
       "\t<tr><th scope=row>8</th><td>viento  </td><td>neblina   </td><td> 1.401866e-29</td></tr>\n",
       "\t<tr><th scope=row>11</th><td>granizo </td><td>nieve     </td><td> 1.243591e-28</td></tr>\n",
       "\t<tr><th scope=row>6</th><td>lluvia  </td><td>tormenta  </td><td> 9.350705e-27</td></tr>\n",
       "\t<tr><th scope=row>7</th><td>neblina </td><td>niebla    </td><td> 8.140958e-19</td></tr>\n",
       "\t<tr><th scope=row>9</th><td>lluvia  </td><td>escarcha  </td><td> 8.743909e-12</td></tr>\n",
       "\t<tr><th scope=row>12</th><td>rocio   </td><td>niebla    </td><td> 4.868168e-09</td></tr>\n",
       "\t<tr><th scope=row>10</th><td>viento  </td><td>rocio     </td><td> 1.009701e-08</td></tr>\n",
       "\t<tr><th scope=row>13</th><td>viento  </td><td>granizo   </td><td> 3.039235e-08</td></tr>\n",
       "\t<tr><th scope=row>14</th><td>viento  </td><td>tormenta  </td><td> 1.624833e-06</td></tr>\n",
       "</tbody>\n",
       "</table>\n"
      ],
      "text/latex": [
       "A bn.strength: 14 × 3\n",
       "\\begin{tabular}{r|lll}\n",
       "  & from & to & strength\\\\\n",
       "  & <chr> & <chr> & <dbl>\\\\\n",
       "\\hline\n",
       "\t3 & nieve    & nieveSuelo & 2.515328e-101\\\\\n",
       "\t4 & lluvia   & rocio      &  1.588620e-78\\\\\n",
       "\t2 & tormenta & granizo    &  1.375034e-67\\\\\n",
       "\t1 & viento   & lluvia     &  5.887107e-48\\\\\n",
       "\t5 & rocio    & neblina    &  9.575702e-44\\\\\n",
       "\t8 & viento   & neblina    &  1.401866e-29\\\\\n",
       "\t11 & granizo  & nieve      &  1.243591e-28\\\\\n",
       "\t6 & lluvia   & tormenta   &  9.350705e-27\\\\\n",
       "\t7 & neblina  & niebla     &  8.140958e-19\\\\\n",
       "\t9 & lluvia   & escarcha   &  8.743909e-12\\\\\n",
       "\t12 & rocio    & niebla     &  4.868168e-09\\\\\n",
       "\t10 & viento   & rocio      &  1.009701e-08\\\\\n",
       "\t13 & viento   & granizo    &  3.039235e-08\\\\\n",
       "\t14 & viento   & tormenta   &  1.624833e-06\\\\\n",
       "\\end{tabular}\n"
      ],
      "text/markdown": [
       "\n",
       "A bn.strength: 14 × 3\n",
       "\n",
       "| <!--/--> | from &lt;chr&gt; | to &lt;chr&gt; | strength &lt;dbl&gt; |\n",
       "|---|---|---|---|\n",
       "| 3 | nieve    | nieveSuelo | 2.515328e-101 |\n",
       "| 4 | lluvia   | rocio      |  1.588620e-78 |\n",
       "| 2 | tormenta | granizo    |  1.375034e-67 |\n",
       "| 1 | viento   | lluvia     |  5.887107e-48 |\n",
       "| 5 | rocio    | neblina    |  9.575702e-44 |\n",
       "| 8 | viento   | neblina    |  1.401866e-29 |\n",
       "| 11 | granizo  | nieve      |  1.243591e-28 |\n",
       "| 6 | lluvia   | tormenta   |  9.350705e-27 |\n",
       "| 7 | neblina  | niebla     |  8.140958e-19 |\n",
       "| 9 | lluvia   | escarcha   |  8.743909e-12 |\n",
       "| 12 | rocio    | niebla     |  4.868168e-09 |\n",
       "| 10 | viento   | rocio      |  1.009701e-08 |\n",
       "| 13 | viento   | granizo    |  3.039235e-08 |\n",
       "| 14 | viento   | tormenta   |  1.624833e-06 |\n",
       "\n"
      ],
      "text/plain": [
       "   from     to         strength     \n",
       "3  nieve    nieveSuelo 2.515328e-101\n",
       "4  lluvia   rocio       1.588620e-78\n",
       "2  tormenta granizo     1.375034e-67\n",
       "1  viento   lluvia      5.887107e-48\n",
       "5  rocio    neblina     9.575702e-44\n",
       "8  viento   neblina     1.401866e-29\n",
       "11 granizo  nieve       1.243591e-28\n",
       "6  lluvia   tormenta    9.350705e-27\n",
       "7  neblina  niebla      8.140958e-19\n",
       "9  lluvia   escarcha    8.743909e-12\n",
       "12 rocio    niebla      4.868168e-09\n",
       "10 viento   rocio       1.009701e-08\n",
       "13 viento   granizo     3.039235e-08\n",
       "14 viento   tormenta    1.624833e-06"
      ]
     },
     "metadata": {},
     "output_type": "display_data"
    }
   ],
   "source": [
    "#fuerza de los arcos de los nuevos grafos. alpha = 0.05\n",
    "\n",
    "#hc2 y tabu2 (mismo grafo)\n",
    "f.arc.hc.2 <- arc.strength(dag.hc.2, data = df, criterion = \"x2\")\n",
    "f.arc.hc.2 <- f.arc.hc.2[order(f.arc.hc.2$strength), ]\n",
    "f.arc.hc.2"
   ]
  },
  {
   "cell_type": "markdown",
   "id": "bace773f-ca2e-4f89-b792-7809678ba577",
   "metadata": {},
   "source": [
    "Vemos que todos los arcos del nuevo grafo representan una alta dependencia entre sus nodos."
   ]
  },
  {
   "cell_type": "code",
   "execution_count": 87,
   "id": "f52f86da-bb8d-4233-ac0d-04a73d0914d8",
   "metadata": {},
   "outputs": [
    {
     "data": {
      "text/plain": [
       "     Min.   1st Qu.    Median      Mean   3rd Qu.      Max. \n",
       "0.000e+00 0.000e+00 0.000e+00 3.698e-06 0.000e+00 2.107e-05 "
      ]
     },
     "metadata": {},
     "output_type": "display_data"
    }
   ],
   "source": [
    "summary(f.arc$strength)"
   ]
  },
  {
   "cell_type": "code",
   "execution_count": 88,
   "id": "8b1eb6d9-2128-4824-9be1-a7898eda303a",
   "metadata": {},
   "outputs": [
    {
     "data": {
      "text/plain": [
       "     Min.   1st Qu.    Median      Mean   3rd Qu.      Max. \n",
       "0.000e+00 0.000e+00 0.000e+00 1.193e-07 3.653e-09 1.625e-06 "
      ]
     },
     "metadata": {},
     "output_type": "display_data"
    }
   ],
   "source": [
    "summary(f.arc.hc.2$strength)"
   ]
  },
  {
   "cell_type": "markdown",
   "id": "93109d1f-6b68-4e01-b584-441ca30c196e",
   "metadata": {},
   "source": [
    "Además, vemos que de media los arcos del grafo que combina conocimiento con aprendizaje representan correlaciones algo más fuertes en comparación con el grafo dado por el experto."
   ]
  },
  {
   "cell_type": "code",
   "execution_count": null,
   "id": "7827c852-b280-4036-8ac9-9815f56667fb",
   "metadata": {},
   "outputs": [],
   "source": []
  }
 ],
 "metadata": {
  "kernelspec": {
   "display_name": "R",
   "language": "R",
   "name": "ir"
  },
  "language_info": {
   "codemirror_mode": "r",
   "file_extension": ".r",
   "mimetype": "text/x-r-source",
   "name": "R",
   "pygments_lexer": "r",
   "version": "4.3.2"
  }
 },
 "nbformat": 4,
 "nbformat_minor": 5
}

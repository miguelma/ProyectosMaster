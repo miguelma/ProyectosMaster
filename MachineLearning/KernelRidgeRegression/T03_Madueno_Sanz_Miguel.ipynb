{
 "cells": [
  {
   "cell_type": "markdown",
   "id": "2f5e9b45-0968-4eff-baf3-7fef2d975f5e",
   "metadata": {},
   "source": [
    "1. Carga los datos usando la función \"fetch_openml\". Preprocesa los datos y realiza una visualización. Separa los datos en train (2/3) y test (1/3).\n",
    "2. Entrena un regresor lineal para predecir la variable target (el precio) a partir de las 16 características de entrada. Calcula el Mean Absolute Error (MAE) sobre el conjunto de test. Debería ser alrededor de 25000 EUR.\n",
    "3. Entrena y evalua los métodos kernel ridge regression con aproximación Nyström y aproxiación RFF. Reporta su MAE sobre el conjunto de test. Ojo: el regresor en este caso consiste en un Pipeline que contiene la aproximación seguida por una regresión Ridge (lineal); No contiene el método KernelRidge explícitamente. Usa el método GridSearchCV para encontrar valores adecuados de los parámetros.\n",
    "4. Escribe un comentario sobre la complejidad computacional de ambos métodos, bajo la configuración de parámetros usada."
   ]
  },
  {
   "cell_type": "code",
   "execution_count": 29,
   "id": "2cc117cb-48de-4175-b587-e641667e1766",
   "metadata": {},
   "outputs": [],
   "source": [
    "from sklearn.datasets import fetch_openml\n",
    "import numpy as np\n",
    "import pandas as pd\n",
    "import matplotlib.pyplot as plt\n",
    "from sklearn.linear_model import LinearRegression\n",
    "from sklearn.neighbors import KNeighborsRegressor\n",
    "from sklearn.metrics import mean_absolute_error\n",
    "from sklearn.kernel_approximation import Nystroem\n",
    "from sklearn.linear_model import Ridge\n",
    "from sklearn import pipeline\n",
    "from sklearn.kernel_approximation import RBFSampler\n",
    "from sklearn.model_selection import GridSearchCV\n",
    "import time\n",
    "from sklearn.kernel_ridge import KernelRidge"
   ]
  },
  {
   "cell_type": "code",
   "execution_count": 37,
   "id": "2e65cd28-7cd6-432e-a8ba-218cdfe981e2",
   "metadata": {},
   "outputs": [
    {
     "name": "stderr",
     "output_type": "stream",
     "text": [
      "C:\\Users\\migue\\miniconda3\\Lib\\site-packages\\sklearn\\datasets\\_openml.py:311: UserWarning: Multiple active versions of the dataset matching the name house_16h exist. Versions may be fundamentally different, returning version 1.\n",
      "  warn(\n",
      "C:\\Users\\migue\\miniconda3\\Lib\\site-packages\\sklearn\\datasets\\_openml.py:1022: FutureWarning: The default value of `parser` will change from `'liac-arff'` to `'auto'` in 1.4. You can set `parser='auto'` to silence this warning. Therefore, an `ImportError` will be raised from 1.4 if the dataset is dense and pandas is not installed. Note that the pandas parser may return different data types. See the Notes Section in fetch_openml's API doc for details.\n",
      "  warn(\n"
     ]
    }
   ],
   "source": [
    "data = fetch_openml('house_16H')"
   ]
  },
  {
   "cell_type": "code",
   "execution_count": 38,
   "id": "29c6ba44-12ea-4e05-af64-7df6f8700c33",
   "metadata": {},
   "outputs": [
    {
     "data": {
      "text/plain": [
       "dict_keys(['data', 'target', 'frame', 'categories', 'feature_names', 'target_names', 'DESCR', 'details', 'url'])"
      ]
     },
     "execution_count": 38,
     "metadata": {},
     "output_type": "execute_result"
    }
   ],
   "source": [
    "data.keys()"
   ]
  },
  {
   "cell_type": "code",
   "execution_count": 39,
   "id": "7821cf79-9fd3-45da-8344-5cb3e066989d",
   "metadata": {},
   "outputs": [
    {
     "data": {
      "text/plain": [
       "'**Author**:   \\n**Source**: Unknown - Date unknown  \\n**Please cite**:   \\n\\nThis database was designed on the basis of data provided by US Census\\nBureau [http://www.census.gov] (under Lookup Access\\n[http://www.census.gov/cdrom/lookup]: Summary Tape File 1). The data\\nwere collected as part of the 1990 US census. These are mostly counts\\ncumulated at different survey levels. For the purpose of this data set\\na level State-Place was used. Data from all states was obtained. Most\\nof the counts were changed into appropriate proportions.  There are 4\\ndifferent data sets obtained from this database: House(8H) House(8L)\\nHouse(16H) House(16L) These are all concerned with predicting the\\nmedian price of the house in the region based on demographic\\ncomposition and a state of housing market in the region. A number in\\nthe name signifies the number of attributes of the data set. A\\nfollowing letter denotes a very rough approximation to the difficulty\\nof the task. For Low task difficulty, more correlated attributes were\\nchosen as signified by univariate smooth fit of that input on the\\ntarget. Tasks with High difficulty have had their attributes chosen to\\nmake the modelling more difficult due to higher variance or lower\\ncorrelation of the inputs to the target.\\n\\nOriginal source: DELVE repository of data.\\nSource: collection of regression datasets by Luis Torgo (ltorgo@ncc.up.pt) at\\nhttp://www.ncc.up.pt/~ltorgo/Regression/DataSets.html\\nCharacteristics: 22784 cases, 17 continuous attributes.\\n\\nDownloaded from openml.org.'"
      ]
     },
     "execution_count": 39,
     "metadata": {},
     "output_type": "execute_result"
    }
   ],
   "source": [
    "#descripción del dataset\n",
    "data['DESCR']"
   ]
  },
  {
   "cell_type": "code",
   "execution_count": 40,
   "id": "2cbe7046-5d82-4b52-b890-e422260e1a52",
   "metadata": {},
   "outputs": [],
   "source": [
    "X=data['data']"
   ]
  },
  {
   "cell_type": "code",
   "execution_count": 41,
   "id": "f7a4e2f0-4a26-443b-ac75-62797520ccc5",
   "metadata": {},
   "outputs": [],
   "source": [
    "y=data['target']"
   ]
  },
  {
   "cell_type": "code",
   "execution_count": 42,
   "id": "d923de1b-3dc0-46a8-af9a-fcbfa15e8c20",
   "metadata": {},
   "outputs": [
    {
     "data": {
      "text/html": [
       "<div>\n",
       "<style scoped>\n",
       "    .dataframe tbody tr th:only-of-type {\n",
       "        vertical-align: middle;\n",
       "    }\n",
       "\n",
       "    .dataframe tbody tr th {\n",
       "        vertical-align: top;\n",
       "    }\n",
       "\n",
       "    .dataframe thead th {\n",
       "        text-align: right;\n",
       "    }\n",
       "</style>\n",
       "<table border=\"1\" class=\"dataframe\">\n",
       "  <thead>\n",
       "    <tr style=\"text-align: right;\">\n",
       "      <th></th>\n",
       "      <th>P1</th>\n",
       "      <th>P5p1</th>\n",
       "      <th>P6p2</th>\n",
       "      <th>P11p4</th>\n",
       "      <th>P14p9</th>\n",
       "      <th>P15p1</th>\n",
       "      <th>P15p3</th>\n",
       "      <th>P16p2</th>\n",
       "      <th>P18p2</th>\n",
       "      <th>P27p4</th>\n",
       "      <th>H2p2</th>\n",
       "      <th>H8p2</th>\n",
       "      <th>H10p1</th>\n",
       "      <th>H13p1</th>\n",
       "      <th>H18pA</th>\n",
       "      <th>H40p4</th>\n",
       "    </tr>\n",
       "  </thead>\n",
       "  <tbody>\n",
       "    <tr>\n",
       "      <th>0</th>\n",
       "      <td>15512.0</td>\n",
       "      <td>0.460869</td>\n",
       "      <td>0.049252</td>\n",
       "      <td>0.226470</td>\n",
       "      <td>0.149827</td>\n",
       "      <td>0.752837</td>\n",
       "      <td>0.010057</td>\n",
       "      <td>0.579729</td>\n",
       "      <td>0.003251</td>\n",
       "      <td>0.075912</td>\n",
       "      <td>0.625318</td>\n",
       "      <td>0.036613</td>\n",
       "      <td>0.991377</td>\n",
       "      <td>0.260116</td>\n",
       "      <td>0.052246</td>\n",
       "      <td>0.774059</td>\n",
       "    </tr>\n",
       "    <tr>\n",
       "      <th>1</th>\n",
       "      <td>1550.0</td>\n",
       "      <td>0.470968</td>\n",
       "      <td>0.002581</td>\n",
       "      <td>0.137419</td>\n",
       "      <td>0.096341</td>\n",
       "      <td>0.862581</td>\n",
       "      <td>0.000000</td>\n",
       "      <td>0.695142</td>\n",
       "      <td>0.005025</td>\n",
       "      <td>0.043551</td>\n",
       "      <td>0.064263</td>\n",
       "      <td>0.003350</td>\n",
       "      <td>0.994975</td>\n",
       "      <td>0.285266</td>\n",
       "      <td>0.060606</td>\n",
       "      <td>0.142857</td>\n",
       "    </tr>\n",
       "    <tr>\n",
       "      <th>2</th>\n",
       "      <td>4741.0</td>\n",
       "      <td>0.485341</td>\n",
       "      <td>0.000211</td>\n",
       "      <td>0.189412</td>\n",
       "      <td>0.135656</td>\n",
       "      <td>0.856992</td>\n",
       "      <td>0.000000</td>\n",
       "      <td>0.683584</td>\n",
       "      <td>0.004143</td>\n",
       "      <td>0.027965</td>\n",
       "      <td>0.065796</td>\n",
       "      <td>0.000000</td>\n",
       "      <td>0.997411</td>\n",
       "      <td>0.315433</td>\n",
       "      <td>0.065116</td>\n",
       "      <td>0.687500</td>\n",
       "    </tr>\n",
       "  </tbody>\n",
       "</table>\n",
       "</div>"
      ],
      "text/plain": [
       "        P1      P5p1      P6p2     P11p4     P14p9     P15p1     P15p3  \\\n",
       "0  15512.0  0.460869  0.049252  0.226470  0.149827  0.752837  0.010057   \n",
       "1   1550.0  0.470968  0.002581  0.137419  0.096341  0.862581  0.000000   \n",
       "2   4741.0  0.485341  0.000211  0.189412  0.135656  0.856992  0.000000   \n",
       "\n",
       "      P16p2     P18p2     P27p4      H2p2      H8p2     H10p1     H13p1  \\\n",
       "0  0.579729  0.003251  0.075912  0.625318  0.036613  0.991377  0.260116   \n",
       "1  0.695142  0.005025  0.043551  0.064263  0.003350  0.994975  0.285266   \n",
       "2  0.683584  0.004143  0.027965  0.065796  0.000000  0.997411  0.315433   \n",
       "\n",
       "      H18pA     H40p4  \n",
       "0  0.052246  0.774059  \n",
       "1  0.060606  0.142857  \n",
       "2  0.065116  0.687500  "
      ]
     },
     "execution_count": 42,
     "metadata": {},
     "output_type": "execute_result"
    }
   ],
   "source": [
    "X.head(3)"
   ]
  },
  {
   "cell_type": "code",
   "execution_count": 43,
   "id": "0a9b7c46-5da0-4bbc-a3cf-62308cd166ee",
   "metadata": {},
   "outputs": [
    {
     "data": {
      "image/png": "[encoded data removed]",
      "text/plain": [
       "<Figure size 640x480 with 1 Axes>"
      ]
     },
     "metadata": {},
     "output_type": "display_data"
    }
   ],
   "source": [
    "plt.hist(y)\n",
    "plt.xlabel('Precio viviendas')\n",
    "plt.show()"
   ]
  },
  {
   "cell_type": "code",
   "execution_count": 44,
   "id": "ca805475-2380-4d5b-8bf2-478b076f3864",
   "metadata": {},
   "outputs": [],
   "source": [
    "#escalamiento\n",
    "meanX = np.mean(X, axis=0)\n",
    "stdX = np.std(X, axis=0)\n",
    "X=(X-meanX)/stdX"
   ]
  },
  {
   "cell_type": "code",
   "execution_count": 45,
   "id": "ee0812fc-05fd-4e14-bf1a-d49aa912823f",
   "metadata": {},
   "outputs": [],
   "source": [
    "#separación train y test\n",
    "test_size = 1/3\n",
    "\n",
    "n = len(X)\n",
    "\n",
    "# randomly permute the data\n",
    "np.random.seed(0)\n",
    "order = np.random.permutation(n)\n",
    "indtest = order[:int(test_size * n)]\n",
    "indtrain = order[int(test_size * n):]"
   ]
  },
  {
   "cell_type": "code",
   "execution_count": 46,
   "id": "29416095-5b2b-46c1-9b0b-dbad9576d4ea",
   "metadata": {},
   "outputs": [
    {
     "name": "stdout",
     "output_type": "stream",
     "text": [
      "X_train shape: (15190, 16)\n",
      "X_test shape: (7594, 16)\n"
     ]
    }
   ],
   "source": [
    "X_train = X.loc[indtrain]\n",
    "y_train = y[indtrain]\n",
    "X_test = X.loc[indtest]\n",
    "y_test = y[indtest]\n",
    "\n",
    "print('X_train shape: '+str(X_train.shape))\n",
    "print('X_test shape: '+str(X_test.shape))"
   ]
  },
  {
   "cell_type": "code",
   "execution_count": 47,
   "id": "464e35a1-00d9-43d2-aef6-1d92d3f696d6",
   "metadata": {},
   "outputs": [
    {
     "name": "stdout",
     "output_type": "stream",
     "text": [
      "MAE sobre el conjunto de test: 25451.179414642334\n"
     ]
    }
   ],
   "source": [
    "#entrenamiento del regresor lineal\n",
    "\n",
    "lin_reg = LinearRegression()\n",
    "lin_reg.fit(X_train, y_train)\n",
    "y_pred = lin_reg.predict(X_test)\n",
    "print('MAE sobre el conjunto de test: '+str(mean_absolute_error(y_test,y_pred)))"
   ]
  },
  {
   "cell_type": "code",
   "execution_count": 48,
   "id": "02e8fb80-c79d-46f0-8d89-c8305ae868d7",
   "metadata": {},
   "outputs": [],
   "source": [
    "#métodos KRR\n",
    "#aproximacion Nystroem\n",
    "\n",
    "#modelo\n",
    "nys_krr = pipeline.Pipeline([\n",
    "                    ('nystroem',Nystroem()),\n",
    "                    ('ridge',Ridge())\n",
    "                    ])"
   ]
  },
  {
   "cell_type": "code",
   "execution_count": 49,
   "id": "fd5151f9-5b9a-43a2-84aa-1a396ec115ba",
   "metadata": {},
   "outputs": [],
   "source": [
    "param_grid_nys= {\n",
    "    'nystroem__n_components': [int(0.1*n)], \n",
    "    'nystroem__gamma': [0.001, 0.1, 10, 1000],  \n",
    "    'ridge__alpha': [0.1, 1.0, 10]  }\n",
    "\n",
    "grid_search_nystroem = GridSearchCV(estimator=nys_krr, param_grid=param_grid_nys, cv=5, scoring='neg_mean_absolute_error')"
   ]
  },
  {
   "cell_type": "code",
   "execution_count": 50,
   "id": "4805a3c9-e39c-40e2-abda-0c41f5e6a9b5",
   "metadata": {},
   "outputs": [
    {
     "data": {
      "text/html": [
       "<style>#sk-container-id-1 {color: black;}#sk-container-id-1 pre{padding: 0;}#sk-container-id-1 div.sk-toggleable {background-color: white;}#sk-container-id-1 label.sk-toggleable__label {cursor: pointer;display: block;width: 100%;margin-bottom: 0;padding: 0.3em;box-sizing: border-box;text-align: center;}#sk-container-id-1 label.sk-toggleable__label-arrow:before {content: \"▸\";float: left;margin-right: 0.25em;color: #696969;}#sk-container-id-1 label.sk-toggleable__label-arrow:hover:before {color: black;}#sk-container-id-1 div.sk-estimator:hover label.sk-toggleable__label-arrow:before {color: black;}#sk-container-id-1 div.sk-toggleable__content {max-height: 0;max-width: 0;overflow: hidden;text-align: left;background-color: #f0f8ff;}#sk-container-id-1 div.sk-toggleable__content pre {margin: 0.2em;color: black;border-radius: 0.25em;background-color: #f0f8ff;}#sk-container-id-1 input.sk-toggleable__control:checked~div.sk-toggleable__content {max-height: 200px;max-width: 100%;overflow: auto;}#sk-container-id-1 input.sk-toggleable__control:checked~label.sk-toggleable__label-arrow:before {content: \"▾\";}#sk-container-id-1 div.sk-estimator input.sk-toggleable__control:checked~label.sk-toggleable__label {background-color: #d4ebff;}#sk-container-id-1 div.sk-label input.sk-toggleable__control:checked~label.sk-toggleable__label {background-color: #d4ebff;}#sk-container-id-1 input.sk-hidden--visually {border: 0;clip: rect(1px 1px 1px 1px);clip: rect(1px, 1px, 1px, 1px);height: 1px;margin: -1px;overflow: hidden;padding: 0;position: absolute;width: 1px;}#sk-container-id-1 div.sk-estimator {font-family: monospace;background-color: #f0f8ff;border: 1px dotted black;border-radius: 0.25em;box-sizing: border-box;margin-bottom: 0.5em;}#sk-container-id-1 div.sk-estimator:hover {background-color: #d4ebff;}#sk-container-id-1 div.sk-parallel-item::after {content: \"\";width: 100%;border-bottom: 1px solid gray;flex-grow: 1;}#sk-container-id-1 div.sk-label:hover label.sk-toggleable__label {background-color: #d4ebff;}#sk-container-id-1 div.sk-serial::before {content: \"\";position: absolute;border-left: 1px solid gray;box-sizing: border-box;top: 0;bottom: 0;left: 50%;z-index: 0;}#sk-container-id-1 div.sk-serial {display: flex;flex-direction: column;align-items: center;background-color: white;padding-right: 0.2em;padding-left: 0.2em;position: relative;}#sk-container-id-1 div.sk-item {position: relative;z-index: 1;}#sk-container-id-1 div.sk-parallel {display: flex;align-items: stretch;justify-content: center;background-color: white;position: relative;}#sk-container-id-1 div.sk-item::before, #sk-container-id-1 div.sk-parallel-item::before {content: \"\";position: absolute;border-left: 1px solid gray;box-sizing: border-box;top: 0;bottom: 0;left: 50%;z-index: -1;}#sk-container-id-1 div.sk-parallel-item {display: flex;flex-direction: column;z-index: 1;position: relative;background-color: white;}#sk-container-id-1 div.sk-parallel-item:first-child::after {align-self: flex-end;width: 50%;}#sk-container-id-1 div.sk-parallel-item:last-child::after {align-self: flex-start;width: 50%;}#sk-container-id-1 div.sk-parallel-item:only-child::after {width: 0;}#sk-container-id-1 div.sk-dashed-wrapped {border: 1px dashed gray;margin: 0 0.4em 0.5em 0.4em;box-sizing: border-box;padding-bottom: 0.4em;background-color: white;}#sk-container-id-1 div.sk-label label {font-family: monospace;font-weight: bold;display: inline-block;line-height: 1.2em;}#sk-container-id-1 div.sk-label-container {text-align: center;}#sk-container-id-1 div.sk-container {/* jupyter's `normalize.less` sets `[hidden] { display: none; }` but bootstrap.min.css set `[hidden] { display: none !important; }` so we also need the `!important` here to be able to override the default hidden behavior on the sphinx rendered scikit-learn.org. See: https://github.com/scikit-learn/scikit-learn/issues/21755 */display: inline-block !important;position: relative;}#sk-container-id-1 div.sk-text-repr-fallback {display: none;}</style><div id=\"sk-container-id-1\" class=\"sk-top-container\"><div class=\"sk-text-repr-fallback\"><pre>GridSearchCV(cv=5,\n",
       "             estimator=Pipeline(steps=[(&#x27;nystroem&#x27;, Nystroem()),\n",
       "                                       (&#x27;ridge&#x27;, Ridge())]),\n",
       "             param_grid={&#x27;nystroem__gamma&#x27;: [0.001, 0.1, 10, 1000],\n",
       "                         &#x27;nystroem__n_components&#x27;: [2278],\n",
       "                         &#x27;ridge__alpha&#x27;: [0.1, 1.0, 10]},\n",
       "             scoring=&#x27;neg_mean_absolute_error&#x27;)</pre><b>In a Jupyter environment, please rerun this cell to show the HTML representation or trust the notebook. <br />On GitHub, the HTML representation is unable to render, please try loading this page with nbviewer.org.</b></div><div class=\"sk-container\" hidden><div class=\"sk-item sk-dashed-wrapped\"><div class=\"sk-label-container\"><div class=\"sk-label sk-toggleable\"><input class=\"sk-toggleable__control sk-hidden--visually\" id=\"sk-estimator-id-1\" type=\"checkbox\" ><label for=\"sk-estimator-id-1\" class=\"sk-toggleable__label sk-toggleable__label-arrow\">GridSearchCV</label><div class=\"sk-toggleable__content\"><pre>GridSearchCV(cv=5,\n",
       "             estimator=Pipeline(steps=[(&#x27;nystroem&#x27;, Nystroem()),\n",
       "                                       (&#x27;ridge&#x27;, Ridge())]),\n",
       "             param_grid={&#x27;nystroem__gamma&#x27;: [0.001, 0.1, 10, 1000],\n",
       "                         &#x27;nystroem__n_components&#x27;: [2278],\n",
       "                         &#x27;ridge__alpha&#x27;: [0.1, 1.0, 10]},\n",
       "             scoring=&#x27;neg_mean_absolute_error&#x27;)</pre></div></div></div><div class=\"sk-parallel\"><div class=\"sk-parallel-item\"><div class=\"sk-item\"><div class=\"sk-label-container\"><div class=\"sk-label sk-toggleable\"><input class=\"sk-toggleable__control sk-hidden--visually\" id=\"sk-estimator-id-2\" type=\"checkbox\" ><label for=\"sk-estimator-id-2\" class=\"sk-toggleable__label sk-toggleable__label-arrow\">estimator: Pipeline</label><div class=\"sk-toggleable__content\"><pre>Pipeline(steps=[(&#x27;nystroem&#x27;, Nystroem()), (&#x27;ridge&#x27;, Ridge())])</pre></div></div></div><div class=\"sk-serial\"><div class=\"sk-item\"><div class=\"sk-serial\"><div class=\"sk-item\"><div class=\"sk-estimator sk-toggleable\"><input class=\"sk-toggleable__control sk-hidden--visually\" id=\"sk-estimator-id-3\" type=\"checkbox\" ><label for=\"sk-estimator-id-3\" class=\"sk-toggleable__label sk-toggleable__label-arrow\">Nystroem</label><div class=\"sk-toggleable__content\"><pre>Nystroem()</pre></div></div></div><div class=\"sk-item\"><div class=\"sk-estimator sk-toggleable\"><input class=\"sk-toggleable__control sk-hidden--visually\" id=\"sk-estimator-id-4\" type=\"checkbox\" ><label for=\"sk-estimator-id-4\" class=\"sk-toggleable__label sk-toggleable__label-arrow\">Ridge</label><div class=\"sk-toggleable__content\"><pre>Ridge()</pre></div></div></div></div></div></div></div></div></div></div></div></div>"
      ],
      "text/plain": [
       "GridSearchCV(cv=5,\n",
       "             estimator=Pipeline(steps=[('nystroem', Nystroem()),\n",
       "                                       ('ridge', Ridge())]),\n",
       "             param_grid={'nystroem__gamma': [0.001, 0.1, 10, 1000],\n",
       "                         'nystroem__n_components': [2278],\n",
       "                         'ridge__alpha': [0.1, 1.0, 10]},\n",
       "             scoring='neg_mean_absolute_error')"
      ]
     },
     "execution_count": 50,
     "metadata": {},
     "output_type": "execute_result"
    }
   ],
   "source": [
    "grid_search_nystroem.fit(X_train, y_train)"
   ]
  },
  {
   "cell_type": "code",
   "execution_count": 51,
   "id": "02fbe33b-19db-4731-a806-3323bd3c329a",
   "metadata": {},
   "outputs": [
    {
     "name": "stdout",
     "output_type": "stream",
     "text": [
      "Mejores parámetros: {'nystroem__gamma': 0.1, 'nystroem__n_components': 2278, 'ridge__alpha': 1.0}\n"
     ]
    }
   ],
   "source": [
    "print(\"Mejores parámetros:\", grid_search_nystroem.best_params_)"
   ]
  },
  {
   "cell_type": "code",
   "execution_count": 52,
   "id": "4733142e-ce5c-40e7-86e1-46dfb9b05b89",
   "metadata": {},
   "outputs": [
    {
     "name": "stdout",
     "output_type": "stream",
     "text": [
      "MAE KRR + Nystroem: 18356.463904867516\n"
     ]
    }
   ],
   "source": [
    "y_pred_nys = grid_search_nystroem.predict(X_test)\n",
    "print('MAE KRR + Nystroem: '+str(mean_absolute_error(y_test,y_pred_nys)))"
   ]
  },
  {
   "cell_type": "code",
   "execution_count": 53,
   "id": "33de21e9-fabc-4d8f-a7d6-80e8cf3976cc",
   "metadata": {},
   "outputs": [],
   "source": [
    "#métodos KRR\n",
    "#aproximacion RFF\n",
    "\n",
    "#modelo\n",
    "rff_krr = pipeline.Pipeline([\n",
    "                    ('rff',RBFSampler()),\n",
    "                    ('ridge',Ridge())\n",
    "                    ])"
   ]
  },
  {
   "cell_type": "code",
   "execution_count": 54,
   "id": "47528b75-5386-4e67-b6bf-ae9123cfcee1",
   "metadata": {},
   "outputs": [],
   "source": [
    "param_grid_rff= {\n",
    "    'rff__n_components': [int(0.1*n)], \n",
    "    'rff__gamma': [0.001, 0.1, 10, 1000],  \n",
    "    'ridge__alpha': [0.1, 1.0, 10]  }\n",
    "\n",
    "grid_search_rff = GridSearchCV(estimator=rff_krr, param_grid=param_grid_rff, cv=5, scoring='neg_mean_absolute_error')"
   ]
  },
  {
   "cell_type": "code",
   "execution_count": 55,
   "id": "b8ce4f32-ec20-4c65-8ac3-d21b5e25668b",
   "metadata": {},
   "outputs": [
    {
     "name": "stdout",
     "output_type": "stream",
     "text": [
      "Mejores parámetros: {'rff__gamma': 0.1, 'rff__n_components': 2278, 'ridge__alpha': 1.0}\n",
      "MAE KRR + RFF: 18183.56759494503\n"
     ]
    }
   ],
   "source": [
    "grid_search_rff.fit(X,y)\n",
    "print(\"Mejores parámetros:\", grid_search_rff.best_params_)\n",
    "y_pred_rff = grid_search_rff.predict(X_test)\n",
    "print('MAE KRR + RFF: '+str(mean_absolute_error(y_test,y_pred_rff)))"
   ]
  },
  {
   "cell_type": "code",
   "execution_count": 56,
   "id": "7d3545e0-1bbd-4431-a4cb-61e5afa26e3a",
   "metadata": {},
   "outputs": [],
   "source": [
    "#comentarios\n",
    "#tiempos de cómputo\n",
    "\n",
    "#rff optimo\n",
    "n_components = 2278 # dimension of approximation\n",
    "gamma = 0.1 # kernel parameter\n",
    "alpha = 1\n",
    "\n",
    "feature_map_fourier = RBFSampler(gamma=gamma, n_components=n_components, random_state=0)\n",
    "ridge_reg = Ridge(alpha = alpha)\n",
    "fourier_approx_krr = pipeline.Pipeline([(\"feature_map\", feature_map_fourier),\n",
    "                                        (\"ridge\", ridge_reg)])\n",
    "start = time.time()\n",
    "fourier_approx_krr.fit(X_train,y_train)\n",
    "elapsed_timerff = time.time() - start"
   ]
  },
  {
   "cell_type": "code",
   "execution_count": 57,
   "id": "c71a4330-7b7f-462c-983c-d5fb6edbc5ba",
   "metadata": {},
   "outputs": [],
   "source": [
    "#nys optimo\n",
    "n_components = 2278 # dimension of approximation\n",
    "gamma = 0.1 # kernel parameter\n",
    "alpha = 1\n",
    "\n",
    "feature_map_nystroem = Nystroem(gamma=gamma, n_components=n_components, random_state=0)\n",
    "ridge_reg = Ridge(alpha = alpha)\n",
    "nystroem_approx_krr = pipeline.Pipeline([(\"feature_map\", feature_map_nystroem),\n",
    "                                        (\"ridge\", ridge_reg)])\n",
    "start = time.time()\n",
    "nystroem_approx_krr.fit(X_train,y_train)\n",
    "elapsed_timenys = time.time() - start"
   ]
  },
  {
   "cell_type": "code",
   "execution_count": 58,
   "id": "07be28bb-0cfb-420a-91cb-62b33108175c",
   "metadata": {},
   "outputs": [],
   "source": [
    "start = time.time()\n",
    "lin_reg.fit(X_train, y_train)\n",
    "elapsed_timelin = time.time() - start"
   ]
  },
  {
   "cell_type": "code",
   "execution_count": 59,
   "id": "24ecb9a7-04ed-4264-99e5-91043558ec60",
   "metadata": {},
   "outputs": [],
   "source": [
    "#kernel ridge sin aproximacion\n",
    "kernel_ridge_model = KernelRidge(kernel='rbf')\n",
    "start = time.time()\n",
    "kernel_ridge_model.fit(X_train, y_train)\n",
    "elapsed_timekr = time.time() - start"
   ]
  },
  {
   "cell_type": "code",
   "execution_count": 60,
   "id": "e623a20d-295f-45f7-bea6-05e9a1a8a518",
   "metadata": {},
   "outputs": [
    {
     "data": {
      "image/png": "[encoded data removed]",
      "text/plain": [
       "<Figure size 640x480 with 1 Axes>"
      ]
     },
     "metadata": {},
     "output_type": "display_data"
    }
   ],
   "source": [
    "x=['Linear Regressor','KRR','Random Fourier Features','Nystroem']\n",
    "y=[elapsed_timelin,elapsed_timekr,elapsed_timerff,elapsed_timenys]\n",
    "plt.bar(x, y)\n",
    "\n",
    "plt.xticks(rotation=90)\n",
    "plt.ylabel('Tiempo de ejecución (s)')\n",
    "plt.show()"
   ]
  },
  {
   "cell_type": "code",
   "execution_count": 61,
   "id": "f61425bc-ac9f-4d1e-bcf9-06269af31e47",
   "metadata": {},
   "outputs": [
    {
     "data": {
      "image/png": "[encoded data removed]",
      "text/plain": [
       "<Figure size 640x480 with 1 Axes>"
      ]
     },
     "metadata": {},
     "output_type": "display_data"
    }
   ],
   "source": [
    "x=['Linear Regressor','KRR','Random Fourier Features','Nystroem']\n",
    "y_pred_rff = fourier_approx_krr.predict(X_test)\n",
    "y_pred_nys = nystroem_approx_krr.predict(X_test)\n",
    "y_pred_kr = kernel_ridge_model.predict(X_test)\n",
    "y=[mean_absolute_error(y_test,y_pred),mean_absolute_error(y_test,y_pred_kr),mean_absolute_error(y_test,y_pred_rff),mean_absolute_error(y_test,y_pred_nys)]\n",
    "plt.bar(x, y)\n",
    "\n",
    "plt.xticks(rotation=90)\n",
    "plt.ylabel('MAE')\n",
    "plt.show()"
   ]
  },
  {
   "cell_type": "markdown",
   "id": "476b3ea2-eef2-4c59-bdd5-c5d33072c77e",
   "metadata": {},
   "source": [
    "Se han comparado los tiempos de entrenamiento de los dos métodos de aproximación del kernel usados, para los parámetros óptimos encontrados en cada caso, con el método Kernel Ridge sin aproximación y el método lineal. Se observan tiempos de ejecución mayor en general de los métodos kernel respecto al regresor lineal, y, entre los dos modelos de aproximación, un tiempo de cómputo mayor para la aproximación Nystroem que para la aproximación RFF bajo el mismo número de componentes. Por otro lado, como cabría esperar, se observa un tiempo de ejecución del método KRR, que no tiene aproximación del kernel, mayor que los de los métodos con aproximaciones. \n",
    "\n",
    "Por otro lado, se consigue una mejora en el MAE de la predicción realizada sobre el conjunto de test con los modelos kernel en comparación con el regresor lineal usado al principio. Además, las precisiones de los métodos kernel son parecidas entre ellos, por lo que las aproximaciones han funcionado bien. Atendiendo a esto último y a los tiempos de computación, la mejor opción para entrenar un modelo es en principio RFF + KRR."
   ]
  }
 ],
 "metadata": {
  "kernelspec": {
   "display_name": "Python 3 (ipykernel)",
   "language": "python",
   "name": "python3"
  },
  "language_info": {
   "codemirror_mode": {
    "name": "ipython",
    "version": 3
   },
   "file_extension": ".py",
   "mimetype": "text/x-python",
   "name": "python",
   "nbconvert_exporter": "python",
   "pygments_lexer": "ipython3",
   "version": "3.11.5"
  }
 },
 "nbformat": 4,
 "nbformat_minor": 5
}

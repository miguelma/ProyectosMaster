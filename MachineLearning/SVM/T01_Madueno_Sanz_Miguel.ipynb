{
 "cells": [
  {
   "cell_type": "markdown",
   "id": "3a116bcb-7030-4581-9461-196252c2e466",
   "metadata": {},
   "source": [
    "### Cuestiones\n",
    "1. Elige un conjunto de datos para clasificación binaria. (Es decir, debe incluir etiquetas binarias.)\r\n",
    "2. Visualiza (algunos de) los datos.\r\n",
    "3. Separa los datos en un conjunto de training y otro de test.\r\n",
    "4. Entrena una SVM sobre los datos de training. Busca los parámetros óptimos usando GridSearchCV.\r\n",
    "5. Prueba el clasificador sobre los datos de test y reporta el resultado."
   ]
  },
  {
   "cell_type": "code",
   "execution_count": 36,
   "id": "6de37bcb-1fed-4fba-8ca7-9238856ccc97",
   "metadata": {},
   "outputs": [],
   "source": [
    "import numpy as np\n",
    "import pandas as pd\n",
    "import matplotlib.pyplot as plt\n",
    "from sklearn import datasets, svm\n",
    "from sklearn.svm import SVC\n",
    "from sklearn.model_selection import train_test_split\n",
    "from sklearn.model_selection import GridSearchCV\n",
    "from sklearn.metrics import accuracy_score\n",
    "from sklearn.metrics import classification_report\n",
    "from sklearn.metrics import confusion_matrix\n",
    "from time import time\n"
   ]
  },
  {
   "cell_type": "markdown",
   "id": "3092a5fa-9a27-486d-9e9f-73897f4016bb",
   "metadata": {},
   "source": [
    "### 1) Descripción del dataset"
   ]
  },
  {
   "cell_type": "markdown",
   "id": "aa564a87-ac35-41de-8dc3-d7ec24bbe86a",
   "metadata": {},
   "source": [
    "\n",
    "Consideramos el dataset Carseats del paquete ISLR de R usado durante el curso. Este dataset almacena 400 observaciones de 11 variables relacionadas con la venta de sillitas de coche para niños en diferentes tiendas. Se miden características tanto de la población que compra en cada tienda, como de la comercialización de las sillas: Sales (número de ventas en miles), Comprice(precio del competidor), Income (salario medio en miles de dólares), Advertising (presupuesto para publicidad en miles de dólares), Population (población en miles de personas), Price (precio), ShelveLoc (eficacia de la colocación del producto en la tienda), Age (edad media de la población), Education (años de educación recibidos), Urban (carácter urbano de la población), US (indica si la tienda esta en Estados Unidos o no).\n",
    "\n",
    "El problema que se plantea es el de determinar si una tienda dada ofrece sillitas caras (por encima de la media), o baratas (por debajo), en función del resto de variables, para lo que hemos discretizado la variable Price estableciendo como umbral su valor medio."
   ]
  },
  {
   "cell_type": "code",
   "execution_count": 2,
   "id": "e5928e91-b928-409a-ae46-8a48ee016e3e",
   "metadata": {},
   "outputs": [],
   "source": [
    "df = pd.read_csv('Carseats.csv')"
   ]
  },
  {
   "cell_type": "code",
   "execution_count": 3,
   "id": "ff22ab61-2d0a-4fce-a31e-2d0be8404d8e",
   "metadata": {},
   "outputs": [
    {
     "data": {
      "text/html": [
       "<div>\n",
       "<style scoped>\n",
       "    .dataframe tbody tr th:only-of-type {\n",
       "        vertical-align: middle;\n",
       "    }\n",
       "\n",
       "    .dataframe tbody tr th {\n",
       "        vertical-align: top;\n",
       "    }\n",
       "\n",
       "    .dataframe thead th {\n",
       "        text-align: right;\n",
       "    }\n",
       "</style>\n",
       "<table border=\"1\" class=\"dataframe\">\n",
       "  <thead>\n",
       "    <tr style=\"text-align: right;\">\n",
       "      <th></th>\n",
       "      <th>Sales</th>\n",
       "      <th>CompPrice</th>\n",
       "      <th>Income</th>\n",
       "      <th>Advertising</th>\n",
       "      <th>Population</th>\n",
       "      <th>Price</th>\n",
       "      <th>ShelveLoc</th>\n",
       "      <th>Age</th>\n",
       "      <th>Education</th>\n",
       "      <th>Urban</th>\n",
       "      <th>US</th>\n",
       "    </tr>\n",
       "  </thead>\n",
       "  <tbody>\n",
       "    <tr>\n",
       "      <th>0</th>\n",
       "      <td>9.50</td>\n",
       "      <td>138</td>\n",
       "      <td>73</td>\n",
       "      <td>11</td>\n",
       "      <td>276</td>\n",
       "      <td>120</td>\n",
       "      <td>Bad</td>\n",
       "      <td>42</td>\n",
       "      <td>17</td>\n",
       "      <td>Yes</td>\n",
       "      <td>Yes</td>\n",
       "    </tr>\n",
       "    <tr>\n",
       "      <th>1</th>\n",
       "      <td>11.22</td>\n",
       "      <td>111</td>\n",
       "      <td>48</td>\n",
       "      <td>16</td>\n",
       "      <td>260</td>\n",
       "      <td>83</td>\n",
       "      <td>Good</td>\n",
       "      <td>65</td>\n",
       "      <td>10</td>\n",
       "      <td>Yes</td>\n",
       "      <td>Yes</td>\n",
       "    </tr>\n",
       "    <tr>\n",
       "      <th>2</th>\n",
       "      <td>10.06</td>\n",
       "      <td>113</td>\n",
       "      <td>35</td>\n",
       "      <td>10</td>\n",
       "      <td>269</td>\n",
       "      <td>80</td>\n",
       "      <td>Medium</td>\n",
       "      <td>59</td>\n",
       "      <td>12</td>\n",
       "      <td>Yes</td>\n",
       "      <td>Yes</td>\n",
       "    </tr>\n",
       "  </tbody>\n",
       "</table>\n",
       "</div>"
      ],
      "text/plain": [
       "   Sales  CompPrice  Income  Advertising  Population  Price ShelveLoc  Age  \\\n",
       "0   9.50        138      73           11         276    120       Bad   42   \n",
       "1  11.22        111      48           16         260     83      Good   65   \n",
       "2  10.06        113      35           10         269     80    Medium   59   \n",
       "\n",
       "   Education Urban   US  \n",
       "0         17   Yes  Yes  \n",
       "1         10   Yes  Yes  \n",
       "2         12   Yes  Yes  "
      ]
     },
     "execution_count": 3,
     "metadata": {},
     "output_type": "execute_result"
    }
   ],
   "source": [
    "df.head(3)"
   ]
  },
  {
   "cell_type": "markdown",
   "id": "6c3aafd0-8d33-415b-ade9-cbbe227b9c37",
   "metadata": {},
   "source": [
    "Además, hemos descartado tres campos, de tipo factor, para poder usar el SVM sin problemas."
   ]
  },
  {
   "cell_type": "code",
   "execution_count": 4,
   "id": "30fe30cf-49d0-4dd6-ad7f-2bbd7cdd632d",
   "metadata": {},
   "outputs": [],
   "source": [
    "y = df['Price']\n",
    "y = np.where(y > round(np.mean(y)), 1, 0) \n",
    "X = df.drop(['Price','ShelveLoc','Urban','US'],axis=1)"
   ]
  },
  {
   "cell_type": "markdown",
   "id": "27ed91a2-2de8-43ad-bbd2-9071b015f15c",
   "metadata": {},
   "source": [
    "### 2) Visualización del dataset"
   ]
  },
  {
   "cell_type": "code",
   "execution_count": 49,
   "id": "3ca3b9b1-6804-428a-b2f4-c6cda845c8bf",
   "metadata": {},
   "outputs": [
    {
     "data": {
      "text/html": [
       "<div>\n",
       "<style scoped>\n",
       "    .dataframe tbody tr th:only-of-type {\n",
       "        vertical-align: middle;\n",
       "    }\n",
       "\n",
       "    .dataframe tbody tr th {\n",
       "        vertical-align: top;\n",
       "    }\n",
       "\n",
       "    .dataframe thead th {\n",
       "        text-align: right;\n",
       "    }\n",
       "</style>\n",
       "<table border=\"1\" class=\"dataframe\">\n",
       "  <thead>\n",
       "    <tr style=\"text-align: right;\">\n",
       "      <th></th>\n",
       "      <th>Sales</th>\n",
       "      <th>CompPrice</th>\n",
       "      <th>Income</th>\n",
       "      <th>Advertising</th>\n",
       "      <th>Population</th>\n",
       "      <th>Age</th>\n",
       "      <th>Education</th>\n",
       "    </tr>\n",
       "  </thead>\n",
       "  <tbody>\n",
       "    <tr>\n",
       "      <th>0</th>\n",
       "      <td>9.50</td>\n",
       "      <td>138</td>\n",
       "      <td>73</td>\n",
       "      <td>11</td>\n",
       "      <td>276</td>\n",
       "      <td>42</td>\n",
       "      <td>17</td>\n",
       "    </tr>\n",
       "    <tr>\n",
       "      <th>1</th>\n",
       "      <td>11.22</td>\n",
       "      <td>111</td>\n",
       "      <td>48</td>\n",
       "      <td>16</td>\n",
       "      <td>260</td>\n",
       "      <td>65</td>\n",
       "      <td>10</td>\n",
       "    </tr>\n",
       "    <tr>\n",
       "      <th>2</th>\n",
       "      <td>10.06</td>\n",
       "      <td>113</td>\n",
       "      <td>35</td>\n",
       "      <td>10</td>\n",
       "      <td>269</td>\n",
       "      <td>59</td>\n",
       "      <td>12</td>\n",
       "    </tr>\n",
       "  </tbody>\n",
       "</table>\n",
       "</div>"
      ],
      "text/plain": [
       "   Sales  CompPrice  Income  Advertising  Population  Age  Education\n",
       "0   9.50        138      73           11         276   42         17\n",
       "1  11.22        111      48           16         260   65         10\n",
       "2  10.06        113      35           10         269   59         12"
      ]
     },
     "execution_count": 49,
     "metadata": {},
     "output_type": "execute_result"
    }
   ],
   "source": [
    "X.head(3)"
   ]
  },
  {
   "cell_type": "markdown",
   "id": "ff8aeebf-207d-41ed-acb1-f6a27228823c",
   "metadata": {},
   "source": [
    "Representamos un histograma para cada variable para tener una idea de sus distribuciones."
   ]
  },
  {
   "cell_type": "code",
   "execution_count": 56,
   "id": "f2b881b9-b9d6-49da-8c2f-3175859588be",
   "metadata": {},
   "outputs": [
    {
     "data": {
      "image/png": "[encoded data removed]",
      "text/plain": [
       "<Figure size 640x480 with 1 Axes>"
      ]
     },
     "metadata": {},
     "output_type": "display_data"
    },
    {
     "data": {
      "image/png": "[encoded data removed]",
      "text/plain": [
       "<Figure size 640x480 with 1 Axes>"
      ]
     },
     "metadata": {},
     "output_type": "display_data"
    },
    {
     "data": {
      "image/png": "[encoded data removed]",
      "text/plain": [
       "<Figure size 640x480 with 1 Axes>"
      ]
     },
     "metadata": {},
     "output_type": "display_data"
    },
    {
     "data": {
      "image/png": "[encoded data removed]",
      "text/plain": [
       "<Figure size 640x480 with 1 Axes>"
      ]
     },
     "metadata": {},
     "output_type": "display_data"
    },
    {
     "data": {
      "image/png": "[encoded data removed]",
      "text/plain": [
       "<Figure size 640x480 with 1 Axes>"
      ]
     },
     "metadata": {},
     "output_type": "display_data"
    },
    {
     "data": {
      "image/png": "[encoded data removed]",
      "text/plain": [
       "<Figure size 640x480 with 1 Axes>"
      ]
     },
     "metadata": {},
     "output_type": "display_data"
    },
    {
     "data": {
      "image/png": "[encoded data removed]",
      "text/plain": [
       "<Figure size 640x480 with 1 Axes>"
      ]
     },
     "metadata": {},
     "output_type": "display_data"
    }
   ],
   "source": [
    "for col in X.columns:\n",
    "    plt.hist(X[col], bins=20, color='blue', alpha=0.7)\n",
    "    plt.xlabel(col)\n",
    "    #plt.ticklabel_format(axis='y', style='sci', scilimits=(0,0)) \n",
    "    #plt.ylabel('Frecuencia')\n",
    "    plt.show()"
   ]
  },
  {
   "cell_type": "markdown",
   "id": "cbb56bd9-997a-4e25-8446-0c8d19be5002",
   "metadata": {},
   "source": [
    "Comentarios: respecto a las distribuciones de los datos, el nivel educativo, la edad, la población, y el salario medio siguen aproximadamente una distribución uniforme. Por otro lado, el número de ventas y el precio de la competencia siguen distribuciones normales. Por último, el presupuesto de publicidad más frecuente ronda los mil dólares, y disminuye rápidamente la frecuencia a medida que aumenta el presupuesto."
   ]
  },
  {
   "cell_type": "markdown",
   "id": "31043f98-52cd-4787-a58a-d18fa93ab79c",
   "metadata": {},
   "source": [
    "### 3) Separación en train y test"
   ]
  },
  {
   "cell_type": "code",
   "execution_count": 5,
   "id": "45621997-2d17-4d7c-9231-6f485ae49fd2",
   "metadata": {},
   "outputs": [],
   "source": [
    "X_train, X_test, y_train, y_test = train_test_split(\n",
    "    X, y, test_size=0.25, random_state=0)"
   ]
  },
  {
   "cell_type": "markdown",
   "id": "146b67c5-7421-4129-a1d0-3e6fd478c46b",
   "metadata": {},
   "source": [
    "### 4) Entrenamiento del SVM"
   ]
  },
  {
   "cell_type": "code",
   "execution_count": 29,
   "id": "226f870f-ee1b-4d99-84b5-c7cc3fd9ed0a",
   "metadata": {},
   "outputs": [],
   "source": [
    "param_grid = {'C': [0.1, 1, 10, 100,1e4,1e8],\n",
    "              'gamma': [10,1,0.01,0.001,1e-6,1e-9]}"
   ]
  },
  {
   "cell_type": "code",
   "execution_count": 30,
   "id": "4e8864a5-b1a1-4bad-9b32-82325c51cede",
   "metadata": {},
   "outputs": [],
   "source": [
    "clf = SVC(kernel='rbf', class_weight='balanced') "
   ]
  },
  {
   "cell_type": "code",
   "execution_count": 34,
   "id": "919bada9-d267-4716-9c83-43ebb9569f7f",
   "metadata": {},
   "outputs": [
    {
     "name": "stdout",
     "output_type": "stream",
     "text": [
      "Best Parameters: {'C': 10000.0, 'gamma': 1e-06}\n",
      "Best Score: 0.7966666666666666\n"
     ]
    }
   ],
   "source": [
    "np.random.seed(0)\n",
    "grid = GridSearchCV(clf, param_grid, cv=5)\n",
    "grid.fit(X_train, y_train)\n",
    "best_params = grid.best_params_\n",
    "best_score = grid.best_score_\n",
    "\n",
    "print(\"Best Parameters:\", best_params)\n",
    "print(\"Best Score:\", best_score)"
   ]
  },
  {
   "cell_type": "markdown",
   "id": "75541f2a-2c0d-40c2-beff-3d9ba9882c16",
   "metadata": {},
   "source": [
    "Los valores de los hiperparámetros óptimos que se obtienen con GridSearchCV para una cross-validación 5-fold son: C=1e4 y gamma = 1e-6."
   ]
  },
  {
   "cell_type": "markdown",
   "id": "810613ba-cd90-4e25-be14-6cb26c63403b",
   "metadata": {},
   "source": [
    "### 5) Test"
   ]
  },
  {
   "cell_type": "code",
   "execution_count": 46,
   "id": "43919893-8c74-415c-8d3d-397f8f795a8b",
   "metadata": {},
   "outputs": [],
   "source": [
    "clf_opt = grid.best_estimator_\n",
    "y_pred = clf_opt.predict(X_test)"
   ]
  },
  {
   "cell_type": "code",
   "execution_count": 47,
   "id": "f17d7b7c-0935-4fdb-a77d-5197d0c5ef27",
   "metadata": {},
   "outputs": [
    {
     "name": "stdout",
     "output_type": "stream",
     "text": [
      "Confusion Matrix:\n",
      "[[32 14]\n",
      " [14 40]]\n"
     ]
    }
   ],
   "source": [
    "conf_m = confusion_matrix(y_test, y_pred)\n",
    "\n",
    "print(\"Confusion Matrix:\")\n",
    "print(conf_m)"
   ]
  },
  {
   "cell_type": "code",
   "execution_count": 48,
   "id": "17edc42c-e732-47b3-a461-8bbf28f149c8",
   "metadata": {},
   "outputs": [
    {
     "name": "stdout",
     "output_type": "stream",
     "text": [
      "              precision    recall  f1-score   support\n",
      "\n",
      "           0       0.70      0.70      0.70        46\n",
      "           1       0.74      0.74      0.74        54\n",
      "\n",
      "    accuracy                           0.72       100\n",
      "   macro avg       0.72      0.72      0.72       100\n",
      "weighted avg       0.72      0.72      0.72       100\n",
      "\n"
     ]
    }
   ],
   "source": [
    "print(classification_report(y_test, y_pred))"
   ]
  },
  {
   "cell_type": "markdown",
   "id": "1b9a1813-ac7b-40ab-af17-b9916330fad5",
   "metadata": {},
   "source": [
    "Comentarios: se obtienen buenos valores  del recall y la precision para ambos grupos de tiendas. Respecto al primer parámetro, esto quiere decir que el modelo clasifica bien una proporción alta de las instancias de ambas clases de tiendas. El segundo parámetro, por otro lado, expresa que, dada una predicción, la probabilidad de que sea correcta es relativamente alta para ambas clases. Por tanto, el modelo es capaz de clasificar bien tiendas de ambas clases.\n",
    "\n",
    "Teniendo en cuenta las clasificaciones sobre los dos grupos de tiendas, se obtiene una tasa global de acierto del 72 %. que es valor relativamente bueno."
   ]
  }
 ],
 "metadata": {
  "kernelspec": {
   "display_name": "Python 3 (ipykernel)",
   "language": "python",
   "name": "python3"
  },
  "language_info": {
   "codemirror_mode": {
    "name": "ipython",
    "version": 3
   },
   "file_extension": ".py",
   "mimetype": "text/x-python",
   "name": "python",
   "nbconvert_exporter": "python",
   "pygments_lexer": "ipython3",
   "version": "3.11.5"
  }
 },
 "nbformat": 4,
 "nbformat_minor": 5
}
